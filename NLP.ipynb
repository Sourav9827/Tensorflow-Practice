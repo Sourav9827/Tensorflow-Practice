{
 "cells": [
  {
   "cell_type": "code",
   "execution_count": 1,
   "id": "752d5a1a",
   "metadata": {
    "scrolled": true
   },
   "outputs": [
    {
     "name": "stdout",
     "output_type": "stream",
     "text": [
      "Tue Sep 26 12:54:10 2023       \n",
      "+---------------------------------------------------------------------------------------+\n",
      "| NVIDIA-SMI 536.99                 Driver Version: 536.99       CUDA Version: 12.2     |\n",
      "|-----------------------------------------+----------------------+----------------------+\n",
      "| GPU  Name                     TCC/WDDM  | Bus-Id        Disp.A | Volatile Uncorr. ECC |\n",
      "| Fan  Temp   Perf          Pwr:Usage/Cap |         Memory-Usage | GPU-Util  Compute M. |\n",
      "|                                         |                      |               MIG M. |\n",
      "|=========================================+======================+======================|\n",
      "|   0  NVIDIA GeForce GTX 1650      WDDM  | 00000000:01:00.0 Off |                  N/A |\n",
      "| N/A   47C    P0              15W /  50W |      0MiB /  4096MiB |      0%      Default |\n",
      "|                                         |                      |                  N/A |\n",
      "+-----------------------------------------+----------------------+----------------------+\n",
      "                                                                                         \n",
      "+---------------------------------------------------------------------------------------+\n",
      "| Processes:                                                                            |\n",
      "|  GPU   GI   CI        PID   Type   Process name                            GPU Memory |\n",
      "|        ID   ID                                                             Usage      |\n",
      "|=======================================================================================|\n",
      "|  No running processes found                                                           |\n",
      "+---------------------------------------------------------------------------------------+\n"
     ]
    }
   ],
   "source": [
    "!nvidia-smi"
   ]
  },
  {
   "cell_type": "code",
   "execution_count": 2,
   "id": "eb914813",
   "metadata": {},
   "outputs": [],
   "source": [
    "import tensorflow as tf\n",
    "from helper_functions import *"
   ]
  },
  {
   "cell_type": "raw",
   "id": "05dd9d0b",
   "metadata": {},
   "source": [
    "import wget\n",
    "wget.download(\"https://storage.googleapis.com/ztm_tf_course/nlp_getting_started.zip\")\n",
    "\n",
    "unzip_data(\"nlp_getting_started.zip\")"
   ]
  },
  {
   "cell_type": "code",
   "execution_count": 3,
   "id": "e5e8e01e",
   "metadata": {},
   "outputs": [
    {
     "data": {
      "text/html": [
       "<div>\n",
       "<style scoped>\n",
       "    .dataframe tbody tr th:only-of-type {\n",
       "        vertical-align: middle;\n",
       "    }\n",
       "\n",
       "    .dataframe tbody tr th {\n",
       "        vertical-align: top;\n",
       "    }\n",
       "\n",
       "    .dataframe thead th {\n",
       "        text-align: right;\n",
       "    }\n",
       "</style>\n",
       "<table border=\"1\" class=\"dataframe\">\n",
       "  <thead>\n",
       "    <tr style=\"text-align: right;\">\n",
       "      <th></th>\n",
       "      <th>id</th>\n",
       "      <th>keyword</th>\n",
       "      <th>location</th>\n",
       "      <th>text</th>\n",
       "      <th>target</th>\n",
       "    </tr>\n",
       "  </thead>\n",
       "  <tbody>\n",
       "    <tr>\n",
       "      <th>0</th>\n",
       "      <td>1</td>\n",
       "      <td>NaN</td>\n",
       "      <td>NaN</td>\n",
       "      <td>Our Deeds are the Reason of this #earthquake M...</td>\n",
       "      <td>1</td>\n",
       "    </tr>\n",
       "    <tr>\n",
       "      <th>1</th>\n",
       "      <td>4</td>\n",
       "      <td>NaN</td>\n",
       "      <td>NaN</td>\n",
       "      <td>Forest fire near La Ronge Sask. Canada</td>\n",
       "      <td>1</td>\n",
       "    </tr>\n",
       "    <tr>\n",
       "      <th>2</th>\n",
       "      <td>5</td>\n",
       "      <td>NaN</td>\n",
       "      <td>NaN</td>\n",
       "      <td>All residents asked to 'shelter in place' are ...</td>\n",
       "      <td>1</td>\n",
       "    </tr>\n",
       "    <tr>\n",
       "      <th>3</th>\n",
       "      <td>6</td>\n",
       "      <td>NaN</td>\n",
       "      <td>NaN</td>\n",
       "      <td>13,000 people receive #wildfires evacuation or...</td>\n",
       "      <td>1</td>\n",
       "    </tr>\n",
       "    <tr>\n",
       "      <th>4</th>\n",
       "      <td>7</td>\n",
       "      <td>NaN</td>\n",
       "      <td>NaN</td>\n",
       "      <td>Just got sent this photo from Ruby #Alaska as ...</td>\n",
       "      <td>1</td>\n",
       "    </tr>\n",
       "  </tbody>\n",
       "</table>\n",
       "</div>"
      ],
      "text/plain": [
       "   id keyword location                                               text  \\\n",
       "0   1     NaN      NaN  Our Deeds are the Reason of this #earthquake M...   \n",
       "1   4     NaN      NaN             Forest fire near La Ronge Sask. Canada   \n",
       "2   5     NaN      NaN  All residents asked to 'shelter in place' are ...   \n",
       "3   6     NaN      NaN  13,000 people receive #wildfires evacuation or...   \n",
       "4   7     NaN      NaN  Just got sent this photo from Ruby #Alaska as ...   \n",
       "\n",
       "   target  \n",
       "0       1  \n",
       "1       1  \n",
       "2       1  \n",
       "3       1  \n",
       "4       1  "
      ]
     },
     "execution_count": 3,
     "metadata": {},
     "output_type": "execute_result"
    }
   ],
   "source": [
    "import pandas as pd\n",
    "train_df = pd.read_csv(\"train.csv\")\n",
    "test_df = pd.read_csv(\"test.csv\")\n",
    "train_df.head()"
   ]
  },
  {
   "cell_type": "code",
   "execution_count": 4,
   "id": "5780d93b",
   "metadata": {},
   "outputs": [
    {
     "data": {
      "text/html": [
       "<div>\n",
       "<style scoped>\n",
       "    .dataframe tbody tr th:only-of-type {\n",
       "        vertical-align: middle;\n",
       "    }\n",
       "\n",
       "    .dataframe tbody tr th {\n",
       "        vertical-align: top;\n",
       "    }\n",
       "\n",
       "    .dataframe thead th {\n",
       "        text-align: right;\n",
       "    }\n",
       "</style>\n",
       "<table border=\"1\" class=\"dataframe\">\n",
       "  <thead>\n",
       "    <tr style=\"text-align: right;\">\n",
       "      <th></th>\n",
       "      <th>id</th>\n",
       "      <th>keyword</th>\n",
       "      <th>location</th>\n",
       "      <th>text</th>\n",
       "      <th>target</th>\n",
       "    </tr>\n",
       "  </thead>\n",
       "  <tbody>\n",
       "    <tr>\n",
       "      <th>2644</th>\n",
       "      <td>3796</td>\n",
       "      <td>destruction</td>\n",
       "      <td>NaN</td>\n",
       "      <td>So you have a new weapon that can cause un-ima...</td>\n",
       "      <td>1</td>\n",
       "    </tr>\n",
       "    <tr>\n",
       "      <th>2227</th>\n",
       "      <td>3185</td>\n",
       "      <td>deluge</td>\n",
       "      <td>NaN</td>\n",
       "      <td>The f$&amp;amp;@ing things I do for #GISHWHES Just...</td>\n",
       "      <td>0</td>\n",
       "    </tr>\n",
       "    <tr>\n",
       "      <th>5448</th>\n",
       "      <td>7769</td>\n",
       "      <td>police</td>\n",
       "      <td>UK</td>\n",
       "      <td>DT @georgegalloway: RT @Galloway4Mayor: ÛÏThe...</td>\n",
       "      <td>1</td>\n",
       "    </tr>\n",
       "    <tr>\n",
       "      <th>132</th>\n",
       "      <td>191</td>\n",
       "      <td>aftershock</td>\n",
       "      <td>NaN</td>\n",
       "      <td>Aftershock back to school kick off was great. ...</td>\n",
       "      <td>0</td>\n",
       "    </tr>\n",
       "    <tr>\n",
       "      <th>6845</th>\n",
       "      <td>9810</td>\n",
       "      <td>trauma</td>\n",
       "      <td>Montgomery County, MD</td>\n",
       "      <td>in response to trauma Children of Addicts deve...</td>\n",
       "      <td>0</td>\n",
       "    </tr>\n",
       "  </tbody>\n",
       "</table>\n",
       "</div>"
      ],
      "text/plain": [
       "        id      keyword               location  \\\n",
       "2644  3796  destruction                    NaN   \n",
       "2227  3185       deluge                    NaN   \n",
       "5448  7769       police                     UK   \n",
       "132    191   aftershock                    NaN   \n",
       "6845  9810       trauma  Montgomery County, MD   \n",
       "\n",
       "                                                   text  target  \n",
       "2644  So you have a new weapon that can cause un-ima...       1  \n",
       "2227  The f$&amp;@ing things I do for #GISHWHES Just...       0  \n",
       "5448  DT @georgegalloway: RT @Galloway4Mayor: ÛÏThe...       1  \n",
       "132   Aftershock back to school kick off was great. ...       0  \n",
       "6845  in response to trauma Children of Addicts deve...       0  "
      ]
     },
     "execution_count": 4,
     "metadata": {},
     "output_type": "execute_result"
    }
   ],
   "source": [
    "train_df_shuffled = train_df.sample(frac=1, random_state=42)\n",
    "train_df_shuffled.head()"
   ]
  },
  {
   "cell_type": "code",
   "execution_count": 5,
   "id": "89ad74f6",
   "metadata": {},
   "outputs": [
    {
     "data": {
      "text/html": [
       "<div>\n",
       "<style scoped>\n",
       "    .dataframe tbody tr th:only-of-type {\n",
       "        vertical-align: middle;\n",
       "    }\n",
       "\n",
       "    .dataframe tbody tr th {\n",
       "        vertical-align: top;\n",
       "    }\n",
       "\n",
       "    .dataframe thead th {\n",
       "        text-align: right;\n",
       "    }\n",
       "</style>\n",
       "<table border=\"1\" class=\"dataframe\">\n",
       "  <thead>\n",
       "    <tr style=\"text-align: right;\">\n",
       "      <th></th>\n",
       "      <th>id</th>\n",
       "      <th>keyword</th>\n",
       "      <th>location</th>\n",
       "      <th>text</th>\n",
       "    </tr>\n",
       "  </thead>\n",
       "  <tbody>\n",
       "    <tr>\n",
       "      <th>0</th>\n",
       "      <td>0</td>\n",
       "      <td>NaN</td>\n",
       "      <td>NaN</td>\n",
       "      <td>Just happened a terrible car crash</td>\n",
       "    </tr>\n",
       "    <tr>\n",
       "      <th>1</th>\n",
       "      <td>2</td>\n",
       "      <td>NaN</td>\n",
       "      <td>NaN</td>\n",
       "      <td>Heard about #earthquake is different cities, s...</td>\n",
       "    </tr>\n",
       "    <tr>\n",
       "      <th>2</th>\n",
       "      <td>3</td>\n",
       "      <td>NaN</td>\n",
       "      <td>NaN</td>\n",
       "      <td>there is a forest fire at spot pond, geese are...</td>\n",
       "    </tr>\n",
       "    <tr>\n",
       "      <th>3</th>\n",
       "      <td>9</td>\n",
       "      <td>NaN</td>\n",
       "      <td>NaN</td>\n",
       "      <td>Apocalypse lighting. #Spokane #wildfires</td>\n",
       "    </tr>\n",
       "    <tr>\n",
       "      <th>4</th>\n",
       "      <td>11</td>\n",
       "      <td>NaN</td>\n",
       "      <td>NaN</td>\n",
       "      <td>Typhoon Soudelor kills 28 in China and Taiwan</td>\n",
       "    </tr>\n",
       "  </tbody>\n",
       "</table>\n",
       "</div>"
      ],
      "text/plain": [
       "   id keyword location                                               text\n",
       "0   0     NaN      NaN                 Just happened a terrible car crash\n",
       "1   2     NaN      NaN  Heard about #earthquake is different cities, s...\n",
       "2   3     NaN      NaN  there is a forest fire at spot pond, geese are...\n",
       "3   9     NaN      NaN           Apocalypse lighting. #Spokane #wildfires\n",
       "4  11     NaN      NaN      Typhoon Soudelor kills 28 in China and Taiwan"
      ]
     },
     "execution_count": 5,
     "metadata": {},
     "output_type": "execute_result"
    }
   ],
   "source": [
    "test_df.head()"
   ]
  },
  {
   "cell_type": "code",
   "execution_count": 6,
   "id": "30e67d39",
   "metadata": {},
   "outputs": [
    {
     "data": {
      "text/plain": [
       "target\n",
       "0    4342\n",
       "1    3271\n",
       "Name: count, dtype: int64"
      ]
     },
     "execution_count": 6,
     "metadata": {},
     "output_type": "execute_result"
    }
   ],
   "source": [
    "train_df.target.value_counts()"
   ]
  },
  {
   "cell_type": "code",
   "execution_count": 7,
   "id": "1284eae2",
   "metadata": {},
   "outputs": [
    {
     "name": "stdout",
     "output_type": "stream",
     "text": [
      "Total training samples: 7613\n",
      "Total test samples: 3263\n",
      "Total samples: 10876\n"
     ]
    }
   ],
   "source": [
    "print(f\"Total training samples: {len(train_df)}\")\n",
    "print(f\"Total test samples: {len(test_df)}\")\n",
    "print(f\"Total samples: {len(train_df) + len(test_df)}\")"
   ]
  },
  {
   "cell_type": "code",
   "execution_count": 8,
   "id": "113dce87",
   "metadata": {},
   "outputs": [
    {
     "name": "stdout",
     "output_type": "stream",
     "text": [
      "Target: 1 (real disaster)\n",
      "Text:\n",
      "OUN cancels Severe Thunderstorm Warning for Lincoln Logan Oklahoma [OK]  http://t.co/bTi8JAMFiu #WX\n",
      "\n",
      "---\n",
      "\n",
      "Target: 1 (real disaster)\n",
      "Text:\n",
      "Remembering Mordechai Yehuda Friedman 24 of Ramat Beit Shemesh; murdered by Hamas terrorists in the suicide bombing of Egged bus No. 361\n",
      "\n",
      "---\n",
      "\n",
      "Target: 0 (not real disaster)\n",
      "Text:\n",
      "Somebody get the doctor I'm feelin' pretty poor. Somebody get the stretcher\n",
      "before I hit the floor\n",
      "\n",
      "---\n",
      "\n",
      "Target: 1 (real disaster)\n",
      "Text:\n",
      "@rinkydnk2 @ZaibatsuNews @NeoProgressive1 When push2Left talk='ecology'&amp;'human rts'&amp;'democracy'. War Afghetc='Left' humanitarian bombing\n",
      "\n",
      "---\n",
      "\n",
      "Target: 0 (not real disaster)\n",
      "Text:\n",
      "He came to a land which was engulfed in tribal war and turned it into a land of peace i.e. Madinah. #ProphetMuhammad #islam\n",
      "\n",
      "---\n",
      "\n"
     ]
    }
   ],
   "source": [
    "import random\n",
    "random_index = random.randint(0, len(train_df)-5) \n",
    "for row in train_df_shuffled[[\"text\", \"target\"]][random_index:random_index+5].itertuples():\n",
    "    _, text, target = row\n",
    "    print(f\"Target: {target}\", \"(real disaster)\" if target > 0 else \"(not real disaster)\")\n",
    "    print(f\"Text:\\n{text}\\n\")\n",
    "    print(\"---\\n\")"
   ]
  },
  {
   "cell_type": "code",
   "execution_count": 9,
   "id": "060dd9ca",
   "metadata": {},
   "outputs": [],
   "source": [
    "from sklearn.model_selection import train_test_split\n",
    "\n",
    "train_sentences, val_sentences, train_labels, val_labels = train_test_split(train_df_shuffled[\"text\"].to_numpy(),\n",
    "                                                                            train_df_shuffled[\"target\"].to_numpy(),\n",
    "                                                                            test_size=0.1,\n",
    "                                                                            random_state=42)"
   ]
  },
  {
   "cell_type": "code",
   "execution_count": 10,
   "id": "437117e5",
   "metadata": {},
   "outputs": [
    {
     "data": {
      "text/plain": [
       "(6851, 6851, 762, 762)"
      ]
     },
     "execution_count": 10,
     "metadata": {},
     "output_type": "execute_result"
    }
   ],
   "source": [
    "len(train_sentences), len(train_labels), len(val_sentences), len(val_labels)"
   ]
  },
  {
   "cell_type": "code",
   "execution_count": 11,
   "id": "7a99e6b7",
   "metadata": {},
   "outputs": [
    {
     "data": {
      "text/plain": [
       "(array(['@mogacola @zamtriossu i screamed after hitting tweet',\n",
       "        'Imagine getting flattened by Kurt Zouma',\n",
       "        '@Gurmeetramrahim #MSGDoing111WelfareWorks Green S welfare force ke appx 65000 members har time disaster victim ki help ke liye tyar hai....',\n",
       "        \"@shakjn @C7 @Magnums im shaking in fear he's gonna hack the planet\",\n",
       "        'Somehow find you and I collide http://t.co/Ee8RpOahPk',\n",
       "        '@EvaHanderek @MarleyKnysh great times until the bus driver held us hostage in the mall parking lot lmfao',\n",
       "        'destroy the free fandom honestly',\n",
       "        'Weapons stolen from National Guard Armory in New Albany still missing #Gunsense http://t.co/lKNU8902JE',\n",
       "        '@wfaaweather Pete when will the heat wave pass? Is it really going to be mid month? Frisco Boy Scouts have a canoe trip in Okla.',\n",
       "        'Patient-reported outcomes in long-term survivors of metastatic colorectal cancer - British Journal of Surgery http://t.co/5Yl4DC1Tqt'],\n",
       "       dtype=object),\n",
       " array([0, 0, 1, 0, 0, 1, 1, 0, 1, 1], dtype=int64))"
      ]
     },
     "execution_count": 11,
     "metadata": {},
     "output_type": "execute_result"
    }
   ],
   "source": [
    "train_sentences[:10], train_labels[:10]"
   ]
  },
  {
   "cell_type": "code",
   "execution_count": 12,
   "id": "3495d586",
   "metadata": {},
   "outputs": [],
   "source": [
    "import tensorflow as tf\n",
    "from tensorflow.keras.layers import TextVectorization\n",
    "\n",
    "text_vectorizer = TextVectorization(max_tokens=None,\n",
    "                                    standardize=\"lower_and_strip_punctuation\",\n",
    "                                    split=\"whitespace\",\n",
    "                                    ngrams=None,\n",
    "                                    output_mode=\"int\",\n",
    "                                    output_sequence_length=None)"
   ]
  },
  {
   "cell_type": "code",
   "execution_count": 13,
   "id": "cfe0e7c3",
   "metadata": {},
   "outputs": [
    {
     "data": {
      "text/plain": [
       "15"
      ]
     },
     "execution_count": 13,
     "metadata": {},
     "output_type": "execute_result"
    }
   ],
   "source": [
    "round(sum([len(i.split()) for i in train_sentences])/len(train_sentences))"
   ]
  },
  {
   "cell_type": "code",
   "execution_count": 14,
   "id": "15f94657",
   "metadata": {},
   "outputs": [],
   "source": [
    "max_vocab_length = 10000\n",
    "max_length = 15\n",
    "\n",
    "text_vectorizer = TextVectorization(max_tokens=max_vocab_length,\n",
    "                                    output_mode=\"int\",\n",
    "                                    output_sequence_length=max_length)"
   ]
  },
  {
   "cell_type": "code",
   "execution_count": 15,
   "id": "72336c88",
   "metadata": {},
   "outputs": [],
   "source": [
    "text_vectorizer.adapt(train_sentences)"
   ]
  },
  {
   "cell_type": "code",
   "execution_count": 16,
   "id": "d0c6df6d",
   "metadata": {},
   "outputs": [
    {
     "data": {
      "text/plain": [
       "<tf.Tensor: shape=(1, 15), dtype=int64, numpy=\n",
       "array([[264,   3, 232,   4,  13, 698,   0,   0,   0,   0,   0,   0,   0,\n",
       "          0,   0]], dtype=int64)>"
      ]
     },
     "execution_count": 16,
     "metadata": {},
     "output_type": "execute_result"
    }
   ],
   "source": [
    "sample_sentence = \"There's a flood in my street!\"\n",
    "text_vectorizer([sample_sentence])"
   ]
  },
  {
   "cell_type": "code",
   "execution_count": 17,
   "id": "90fcba43",
   "metadata": {},
   "outputs": [
    {
     "name": "stdout",
     "output_type": "stream",
     "text": [
      "Original text:\n",
      "Football hooligan jailed for rioting before game in Scotland was already banned from matches in England #UkNews http://t.co/q5mp2Q6Hy8 \n",
      "\n",
      "Vectorized version:\n"
     ]
    },
    {
     "data": {
      "text/plain": [
       "<tf.Tensor: shape=(1, 15), dtype=int64, numpy=\n",
       "array([[1523,    1, 5327,   10,  367,  239,  397,    4, 3437,   23,  659,\n",
       "         793,   20, 3651,    4]], dtype=int64)>"
      ]
     },
     "execution_count": 17,
     "metadata": {},
     "output_type": "execute_result"
    }
   ],
   "source": [
    "random_sentence = random.choice(train_sentences)\n",
    "print(f\"Original text:\\n{random_sentence} \\n\\nVectorized version:\")\n",
    "text_vectorizer([random_sentence])"
   ]
  },
  {
   "cell_type": "code",
   "execution_count": 18,
   "id": "0b0cf24d",
   "metadata": {},
   "outputs": [
    {
     "name": "stdout",
     "output_type": "stream",
     "text": [
      "Number of words in vocab: 10000\n",
      "Top 5 most common words: ['', '[UNK]', 'the', 'a', 'in']\n",
      "Bottom 5 least common words: ['pages', 'paeds', 'pads', 'padres', 'paddytomlinson1']\n"
     ]
    }
   ],
   "source": [
    "words_in_vocab = text_vectorizer.get_vocabulary()\n",
    "top_5_words = words_in_vocab[:5]\n",
    "bottom_5_words = words_in_vocab[-5:]\n",
    "print(f\"Number of words in vocab: {len(words_in_vocab)}\")\n",
    "print(f\"Top 5 most common words: {top_5_words}\") \n",
    "print(f\"Bottom 5 least common words: {bottom_5_words}\")"
   ]
  },
  {
   "cell_type": "code",
   "execution_count": 19,
   "id": "b2d5c033",
   "metadata": {},
   "outputs": [
    {
     "data": {
      "text/plain": [
       "['',\n",
       " '[UNK]',\n",
       " 'the',\n",
       " 'a',\n",
       " 'in',\n",
       " 'to',\n",
       " 'of',\n",
       " 'and',\n",
       " 'i',\n",
       " 'is',\n",
       " 'for',\n",
       " 'on',\n",
       " 'you',\n",
       " 'my',\n",
       " 'with',\n",
       " 'it',\n",
       " 'that',\n",
       " 'at',\n",
       " 'by',\n",
       " 'this',\n",
       " 'from',\n",
       " 'be',\n",
       " 'are',\n",
       " 'was',\n",
       " 'have',\n",
       " 'like',\n",
       " 'as',\n",
       " 'up',\n",
       " 'so',\n",
       " 'just',\n",
       " 'but',\n",
       " 'me',\n",
       " 'im',\n",
       " 'your',\n",
       " 'not',\n",
       " 'amp',\n",
       " 'out',\n",
       " 'its',\n",
       " 'will',\n",
       " 'an',\n",
       " 'no',\n",
       " 'has',\n",
       " 'fire',\n",
       " 'after',\n",
       " 'all',\n",
       " 'when',\n",
       " 'we',\n",
       " 'if',\n",
       " 'now',\n",
       " 'via',\n",
       " 'new',\n",
       " 'more',\n",
       " 'get',\n",
       " 'or',\n",
       " 'about',\n",
       " 'what',\n",
       " 'he',\n",
       " 'people',\n",
       " 'news',\n",
       " 'been',\n",
       " 'over',\n",
       " 'one',\n",
       " 'how',\n",
       " 'dont',\n",
       " 'they',\n",
       " 'who',\n",
       " 'into',\n",
       " 'were',\n",
       " 'do',\n",
       " 'us',\n",
       " '2',\n",
       " 'can',\n",
       " 'video',\n",
       " 'emergency',\n",
       " 'there',\n",
       " 'disaster',\n",
       " 'than',\n",
       " 'police',\n",
       " 'would',\n",
       " 'his',\n",
       " 'still',\n",
       " 'her',\n",
       " 'some',\n",
       " 'body',\n",
       " 'storm',\n",
       " 'crash',\n",
       " 'burning',\n",
       " 'suicide',\n",
       " 'back',\n",
       " 'man',\n",
       " 'california',\n",
       " 'why',\n",
       " 'time',\n",
       " 'them',\n",
       " 'had',\n",
       " 'buildings',\n",
       " 'rt',\n",
       " 'first',\n",
       " 'cant',\n",
       " 'see',\n",
       " 'got',\n",
       " 'day',\n",
       " 'off',\n",
       " 'our',\n",
       " 'going',\n",
       " 'nuclear',\n",
       " 'know',\n",
       " 'world',\n",
       " 'bomb',\n",
       " 'fires',\n",
       " 'love',\n",
       " 'killed',\n",
       " 'go',\n",
       " 'attack',\n",
       " 'youtube',\n",
       " 'dead',\n",
       " 'two',\n",
       " 'families',\n",
       " '3',\n",
       " 'train',\n",
       " 'full',\n",
       " 'being',\n",
       " 'war',\n",
       " 'many',\n",
       " 'today',\n",
       " 'think',\n",
       " 'only',\n",
       " 'car',\n",
       " 'accident',\n",
       " 'life',\n",
       " 'hiroshima',\n",
       " 'their',\n",
       " 'say',\n",
       " 'may',\n",
       " 'down',\n",
       " 'watch',\n",
       " 'good',\n",
       " 'could',\n",
       " 'want',\n",
       " 'last',\n",
       " 'here',\n",
       " 'years',\n",
       " 'u',\n",
       " 'then',\n",
       " 'make',\n",
       " 'did',\n",
       " 'wildfire',\n",
       " 'way',\n",
       " 'help',\n",
       " 'best',\n",
       " 'too',\n",
       " 'even',\n",
       " 'because',\n",
       " 'home',\n",
       " 'death',\n",
       " 'collapse',\n",
       " 'bombing',\n",
       " 'mass',\n",
       " 'him',\n",
       " 'black',\n",
       " 'am',\n",
       " 'those',\n",
       " 'need',\n",
       " 'fatal',\n",
       " 'army',\n",
       " 'another',\n",
       " 'work',\n",
       " 'take',\n",
       " 'should',\n",
       " 'really',\n",
       " 'please',\n",
       " 'mh370',\n",
       " 'youre',\n",
       " 'look',\n",
       " 'lol',\n",
       " 'hot',\n",
       " 'pm',\n",
       " 'legionnaires',\n",
       " '4',\n",
       " 'right',\n",
       " '5',\n",
       " 'let',\n",
       " 'city',\n",
       " 'year',\n",
       " 'wreck',\n",
       " 'school',\n",
       " 'northern',\n",
       " 'much',\n",
       " 'forest',\n",
       " 'bomber',\n",
       " 'water',\n",
       " 'she',\n",
       " 'never',\n",
       " 'read',\n",
       " 'latest',\n",
       " 'homes',\n",
       " 'great',\n",
       " 'every',\n",
       " '1',\n",
       " 'live',\n",
       " 'god',\n",
       " 'fear',\n",
       " 'any',\n",
       " '\\x89Û',\n",
       " 'under',\n",
       " 'said',\n",
       " 'old',\n",
       " 'floods',\n",
       " '2015',\n",
       " 'getting',\n",
       " 'atomic',\n",
       " 'while',\n",
       " 'top',\n",
       " 'obama',\n",
       " 'feel',\n",
       " 'thats',\n",
       " 'since',\n",
       " 'near',\n",
       " 'flames',\n",
       " 'ever',\n",
       " 'come',\n",
       " 'where',\n",
       " 'these',\n",
       " 'military',\n",
       " 'japan',\n",
       " 'found',\n",
       " 'content',\n",
       " 'ass',\n",
       " 'without',\n",
       " 'weather',\n",
       " 'most',\n",
       " 'flooding',\n",
       " 'flood',\n",
       " 'damage',\n",
       " 'which',\n",
       " 'shit',\n",
       " 's',\n",
       " 'hope',\n",
       " 'everyone',\n",
       " 'before',\n",
       " 'stop',\n",
       " 'plan',\n",
       " 'malaysia',\n",
       " 'injured',\n",
       " 'hit',\n",
       " 'evacuation',\n",
       " 'during',\n",
       " 'debris',\n",
       " 'cross',\n",
       " 'coming',\n",
       " 'wild',\n",
       " 'well',\n",
       " 'times',\n",
       " 'sinking',\n",
       " 'oil',\n",
       " 'fucking',\n",
       " 'check',\n",
       " 'cause',\n",
       " 'weapons',\n",
       " 'truck',\n",
       " 'food',\n",
       " 'bloody',\n",
       " 'always',\n",
       " 'weapon',\n",
       " 'theres',\n",
       " 'state',\n",
       " 'little',\n",
       " 'injuries',\n",
       " 'free',\n",
       " 'wounded',\n",
       " 'summer',\n",
       " 'smoke',\n",
       " 'severe',\n",
       " 'reddit',\n",
       " 'next',\n",
       " 'movie',\n",
       " 'ive',\n",
       " 'hes',\n",
       " 'fall',\n",
       " 'evacuate',\n",
       " 'confirmed',\n",
       " 'bad',\n",
       " 'again',\n",
       " 'thunderstorm',\n",
       " 'set',\n",
       " 'night',\n",
       " 'natural',\n",
       " 'looks',\n",
       " 'heat',\n",
       " 'face',\n",
       " 'earthquake',\n",
       " 'boy',\n",
       " 'whole',\n",
       " 'until',\n",
       " 'thunder',\n",
       " 'through',\n",
       " 'says',\n",
       " 'panic',\n",
       " 'outbreak',\n",
       " 'made',\n",
       " 'lightning',\n",
       " 'fatalities',\n",
       " 'family',\n",
       " 'explosion',\n",
       " 'end',\n",
       " 'destroy',\n",
       " 'derailment',\n",
       " 'air',\n",
       " 'w',\n",
       " 'terrorist',\n",
       " 'survive',\n",
       " 'screaming',\n",
       " 'saudi',\n",
       " 'refugees',\n",
       " 'rain',\n",
       " 'murder',\n",
       " 'loud',\n",
       " 'liked',\n",
       " 'house',\n",
       " 'gonna',\n",
       " 'failure',\n",
       " 'collided',\n",
       " 'bag',\n",
       " 'attacked',\n",
       " 'ambulance',\n",
       " '70',\n",
       " 'wind',\n",
       " 'services',\n",
       " 'save',\n",
       " 'report',\n",
       " 'migrants',\n",
       " 'head',\n",
       " 'explode',\n",
       " 'charged',\n",
       " 'change',\n",
       " 'big',\n",
       " 'also',\n",
       " 'wrecked',\n",
       " 'warning',\n",
       " 'update',\n",
       " 'run',\n",
       " 'rescuers',\n",
       " 'released',\n",
       " 'photo',\n",
       " 'massacre',\n",
       " 'injury',\n",
       " 'hurricane',\n",
       " 'high',\n",
       " 'hail',\n",
       " 'fuck',\n",
       " 'does',\n",
       " 'destroyed',\n",
       " 'bus',\n",
       " 'blood',\n",
       " '40',\n",
       " '\\x89ÛÒ',\n",
       " 'wreckage',\n",
       " 'violent',\n",
       " 'twister',\n",
       " 'trauma',\n",
       " 'tragedy',\n",
       " 'terrorism',\n",
       " 'survivors',\n",
       " 'survived',\n",
       " 'sinkhole',\n",
       " 'sandstorm',\n",
       " 'road',\n",
       " 'rioting',\n",
       " 'red',\n",
       " 'real',\n",
       " 'put',\n",
       " 'post',\n",
       " 'national',\n",
       " 'missing',\n",
       " 'landslide',\n",
       " 'keep',\n",
       " 'girl',\n",
       " 'drought',\n",
       " 'curfew',\n",
       " 'breaking',\n",
       " 'bags',\n",
       " 'white',\n",
       " 'twitter',\n",
       " 'tonight',\n",
       " 'structural',\n",
       " 'spill',\n",
       " 'service',\n",
       " 'screamed',\n",
       " 'rescued',\n",
       " 'rescue',\n",
       " 'phone',\n",
       " 'ok',\n",
       " 'oh',\n",
       " 'mosque',\n",
       " 'lives',\n",
       " 'horrible',\n",
       " 'harm',\n",
       " 'game',\n",
       " 'dust',\n",
       " 'destruction',\n",
       " 'deluge',\n",
       " 'deaths',\n",
       " 'crashed',\n",
       " 'cliff',\n",
       " 'catastrophe',\n",
       " 'boat',\n",
       " 'away',\n",
       " 'august',\n",
       " 'area',\n",
       " 'apocalypse',\n",
       " 'woman',\n",
       " 'whirlwind',\n",
       " 'traumatised',\n",
       " 'stock',\n",
       " 'saw',\n",
       " 'ruin',\n",
       " 'riot',\n",
       " 'quarantine',\n",
       " 'kills',\n",
       " 'island',\n",
       " 'investigators',\n",
       " 'ill',\n",
       " 'hostages',\n",
       " 'hazard',\n",
       " 'danger',\n",
       " 'call',\n",
       " '15',\n",
       " 'women',\n",
       " 'windstorm',\n",
       " 'things',\n",
       " 'suspect',\n",
       " 'show',\n",
       " 'reunion',\n",
       " 'quarantined',\n",
       " 'lava',\n",
       " 'heart',\n",
       " 'engulfed',\n",
       " 'detonate',\n",
       " 'crush',\n",
       " 'collapsed',\n",
       " 'came',\n",
       " 'better',\n",
       " 'battle',\n",
       " 'armageddon',\n",
       " 'airplane',\n",
       " 'against',\n",
       " 'affected',\n",
       " 'use',\n",
       " 'trapped',\n",
       " 'thank',\n",
       " 'sunk',\n",
       " 'story',\n",
       " 'send',\n",
       " 'part',\n",
       " 'other',\n",
       " 'must',\n",
       " 'mudslide',\n",
       " 'market',\n",
       " 'iran',\n",
       " 'famine',\n",
       " 'exploded',\n",
       " 'electrocuted',\n",
       " 'ebay',\n",
       " 'displaced',\n",
       " 'derailed',\n",
       " 'derail',\n",
       " 'burned',\n",
       " 'bombed',\n",
       " 'blown',\n",
       " 'baby',\n",
       " 'around',\n",
       " 'zone',\n",
       " 'wave',\n",
       " 'wanna',\n",
       " 'sure',\n",
       " 'someone',\n",
       " 'screams',\n",
       " 'razed',\n",
       " 'power',\n",
       " 'obliterated',\n",
       " 'long',\n",
       " 'land',\n",
       " 'hundreds',\n",
       " 'heard',\n",
       " 'group',\n",
       " 'flattened',\n",
       " 'drown',\n",
       " 'doing',\n",
       " 'care',\n",
       " 'bridge',\n",
       " 'bagging',\n",
       " '9',\n",
       " 'went',\n",
       " 'used',\n",
       " 'typhoon',\n",
       " 'trouble',\n",
       " 'tornado',\n",
       " 'thought',\n",
       " 'thing',\n",
       " 'river',\n",
       " 'responders',\n",
       " 'past',\n",
       " 'pandemonium',\n",
       " 'officials',\n",
       " 'meltdown',\n",
       " 'lot',\n",
       " 'least',\n",
       " 'inundated',\n",
       " 'id',\n",
       " 'hostage',\n",
       " 'hijacking',\n",
       " 'hazardous',\n",
       " 'goes',\n",
       " 'drowning',\n",
       " 'didnt',\n",
       " 'devastation',\n",
       " 'demolish',\n",
       " 'collide',\n",
       " 'casualties',\n",
       " 'calgary',\n",
       " 'bang',\n",
       " 'anniversary',\n",
       " 'yet',\n",
       " 'wounds',\n",
       " 'volcano',\n",
       " 'tsunami',\n",
       " 'sue',\n",
       " 'st',\n",
       " 'song',\n",
       " 'something',\n",
       " 'shoulder',\n",
       " 'security',\n",
       " 'prebreak',\n",
       " 'possible',\n",
       " 'pkk',\n",
       " 'panicking',\n",
       " 'obliteration',\n",
       " 'obliterate',\n",
       " 'murderer',\n",
       " 'minute',\n",
       " 'light',\n",
       " 'lets',\n",
       " 'kill',\n",
       " 'isis',\n",
       " 'india',\n",
       " 'hijacker',\n",
       " 'hellfire',\n",
       " 'government',\n",
       " 'few',\n",
       " 'evacuated',\n",
       " 'due',\n",
       " 'detonated',\n",
       " 'desolation',\n",
       " 'crushed',\n",
       " 'chemical',\n",
       " 'blew',\n",
       " 'blazing',\n",
       " 'blast',\n",
       " 'annihilated',\n",
       " 'airport',\n",
       " '6',\n",
       " 'week',\n",
       " 'upheaval',\n",
       " 'trying',\n",
       " 'three',\n",
       " 'thanks',\n",
       " 'sound',\n",
       " 'soon',\n",
       " 'sirens',\n",
       " 'rainstorm',\n",
       " 'plane',\n",
       " 'music',\n",
       " 'making',\n",
       " 'kids',\n",
       " 'issues',\n",
       " 'half',\n",
       " 'guys',\n",
       " 'fedex',\n",
       " 'done',\n",
       " 'died',\n",
       " 'detonation',\n",
       " 'days',\n",
       " 'cyclone',\n",
       " 'county',\n",
       " 'collision',\n",
       " 'caused',\n",
       " 'catastrophic',\n",
       " 'bleeding',\n",
       " 'beautiful',\n",
       " '8',\n",
       " 'words',\n",
       " 'very',\n",
       " 'traffic',\n",
       " 'south',\n",
       " 'remember',\n",
       " 'policy',\n",
       " 'place',\n",
       " 'nothing',\n",
       " 'north',\n",
       " 'mp',\n",
       " 'longer',\n",
       " 'left',\n",
       " 'israeli',\n",
       " 'hell',\n",
       " 'fun',\n",
       " 'drowned',\n",
       " 'demolished',\n",
       " 'cool',\n",
       " 'both',\n",
       " 'bioterror',\n",
       " 'believe',\n",
       " 'avalanche',\n",
       " 'arson',\n",
       " 'turkey',\n",
       " 'snowstorm',\n",
       " 'site',\n",
       " 'shot',\n",
       " 'shooting',\n",
       " 'pic',\n",
       " 'nowplaying',\n",
       " 'media',\n",
       " 'islam',\n",
       " 'inside',\n",
       " 'hijack',\n",
       " 'helicopter',\n",
       " 'fight',\n",
       " 'fatality',\n",
       " 'fan',\n",
       " 'electrocute',\n",
       " 'doesnt',\n",
       " 'building',\n",
       " 'brown',\n",
       " 'bc',\n",
       " 'actually',\n",
       " '16yr',\n",
       " 'yes',\n",
       " 'watching',\n",
       " 'wait',\n",
       " 'ur',\n",
       " 'tell',\n",
       " 'swallowed',\n",
       " 'seismic',\n",
       " 'second',\n",
       " 'rubble',\n",
       " 're\\x89Û',\n",
       " 'plans',\n",
       " 'men',\n",
       " 'memories',\n",
       " 'line',\n",
       " 'la',\n",
       " 'horror',\n",
       " 'health',\n",
       " 'having',\n",
       " 'find',\n",
       " 'eyewitness',\n",
       " 'deluged',\n",
       " 'children',\n",
       " 'bush',\n",
       " 'anything',\n",
       " 'already',\n",
       " 'almost',\n",
       " 'aircraft',\n",
       " 'yourself',\n",
       " 'yeah',\n",
       " 'whats',\n",
       " 'tomorrow',\n",
       " 'such',\n",
       " 'start',\n",
       " 'side',\n",
       " 'searching',\n",
       " 'saved',\n",
       " 'reactor',\n",
       " 'probably',\n",
       " 'play',\n",
       " 'person',\n",
       " 'peace',\n",
       " 'outside',\n",
       " 'officer',\n",
       " 'nearby',\n",
       " 'n',\n",
       " 'maybe',\n",
       " 'lost',\n",
       " 'literally',\n",
       " 'hours',\n",
       " 'hear',\n",
       " 'far',\n",
       " 'die',\n",
       " 'demolition',\n",
       " 'data',\n",
       " 'crews',\n",
       " 'conclusively',\n",
       " 'business',\n",
       " 'american',\n",
       " '20',\n",
       " '\\x89ÛÓ',\n",
       " 'west',\n",
       " 'waves',\n",
       " 'team',\n",
       " 'street',\n",
       " 'stay',\n",
       " 'soudelor',\n",
       " 'reuters',\n",
       " 'manslaughter',\n",
       " 'leather',\n",
       " 'job',\n",
       " 'history',\n",
       " 'hey',\n",
       " 'feeling',\n",
       " 'eyes',\n",
       " 'everything',\n",
       " 'declares',\n",
       " 'deal',\n",
       " 'casualty',\n",
       " 'bodies',\n",
       " 'amid',\n",
       " 'ablaze',\n",
       " '7',\n",
       " '50',\n",
       " '30',\n",
       " '12',\n",
       " 'youth',\n",
       " 'wont',\n",
       " 'wake',\n",
       " 'theyre',\n",
       " 'support',\n",
       " 'stretcher',\n",
       " 'same',\n",
       " 'rise',\n",
       " 'picking',\n",
       " 'photos',\n",
       " 'own',\n",
       " 'others',\n",
       " 'order',\n",
       " 'omg',\n",
       " 'okay',\n",
       " 'name',\n",
       " 'myself',\n",
       " 'money',\n",
       " 'makes',\n",
       " 'leave',\n",
       " 'lab',\n",
       " 'gt',\n",
       " 'gets',\n",
       " 'flag',\n",
       " 'desolate',\n",
       " 'crisis',\n",
       " 'center',\n",
       " 'book',\n",
       " 'blight',\n",
       " 'blaze',\n",
       " 'ago',\n",
       " 'abc',\n",
       " '11yearold',\n",
       " 'womens',\n",
       " 'typhoondevastated',\n",
       " 'tv',\n",
       " 'trench',\n",
       " 'trains',\n",
       " 'texas',\n",
       " 'space',\n",
       " 'siren',\n",
       " 'shes',\n",
       " 'self',\n",
       " 'saipan',\n",
       " 'reason',\n",
       " 'rd',\n",
       " 'pretty',\n",
       " 'pick',\n",
       " 'offensive',\n",
       " 'move',\n",
       " 'meek',\n",
       " 'major',\n",
       " 'm',\n",
       " 'low',\n",
       " 'lord',\n",
       " 'huge',\n",
       " 'hat',\n",
       " 'flash',\n",
       " 'feared',\n",
       " 'fast',\n",
       " 'effect',\n",
       " 'course',\n",
       " 'country',\n",
       " 'control',\n",
       " 'class',\n",
       " 'child',\n",
       " 'chance',\n",
       " 'caught',\n",
       " 'called',\n",
       " 'bioterrorism',\n",
       " 'bestnaijamade',\n",
       " 'become',\n",
       " 'bar',\n",
       " 'banned',\n",
       " 'ball',\n",
       " 'aug',\n",
       " 'annihilation',\n",
       " 'wrong',\n",
       " 'win',\n",
       " 'usa',\n",
       " 'united',\n",
       " 'town',\n",
       " 'totally',\n",
       " 'toddler',\n",
       " 'though',\n",
       " 'temple',\n",
       " 'taken',\n",
       " 'stand',\n",
       " 'spot',\n",
       " 'signs',\n",
       " 'ship',\n",
       " 'pakistan',\n",
       " 'online',\n",
       " 'level',\n",
       " 'ladies',\n",
       " 'jobs',\n",
       " 'isnt',\n",
       " 'happy',\n",
       " 'hailstorm',\n",
       " 'friends',\n",
       " 'disea',\n",
       " 'damn',\n",
       " 'couple',\n",
       " 'case',\n",
       " 'blue',\n",
       " 'bigger',\n",
       " 'america',\n",
       " 'across',\n",
       " '10',\n",
       " 'yours',\n",
       " 'village',\n",
       " 'try',\n",
       " 'transport',\n",
       " 'talk',\n",
       " 'seen',\n",
       " 'russian',\n",
       " 'radio',\n",
       " 'projected',\n",
       " 'once',\n",
       " 'official',\n",
       " 'needs',\n",
       " 'nearly',\n",
       " 'mount',\n",
       " 'might',\n",
       " 'mayhem',\n",
       " 'instead',\n",
       " 'hollywood',\n",
       " 'haha',\n",
       " 'guy',\n",
       " 'gun',\n",
       " 'green',\n",
       " 'front',\n",
       " 'finally',\n",
       " 'favorite',\n",
       " 'experts',\n",
       " 'entire',\n",
       " 'east',\n",
       " 'daily',\n",
       " 'crazy',\n",
       " 'computers',\n",
       " 'coaches',\n",
       " 'christian',\n",
       " 'china',\n",
       " 'blizzard',\n",
       " 'anyone',\n",
       " 'aint',\n",
       " 'action',\n",
       " '25',\n",
       " 'virgin',\n",
       " 'vehicle',\n",
       " 'truth',\n",
       " 'trust',\n",
       " 'takes',\n",
       " 't',\n",
       " 'star',\n",
       " 'sorry',\n",
       " 'running',\n",
       " 'refugio',\n",
       " 'reddits',\n",
       " 'poor',\n",
       " 'pain',\n",
       " 'mom',\n",
       " 'miners',\n",
       " 'marks',\n",
       " 'looking',\n",
       " 'knock',\n",
       " 'issued',\n",
       " 'insurance',\n",
       " 'ignition',\n",
       " 'houses',\n",
       " 'heavy',\n",
       " 'hate',\n",
       " 'hard',\n",
       " 'happened',\n",
       " 'global',\n",
       " 'giant',\n",
       " 'gbbo',\n",
       " 'flight',\n",
       " 'eye',\n",
       " 'emmerdale',\n",
       " 'driver',\n",
       " 'devastated',\n",
       " 'd',\n",
       " 'costlier',\n",
       " 'cnn',\n",
       " 'cars',\n",
       " 'camp',\n",
       " 'beach',\n",
       " 'arsonist',\n",
       " 'angry',\n",
       " 'alone',\n",
       " 'added',\n",
       " '05',\n",
       " 'york',\n",
       " 'wonder',\n",
       " 'uk',\n",
       " 'turn',\n",
       " 'taking',\n",
       " 'subreddits',\n",
       " 'sounds',\n",
       " 'scared',\n",
       " 'russia',\n",
       " 'rly',\n",
       " 'reports',\n",
       " 'ready',\n",
       " 'quiz',\n",
       " 'public',\n",
       " 'property',\n",
       " 'pradesh',\n",
       " 'ppl',\n",
       " 'playing',\n",
       " 'pay',\n",
       " 'parole',\n",
       " 'pamela',\n",
       " 'pakistani',\n",
       " 'outrage',\n",
       " 'niggas',\n",
       " 'nagasaki',\n",
       " 'myanmar',\n",
       " 'muslims',\n",
       " 'mop',\n",
       " 'madhya',\n",
       " 'mad',\n",
       " 'lmao',\n",
       " 'learn',\n",
       " 'large',\n",
       " 'govt',\n",
       " 'give',\n",
       " 'gems',\n",
       " 'gave',\n",
       " 'funtenna',\n",
       " 'fukushima',\n",
       " 'former',\n",
       " 'film',\n",
       " 'earth',\n",
       " 'drive',\n",
       " 'downtown',\n",
       " 'dog',\n",
       " 'comes',\n",
       " 'closed',\n",
       " 'cake',\n",
       " 'british',\n",
       " 'bring',\n",
       " 'bbc',\n",
       " 'b',\n",
       " 'appears',\n",
       " 'aftershock',\n",
       " '13',\n",
       " '11',\n",
       " 'young',\n",
       " 'wow',\n",
       " 'worst',\n",
       " 'waving',\n",
       " 'washington',\n",
       " 'wanted',\n",
       " 'vs',\n",
       " 'view',\n",
       " 'upon',\n",
       " 'tweet',\n",
       " 'tree',\n",
       " 'tote',\n",
       " 'thousands',\n",
       " 'thinking',\n",
       " 'theater',\n",
       " 'soul',\n",
       " 'sky',\n",
       " 'sign',\n",
       " 'shows',\n",
       " 'shift',\n",
       " 'seeing',\n",
       " 'sea',\n",
       " 'scene',\n",
       " 'safety',\n",
       " 'rules',\n",
       " 'rock',\n",
       " 'reported',\n",
       " 'r',\n",
       " 'pray',\n",
       " 'playlist',\n",
       " 'patience',\n",
       " ...]"
      ]
     },
     "execution_count": 19,
     "metadata": {},
     "output_type": "execute_result"
    }
   ],
   "source": [
    "words_in_vocab"
   ]
  },
  {
   "cell_type": "code",
   "execution_count": 20,
   "id": "4f6b643c",
   "metadata": {},
   "outputs": [
    {
     "data": {
      "text/plain": [
       "<keras.layers.core.embedding.Embedding at 0x213030ccc10>"
      ]
     },
     "execution_count": 20,
     "metadata": {},
     "output_type": "execute_result"
    }
   ],
   "source": [
    "tf.random.set_seed(42)\n",
    "from tensorflow.keras import layers\n",
    "\n",
    "embedding = layers.Embedding(input_dim=max_vocab_length,\n",
    "                             output_dim=128,\n",
    "                             embeddings_initializer=\"uniform\",\n",
    "                             input_length=max_length,\n",
    "                             name=\"embedding_1\") \n",
    "\n",
    "embedding"
   ]
  },
  {
   "cell_type": "code",
   "execution_count": 21,
   "id": "b188b875",
   "metadata": {},
   "outputs": [
    {
     "name": "stdout",
     "output_type": "stream",
     "text": [
      "Original text:\n",
      "Report: Corey Brewer was drug tested after 51-point explosion http://t.co/HhlLQCkcEP \n",
      "\n",
      "Embedded version:\n"
     ]
    },
    {
     "data": {
      "text/plain": [
       "<tf.Tensor: shape=(1, 15, 128), dtype=float32, numpy=\n",
       "array([[[-0.00564884, -0.00748349,  0.01101966, ...,  0.03134537,\n",
       "          0.04849913, -0.00921624],\n",
       "        [ 0.01387974, -0.00216342,  0.02028277, ...,  0.03333303,\n",
       "          0.01617399,  0.02459632],\n",
       "        [ 0.03977952, -0.03782602, -0.03646283, ...,  0.00236253,\n",
       "          0.03332629,  0.02803668],\n",
       "        ...,\n",
       "        [ 0.01645621, -0.00589932, -0.01471175, ..., -0.02511839,\n",
       "          0.00912381, -0.00024097],\n",
       "        [ 0.01645621, -0.00589932, -0.01471175, ..., -0.02511839,\n",
       "          0.00912381, -0.00024097],\n",
       "        [ 0.01645621, -0.00589932, -0.01471175, ..., -0.02511839,\n",
       "          0.00912381, -0.00024097]]], dtype=float32)>"
      ]
     },
     "execution_count": 21,
     "metadata": {},
     "output_type": "execute_result"
    }
   ],
   "source": [
    "# Get a random sentence from training set\n",
    "random_sentence = random.choice(train_sentences)\n",
    "print(f\"Original text:\\n{random_sentence} \\n\\nEmbedded version:\")\n",
    "\n",
    "sample_embed = embedding(text_vectorizer([random_sentence]))\n",
    "sample_embed"
   ]
  },
  {
   "cell_type": "code",
   "execution_count": 22,
   "id": "1e4dd7ab",
   "metadata": {
    "scrolled": true
   },
   "outputs": [
    {
     "data": {
      "text/plain": [
       "<tf.Tensor: shape=(128,), dtype=float32, numpy=\n",
       "array([-0.00564884, -0.00748349,  0.01101966,  0.00216369,  0.03479229,\n",
       "        0.01977248, -0.02031909,  0.01342938,  0.04059104, -0.0258708 ,\n",
       "       -0.02306321,  0.02142851, -0.0116911 , -0.04733119,  0.02096704,\n",
       "       -0.03517903,  0.00968939,  0.00644717,  0.00597665, -0.0446418 ,\n",
       "        0.04844128, -0.00970294,  0.04908172,  0.0134231 , -0.02431868,\n",
       "       -0.02838971,  0.03797746,  0.04082144, -0.02619135,  0.01592822,\n",
       "        0.00081626, -0.02601033, -0.01299198,  0.03806952, -0.04328567,\n",
       "        0.03325546,  0.03431619,  0.03487357, -0.01898768,  0.00096408,\n",
       "        0.04788505, -0.01395931, -0.01699395, -0.01524813, -0.01852945,\n",
       "       -0.02475393, -0.04050721, -0.01742535,  0.02547351,  0.00212555,\n",
       "        0.02505534, -0.01936264, -0.02746921, -0.03983289, -0.01289146,\n",
       "       -0.00477264, -0.04761383,  0.04139854, -0.02678755, -0.04115716,\n",
       "        0.01146024,  0.04483441,  0.02772   ,  0.04895402, -0.02069873,\n",
       "       -0.01994619, -0.03915218,  0.00313486,  0.01468781,  0.02950611,\n",
       "       -0.03944467,  0.00266264, -0.00160576, -0.02314835,  0.03954731,\n",
       "        0.01101862, -0.02765926,  0.01238417, -0.01398737,  0.00054233,\n",
       "        0.00465475, -0.02783661, -0.03889899, -0.00377775, -0.02029535,\n",
       "        0.03566735,  0.03832504, -0.01827633, -0.03516529,  0.03538014,\n",
       "        0.02285146, -0.0033265 ,  0.03857303, -0.04869857,  0.00319017,\n",
       "       -0.02659419,  0.0273189 ,  0.02837748, -0.00191883,  0.03145249,\n",
       "       -0.04206862,  0.0412077 ,  0.04174762,  0.02256561, -0.04160676,\n",
       "       -0.00272937, -0.01400436, -0.04076419, -0.03949548, -0.03560481,\n",
       "       -0.01181368, -0.03335797, -0.01787872,  0.03024391,  0.0139989 ,\n",
       "       -0.01110232,  0.04024367,  0.01394418,  0.04036181, -0.0265931 ,\n",
       "        0.04017105, -0.01349209, -0.03569309, -0.03846593,  0.01471689,\n",
       "        0.03134537,  0.04849913, -0.00921624], dtype=float32)>"
      ]
     },
     "execution_count": 22,
     "metadata": {},
     "output_type": "execute_result"
    }
   ],
   "source": [
    "sample_embed[0][0]"
   ]
  },
  {
   "cell_type": "code",
   "execution_count": 23,
   "id": "b879747c",
   "metadata": {},
   "outputs": [
    {
     "data": {
      "text/html": [
       "<style>#sk-container-id-1 {color: black;}#sk-container-id-1 pre{padding: 0;}#sk-container-id-1 div.sk-toggleable {background-color: white;}#sk-container-id-1 label.sk-toggleable__label {cursor: pointer;display: block;width: 100%;margin-bottom: 0;padding: 0.3em;box-sizing: border-box;text-align: center;}#sk-container-id-1 label.sk-toggleable__label-arrow:before {content: \"▸\";float: left;margin-right: 0.25em;color: #696969;}#sk-container-id-1 label.sk-toggleable__label-arrow:hover:before {color: black;}#sk-container-id-1 div.sk-estimator:hover label.sk-toggleable__label-arrow:before {color: black;}#sk-container-id-1 div.sk-toggleable__content {max-height: 0;max-width: 0;overflow: hidden;text-align: left;background-color: #f0f8ff;}#sk-container-id-1 div.sk-toggleable__content pre {margin: 0.2em;color: black;border-radius: 0.25em;background-color: #f0f8ff;}#sk-container-id-1 input.sk-toggleable__control:checked~div.sk-toggleable__content {max-height: 200px;max-width: 100%;overflow: auto;}#sk-container-id-1 input.sk-toggleable__control:checked~label.sk-toggleable__label-arrow:before {content: \"▾\";}#sk-container-id-1 div.sk-estimator input.sk-toggleable__control:checked~label.sk-toggleable__label {background-color: #d4ebff;}#sk-container-id-1 div.sk-label input.sk-toggleable__control:checked~label.sk-toggleable__label {background-color: #d4ebff;}#sk-container-id-1 input.sk-hidden--visually {border: 0;clip: rect(1px 1px 1px 1px);clip: rect(1px, 1px, 1px, 1px);height: 1px;margin: -1px;overflow: hidden;padding: 0;position: absolute;width: 1px;}#sk-container-id-1 div.sk-estimator {font-family: monospace;background-color: #f0f8ff;border: 1px dotted black;border-radius: 0.25em;box-sizing: border-box;margin-bottom: 0.5em;}#sk-container-id-1 div.sk-estimator:hover {background-color: #d4ebff;}#sk-container-id-1 div.sk-parallel-item::after {content: \"\";width: 100%;border-bottom: 1px solid gray;flex-grow: 1;}#sk-container-id-1 div.sk-label:hover label.sk-toggleable__label {background-color: #d4ebff;}#sk-container-id-1 div.sk-serial::before {content: \"\";position: absolute;border-left: 1px solid gray;box-sizing: border-box;top: 0;bottom: 0;left: 50%;z-index: 0;}#sk-container-id-1 div.sk-serial {display: flex;flex-direction: column;align-items: center;background-color: white;padding-right: 0.2em;padding-left: 0.2em;position: relative;}#sk-container-id-1 div.sk-item {position: relative;z-index: 1;}#sk-container-id-1 div.sk-parallel {display: flex;align-items: stretch;justify-content: center;background-color: white;position: relative;}#sk-container-id-1 div.sk-item::before, #sk-container-id-1 div.sk-parallel-item::before {content: \"\";position: absolute;border-left: 1px solid gray;box-sizing: border-box;top: 0;bottom: 0;left: 50%;z-index: -1;}#sk-container-id-1 div.sk-parallel-item {display: flex;flex-direction: column;z-index: 1;position: relative;background-color: white;}#sk-container-id-1 div.sk-parallel-item:first-child::after {align-self: flex-end;width: 50%;}#sk-container-id-1 div.sk-parallel-item:last-child::after {align-self: flex-start;width: 50%;}#sk-container-id-1 div.sk-parallel-item:only-child::after {width: 0;}#sk-container-id-1 div.sk-dashed-wrapped {border: 1px dashed gray;margin: 0 0.4em 0.5em 0.4em;box-sizing: border-box;padding-bottom: 0.4em;background-color: white;}#sk-container-id-1 div.sk-label label {font-family: monospace;font-weight: bold;display: inline-block;line-height: 1.2em;}#sk-container-id-1 div.sk-label-container {text-align: center;}#sk-container-id-1 div.sk-container {/* jupyter's `normalize.less` sets `[hidden] { display: none; }` but bootstrap.min.css set `[hidden] { display: none !important; }` so we also need the `!important` here to be able to override the default hidden behavior on the sphinx rendered scikit-learn.org. See: https://github.com/scikit-learn/scikit-learn/issues/21755 */display: inline-block !important;position: relative;}#sk-container-id-1 div.sk-text-repr-fallback {display: none;}</style><div id=\"sk-container-id-1\" class=\"sk-top-container\"><div class=\"sk-text-repr-fallback\"><pre>Pipeline(steps=[(&#x27;tfidf&#x27;, TfidfVectorizer()), (&#x27;clf&#x27;, MultinomialNB())])</pre><b>In a Jupyter environment, please rerun this cell to show the HTML representation or trust the notebook. <br />On GitHub, the HTML representation is unable to render, please try loading this page with nbviewer.org.</b></div><div class=\"sk-container\" hidden><div class=\"sk-item sk-dashed-wrapped\"><div class=\"sk-label-container\"><div class=\"sk-label sk-toggleable\"><input class=\"sk-toggleable__control sk-hidden--visually\" id=\"sk-estimator-id-1\" type=\"checkbox\" ><label for=\"sk-estimator-id-1\" class=\"sk-toggleable__label sk-toggleable__label-arrow\">Pipeline</label><div class=\"sk-toggleable__content\"><pre>Pipeline(steps=[(&#x27;tfidf&#x27;, TfidfVectorizer()), (&#x27;clf&#x27;, MultinomialNB())])</pre></div></div></div><div class=\"sk-serial\"><div class=\"sk-item\"><div class=\"sk-estimator sk-toggleable\"><input class=\"sk-toggleable__control sk-hidden--visually\" id=\"sk-estimator-id-2\" type=\"checkbox\" ><label for=\"sk-estimator-id-2\" class=\"sk-toggleable__label sk-toggleable__label-arrow\">TfidfVectorizer</label><div class=\"sk-toggleable__content\"><pre>TfidfVectorizer()</pre></div></div></div><div class=\"sk-item\"><div class=\"sk-estimator sk-toggleable\"><input class=\"sk-toggleable__control sk-hidden--visually\" id=\"sk-estimator-id-3\" type=\"checkbox\" ><label for=\"sk-estimator-id-3\" class=\"sk-toggleable__label sk-toggleable__label-arrow\">MultinomialNB</label><div class=\"sk-toggleable__content\"><pre>MultinomialNB()</pre></div></div></div></div></div></div></div>"
      ],
      "text/plain": [
       "Pipeline(steps=[('tfidf', TfidfVectorizer()), ('clf', MultinomialNB())])"
      ]
     },
     "execution_count": 23,
     "metadata": {},
     "output_type": "execute_result"
    }
   ],
   "source": [
    "from sklearn.feature_extraction.text import TfidfVectorizer\n",
    "from sklearn.naive_bayes import MultinomialNB\n",
    "from sklearn.pipeline import Pipeline\n",
    "\n",
    "model_0 = Pipeline([\n",
    "                    (\"tfidf\", TfidfVectorizer()),\n",
    "                    (\"clf\", MultinomialNB())\n",
    "])\n",
    "\n",
    "model_0.fit(train_sentences, train_labels)"
   ]
  },
  {
   "cell_type": "code",
   "execution_count": 24,
   "id": "6719eda4",
   "metadata": {},
   "outputs": [
    {
     "name": "stdout",
     "output_type": "stream",
     "text": [
      "Our baseline model achieves an accuracy of: 79.27%\n"
     ]
    }
   ],
   "source": [
    "baseline_score = model_0.score(val_sentences, val_labels)\n",
    "print(f\"Our baseline model achieves an accuracy of: {baseline_score*100:.2f}%\")"
   ]
  },
  {
   "cell_type": "code",
   "execution_count": 25,
   "id": "df8c34f0",
   "metadata": {},
   "outputs": [
    {
     "data": {
      "text/plain": [
       "target\n",
       "0    4342\n",
       "1    3271\n",
       "Name: count, dtype: int64"
      ]
     },
     "execution_count": 25,
     "metadata": {},
     "output_type": "execute_result"
    }
   ],
   "source": [
    "train_df['target'].value_counts()"
   ]
  },
  {
   "cell_type": "code",
   "execution_count": 26,
   "id": "84e6c370",
   "metadata": {
    "scrolled": true
   },
   "outputs": [
    {
     "data": {
      "text/plain": [
       "array([1, 1, 1, 0, 0, 1, 1, 1, 1, 0, 0, 1, 0, 0, 0, 0, 0, 0, 0, 1, 1, 0,\n",
       "       0, 0, 1, 1, 0, 0, 0, 0, 1, 0, 0, 0, 0, 0, 1, 0, 0, 1, 0, 0, 0, 0,\n",
       "       0, 1, 0, 1, 0, 1, 0, 1, 0, 0, 0, 0, 0, 1, 0, 0, 0, 1, 1, 0, 1, 1,\n",
       "       0, 0, 0, 0, 0, 0, 0, 0, 0, 1, 0, 0, 0, 1, 1, 0, 1, 0, 0, 0, 0, 0,\n",
       "       1, 1, 1, 0, 0, 0, 1, 1, 1, 1, 1, 1, 1, 0, 0, 1, 1, 0, 0, 1, 0, 0,\n",
       "       1, 0, 0, 0, 0, 0, 0, 1, 1, 0, 1, 0, 0, 1, 0, 0, 0, 0, 0, 1, 0, 1,\n",
       "       1, 1, 1, 0, 1, 0, 0, 0, 1, 0, 0, 0, 0, 0, 0, 0, 0, 1, 1, 0, 0, 0,\n",
       "       0, 1, 0, 0, 1, 0, 1, 0, 0, 1, 0, 0, 1, 0, 1, 0, 1, 0, 1, 0, 1, 0,\n",
       "       0, 0, 0, 1, 0, 1, 1, 1, 1, 0, 0, 1, 0, 0, 0, 1, 0, 0, 0, 0, 0, 0,\n",
       "       1, 0, 0, 1, 1, 0, 0, 1, 0, 1, 1, 1, 0, 1, 0, 0, 0, 0, 1, 1, 0, 0,\n",
       "       1, 0, 0, 0, 1, 0, 0, 1, 1, 1, 0, 0, 1, 0, 1, 0, 0, 0, 0, 0, 0, 0,\n",
       "       1, 1, 0, 0, 1, 0, 0, 0, 0, 0, 0, 0, 1, 0, 1, 1, 0, 0, 0, 0, 0, 1,\n",
       "       1, 0, 1, 0, 0, 0, 0, 0, 1, 0, 0, 1, 0, 0, 1, 0, 0, 0, 1, 0, 1, 0,\n",
       "       1, 0, 0, 0, 0, 0, 0, 0, 0, 1, 0, 1, 0, 0, 0, 0, 0, 1, 0, 0, 0, 0,\n",
       "       0, 0, 0, 1, 0, 0, 1, 0, 1, 0, 0, 0, 0, 0, 1, 0, 1, 0, 0, 1, 0, 1,\n",
       "       0, 0, 1, 0, 0, 1, 0, 0, 0, 0, 0, 0, 1, 1, 0, 0, 0, 0, 0, 0, 0, 0,\n",
       "       0, 0, 0, 0, 1, 1, 1, 0, 0, 0, 0, 0, 0, 0, 0, 0, 0, 0, 0, 0, 0, 0,\n",
       "       0, 0, 0, 0, 0, 1, 1, 1, 0, 0, 0, 1, 1, 0, 1, 0, 0, 0, 0, 0, 0, 1,\n",
       "       0, 0, 0, 0, 1, 0, 1, 1, 0, 1, 0, 0, 0, 0, 1, 0, 0, 0, 1, 1, 0, 1,\n",
       "       0, 0, 1, 1, 1, 1, 0, 0, 0, 1, 0, 0, 0, 0, 0, 0, 0, 0, 0, 0, 1, 1,\n",
       "       0, 1, 0, 0, 0, 1, 0, 0, 0, 0, 0, 1, 1, 1, 1, 1, 0, 0, 1, 1, 1, 0,\n",
       "       0, 0, 1, 1, 0, 0, 1, 0, 0, 1, 0, 0, 0, 0, 1, 1, 0, 0, 0, 0, 0, 1,\n",
       "       0, 1, 0, 0, 0, 0, 0, 1, 0, 0, 0, 0, 0, 1, 0, 0, 1, 0, 0, 1, 0, 0,\n",
       "       0, 1, 0, 0, 0, 0, 0, 0, 1, 0, 1, 1, 1, 1, 0, 0, 1, 1, 0, 0, 0, 0,\n",
       "       0, 1, 1, 1, 0, 0, 1, 0, 1, 0, 0, 0, 0, 0, 0, 0, 0, 0, 0, 1, 1, 0,\n",
       "       0, 1, 0, 1, 0, 1, 0, 0, 0, 0, 0, 0, 1, 1, 1, 0, 1, 1, 0, 0, 1, 1,\n",
       "       1, 0, 0, 0, 0, 0, 1, 0, 0, 0, 1, 0, 0, 1, 0, 0, 0, 0, 0, 0, 0, 0,\n",
       "       0, 0, 0, 1, 1, 0, 0, 0, 1, 1, 1, 0, 1, 0, 0, 1, 0, 1, 0, 0, 1, 0,\n",
       "       0, 1, 0, 1, 1, 0, 1, 0, 0, 0, 0, 0, 0, 0, 0, 1, 1, 1, 1, 0, 0, 0,\n",
       "       0, 0, 1, 0, 1, 0, 0, 0, 0, 0, 0, 0, 1, 0, 0, 0, 0, 0, 0, 1, 0, 0,\n",
       "       0, 0, 1, 0, 0, 0, 0, 0, 1, 1, 0, 0, 0, 0, 1, 0, 1, 1, 0, 0, 0, 0,\n",
       "       0, 0, 0, 1, 0, 0, 0, 0, 1, 1, 1, 0, 1, 1, 1, 1, 1, 0, 0, 0, 1, 0,\n",
       "       0, 0, 0, 0, 0, 0, 0, 0, 1, 0, 0, 0, 0, 0, 1, 0, 0, 0, 0, 1, 0, 0,\n",
       "       0, 0, 1, 0, 0, 1, 1, 1, 1, 1, 0, 0, 0, 1, 1, 0, 0, 1, 0, 0, 0, 0,\n",
       "       0, 0, 0, 0, 1, 0, 1, 1, 0, 0, 0, 1, 0, 0], dtype=int64)"
      ]
     },
     "execution_count": 26,
     "metadata": {},
     "output_type": "execute_result"
    }
   ],
   "source": [
    "baseline_preds = model_0.predict(val_sentences)\n",
    "baseline_preds"
   ]
  },
  {
   "cell_type": "code",
   "execution_count": 27,
   "id": "52918102",
   "metadata": {},
   "outputs": [],
   "source": [
    "from sklearn.metrics import accuracy_score, precision_recall_fscore_support\n",
    "\n",
    "def calculate_results(y_true, y_pred):\n",
    "    model_accuracy = accuracy_score(y_true, y_pred) * 100\n",
    "    model_precision, model_recall, model_f1, _ = precision_recall_fscore_support(y_true, y_pred, average=\"weighted\")\n",
    "    model_results = {\"accuracy\": model_accuracy,\n",
    "                     \"precision\": model_precision,\n",
    "                     \"recall\": model_recall,\n",
    "                     \"f1\": model_f1}\n",
    "    return model_results"
   ]
  },
  {
   "cell_type": "code",
   "execution_count": 28,
   "id": "080db7e8",
   "metadata": {},
   "outputs": [
    {
     "data": {
      "text/plain": [
       "{'accuracy': 79.26509186351706,\n",
       " 'precision': 0.8111390004213173,\n",
       " 'recall': 0.7926509186351706,\n",
       " 'f1': 0.7862189758049549}"
      ]
     },
     "execution_count": 28,
     "metadata": {},
     "output_type": "execute_result"
    }
   ],
   "source": [
    "baseline_results = calculate_results(y_true=val_labels, y_pred=baseline_preds)\n",
    "baseline_results"
   ]
  },
  {
   "cell_type": "code",
   "execution_count": 29,
   "id": "e4c105c3",
   "metadata": {},
   "outputs": [],
   "source": [
    "from helper_functions import create_tensorboard_callback\n",
    "SAVE_DIR = \"model_logs\""
   ]
  },
  {
   "cell_type": "code",
   "execution_count": 30,
   "id": "67c85ecc",
   "metadata": {},
   "outputs": [],
   "source": [
    "from tensorflow.keras import layers, Model\n",
    "inputs = layers.Input(shape=(1,), dtype='string')\n",
    "x = text_vectorizer(inputs)\n",
    "x = embedding(x)\n",
    "x = layers.GlobalAveragePooling1D()(x)\n",
    "outputs = layers.Dense(1, activation='sigmoid')(x)\n",
    "model_1 = Model(inputs, outputs, name = 'model_1_dense')"
   ]
  },
  {
   "cell_type": "code",
   "execution_count": 31,
   "id": "a48cdefc",
   "metadata": {},
   "outputs": [],
   "source": [
    "model_1.compile(loss='binary_crossentropy',\n",
    "                optimizer='adam',\n",
    "                metrics=['accuracy'])"
   ]
  },
  {
   "cell_type": "code",
   "execution_count": 32,
   "id": "5de6992b",
   "metadata": {},
   "outputs": [
    {
     "name": "stdout",
     "output_type": "stream",
     "text": [
      "Model: \"model_1_dense\"\n",
      "_________________________________________________________________\n",
      " Layer (type)                Output Shape              Param #   \n",
      "=================================================================\n",
      " input_1 (InputLayer)        [(None, 1)]               0         \n",
      "                                                                 \n",
      " text_vectorization_1 (TextV  (None, 15)               0         \n",
      " ectorization)                                                   \n",
      "                                                                 \n",
      " embedding_1 (Embedding)     (None, 15, 128)           1280000   \n",
      "                                                                 \n",
      " global_average_pooling1d (G  (None, 128)              0         \n",
      " lobalAveragePooling1D)                                          \n",
      "                                                                 \n",
      " dense (Dense)               (None, 1)                 129       \n",
      "                                                                 \n",
      "=================================================================\n",
      "Total params: 1,280,129\n",
      "Trainable params: 1,280,129\n",
      "Non-trainable params: 0\n",
      "_________________________________________________________________\n"
     ]
    }
   ],
   "source": [
    "model_1.summary()"
   ]
  },
  {
   "cell_type": "code",
   "execution_count": 33,
   "id": "1276955b",
   "metadata": {
    "scrolled": false
   },
   "outputs": [
    {
     "name": "stdout",
     "output_type": "stream",
     "text": [
      "Saving TensorBoard log files to: model_logs/simple_dense_model/20230926-125427\n",
      "Epoch 1/5\n",
      "215/215 [==============================] - 4s 8ms/step - loss: 0.6094 - accuracy: 0.6916 - val_loss: 0.5357 - val_accuracy: 0.7572\n",
      "Epoch 2/5\n",
      "215/215 [==============================] - 1s 7ms/step - loss: 0.4410 - accuracy: 0.8189 - val_loss: 0.4691 - val_accuracy: 0.7848\n",
      "Epoch 3/5\n",
      "215/215 [==============================] - 1s 7ms/step - loss: 0.3463 - accuracy: 0.8605 - val_loss: 0.4590 - val_accuracy: 0.7900\n",
      "Epoch 4/5\n",
      "215/215 [==============================] - 2s 7ms/step - loss: 0.2848 - accuracy: 0.8923 - val_loss: 0.4641 - val_accuracy: 0.7927\n",
      "Epoch 5/5\n",
      "215/215 [==============================] - 2s 7ms/step - loss: 0.2380 - accuracy: 0.9118 - val_loss: 0.4767 - val_accuracy: 0.7874\n"
     ]
    }
   ],
   "source": [
    "model_1_history = model_1.fit(train_sentences,\n",
    "                              train_labels,\n",
    "                              epochs=5,\n",
    "                              validation_data=(val_sentences, val_labels),\n",
    "                              callbacks=[create_tensorboard_callback(SAVE_DIR,\n",
    "                                                                     'simple_dense_model')])"
   ]
  },
  {
   "cell_type": "code",
   "execution_count": 34,
   "id": "bc0e31b6",
   "metadata": {},
   "outputs": [
    {
     "name": "stdout",
     "output_type": "stream",
     "text": [
      "24/24 [==============================] - 0s 4ms/step - loss: 0.4767 - accuracy: 0.7874\n"
     ]
    },
    {
     "data": {
      "text/plain": [
       "[0.47668465971946716, 0.787401556968689]"
      ]
     },
     "execution_count": 34,
     "metadata": {},
     "output_type": "execute_result"
    }
   ],
   "source": [
    "model_1.evaluate(val_sentences, val_labels)"
   ]
  },
  {
   "cell_type": "code",
   "execution_count": 35,
   "id": "715000cb",
   "metadata": {
    "scrolled": true
   },
   "outputs": [
    {
     "data": {
      "text/plain": [
       "[<tf.Variable 'embedding_1/embeddings:0' shape=(10000, 128) dtype=float32, numpy=\n",
       " array([[ 0.00073165,  0.01504799, -0.03425454, ..., -0.04403539,\n",
       "         -0.01042282,  0.0187644 ],\n",
       "        [ 0.04135863, -0.03945084, -0.03811941, ...,  0.00464736,\n",
       "          0.03163552,  0.02928299],\n",
       "        [ 0.00684032,  0.05363132, -0.00241555, ..., -0.07082179,\n",
       "         -0.04750703,  0.01448253],\n",
       "        ...,\n",
       "        [-0.03301444, -0.0052493 , -0.04209725, ...,  0.02028764,\n",
       "          0.00308807,  0.02215792],\n",
       "        [ 0.00692343,  0.05942352, -0.01975194, ..., -0.06199061,\n",
       "         -0.01018393,  0.03510419],\n",
       "        [-0.0372346 ,  0.06267188, -0.07451148, ..., -0.02367218,\n",
       "         -0.08643329,  0.01742155]], dtype=float32)>]"
      ]
     },
     "execution_count": 35,
     "metadata": {},
     "output_type": "execute_result"
    }
   ],
   "source": [
    "embedding.weights"
   ]
  },
  {
   "cell_type": "code",
   "execution_count": 36,
   "id": "9b84e295",
   "metadata": {},
   "outputs": [
    {
     "name": "stdout",
     "output_type": "stream",
     "text": [
      "(10000, 128)\n"
     ]
    }
   ],
   "source": [
    "embed_weights = model_1.get_layer(\"embedding_1\").get_weights()[0]\n",
    "print(embed_weights.shape)"
   ]
  },
  {
   "cell_type": "code",
   "execution_count": 37,
   "id": "6ab0d297",
   "metadata": {},
   "outputs": [
    {
     "name": "stdout",
     "output_type": "stream",
     "text": [
      "24/24 [==============================] - 0s 4ms/step\n"
     ]
    },
    {
     "data": {
      "text/plain": [
       "array([[4.04882103e-01],\n",
       "       [7.44331181e-01],\n",
       "       [9.97895002e-01],\n",
       "       [1.08899988e-01],\n",
       "       [1.11435294e-01],\n",
       "       [9.35560942e-01],\n",
       "       [9.13459361e-01],\n",
       "       [9.92534518e-01],\n",
       "       [9.71568167e-01],\n",
       "       [2.65703410e-01],\n",
       "       [1.23554133e-01],\n",
       "       [7.14031875e-01],\n",
       "       [5.59769906e-02],\n",
       "       [2.21097901e-01],\n",
       "       [5.30175632e-03],\n",
       "       [1.64252639e-01],\n",
       "       [2.66677570e-02],\n",
       "       [1.05061978e-01],\n",
       "       [2.43335843e-01],\n",
       "       [5.50095379e-01],\n",
       "       [9.07310009e-01],\n",
       "       [4.14080769e-02],\n",
       "       [4.44304526e-01],\n",
       "       [1.02827892e-01],\n",
       "       [9.57856238e-01],\n",
       "       [9.98957157e-01],\n",
       "       [3.35513242e-02],\n",
       "       [7.10333958e-02],\n",
       "       [2.77729668e-02],\n",
       "       [2.13070989e-01],\n",
       "       [5.81133366e-01],\n",
       "       [2.41698146e-01],\n",
       "       [5.10923028e-01],\n",
       "       [2.07991764e-01],\n",
       "       [5.23500443e-01],\n",
       "       [5.54889441e-02],\n",
       "       [9.94535685e-01],\n",
       "       [1.44162700e-01],\n",
       "       [3.44177224e-02],\n",
       "       [9.98458385e-01],\n",
       "       [1.80961728e-01],\n",
       "       [2.18717530e-02],\n",
       "       [3.61935973e-01],\n",
       "       [5.84574006e-02],\n",
       "       [6.57687187e-01],\n",
       "       [9.79973555e-01],\n",
       "       [3.08554441e-01],\n",
       "       [9.21410024e-01],\n",
       "       [1.99593127e-01],\n",
       "       [6.21904075e-01],\n",
       "       [6.98659942e-02],\n",
       "       [5.24267972e-01],\n",
       "       [4.37649727e-01],\n",
       "       [2.91388351e-02],\n",
       "       [1.35956645e-01],\n",
       "       [3.29443887e-02],\n",
       "       [2.32818782e-01],\n",
       "       [9.62255776e-01],\n",
       "       [1.27187505e-01],\n",
       "       [2.89273588e-03],\n",
       "       [1.27918512e-01],\n",
       "       [9.63052273e-01],\n",
       "       [9.23550546e-01],\n",
       "       [1.45975575e-01],\n",
       "       [9.26578224e-01],\n",
       "       [9.79331076e-01],\n",
       "       [7.20997572e-01],\n",
       "       [4.71630663e-01],\n",
       "       [1.17940798e-01],\n",
       "       [1.41429037e-01],\n",
       "       [9.54748616e-02],\n",
       "       [3.17534544e-02],\n",
       "       [9.37859893e-01],\n",
       "       [1.30016968e-01],\n",
       "       [1.34338453e-01],\n",
       "       [4.25970078e-01],\n",
       "       [3.55950713e-01],\n",
       "       [8.12931240e-01],\n",
       "       [2.48409882e-01],\n",
       "       [5.98526299e-01],\n",
       "       [4.55316544e-01],\n",
       "       [2.52034187e-01],\n",
       "       [9.96162772e-01],\n",
       "       [1.10148184e-01],\n",
       "       [1.74137756e-01],\n",
       "       [9.98061895e-02],\n",
       "       [2.05700733e-02],\n",
       "       [9.69108194e-02],\n",
       "       [6.65560126e-01],\n",
       "       [8.78909171e-01],\n",
       "       [9.92534876e-01],\n",
       "       [1.09479269e-02],\n",
       "       [5.13043582e-01],\n",
       "       [3.13996300e-02],\n",
       "       [9.79348183e-01],\n",
       "       [7.32427657e-01],\n",
       "       [8.41513515e-01],\n",
       "       [9.78506923e-01],\n",
       "       [8.73996437e-01],\n",
       "       [9.46375370e-01],\n",
       "       [9.99406695e-01],\n",
       "       [1.62712514e-01],\n",
       "       [1.25888241e-02],\n",
       "       [9.14196551e-01],\n",
       "       [8.95433366e-01],\n",
       "       [8.39395225e-02],\n",
       "       [8.72490764e-01],\n",
       "       [9.77838874e-01],\n",
       "       [7.52710551e-02],\n",
       "       [4.74092603e-01],\n",
       "       [7.36380994e-01],\n",
       "       [3.58573124e-02],\n",
       "       [2.47603863e-01],\n",
       "       [1.80018306e-01],\n",
       "       [1.47691116e-01],\n",
       "       [4.51788574e-01],\n",
       "       [5.17734647e-01],\n",
       "       [7.63703048e-01],\n",
       "       [7.33745754e-01],\n",
       "       [9.56089422e-02],\n",
       "       [9.99727428e-01],\n",
       "       [1.03531189e-01],\n",
       "       [1.38760418e-01],\n",
       "       [8.12631428e-01],\n",
       "       [5.00891626e-01],\n",
       "       [2.49929622e-01],\n",
       "       [8.52535486e-01],\n",
       "       [1.05938688e-02],\n",
       "       [6.63132519e-02],\n",
       "       [7.89612830e-01],\n",
       "       [9.01017487e-02],\n",
       "       [9.99727428e-01],\n",
       "       [9.99843478e-01],\n",
       "       [9.98957157e-01],\n",
       "       [9.85313237e-01],\n",
       "       [9.13062915e-02],\n",
       "       [9.72040474e-01],\n",
       "       [1.76365033e-01],\n",
       "       [2.78670847e-01],\n",
       "       [8.90696719e-02],\n",
       "       [9.96378362e-01],\n",
       "       [3.51830751e-01],\n",
       "       [2.21097901e-01],\n",
       "       [9.52430964e-01],\n",
       "       [2.15276539e-01],\n",
       "       [6.23732448e-01],\n",
       "       [4.20408696e-02],\n",
       "       [8.02312791e-03],\n",
       "       [2.55229831e-01],\n",
       "       [9.81566072e-01],\n",
       "       [2.73326993e-01],\n",
       "       [6.07513189e-02],\n",
       "       [4.26939964e-01],\n",
       "       [1.87692419e-01],\n",
       "       [2.65615195e-01],\n",
       "       [9.92148638e-01],\n",
       "       [8.01194429e-01],\n",
       "       [4.76187855e-01],\n",
       "       [9.88684833e-01],\n",
       "       [2.09553707e-02],\n",
       "       [9.70372021e-01],\n",
       "       [5.70783876e-02],\n",
       "       [2.76230156e-01],\n",
       "       [9.92198288e-01],\n",
       "       [2.48738751e-01],\n",
       "       [9.13332775e-02],\n",
       "       [9.98537660e-01],\n",
       "       [2.92784899e-01],\n",
       "       [9.84031856e-01],\n",
       "       [2.13991538e-01],\n",
       "       [9.93695915e-01],\n",
       "       [8.63849342e-01],\n",
       "       [8.17703784e-01],\n",
       "       [2.96187904e-02],\n",
       "       [9.97855604e-01],\n",
       "       [6.36621192e-02],\n",
       "       [4.02146935e-01],\n",
       "       [4.34300900e-01],\n",
       "       [7.62754917e-01],\n",
       "       [9.94477093e-01],\n",
       "       [1.72028020e-02],\n",
       "       [7.80243278e-01],\n",
       "       [8.12454164e-01],\n",
       "       [9.73845422e-01],\n",
       "       [9.74610806e-01],\n",
       "       [4.45297271e-01],\n",
       "       [9.00380686e-02],\n",
       "       [9.99543369e-01],\n",
       "       [1.47841368e-02],\n",
       "       [3.18346694e-02],\n",
       "       [1.20892420e-01],\n",
       "       [9.13819969e-01],\n",
       "       [9.06535909e-02],\n",
       "       [2.68783301e-01],\n",
       "       [1.50614697e-02],\n",
       "       [9.49591547e-02],\n",
       "       [4.42944579e-02],\n",
       "       [2.15524554e-01],\n",
       "       [7.86959410e-01],\n",
       "       [7.28752688e-02],\n",
       "       [3.05487365e-01],\n",
       "       [8.76995027e-01],\n",
       "       [9.75175261e-01],\n",
       "       [3.78404051e-01],\n",
       "       [1.29557207e-01],\n",
       "       [9.99826491e-01],\n",
       "       [5.79596400e-01],\n",
       "       [9.27464962e-01],\n",
       "       [6.83825374e-01],\n",
       "       [8.44946682e-01],\n",
       "       [3.13774318e-01],\n",
       "       [9.80665088e-01],\n",
       "       [2.35549938e-02],\n",
       "       [1.98993295e-01],\n",
       "       [7.31700286e-03],\n",
       "       [5.90936281e-03],\n",
       "       [9.59820032e-01],\n",
       "       [8.21608245e-01],\n",
       "       [9.05338049e-01],\n",
       "       [1.54284924e-01],\n",
       "       [7.23146260e-01],\n",
       "       [8.93898010e-02],\n",
       "       [2.76529677e-02],\n",
       "       [1.80790111e-01],\n",
       "       [9.78680491e-01],\n",
       "       [1.94620326e-01],\n",
       "       [5.27359128e-01],\n",
       "       [9.93704140e-01],\n",
       "       [5.90902269e-01],\n",
       "       [6.05142176e-01],\n",
       "       [9.86131057e-02],\n",
       "       [2.54153550e-01],\n",
       "       [8.06861043e-01],\n",
       "       [2.68865138e-01],\n",
       "       [4.95728821e-01],\n",
       "       [1.30086988e-01],\n",
       "       [6.14675224e-01],\n",
       "       [3.35585356e-01],\n",
       "       [1.74851954e-01],\n",
       "       [9.86258835e-02],\n",
       "       [4.58932370e-01],\n",
       "       [2.51176536e-01],\n",
       "       [9.99839902e-01],\n",
       "       [9.85417604e-01],\n",
       "       [7.42421821e-02],\n",
       "       [2.64381003e-02],\n",
       "       [8.73299897e-01],\n",
       "       [1.08605973e-01],\n",
       "       [7.40024820e-02],\n",
       "       [4.91942883e-01],\n",
       "       [3.94533314e-02],\n",
       "       [5.82167566e-01],\n",
       "       [9.11678188e-04],\n",
       "       [4.45829242e-01],\n",
       "       [9.19211686e-01],\n",
       "       [1.83066994e-01],\n",
       "       [9.71212506e-01],\n",
       "       [9.99006689e-01],\n",
       "       [2.83333540e-01],\n",
       "       [1.87903970e-01],\n",
       "       [3.76619399e-01],\n",
       "       [3.19027714e-02],\n",
       "       [4.80763009e-03],\n",
       "       [9.83309925e-01],\n",
       "       [9.68935549e-01],\n",
       "       [7.10430443e-01],\n",
       "       [9.52276647e-01],\n",
       "       [5.40468730e-02],\n",
       "       [1.82958066e-01],\n",
       "       [8.52851477e-03],\n",
       "       [1.82613790e-01],\n",
       "       [3.08471341e-02],\n",
       "       [9.59016204e-01],\n",
       "       [1.04805693e-01],\n",
       "       [9.66161676e-03],\n",
       "       [9.71537352e-01],\n",
       "       [1.11780046e-02],\n",
       "       [8.52334201e-02],\n",
       "       [9.81204093e-01],\n",
       "       [5.08098751e-02],\n",
       "       [7.49042779e-02],\n",
       "       [8.12509283e-03],\n",
       "       [9.68068659e-01],\n",
       "       [6.14975452e-01],\n",
       "       [7.74910867e-01],\n",
       "       [6.90311491e-01],\n",
       "       [5.85496187e-01],\n",
       "       [7.95939043e-02],\n",
       "       [9.34287310e-01],\n",
       "       [4.18097004e-02],\n",
       "       [7.28441954e-01],\n",
       "       [3.98166865e-01],\n",
       "       [3.62027109e-01],\n",
       "       [3.92254531e-01],\n",
       "       [1.90036982e-01],\n",
       "       [7.57338345e-01],\n",
       "       [2.44400978e-01],\n",
       "       [6.58409238e-01],\n",
       "       [1.57957226e-01],\n",
       "       [8.28990519e-01],\n",
       "       [4.32848521e-02],\n",
       "       [8.48244652e-02],\n",
       "       [2.30803788e-01],\n",
       "       [9.83982146e-01],\n",
       "       [1.55717552e-01],\n",
       "       [8.20147991e-02],\n",
       "       [3.49017888e-01],\n",
       "       [2.04786301e-01],\n",
       "       [1.27015486e-01],\n",
       "       [2.86359154e-02],\n",
       "       [3.23543325e-02],\n",
       "       [9.80966926e-01],\n",
       "       [3.32823604e-01],\n",
       "       [1.85977891e-01],\n",
       "       [9.99759972e-01],\n",
       "       [4.24775332e-02],\n",
       "       [6.48300767e-01],\n",
       "       [2.30285347e-01],\n",
       "       [4.90570590e-02],\n",
       "       [1.40847832e-01],\n",
       "       [1.80015028e-01],\n",
       "       [1.02022752e-01],\n",
       "       [9.17467892e-01],\n",
       "       [2.52245307e-01],\n",
       "       [9.86809254e-01],\n",
       "       [8.06421936e-02],\n",
       "       [2.45529618e-02],\n",
       "       [9.94601488e-01],\n",
       "       [2.52045915e-02],\n",
       "       [9.96545374e-01],\n",
       "       [1.43349200e-01],\n",
       "       [3.50070298e-02],\n",
       "       [9.59631026e-01],\n",
       "       [4.83099781e-02],\n",
       "       [3.78702171e-02],\n",
       "       [9.78081524e-01],\n",
       "       [5.73729211e-03],\n",
       "       [1.73387960e-01],\n",
       "       [7.78875053e-01],\n",
       "       [9.22469795e-01],\n",
       "       [5.11787226e-03],\n",
       "       [1.82372913e-01],\n",
       "       [9.84261870e-01],\n",
       "       [9.66752052e-01],\n",
       "       [7.65028596e-01],\n",
       "       [4.29153651e-01],\n",
       "       [5.85460603e-01],\n",
       "       [4.33984965e-01],\n",
       "       [4.64395732e-02],\n",
       "       [9.56425965e-02],\n",
       "       [8.44638571e-02],\n",
       "       [7.16899812e-01],\n",
       "       [3.68926711e-02],\n",
       "       [4.39573139e-01],\n",
       "       [3.71424824e-01],\n",
       "       [1.23397317e-02],\n",
       "       [9.61772323e-01],\n",
       "       [9.98957157e-01],\n",
       "       [9.93449271e-01],\n",
       "       [3.53019387e-02],\n",
       "       [3.59997660e-01],\n",
       "       [1.47276670e-01],\n",
       "       [4.35111880e-01],\n",
       "       [8.11417282e-01],\n",
       "       [1.67646348e-01],\n",
       "       [2.02705096e-02],\n",
       "       [6.72705621e-02],\n",
       "       [4.73035574e-02],\n",
       "       [5.53415895e-01],\n",
       "       [1.18442103e-02],\n",
       "       [2.69973278e-01],\n",
       "       [3.74208279e-02],\n",
       "       [4.16335523e-01],\n",
       "       [4.41700965e-01],\n",
       "       [3.40537548e-01],\n",
       "       [1.71293005e-01],\n",
       "       [5.65204136e-02],\n",
       "       [3.71629357e-01],\n",
       "       [7.47540593e-02],\n",
       "       [9.96563137e-01],\n",
       "       [9.07531023e-01],\n",
       "       [4.13338542e-01],\n",
       "       [6.44362390e-01],\n",
       "       [2.06862371e-02],\n",
       "       [4.81815547e-01],\n",
       "       [9.90808666e-01],\n",
       "       [7.15716004e-01],\n",
       "       [1.97762311e-01],\n",
       "       [9.82559860e-01],\n",
       "       [1.78787500e-01],\n",
       "       [9.47973192e-01],\n",
       "       [3.21843207e-01],\n",
       "       [3.04767285e-02],\n",
       "       [5.54553092e-01],\n",
       "       [4.41818684e-01],\n",
       "       [9.96346295e-01],\n",
       "       [1.10344037e-01],\n",
       "       [4.29626293e-02],\n",
       "       [7.68773481e-02],\n",
       "       [1.67646348e-01],\n",
       "       [9.99067605e-01],\n",
       "       [2.59218644e-02],\n",
       "       [5.89006484e-01],\n",
       "       [9.71148431e-01],\n",
       "       [9.94012058e-02],\n",
       "       [9.99727428e-01],\n",
       "       [3.71132642e-02],\n",
       "       [3.27991277e-01],\n",
       "       [6.08658418e-02],\n",
       "       [7.79997647e-01],\n",
       "       [9.25131917e-01],\n",
       "       [6.86628670e-02],\n",
       "       [1.96240284e-03],\n",
       "       [2.42787346e-01],\n",
       "       [9.89688396e-01],\n",
       "       [8.24443519e-01],\n",
       "       [1.11850671e-01],\n",
       "       [4.80927676e-01],\n",
       "       [7.52024591e-01],\n",
       "       [2.43477356e-02],\n",
       "       [9.93154407e-01],\n",
       "       [5.49469113e-01],\n",
       "       [9.98920202e-01],\n",
       "       [9.21643078e-01],\n",
       "       [9.09948796e-02],\n",
       "       [3.86726081e-01],\n",
       "       [1.20366015e-01],\n",
       "       [9.28901970e-01],\n",
       "       [7.64015675e-01],\n",
       "       [3.90548259e-01],\n",
       "       [3.16380598e-02],\n",
       "       [3.18308681e-01],\n",
       "       [5.08959182e-02],\n",
       "       [6.80747628e-02],\n",
       "       [1.31241903e-01],\n",
       "       [3.81124884e-01],\n",
       "       [4.68553454e-01],\n",
       "       [1.47938773e-01],\n",
       "       [9.99123156e-01],\n",
       "       [9.85256493e-01],\n",
       "       [2.92477995e-01],\n",
       "       [7.44331181e-01],\n",
       "       [2.55126983e-01],\n",
       "       [4.77444157e-02],\n",
       "       [2.93100268e-01],\n",
       "       [6.99047744e-01],\n",
       "       [1.00856781e-01],\n",
       "       [2.01954409e-01],\n",
       "       [2.04328615e-02],\n",
       "       [4.68547285e-01],\n",
       "       [1.86050485e-03],\n",
       "       [9.56071854e-01],\n",
       "       [9.77982759e-01],\n",
       "       [9.92955267e-01],\n",
       "       [9.75232780e-01],\n",
       "       [7.98492074e-01],\n",
       "       [1.91716433e-01],\n",
       "       [5.56953922e-02],\n",
       "       [6.81879222e-01],\n",
       "       [9.28162158e-01],\n",
       "       [9.98035729e-01],\n",
       "       [2.89621856e-03],\n",
       "       [1.75635964e-01],\n",
       "       [1.59711301e-01],\n",
       "       [9.98995125e-01],\n",
       "       [9.99303818e-01],\n",
       "       [2.44917944e-01],\n",
       "       [1.29110768e-01],\n",
       "       [9.96440351e-01],\n",
       "       [4.74876836e-02],\n",
       "       [3.21916908e-01],\n",
       "       [9.85749066e-01],\n",
       "       [1.12787992e-01],\n",
       "       [4.26976047e-02],\n",
       "       [9.29263532e-01],\n",
       "       [3.45477819e-01],\n",
       "       [3.82048517e-01],\n",
       "       [9.66752589e-01],\n",
       "       [2.27520298e-02],\n",
       "       [5.76589070e-02],\n",
       "       [9.31524765e-03],\n",
       "       [1.79582871e-02],\n",
       "       [1.06152415e-01],\n",
       "       [9.74751472e-01],\n",
       "       [2.14289855e-02],\n",
       "       [4.25569147e-01],\n",
       "       [4.63763565e-01],\n",
       "       [6.28509223e-02],\n",
       "       [2.46124089e-01],\n",
       "       [8.01716745e-02],\n",
       "       [3.67638558e-01],\n",
       "       [9.97837842e-01],\n",
       "       [6.11301780e-01],\n",
       "       [1.23611972e-01],\n",
       "       [1.33719668e-01],\n",
       "       [1.45534530e-01],\n",
       "       [6.97265491e-02],\n",
       "       [6.82206571e-01],\n",
       "       [2.34625097e-02],\n",
       "       [8.90283585e-01],\n",
       "       [7.85047054e-01],\n",
       "       [5.90979934e-01],\n",
       "       [6.41034067e-01],\n",
       "       [7.88515627e-01],\n",
       "       [8.18053186e-02],\n",
       "       [2.68553704e-01],\n",
       "       [4.19841856e-01],\n",
       "       [9.08870280e-01],\n",
       "       [2.69718707e-01],\n",
       "       [2.06023470e-01],\n",
       "       [3.79073054e-01],\n",
       "       [1.52223092e-02],\n",
       "       [1.12604216e-01],\n",
       "       [3.48685235e-01],\n",
       "       [7.83762336e-01],\n",
       "       [1.06654242e-01],\n",
       "       [9.92206037e-01],\n",
       "       [8.89989913e-01],\n",
       "       [7.32427657e-01],\n",
       "       [9.85839427e-01],\n",
       "       [1.22744448e-01],\n",
       "       [6.41708598e-02],\n",
       "       [8.84530067e-01],\n",
       "       [2.03360274e-01],\n",
       "       [1.87007729e-02],\n",
       "       [6.32483289e-02],\n",
       "       [1.40248895e-01],\n",
       "       [1.42337393e-03],\n",
       "       [8.46309662e-01],\n",
       "       [7.75652468e-01],\n",
       "       [8.26870263e-01],\n",
       "       [9.36680079e-01],\n",
       "       [1.00050643e-01],\n",
       "       [1.24432959e-01],\n",
       "       [6.90373242e-01],\n",
       "       [1.51768858e-02],\n",
       "       [2.78251439e-01],\n",
       "       [1.35074347e-01],\n",
       "       [5.66325009e-01],\n",
       "       [5.61718583e-01],\n",
       "       [6.37443438e-02],\n",
       "       [7.17946813e-02],\n",
       "       [4.70523298e-01],\n",
       "       [1.09316640e-01],\n",
       "       [1.09116361e-01],\n",
       "       [1.86966151e-01],\n",
       "       [2.52274275e-01],\n",
       "       [9.98530746e-01],\n",
       "       [9.80557680e-01],\n",
       "       [3.79217774e-01],\n",
       "       [8.45879495e-01],\n",
       "       [9.91063952e-01],\n",
       "       [1.57614599e-03],\n",
       "       [9.66068566e-01],\n",
       "       [2.07865164e-01],\n",
       "       [4.71447676e-01],\n",
       "       [2.30077624e-01],\n",
       "       [1.03850894e-01],\n",
       "       [1.26521468e-01],\n",
       "       [2.10597534e-02],\n",
       "       [9.35849696e-02],\n",
       "       [6.75389469e-02],\n",
       "       [7.22184122e-01],\n",
       "       [2.44517475e-01],\n",
       "       [9.92341161e-01],\n",
       "       [4.17003222e-02],\n",
       "       [7.14007139e-01],\n",
       "       [6.04439974e-01],\n",
       "       [2.06839424e-02],\n",
       "       [6.06361851e-02],\n",
       "       [9.71876502e-01],\n",
       "       [7.15363562e-01],\n",
       "       [9.54374254e-01],\n",
       "       [1.46055967e-01],\n",
       "       [8.64990279e-02],\n",
       "       [4.59023684e-01],\n",
       "       [3.47609580e-01],\n",
       "       [2.71774650e-01],\n",
       "       [9.91063952e-01],\n",
       "       [1.15266992e-02],\n",
       "       [4.30261120e-02],\n",
       "       [1.16002828e-01],\n",
       "       [9.96388674e-01],\n",
       "       [2.16268510e-01],\n",
       "       [5.82148060e-02],\n",
       "       [8.22769582e-01],\n",
       "       [5.98326810e-02],\n",
       "       [3.29817832e-02],\n",
       "       [1.56678110e-01],\n",
       "       [2.06569552e-01],\n",
       "       [1.15433276e-01],\n",
       "       [3.65368575e-01],\n",
       "       [3.76354247e-01],\n",
       "       [1.91678554e-01],\n",
       "       [8.67181271e-02],\n",
       "       [3.37222666e-01],\n",
       "       [1.65105052e-02],\n",
       "       [9.44220722e-01],\n",
       "       [8.37428808e-01],\n",
       "       [4.39660072e-01],\n",
       "       [4.18153554e-02],\n",
       "       [2.06602626e-02],\n",
       "       [9.86465394e-01],\n",
       "       [7.12403893e-01],\n",
       "       [9.99535918e-01],\n",
       "       [2.53902733e-01],\n",
       "       [8.82789671e-01],\n",
       "       [1.00564763e-01],\n",
       "       [5.76328993e-01],\n",
       "       [6.90612137e-01],\n",
       "       [2.10673679e-02],\n",
       "       [9.78736639e-01],\n",
       "       [8.78432244e-02],\n",
       "       [5.43496788e-01],\n",
       "       [9.98359263e-01],\n",
       "       [1.60541132e-01],\n",
       "       [3.64719592e-02],\n",
       "       [2.85660803e-01],\n",
       "       [1.03336629e-02],\n",
       "       [4.59211767e-01],\n",
       "       [9.99826491e-01],\n",
       "       [2.17123091e-01],\n",
       "       [9.41646516e-01],\n",
       "       [2.18218610e-01],\n",
       "       [7.52839386e-01],\n",
       "       [2.14610845e-01],\n",
       "       [2.54700303e-01],\n",
       "       [1.67469885e-02],\n",
       "       [6.36742473e-01],\n",
       "       [1.52138835e-02],\n",
       "       [1.86376929e-01],\n",
       "       [9.51715708e-01],\n",
       "       [9.45988178e-01],\n",
       "       [9.94976640e-01],\n",
       "       [7.56458640e-01],\n",
       "       [4.41198945e-02],\n",
       "       [2.93659776e-01],\n",
       "       [1.13467369e-02],\n",
       "       [4.46079373e-01],\n",
       "       [4.01881218e-01],\n",
       "       [8.71522248e-01],\n",
       "       [3.54260504e-02],\n",
       "       [7.47646153e-01],\n",
       "       [8.36776614e-01],\n",
       "       [2.71669835e-01],\n",
       "       [1.81530476e-01],\n",
       "       [2.06023470e-01],\n",
       "       [1.96821988e-01],\n",
       "       [3.69715482e-01],\n",
       "       [6.56934440e-01],\n",
       "       [9.98630524e-01],\n",
       "       [5.73830828e-02],\n",
       "       [7.78629864e-03],\n",
       "       [1.92025807e-02],\n",
       "       [2.11529195e-01],\n",
       "       [2.14842021e-01],\n",
       "       [2.30832081e-02],\n",
       "       [7.93566108e-01],\n",
       "       [1.02876954e-01],\n",
       "       [2.10747436e-01],\n",
       "       [2.09637597e-01],\n",
       "       [2.11129636e-01],\n",
       "       [9.29695070e-01],\n",
       "       [1.64999917e-01],\n",
       "       [5.29205203e-01],\n",
       "       [3.17402482e-01],\n",
       "       [1.40424268e-02],\n",
       "       [1.29384816e-01],\n",
       "       [9.99703109e-01],\n",
       "       [7.79236436e-01],\n",
       "       [4.16712649e-03],\n",
       "       [3.30922693e-01],\n",
       "       [1.28576756e-01],\n",
       "       [8.01376253e-02],\n",
       "       [8.72102916e-01],\n",
       "       [5.34893095e-01],\n",
       "       [6.33790672e-01],\n",
       "       [3.79821718e-01],\n",
       "       [2.10634455e-01],\n",
       "       [6.63763642e-01],\n",
       "       [1.41168237e-01],\n",
       "       [5.38186505e-02],\n",
       "       [9.17926371e-01],\n",
       "       [1.56024098e-01],\n",
       "       [3.70761096e-01],\n",
       "       [9.78959739e-01],\n",
       "       [3.23595077e-01],\n",
       "       [3.50993186e-01],\n",
       "       [1.42337393e-03],\n",
       "       [2.49405250e-01],\n",
       "       [8.40380013e-01],\n",
       "       [9.99727428e-01],\n",
       "       [7.01111674e-01],\n",
       "       [4.65027653e-02],\n",
       "       [9.89003837e-01],\n",
       "       [4.18285549e-01],\n",
       "       [8.61516178e-01],\n",
       "       [4.18285549e-01],\n",
       "       [9.91790771e-01],\n",
       "       [1.31578445e-02],\n",
       "       [4.32291865e-01],\n",
       "       [8.51400420e-02],\n",
       "       [9.76908505e-01],\n",
       "       [2.44194716e-01],\n",
       "       [4.92240429e-01],\n",
       "       [6.52976632e-02],\n",
       "       [3.30912799e-01],\n",
       "       [1.11914828e-01],\n",
       "       [2.08152160e-02],\n",
       "       [2.26988524e-01],\n",
       "       [5.26013635e-02],\n",
       "       [8.78892243e-02],\n",
       "       [8.49324048e-01],\n",
       "       [2.30917465e-02],\n",
       "       [9.18281451e-02],\n",
       "       [3.75169888e-02],\n",
       "       [1.72936600e-02],\n",
       "       [1.17277108e-01],\n",
       "       [6.35512352e-01],\n",
       "       [6.93302751e-02],\n",
       "       [6.45404458e-01],\n",
       "       [1.19886965e-01],\n",
       "       [2.39727005e-01],\n",
       "       [8.63333344e-01],\n",
       "       [1.81938812e-01],\n",
       "       [5.44980317e-02],\n",
       "       [6.09905906e-02],\n",
       "       [7.02870451e-03],\n",
       "       [9.86741483e-01],\n",
       "       [1.72936600e-02],\n",
       "       [3.51889074e-01],\n",
       "       [9.93009448e-01],\n",
       "       [9.93108988e-01],\n",
       "       [9.97467160e-01],\n",
       "       [9.99892116e-01],\n",
       "       [9.99458015e-01],\n",
       "       [2.14950651e-01],\n",
       "       [6.61102682e-02],\n",
       "       [2.36978427e-01],\n",
       "       [5.37455857e-01],\n",
       "       [9.96442497e-01],\n",
       "       [5.19306540e-01],\n",
       "       [2.62514561e-01],\n",
       "       [5.27685821e-01],\n",
       "       [7.21212506e-01],\n",
       "       [3.17239687e-02],\n",
       "       [4.56563663e-03],\n",
       "       [9.46746618e-02],\n",
       "       [3.84969682e-01],\n",
       "       [1.00014964e-02],\n",
       "       [5.75366504e-02],\n",
       "       [3.96536261e-01],\n",
       "       [9.89661098e-01],\n",
       "       [2.37146672e-02],\n",
       "       [9.05279994e-01],\n",
       "       [7.20032394e-01],\n",
       "       [6.84727132e-02],\n",
       "       [2.71262705e-01],\n",
       "       [1.29592776e-01],\n",
       "       [7.21731663e-01],\n",
       "       [4.43012476e-01],\n",
       "       [1.02402326e-02]], dtype=float32)"
      ]
     },
     "execution_count": 37,
     "metadata": {},
     "output_type": "execute_result"
    }
   ],
   "source": [
    "model_1_pred_probs = model_1.predict(val_sentences)\n",
    "model_1_pred_probs"
   ]
  },
  {
   "cell_type": "code",
   "execution_count": 38,
   "id": "91078c85",
   "metadata": {},
   "outputs": [
    {
     "data": {
      "text/plain": [
       "(762, 1)"
      ]
     },
     "execution_count": 38,
     "metadata": {},
     "output_type": "execute_result"
    }
   ],
   "source": [
    "model_1_pred_probs.shape"
   ]
  },
  {
   "cell_type": "code",
   "execution_count": 39,
   "id": "d66d6941",
   "metadata": {
    "scrolled": true
   },
   "outputs": [
    {
     "data": {
      "text/plain": [
       "<tf.Tensor: shape=(762,), dtype=float32, numpy=\n",
       "array([0., 1., 1., 0., 0., 1., 1., 1., 1., 0., 0., 1., 0., 0., 0., 0., 0.,\n",
       "       0., 0., 1., 1., 0., 0., 0., 1., 1., 0., 0., 0., 0., 1., 0., 1., 0.,\n",
       "       1., 0., 1., 0., 0., 1., 0., 0., 0., 0., 1., 1., 0., 1., 0., 1., 0.,\n",
       "       1., 0., 0., 0., 0., 0., 1., 0., 0., 0., 1., 1., 0., 1., 1., 1., 0.,\n",
       "       0., 0., 0., 0., 1., 0., 0., 0., 0., 1., 0., 1., 0., 0., 1., 0., 0.,\n",
       "       0., 0., 0., 1., 1., 1., 0., 1., 0., 1., 1., 1., 1., 1., 1., 1., 0.,\n",
       "       0., 1., 1., 0., 1., 1., 0., 0., 1., 0., 0., 0., 0., 0., 1., 1., 1.,\n",
       "       0., 1., 0., 0., 1., 1., 0., 1., 0., 0., 1., 0., 1., 1., 1., 1., 0.,\n",
       "       1., 0., 0., 0., 1., 0., 0., 1., 0., 1., 0., 0., 0., 1., 0., 0., 0.,\n",
       "       0., 0., 1., 1., 0., 1., 0., 1., 0., 0., 1., 0., 0., 1., 0., 1., 0.,\n",
       "       1., 1., 1., 0., 1., 0., 0., 0., 1., 1., 0., 1., 1., 1., 1., 0., 0.,\n",
       "       1., 0., 0., 0., 1., 0., 0., 0., 0., 0., 0., 1., 0., 0., 1., 1., 0.,\n",
       "       0., 1., 1., 1., 1., 1., 0., 1., 0., 0., 0., 0., 1., 1., 1., 0., 1.,\n",
       "       0., 0., 0., 1., 0., 1., 1., 1., 1., 0., 0., 1., 0., 0., 0., 1., 0.,\n",
       "       0., 0., 0., 0., 1., 1., 0., 0., 1., 0., 0., 0., 0., 1., 0., 0., 1.,\n",
       "       0., 1., 1., 0., 0., 0., 0., 0., 1., 1., 1., 1., 0., 0., 0., 0., 0.,\n",
       "       1., 0., 0., 1., 0., 0., 1., 0., 0., 0., 1., 1., 1., 1., 1., 0., 1.,\n",
       "       0., 1., 0., 0., 0., 0., 1., 0., 1., 0., 1., 0., 0., 0., 1., 0., 0.,\n",
       "       0., 0., 0., 0., 0., 1., 0., 0., 1., 0., 1., 0., 0., 0., 0., 0., 1.,\n",
       "       0., 1., 0., 0., 1., 0., 1., 0., 0., 1., 0., 0., 1., 0., 0., 1., 1.,\n",
       "       0., 0., 1., 1., 1., 0., 1., 0., 0., 0., 0., 1., 0., 0., 0., 0., 1.,\n",
       "       1., 1., 0., 0., 0., 0., 1., 0., 0., 0., 0., 1., 0., 0., 0., 0., 0.,\n",
       "       0., 0., 0., 0., 0., 1., 1., 0., 1., 0., 0., 1., 1., 0., 1., 0., 1.,\n",
       "       0., 0., 1., 0., 1., 0., 0., 0., 0., 1., 0., 1., 1., 0., 1., 0., 0.,\n",
       "       0., 1., 1., 0., 0., 0., 1., 1., 0., 0., 1., 0., 1., 1., 1., 1., 0.,\n",
       "       0., 0., 1., 1., 0., 0., 0., 0., 0., 0., 0., 0., 0., 1., 1., 0., 1.,\n",
       "       0., 0., 0., 1., 0., 0., 0., 0., 0., 1., 1., 1., 1., 1., 0., 0., 1.,\n",
       "       1., 1., 0., 0., 0., 1., 1., 0., 0., 1., 0., 0., 1., 0., 0., 1., 0.,\n",
       "       0., 1., 0., 0., 0., 0., 0., 1., 0., 0., 0., 0., 0., 0., 0., 1., 1.,\n",
       "       0., 0., 0., 0., 1., 0., 1., 1., 1., 1., 1., 0., 0., 0., 1., 0., 0.,\n",
       "       0., 0., 0., 0., 1., 0., 1., 1., 1., 1., 0., 0., 1., 0., 0., 0., 0.,\n",
       "       0., 1., 1., 1., 1., 0., 0., 1., 0., 0., 0., 1., 1., 0., 0., 0., 0.,\n",
       "       0., 0., 0., 1., 1., 0., 1., 1., 0., 1., 0., 0., 0., 0., 0., 0., 0.,\n",
       "       0., 1., 0., 1., 0., 1., 1., 0., 0., 1., 1., 1., 0., 0., 0., 0., 0.,\n",
       "       1., 0., 0., 0., 1., 0., 0., 1., 0., 0., 0., 0., 0., 0., 0., 0., 0.,\n",
       "       0., 0., 1., 1., 0., 0., 0., 1., 1., 1., 0., 1., 0., 1., 1., 0., 1.,\n",
       "       0., 1., 1., 0., 0., 0., 0., 0., 1., 0., 1., 0., 1., 0., 0., 0., 1.,\n",
       "       0., 0., 1., 1., 1., 1., 0., 0., 0., 0., 0., 1., 0., 1., 1., 0., 0.,\n",
       "       0., 0., 0., 1., 1., 0., 0., 0., 0., 0., 0., 1., 0., 0., 0., 0., 1.,\n",
       "       0., 1., 0., 0., 0., 1., 1., 0., 0., 0., 0., 1., 1., 1., 0., 0., 1.,\n",
       "       0., 0., 1., 0., 0., 1., 0., 0., 0., 0., 1., 1., 1., 0., 1., 0., 1.,\n",
       "       0., 1., 0., 0., 0., 1., 0., 0., 0., 0., 0., 0., 0., 0., 0., 1., 0.,\n",
       "       0., 0., 0., 0., 1., 0., 1., 0., 0., 1., 0., 0., 0., 0., 1., 0., 0.,\n",
       "       1., 1., 1., 1., 1., 0., 0., 0., 1., 1., 1., 0., 1., 1., 0., 0., 0.,\n",
       "       0., 0., 0., 0., 1., 0., 1., 1., 0., 0., 0., 1., 0., 0.],\n",
       "      dtype=float32)>"
      ]
     },
     "execution_count": 39,
     "metadata": {},
     "output_type": "execute_result"
    }
   ],
   "source": [
    "model_1_preds = tf.squeeze(tf.round(model_1_pred_probs))\n",
    "model_1_preds"
   ]
  },
  {
   "cell_type": "code",
   "execution_count": 40,
   "id": "b8334307",
   "metadata": {},
   "outputs": [
    {
     "data": {
      "text/plain": [
       "{'accuracy': 78.74015748031496,\n",
       " 'precision': 0.7914920592553047,\n",
       " 'recall': 0.7874015748031497,\n",
       " 'f1': 0.7846966492209201}"
      ]
     },
     "execution_count": 40,
     "metadata": {},
     "output_type": "execute_result"
    }
   ],
   "source": [
    "model_1_results = calculate_results(y_true=val_labels, y_pred=model_1_preds)\n",
    "model_1_results"
   ]
  },
  {
   "cell_type": "code",
   "execution_count": 41,
   "id": "e80713bd",
   "metadata": {},
   "outputs": [
    {
     "data": {
      "text/plain": [
       "array([False, False, False, False])"
      ]
     },
     "execution_count": 41,
     "metadata": {},
     "output_type": "execute_result"
    }
   ],
   "source": [
    "import numpy as np\n",
    "np.array(list(model_1_results.values())) > np.array(list(baseline_results.values()))"
   ]
  },
  {
   "cell_type": "code",
   "execution_count": 42,
   "id": "9ccfedf1",
   "metadata": {},
   "outputs": [],
   "source": [
    "def compare_baseline_to_new_results(baseline_results, new_model_results):\n",
    "    for key, value in baseline_results.items():\n",
    "        print(f\"Baseline {key}: {value:.2f}, New {key}: {new_model_results[key]:.2f}, Difference: {new_model_results[key]-value:.2f}\")"
   ]
  },
  {
   "cell_type": "code",
   "execution_count": 43,
   "id": "265d8e65",
   "metadata": {},
   "outputs": [
    {
     "name": "stdout",
     "output_type": "stream",
     "text": [
      "Baseline accuracy: 79.27, New accuracy: 78.74, Difference: -0.52\n",
      "Baseline precision: 0.81, New precision: 0.79, Difference: -0.02\n",
      "Baseline recall: 0.79, New recall: 0.79, Difference: -0.01\n",
      "Baseline f1: 0.79, New f1: 0.78, Difference: -0.00\n"
     ]
    }
   ],
   "source": [
    "compare_baseline_to_new_results(baseline_results=baseline_results, new_model_results=model_1_results)"
   ]
  },
  {
   "cell_type": "code",
   "execution_count": 44,
   "id": "318765cf",
   "metadata": {},
   "outputs": [
    {
     "data": {
      "text/plain": [
       "(10000, ['', '[UNK]', 'the', 'a', 'in', 'to', 'of', 'and', 'i', 'is'])"
      ]
     },
     "execution_count": 44,
     "metadata": {},
     "output_type": "execute_result"
    }
   ],
   "source": [
    "words_in_vocab = text_vectorizer.get_vocabulary()\n",
    "len(words_in_vocab), words_in_vocab[:10]"
   ]
  },
  {
   "cell_type": "code",
   "execution_count": 45,
   "id": "7e8770a5",
   "metadata": {},
   "outputs": [
    {
     "name": "stdout",
     "output_type": "stream",
     "text": [
      "Model: \"model_1_dense\"\n",
      "_________________________________________________________________\n",
      " Layer (type)                Output Shape              Param #   \n",
      "=================================================================\n",
      " input_1 (InputLayer)        [(None, 1)]               0         \n",
      "                                                                 \n",
      " text_vectorization_1 (TextV  (None, 15)               0         \n",
      " ectorization)                                                   \n",
      "                                                                 \n",
      " embedding_1 (Embedding)     (None, 15, 128)           1280000   \n",
      "                                                                 \n",
      " global_average_pooling1d (G  (None, 128)              0         \n",
      " lobalAveragePooling1D)                                          \n",
      "                                                                 \n",
      " dense (Dense)               (None, 1)                 129       \n",
      "                                                                 \n",
      "=================================================================\n",
      "Total params: 1,280,129\n",
      "Trainable params: 1,280,129\n",
      "Non-trainable params: 0\n",
      "_________________________________________________________________\n"
     ]
    }
   ],
   "source": [
    "model_1.summary()"
   ]
  },
  {
   "cell_type": "code",
   "execution_count": 46,
   "id": "9dcdbc04",
   "metadata": {},
   "outputs": [
    {
     "name": "stdout",
     "output_type": "stream",
     "text": [
      "(10000, 128)\n"
     ]
    }
   ],
   "source": [
    "embed_weights = model_1.get_layer(\"embedding_1\").get_weights()[0]\n",
    "print(embed_weights.shape)"
   ]
  },
  {
   "cell_type": "code",
   "execution_count": 47,
   "id": "e458dbe3",
   "metadata": {},
   "outputs": [
    {
     "data": {
      "text/plain": [
       "array([[ 0.00073165,  0.01504799, -0.03425454, ..., -0.04403539,\n",
       "        -0.01042282,  0.0187644 ],\n",
       "       [ 0.04135863, -0.03945084, -0.03811941, ...,  0.00464736,\n",
       "         0.03163552,  0.02928299],\n",
       "       [ 0.00684032,  0.05363132, -0.00241555, ..., -0.07082179,\n",
       "        -0.04750703,  0.01448253],\n",
       "       ...,\n",
       "       [-0.03301444, -0.0052493 , -0.04209725, ...,  0.02028764,\n",
       "         0.00308807,  0.02215792],\n",
       "       [ 0.00692343,  0.05942352, -0.01975194, ..., -0.06199061,\n",
       "        -0.01018393,  0.03510419],\n",
       "       [-0.0372346 ,  0.06267188, -0.07451148, ..., -0.02367218,\n",
       "        -0.08643329,  0.01742155]], dtype=float32)"
      ]
     },
     "execution_count": 47,
     "metadata": {},
     "output_type": "execute_result"
    }
   ],
   "source": [
    "embed_weights"
   ]
  },
  {
   "cell_type": "code",
   "execution_count": 48,
   "id": "cfb7f06a",
   "metadata": {},
   "outputs": [],
   "source": [
    "import io\n",
    "\n",
    "out_v = io.open(\"embedding_vectors.tsv\", \"w\", encoding=\"utf-8\")\n",
    "out_m = io.open(\"embedding_metadata.tsv\", \"w\", encoding=\"utf-8\")\n",
    "\n",
    "for num, word in enumerate(words_in_vocab):\n",
    "    if num == 0: \n",
    "        continue\n",
    "    vec = embed_weights[num]\n",
    "    out_m.write(word + \"\\n\")\n",
    "    out_v.write(\"\\t\".join([str(x) for x in vec]) + \"\\n\")\n",
    "out_v.close()\n",
    "out_m.close()"
   ]
  },
  {
   "cell_type": "code",
   "execution_count": null,
   "id": "09a969d7",
   "metadata": {},
   "outputs": [],
   "source": []
  },
  {
   "cell_type": "code",
   "execution_count": 49,
   "id": "bde2a42d",
   "metadata": {},
   "outputs": [],
   "source": [
    "from tensorflow.keras import layers\n",
    "inputs = layers.Input(shape=(1,), dtype='string')\n",
    "x = text_vectorizer(inputs)\n",
    "x = embedding(x)\n",
    "x = layers.LSTM(64, return_sequences=True)(x)\n",
    "x = layers.LSTM(64)(x)\n",
    "x = layers.Dense(64, activation='relu')(x)\n",
    "outputs = layers.Dense(1, activation='sigmoid')(x)\n",
    "model_2 = tf.keras.Model(inputs, outputs, name = 'model_2_lstm')"
   ]
  },
  {
   "cell_type": "code",
   "execution_count": 50,
   "id": "a3b3175a",
   "metadata": {},
   "outputs": [],
   "source": [
    "model_2.compile(loss=\"binary_crossentropy\",\n",
    "                optimizer=tf.keras.optimizers.Adam(),\n",
    "                metrics=[\"accuracy\"])"
   ]
  },
  {
   "cell_type": "code",
   "execution_count": 51,
   "id": "08047566",
   "metadata": {},
   "outputs": [
    {
     "name": "stdout",
     "output_type": "stream",
     "text": [
      "Model: \"model_2_lstm\"\n",
      "_________________________________________________________________\n",
      " Layer (type)                Output Shape              Param #   \n",
      "=================================================================\n",
      " input_2 (InputLayer)        [(None, 1)]               0         \n",
      "                                                                 \n",
      " text_vectorization_1 (TextV  (None, 15)               0         \n",
      " ectorization)                                                   \n",
      "                                                                 \n",
      " embedding_1 (Embedding)     (None, 15, 128)           1280000   \n",
      "                                                                 \n",
      " lstm (LSTM)                 (None, 15, 64)            49408     \n",
      "                                                                 \n",
      " lstm_1 (LSTM)               (None, 64)                33024     \n",
      "                                                                 \n",
      " dense_1 (Dense)             (None, 64)                4160      \n",
      "                                                                 \n",
      " dense_2 (Dense)             (None, 1)                 65        \n",
      "                                                                 \n",
      "=================================================================\n",
      "Total params: 1,366,657\n",
      "Trainable params: 1,366,657\n",
      "Non-trainable params: 0\n",
      "_________________________________________________________________\n"
     ]
    }
   ],
   "source": [
    "model_2.summary()"
   ]
  },
  {
   "cell_type": "code",
   "execution_count": 52,
   "id": "d17b4ed6",
   "metadata": {},
   "outputs": [
    {
     "name": "stdout",
     "output_type": "stream",
     "text": [
      "Saving TensorBoard log files to: model_logs/LSTM/20230926-125441\n",
      "Epoch 1/5\n",
      "215/215 [==============================] - 12s 20ms/step - loss: 0.2189 - accuracy: 0.9250 - val_loss: 0.5444 - val_accuracy: 0.7795\n",
      "Epoch 2/5\n",
      "215/215 [==============================] - 4s 16ms/step - loss: 0.1634 - accuracy: 0.9412 - val_loss: 0.6071 - val_accuracy: 0.7795\n",
      "Epoch 3/5\n",
      "215/215 [==============================] - 3s 15ms/step - loss: 0.1282 - accuracy: 0.9520 - val_loss: 0.7574 - val_accuracy: 0.7808\n",
      "Epoch 4/5\n",
      "215/215 [==============================] - 3s 15ms/step - loss: 0.1076 - accuracy: 0.9584 - val_loss: 0.9243 - val_accuracy: 0.7848\n",
      "Epoch 5/5\n",
      "215/215 [==============================] - 3s 15ms/step - loss: 0.0815 - accuracy: 0.9635 - val_loss: 0.9809 - val_accuracy: 0.7808\n"
     ]
    }
   ],
   "source": [
    "model_2_history = model_2.fit(train_sentences,\n",
    "                              train_labels,\n",
    "                              epochs=5,\n",
    "                              validation_data=(val_sentences, val_labels),\n",
    "                              callbacks=[create_tensorboard_callback(SAVE_DIR, \n",
    "                                                                     \"LSTM\")])"
   ]
  },
  {
   "cell_type": "code",
   "execution_count": 53,
   "id": "059052b9",
   "metadata": {},
   "outputs": [
    {
     "name": "stdout",
     "output_type": "stream",
     "text": [
      "24/24 [==============================] - 1s 6ms/step\n"
     ]
    },
    {
     "data": {
      "text/plain": [
       "((762, 1),\n",
       " array([[2.3730553e-03],\n",
       "        [5.7842940e-01],\n",
       "        [9.9988604e-01],\n",
       "        [5.8599379e-02],\n",
       "        [2.6671838e-05],\n",
       "        [9.9545348e-01],\n",
       "        [9.3895918e-01],\n",
       "        [9.9989414e-01],\n",
       "        [9.9978155e-01],\n",
       "        [3.9918759e-01]], dtype=float32))"
      ]
     },
     "execution_count": 53,
     "metadata": {},
     "output_type": "execute_result"
    }
   ],
   "source": [
    "model_2_pred_probs = model_2.predict(val_sentences)\n",
    "model_2_pred_probs.shape, model_2_pred_probs[:10]"
   ]
  },
  {
   "cell_type": "code",
   "execution_count": 54,
   "id": "dc01733c",
   "metadata": {},
   "outputs": [
    {
     "data": {
      "text/plain": [
       "<tf.Tensor: shape=(10,), dtype=float32, numpy=array([0., 1., 1., 0., 0., 1., 1., 1., 1., 0.], dtype=float32)>"
      ]
     },
     "execution_count": 54,
     "metadata": {},
     "output_type": "execute_result"
    }
   ],
   "source": [
    "model_2_preds = tf.squeeze(tf.round(model_2_pred_probs))\n",
    "model_2_preds[:10]"
   ]
  },
  {
   "cell_type": "code",
   "execution_count": 55,
   "id": "927beb3b",
   "metadata": {},
   "outputs": [
    {
     "data": {
      "text/plain": [
       "{'accuracy': 78.08398950131233,\n",
       " 'precision': 0.7856875884556138,\n",
       " 'recall': 0.7808398950131233,\n",
       " 'f1': 0.777681907957685}"
      ]
     },
     "execution_count": 55,
     "metadata": {},
     "output_type": "execute_result"
    }
   ],
   "source": [
    "model_2_results = calculate_results(y_true=val_labels,\n",
    "                                    y_pred=model_2_preds)\n",
    "model_2_results"
   ]
  },
  {
   "cell_type": "code",
   "execution_count": 56,
   "id": "efb85712",
   "metadata": {},
   "outputs": [
    {
     "name": "stdout",
     "output_type": "stream",
     "text": [
      "Baseline accuracy: 79.27, New accuracy: 78.08, Difference: -1.18\n",
      "Baseline precision: 0.81, New precision: 0.79, Difference: -0.03\n",
      "Baseline recall: 0.79, New recall: 0.78, Difference: -0.01\n",
      "Baseline f1: 0.79, New f1: 0.78, Difference: -0.01\n"
     ]
    }
   ],
   "source": [
    "compare_baseline_to_new_results(baseline_results, model_2_results)"
   ]
  },
  {
   "cell_type": "code",
   "execution_count": null,
   "id": "a93f6904",
   "metadata": {},
   "outputs": [],
   "source": []
  },
  {
   "cell_type": "code",
   "execution_count": 57,
   "id": "798e2439",
   "metadata": {},
   "outputs": [
    {
     "name": "stdout",
     "output_type": "stream",
     "text": [
      "(None, 15, 128)\n",
      "(None, 15, 64)\n",
      "(None, 15, 42)\n",
      "(None, 99)\n"
     ]
    }
   ],
   "source": [
    "from tensorflow.keras import layers\n",
    "\n",
    "inputs = layers.Input(shape=(1,), dtype=\"string\")\n",
    "x = text_vectorizer(inputs)\n",
    "x = embedding(x)\n",
    "print(x.shape)\n",
    "x = layers.GRU(64, return_sequences=True)(x)\n",
    "print(x.shape)\n",
    "x = layers.LSTM(42, return_sequences=True)(x)\n",
    "print(x.shape)\n",
    "x = layers.GRU(99)(x)\n",
    "print(x.shape)\n",
    "x = layers.Dense(64, activation='relu')(x)\n",
    "outputs = layers.Dense(1, activation='sigmoid')(x)\n",
    "model_3 = tf.keras.Model(inputs, outputs, name='model_3_GRU')"
   ]
  },
  {
   "cell_type": "code",
   "execution_count": 58,
   "id": "b51d7f5d",
   "metadata": {},
   "outputs": [],
   "source": [
    "model_3.compile(loss=\"binary_crossentropy\",\n",
    "                optimizer=tf.keras.optimizers.Adam(),\n",
    "                metrics=[\"accuracy\"])"
   ]
  },
  {
   "cell_type": "code",
   "execution_count": 59,
   "id": "dd6c2287",
   "metadata": {},
   "outputs": [
    {
     "name": "stdout",
     "output_type": "stream",
     "text": [
      "Model: \"model_3_GRU\"\n",
      "_________________________________________________________________\n",
      " Layer (type)                Output Shape              Param #   \n",
      "=================================================================\n",
      " input_3 (InputLayer)        [(None, 1)]               0         \n",
      "                                                                 \n",
      " text_vectorization_1 (TextV  (None, 15)               0         \n",
      " ectorization)                                                   \n",
      "                                                                 \n",
      " embedding_1 (Embedding)     (None, 15, 128)           1280000   \n",
      "                                                                 \n",
      " gru (GRU)                   (None, 15, 64)            37248     \n",
      "                                                                 \n",
      " lstm_2 (LSTM)               (None, 15, 42)            17976     \n",
      "                                                                 \n",
      " gru_1 (GRU)                 (None, 99)                42471     \n",
      "                                                                 \n",
      " dense_3 (Dense)             (None, 64)                6400      \n",
      "                                                                 \n",
      " dense_4 (Dense)             (None, 1)                 65        \n",
      "                                                                 \n",
      "=================================================================\n",
      "Total params: 1,384,160\n",
      "Trainable params: 1,384,160\n",
      "Non-trainable params: 0\n",
      "_________________________________________________________________\n"
     ]
    }
   ],
   "source": [
    "model_3.summary()"
   ]
  },
  {
   "cell_type": "code",
   "execution_count": 60,
   "id": "b7e83254",
   "metadata": {},
   "outputs": [
    {
     "name": "stdout",
     "output_type": "stream",
     "text": [
      "Saving TensorBoard log files to: model_logs/GRU/20230926-125508\n",
      "Epoch 1/5\n",
      "215/215 [==============================] - 12s 25ms/step - loss: 0.1455 - accuracy: 0.9543 - val_loss: 0.6828 - val_accuracy: 0.7808\n",
      "Epoch 2/5\n",
      "215/215 [==============================] - 4s 19ms/step - loss: 0.0810 - accuracy: 0.9677 - val_loss: 0.9068 - val_accuracy: 0.7756\n",
      "Epoch 3/5\n",
      "215/215 [==============================] - 4s 18ms/step - loss: 0.0620 - accuracy: 0.9733 - val_loss: 1.3665 - val_accuracy: 0.7795\n",
      "Epoch 4/5\n",
      "215/215 [==============================] - 4s 19ms/step - loss: 0.0563 - accuracy: 0.9736 - val_loss: 1.2454 - val_accuracy: 0.7782\n",
      "Epoch 5/5\n",
      "215/215 [==============================] - 4s 20ms/step - loss: 0.0498 - accuracy: 0.9762 - val_loss: 1.3617 - val_accuracy: 0.7651\n"
     ]
    }
   ],
   "source": [
    "model_3_history = model_3.fit(train_sentences,\n",
    "                              train_labels,\n",
    "                              epochs=5,\n",
    "                              validation_data=(val_sentences, val_labels),\n",
    "                              callbacks=[create_tensorboard_callback(SAVE_DIR, \"GRU\")])"
   ]
  },
  {
   "cell_type": "code",
   "execution_count": 61,
   "id": "4faf6597",
   "metadata": {},
   "outputs": [
    {
     "name": "stdout",
     "output_type": "stream",
     "text": [
      "24/24 [==============================] - 1s 8ms/step\n"
     ]
    },
    {
     "data": {
      "text/plain": [
       "((762, 1),\n",
       " array([[4.4146623e-02],\n",
       "        [4.4326672e-01],\n",
       "        [9.9999726e-01],\n",
       "        [1.7379376e-01],\n",
       "        [1.2176385e-05],\n",
       "        [9.9953341e-01],\n",
       "        [9.9765646e-01],\n",
       "        [9.9999428e-01],\n",
       "        [9.9999118e-01],\n",
       "        [8.5444677e-01]], dtype=float32))"
      ]
     },
     "execution_count": 61,
     "metadata": {},
     "output_type": "execute_result"
    }
   ],
   "source": [
    "model_3_pred_probs = model_3.predict(val_sentences)\n",
    "model_3_pred_probs.shape, model_3_pred_probs[:10]"
   ]
  },
  {
   "cell_type": "code",
   "execution_count": 62,
   "id": "d7c50437",
   "metadata": {},
   "outputs": [
    {
     "data": {
      "text/plain": [
       "<tf.Tensor: shape=(10,), dtype=float32, numpy=array([0., 0., 1., 0., 0., 1., 1., 1., 1., 1.], dtype=float32)>"
      ]
     },
     "execution_count": 62,
     "metadata": {},
     "output_type": "execute_result"
    }
   ],
   "source": [
    "model_3_preds = tf.squeeze(tf.round(model_3_pred_probs))\n",
    "model_3_preds[:10]"
   ]
  },
  {
   "cell_type": "code",
   "execution_count": 63,
   "id": "9acecd69",
   "metadata": {},
   "outputs": [
    {
     "data": {
      "text/plain": [
       "{'accuracy': 76.50918635170603,\n",
       " 'precision': 0.7669456967235844,\n",
       " 'recall': 0.7650918635170604,\n",
       " 'f1': 0.7627590065822708}"
      ]
     },
     "execution_count": 63,
     "metadata": {},
     "output_type": "execute_result"
    }
   ],
   "source": [
    "model_3_results = calculate_results(y_true=val_labels, \n",
    "                                    y_pred=model_3_preds)\n",
    "model_3_results"
   ]
  },
  {
   "cell_type": "code",
   "execution_count": 64,
   "id": "577c944e",
   "metadata": {},
   "outputs": [
    {
     "name": "stdout",
     "output_type": "stream",
     "text": [
      "Baseline accuracy: 79.27, New accuracy: 76.51, Difference: -2.76\n",
      "Baseline precision: 0.81, New precision: 0.77, Difference: -0.04\n",
      "Baseline recall: 0.79, New recall: 0.77, Difference: -0.03\n",
      "Baseline f1: 0.79, New f1: 0.76, Difference: -0.02\n"
     ]
    }
   ],
   "source": [
    "compare_baseline_to_new_results(baseline_results, model_3_results)"
   ]
  },
  {
   "cell_type": "code",
   "execution_count": null,
   "id": "32e58999",
   "metadata": {},
   "outputs": [],
   "source": []
  },
  {
   "cell_type": "code",
   "execution_count": 65,
   "id": "ec6553c5",
   "metadata": {},
   "outputs": [],
   "source": [
    "from tensorflow.keras import layers\n",
    "\n",
    "inputs = layers.Input(shape=(1,), dtype=\"string\")\n",
    "x = text_vectorizer(inputs)\n",
    "x = embedding(x)\n",
    "x = layers.Bidirectional(layers.LSTM(64, return_sequences=True))(x)\n",
    "x = layers.Bidirectional(layers.GRU(64))(x)\n",
    "outputs = layers.Dense(1, activation='sigmoid')(x)\n",
    "model_4 = tf.keras.Model(inputs, outputs, name='model_4_bidirectional')"
   ]
  },
  {
   "cell_type": "code",
   "execution_count": 66,
   "id": "5b8704b0",
   "metadata": {},
   "outputs": [],
   "source": [
    "model_4.compile(loss=\"binary_crossentropy\",\n",
    "                optimizer=tf.keras.optimizers.Adam(),\n",
    "                metrics=[\"accuracy\"])"
   ]
  },
  {
   "cell_type": "code",
   "execution_count": 67,
   "id": "02c5575a",
   "metadata": {},
   "outputs": [
    {
     "name": "stdout",
     "output_type": "stream",
     "text": [
      "Model: \"model_4_bidirectional\"\n",
      "_________________________________________________________________\n",
      " Layer (type)                Output Shape              Param #   \n",
      "=================================================================\n",
      " input_4 (InputLayer)        [(None, 1)]               0         \n",
      "                                                                 \n",
      " text_vectorization_1 (TextV  (None, 15)               0         \n",
      " ectorization)                                                   \n",
      "                                                                 \n",
      " embedding_1 (Embedding)     (None, 15, 128)           1280000   \n",
      "                                                                 \n",
      " bidirectional (Bidirectiona  (None, 15, 128)          98816     \n",
      " l)                                                              \n",
      "                                                                 \n",
      " bidirectional_1 (Bidirectio  (None, 128)              74496     \n",
      " nal)                                                            \n",
      "                                                                 \n",
      " dense_5 (Dense)             (None, 1)                 129       \n",
      "                                                                 \n",
      "=================================================================\n",
      "Total params: 1,453,441\n",
      "Trainable params: 1,453,441\n",
      "Non-trainable params: 0\n",
      "_________________________________________________________________\n"
     ]
    }
   ],
   "source": [
    "model_4.summary()"
   ]
  },
  {
   "cell_type": "code",
   "execution_count": 68,
   "id": "e621fc41",
   "metadata": {},
   "outputs": [
    {
     "name": "stdout",
     "output_type": "stream",
     "text": [
      "Saving TensorBoard log files to: model_logs/bidirectional_RNN/20230926-125539\n",
      "Epoch 1/5\n",
      "215/215 [==============================] - 15s 30ms/step - loss: 0.1079 - accuracy: 0.9677 - val_loss: 0.8812 - val_accuracy: 0.7730\n",
      "Epoch 2/5\n",
      "215/215 [==============================] - 4s 21ms/step - loss: 0.0560 - accuracy: 0.9734 - val_loss: 1.0593 - val_accuracy: 0.7861\n",
      "Epoch 3/5\n",
      "215/215 [==============================] - 5s 21ms/step - loss: 0.0485 - accuracy: 0.9766 - val_loss: 1.4477 - val_accuracy: 0.7651\n",
      "Epoch 4/5\n",
      "215/215 [==============================] - 5s 22ms/step - loss: 0.0489 - accuracy: 0.9764 - val_loss: 1.1869 - val_accuracy: 0.7756\n",
      "Epoch 5/5\n",
      "215/215 [==============================] - 5s 22ms/step - loss: 0.0409 - accuracy: 0.9794 - val_loss: 1.5174 - val_accuracy: 0.7546\n"
     ]
    }
   ],
   "source": [
    "model_4_history = model_4.fit(train_sentences,\n",
    "                              train_labels,\n",
    "                              epochs=5,\n",
    "                              validation_data=(val_sentences, val_labels),\n",
    "                              callbacks=[create_tensorboard_callback(SAVE_DIR, \"bidirectional_RNN\")])"
   ]
  },
  {
   "cell_type": "code",
   "execution_count": 69,
   "id": "0a569a54",
   "metadata": {},
   "outputs": [
    {
     "name": "stdout",
     "output_type": "stream",
     "text": [
      "24/24 [==============================] - 2s 11ms/step\n"
     ]
    },
    {
     "data": {
      "text/plain": [
       "array([[3.6026403e-02],\n",
       "       [6.1233932e-01],\n",
       "       [9.9996030e-01],\n",
       "       [2.3535982e-01],\n",
       "       [1.3480724e-05],\n",
       "       [9.9995852e-01],\n",
       "       [9.9928015e-01],\n",
       "       [9.9997735e-01],\n",
       "       [9.9996233e-01],\n",
       "       [9.9939764e-01]], dtype=float32)"
      ]
     },
     "execution_count": 69,
     "metadata": {},
     "output_type": "execute_result"
    }
   ],
   "source": [
    "model_4_pred_probs = model_4.predict(val_sentences)\n",
    "model_4_pred_probs[:10]"
   ]
  },
  {
   "cell_type": "code",
   "execution_count": 70,
   "id": "1771e743",
   "metadata": {},
   "outputs": [
    {
     "data": {
      "text/plain": [
       "<tf.Tensor: shape=(10,), dtype=float32, numpy=array([0., 1., 1., 0., 0., 1., 1., 1., 1., 1.], dtype=float32)>"
      ]
     },
     "execution_count": 70,
     "metadata": {},
     "output_type": "execute_result"
    }
   ],
   "source": [
    "model_4_preds = tf.squeeze(tf.round(model_4_pred_probs))\n",
    "model_4_preds[:10]"
   ]
  },
  {
   "cell_type": "code",
   "execution_count": 71,
   "id": "e644a263",
   "metadata": {},
   "outputs": [
    {
     "data": {
      "text/plain": [
       "{'accuracy': 75.45931758530183,\n",
       " 'precision': 0.7541438250099668,\n",
       " 'recall': 0.7545931758530183,\n",
       " 'f1': 0.7540737922598122}"
      ]
     },
     "execution_count": 71,
     "metadata": {},
     "output_type": "execute_result"
    }
   ],
   "source": [
    "model_4_results = calculate_results(val_labels, model_4_preds)\n",
    "model_4_results"
   ]
  },
  {
   "cell_type": "code",
   "execution_count": 72,
   "id": "43b9abac",
   "metadata": {},
   "outputs": [
    {
     "name": "stdout",
     "output_type": "stream",
     "text": [
      "Baseline accuracy: 79.27, New accuracy: 75.46, Difference: -3.81\n",
      "Baseline precision: 0.81, New precision: 0.75, Difference: -0.06\n",
      "Baseline recall: 0.79, New recall: 0.75, Difference: -0.04\n",
      "Baseline f1: 0.79, New f1: 0.75, Difference: -0.03\n"
     ]
    }
   ],
   "source": [
    "compare_baseline_to_new_results(baseline_results, model_4_results)"
   ]
  },
  {
   "cell_type": "code",
   "execution_count": null,
   "id": "37e3e083",
   "metadata": {},
   "outputs": [],
   "source": []
  },
  {
   "cell_type": "code",
   "execution_count": 73,
   "id": "ea6ff94a",
   "metadata": {},
   "outputs": [
    {
     "data": {
      "text/plain": [
       "(TensorShape([1, 15, 128]), TensorShape([1, 11, 32]), TensorShape([1, 32]))"
      ]
     },
     "execution_count": 73,
     "metadata": {},
     "output_type": "execute_result"
    }
   ],
   "source": [
    "embedding_test = embedding(text_vectorizer([\"this is a test sentence\"]))\n",
    "conv_1d = layers.Conv1D(filters = 32,\n",
    "                        kernel_size = 5,\n",
    "                        activation = 'relu',\n",
    "                        padding = 'valid')\n",
    "conv_1d_output = conv_1d(embedding_test)\n",
    "max_pool = layers.GlobalMaxPool1D()\n",
    "max_pool_output = max_pool(conv_1d_output)\n",
    "\n",
    "embedding_test.shape, conv_1d_output.shape, max_pool_output.shape"
   ]
  },
  {
   "cell_type": "code",
   "execution_count": 74,
   "id": "85edc7c3",
   "metadata": {},
   "outputs": [
    {
     "data": {
      "text/plain": [
       "<tf.Tensor: shape=(1, 15, 128), dtype=float32, numpy=\n",
       "array([[[ 0.01007083, -0.02885287, -0.01626282, ...,  0.03578598,\n",
       "         -0.04404961, -0.01551962],\n",
       "        [-0.00681981, -0.01829292, -0.02035785, ..., -0.01459057,\n",
       "         -0.01062246,  0.06287219],\n",
       "        [-0.04615291, -0.05724598, -0.04398639, ...,  0.01038231,\n",
       "          0.00496608,  0.05433102],\n",
       "        ...,\n",
       "        [-0.01712118, -0.01241968, -0.02953283, ...,  0.00857792,\n",
       "         -0.01626625,  0.03019948],\n",
       "        [-0.01712118, -0.01241968, -0.02953283, ...,  0.00857792,\n",
       "         -0.01626625,  0.03019948],\n",
       "        [-0.01712118, -0.01241968, -0.02953283, ...,  0.00857792,\n",
       "         -0.01626625,  0.03019948]]], dtype=float32)>"
      ]
     },
     "execution_count": 74,
     "metadata": {},
     "output_type": "execute_result"
    }
   ],
   "source": [
    "embedding_test"
   ]
  },
  {
   "cell_type": "code",
   "execution_count": 75,
   "id": "5b1d019e",
   "metadata": {
    "scrolled": true
   },
   "outputs": [
    {
     "data": {
      "text/plain": [
       "<tf.Tensor: shape=(1, 11, 32), dtype=float32, numpy=\n",
       "array([[[0.03984934, 0.06405033, 0.02558471, 0.00329244, 0.07815661,\n",
       "         0.        , 0.07867042, 0.02180695, 0.01396454, 0.01175068,\n",
       "         0.        , 0.00181683, 0.        , 0.03647531, 0.        ,\n",
       "         0.        , 0.        , 0.        , 0.        , 0.        ,\n",
       "         0.        , 0.01790879, 0.        , 0.        , 0.        ,\n",
       "         0.01719212, 0.        , 0.03508216, 0.        , 0.08313186,\n",
       "         0.        , 0.10407338],\n",
       "        [0.0476682 , 0.        , 0.06267825, 0.02124223, 0.        ,\n",
       "         0.08870694, 0.        , 0.03256815, 0.        , 0.        ,\n",
       "         0.02284318, 0.        , 0.03112326, 0.06315568, 0.03262535,\n",
       "         0.        , 0.02930659, 0.        , 0.        , 0.        ,\n",
       "         0.        , 0.00402152, 0.        , 0.        , 0.        ,\n",
       "         0.0122088 , 0.        , 0.        , 0.00280334, 0.        ,\n",
       "         0.        , 0.        ],\n",
       "        [0.00332462, 0.01618394, 0.03170469, 0.        , 0.        ,\n",
       "         0.05815981, 0.        , 0.06665085, 0.        , 0.        ,\n",
       "         0.05219293, 0.01708187, 0.01204552, 0.0267349 , 0.        ,\n",
       "         0.        , 0.        , 0.        , 0.05904168, 0.04732662,\n",
       "         0.        , 0.0446954 , 0.06255046, 0.        , 0.        ,\n",
       "         0.        , 0.        , 0.0238364 , 0.03965969, 0.        ,\n",
       "         0.        , 0.        ],\n",
       "        [0.00931214, 0.        , 0.        , 0.        , 0.        ,\n",
       "         0.04900085, 0.03355004, 0.02024835, 0.03880931, 0.        ,\n",
       "         0.07918642, 0.0124744 , 0.        , 0.02651238, 0.08318956,\n",
       "         0.        , 0.        , 0.        , 0.        , 0.        ,\n",
       "         0.03087299, 0.03776821, 0.03547085, 0.00548999, 0.01717287,\n",
       "         0.        , 0.01008805, 0.01558959, 0.08780269, 0.03125699,\n",
       "         0.        , 0.04111774],\n",
       "        [0.        , 0.03593307, 0.01789026, 0.        , 0.02206556,\n",
       "         0.00064777, 0.05193234, 0.01420129, 0.00405642, 0.        ,\n",
       "         0.01730665, 0.02083474, 0.        , 0.00719015, 0.03222351,\n",
       "         0.        , 0.        , 0.00444394, 0.01836806, 0.        ,\n",
       "         0.00804612, 0.        , 0.00532787, 0.        , 0.02934461,\n",
       "         0.        , 0.        , 0.00471031, 0.03593262, 0.        ,\n",
       "         0.        , 0.0022183 ],\n",
       "        [0.00578616, 0.00693029, 0.0089433 , 0.        , 0.        ,\n",
       "         0.        , 0.00556804, 0.01905532, 0.        , 0.        ,\n",
       "         0.00061596, 0.01337744, 0.        , 0.01355845, 0.        ,\n",
       "         0.        , 0.        , 0.        , 0.01926911, 0.        ,\n",
       "         0.        , 0.        , 0.        , 0.        , 0.00819954,\n",
       "         0.        , 0.01220485, 0.01635131, 0.01388633, 0.        ,\n",
       "         0.        , 0.00806355],\n",
       "        [0.00578616, 0.0069303 , 0.0089433 , 0.        , 0.        ,\n",
       "         0.        , 0.00556804, 0.01905531, 0.        , 0.        ,\n",
       "         0.00061595, 0.01337744, 0.        , 0.01355845, 0.        ,\n",
       "         0.        , 0.        , 0.        , 0.01926912, 0.        ,\n",
       "         0.        , 0.        , 0.        , 0.        , 0.00819955,\n",
       "         0.        , 0.01220485, 0.01635131, 0.01388632, 0.        ,\n",
       "         0.        , 0.00806355],\n",
       "        [0.00578615, 0.0069303 , 0.00894329, 0.        , 0.        ,\n",
       "         0.        , 0.00556803, 0.01905531, 0.        , 0.        ,\n",
       "         0.00061595, 0.01337745, 0.        , 0.01355845, 0.        ,\n",
       "         0.        , 0.        , 0.        , 0.01926911, 0.        ,\n",
       "         0.        , 0.        , 0.        , 0.        , 0.00819955,\n",
       "         0.        , 0.01220486, 0.01635132, 0.01388634, 0.        ,\n",
       "         0.        , 0.00806355],\n",
       "        [0.00578616, 0.0069303 , 0.0089433 , 0.        , 0.        ,\n",
       "         0.        , 0.00556804, 0.01905532, 0.        , 0.        ,\n",
       "         0.00061594, 0.01337744, 0.        , 0.01355845, 0.        ,\n",
       "         0.        , 0.        , 0.        , 0.01926911, 0.        ,\n",
       "         0.        , 0.        , 0.        , 0.        , 0.00819955,\n",
       "         0.        , 0.01220485, 0.01635131, 0.01388633, 0.        ,\n",
       "         0.        , 0.00806356],\n",
       "        [0.00578616, 0.0069303 , 0.0089433 , 0.        , 0.        ,\n",
       "         0.        , 0.00556804, 0.01905531, 0.        , 0.        ,\n",
       "         0.00061595, 0.01337745, 0.        , 0.01355845, 0.        ,\n",
       "         0.        , 0.        , 0.        , 0.01926911, 0.        ,\n",
       "         0.        , 0.        , 0.        , 0.        , 0.00819955,\n",
       "         0.        , 0.01220485, 0.01635131, 0.01388633, 0.        ,\n",
       "         0.        , 0.00806355],\n",
       "        [0.00578616, 0.0069303 , 0.0089433 , 0.        , 0.        ,\n",
       "         0.        , 0.00556803, 0.01905531, 0.        , 0.        ,\n",
       "         0.00061595, 0.01337744, 0.        , 0.01355845, 0.        ,\n",
       "         0.        , 0.        , 0.        , 0.01926912, 0.        ,\n",
       "         0.        , 0.        , 0.        , 0.        , 0.00819955,\n",
       "         0.        , 0.01220485, 0.01635131, 0.01388633, 0.        ,\n",
       "         0.        , 0.00806355]]], dtype=float32)>"
      ]
     },
     "execution_count": 75,
     "metadata": {},
     "output_type": "execute_result"
    }
   ],
   "source": [
    "conv_1d_output"
   ]
  },
  {
   "cell_type": "code",
   "execution_count": 76,
   "id": "dac13312",
   "metadata": {},
   "outputs": [
    {
     "data": {
      "text/plain": [
       "<tf.Tensor: shape=(1, 32), dtype=float32, numpy=\n",
       "array([[0.0476682 , 0.06405033, 0.06267825, 0.02124223, 0.07815661,\n",
       "        0.08870694, 0.07867042, 0.06665085, 0.03880931, 0.01175068,\n",
       "        0.07918642, 0.02083474, 0.03112326, 0.06315568, 0.08318956,\n",
       "        0.        , 0.02930659, 0.00444394, 0.05904168, 0.04732662,\n",
       "        0.03087299, 0.0446954 , 0.06255046, 0.00548999, 0.02934461,\n",
       "        0.01719212, 0.01220486, 0.03508216, 0.08780269, 0.08313186,\n",
       "        0.        , 0.10407338]], dtype=float32)>"
      ]
     },
     "execution_count": 76,
     "metadata": {},
     "output_type": "execute_result"
    }
   ],
   "source": [
    "max_pool_output"
   ]
  },
  {
   "cell_type": "code",
   "execution_count": 77,
   "id": "b1bd49f5",
   "metadata": {},
   "outputs": [],
   "source": [
    "from tensorflow.keras import layers\n",
    "inputs = layers.Input(shape=(1,), dtype='string')\n",
    "x = text_vectorizer(inputs)\n",
    "x = embedding(x)\n",
    "x = layers.Conv1D(filters = 64,\n",
    "                  kernel_size = 5,\n",
    "                  strides = 1,\n",
    "                  activation = 'relu',\n",
    "                  padding = 'valid')(x)\n",
    "x = layers.GlobalMaxPool1D()(x)\n",
    "outputs = layers.Dense(1, activation='sigmoid')(x)\n",
    "model_5 = tf.keras.Model(inputs, outputs, name = 'model_Conv_1D')"
   ]
  },
  {
   "cell_type": "code",
   "execution_count": 78,
   "id": "505032b6",
   "metadata": {},
   "outputs": [
    {
     "name": "stdout",
     "output_type": "stream",
     "text": [
      "Model: \"model_Conv_1D\"\n",
      "_________________________________________________________________\n",
      " Layer (type)                Output Shape              Param #   \n",
      "=================================================================\n",
      " input_5 (InputLayer)        [(None, 1)]               0         \n",
      "                                                                 \n",
      " text_vectorization_1 (TextV  (None, 15)               0         \n",
      " ectorization)                                                   \n",
      "                                                                 \n",
      " embedding_1 (Embedding)     (None, 15, 128)           1280000   \n",
      "                                                                 \n",
      " conv1d_1 (Conv1D)           (None, 11, 64)            41024     \n",
      "                                                                 \n",
      " global_max_pooling1d_1 (Glo  (None, 64)               0         \n",
      " balMaxPooling1D)                                                \n",
      "                                                                 \n",
      " dense_6 (Dense)             (None, 1)                 65        \n",
      "                                                                 \n",
      "=================================================================\n",
      "Total params: 1,321,089\n",
      "Trainable params: 1,321,089\n",
      "Non-trainable params: 0\n",
      "_________________________________________________________________\n"
     ]
    }
   ],
   "source": [
    "model_5.summary()"
   ]
  },
  {
   "cell_type": "code",
   "execution_count": 79,
   "id": "2c9f39a5",
   "metadata": {},
   "outputs": [],
   "source": [
    "model_5.compile(loss=\"binary_crossentropy\",\n",
    "                optimizer=tf.keras.optimizers.Adam(),\n",
    "                metrics=[\"accuracy\"])"
   ]
  },
  {
   "cell_type": "code",
   "execution_count": 80,
   "id": "defc6583",
   "metadata": {},
   "outputs": [
    {
     "name": "stdout",
     "output_type": "stream",
     "text": [
      "Saving TensorBoard log files to: model_logs/Conv1D/20230926-125617\n",
      "Epoch 1/5\n",
      "215/215 [==============================] - 4s 10ms/step - loss: 0.1350 - accuracy: 0.9566 - val_loss: 0.8141 - val_accuracy: 0.7730\n",
      "Epoch 2/5\n",
      "215/215 [==============================] - 2s 8ms/step - loss: 0.0793 - accuracy: 0.9714 - val_loss: 0.9858 - val_accuracy: 0.7703\n",
      "Epoch 3/5\n",
      "215/215 [==============================] - 2s 8ms/step - loss: 0.0647 - accuracy: 0.9752 - val_loss: 1.0520 - val_accuracy: 0.7664\n",
      "Epoch 4/5\n",
      "215/215 [==============================] - 2s 9ms/step - loss: 0.0572 - accuracy: 0.9775 - val_loss: 1.1164 - val_accuracy: 0.7598\n",
      "Epoch 5/5\n",
      "215/215 [==============================] - 2s 8ms/step - loss: 0.0521 - accuracy: 0.9775 - val_loss: 1.1705 - val_accuracy: 0.7703\n"
     ]
    }
   ],
   "source": [
    "model_5_history = model_5.fit(train_sentences,\n",
    "                              train_labels,\n",
    "                              epochs=5,\n",
    "                              validation_data=(val_sentences, val_labels),\n",
    "                              callbacks=[create_tensorboard_callback(SAVE_DIR, \"Conv1D\")])"
   ]
  },
  {
   "cell_type": "code",
   "execution_count": 81,
   "id": "c056e22e",
   "metadata": {
    "scrolled": true
   },
   "outputs": [
    {
     "name": "stdout",
     "output_type": "stream",
     "text": [
      "24/24 [==============================] - 0s 3ms/step\n"
     ]
    },
    {
     "data": {
      "text/plain": [
       "array([[1.1362345e-01],\n",
       "       [6.5586007e-01],\n",
       "       [9.9994874e-01],\n",
       "       [5.8081564e-02],\n",
       "       [8.7707861e-08],\n",
       "       [9.9612266e-01],\n",
       "       [9.5123720e-01],\n",
       "       [9.9998474e-01],\n",
       "       [9.9999893e-01],\n",
       "       [8.4479058e-01]], dtype=float32)"
      ]
     },
     "execution_count": 81,
     "metadata": {},
     "output_type": "execute_result"
    }
   ],
   "source": [
    "model_5_pred_probs = model_5.predict(val_sentences)\n",
    "model_5_pred_probs[:10]"
   ]
  },
  {
   "cell_type": "code",
   "execution_count": 82,
   "id": "befeab90",
   "metadata": {},
   "outputs": [
    {
     "data": {
      "text/plain": [
       "<tf.Tensor: shape=(10,), dtype=float32, numpy=array([0., 1., 1., 0., 0., 1., 1., 1., 1., 1.], dtype=float32)>"
      ]
     },
     "execution_count": 82,
     "metadata": {},
     "output_type": "execute_result"
    }
   ],
   "source": [
    "model_5_preds = tf.squeeze(tf.round(model_5_pred_probs))\n",
    "model_5_preds[:10]"
   ]
  },
  {
   "cell_type": "code",
   "execution_count": 83,
   "id": "2a3cefb8",
   "metadata": {},
   "outputs": [
    {
     "data": {
      "text/plain": [
       "{'accuracy': 77.03412073490814,\n",
       " 'precision': 0.7720778836459699,\n",
       " 'recall': 0.7703412073490814,\n",
       " 'f1': 0.7681933440908485}"
      ]
     },
     "execution_count": 83,
     "metadata": {},
     "output_type": "execute_result"
    }
   ],
   "source": [
    "model_5_results = calculate_results(y_true=val_labels, y_pred=model_5_preds)\n",
    "model_5_results"
   ]
  },
  {
   "cell_type": "code",
   "execution_count": 84,
   "id": "bd73ce12",
   "metadata": {},
   "outputs": [
    {
     "data": {
      "text/plain": [
       "{'accuracy': 79.26509186351706,\n",
       " 'precision': 0.8111390004213173,\n",
       " 'recall': 0.7926509186351706,\n",
       " 'f1': 0.7862189758049549}"
      ]
     },
     "execution_count": 84,
     "metadata": {},
     "output_type": "execute_result"
    }
   ],
   "source": [
    "baseline_results"
   ]
  },
  {
   "cell_type": "code",
   "execution_count": null,
   "id": "f3840ad3",
   "metadata": {},
   "outputs": [],
   "source": []
  },
  {
   "cell_type": "code",
   "execution_count": 85,
   "id": "50385dc2",
   "metadata": {},
   "outputs": [
    {
     "name": "stdout",
     "output_type": "stream",
     "text": [
      "tf.Tensor(\n",
      "[[-0.03133018 -0.06338634 -0.01607499 ... -0.0324278  -0.04575738\n",
      "   0.05370456]\n",
      " [ 0.05080859 -0.0165243   0.01573778 ...  0.00976658  0.03170118\n",
      "   0.01788118]], shape=(2, 512), dtype=float32)\n"
     ]
    }
   ],
   "source": [
    "import tensorflow_hub as hub\n",
    "\n",
    "embed = hub.load(\"https://tfhub.dev/google/universal-sentence-encoder/4\")\n",
    "embed_samples = embed([\"The quick brown fox jumps over the lazy dog.\", \"I am a sentence for which I would like to get its embedding\"])\n",
    "\n",
    "print(embed_samples)"
   ]
  },
  {
   "cell_type": "code",
   "execution_count": 86,
   "id": "d2e85069",
   "metadata": {},
   "outputs": [
    {
     "data": {
      "text/plain": [
       "TensorShape([512])"
      ]
     },
     "execution_count": 86,
     "metadata": {},
     "output_type": "execute_result"
    }
   ],
   "source": [
    "embed_samples[0].shape"
   ]
  },
  {
   "cell_type": "code",
   "execution_count": 87,
   "id": "72007ce8",
   "metadata": {},
   "outputs": [],
   "source": [
    "sentance_encoded_layer = hub.KerasLayer(\"https://tfhub.dev/google/universal-sentence-encoder/4\",\n",
    "                                        input_shape = [],\n",
    "                                        dtype = 'string',\n",
    "                                        trainable = False,\n",
    "                                        name = 'USE')"
   ]
  },
  {
   "cell_type": "code",
   "execution_count": 88,
   "id": "114eddc7",
   "metadata": {},
   "outputs": [],
   "source": [
    "model_6 = tf.keras.Sequential([sentance_encoded_layer, \n",
    "                               layers.Dense(64, activation = 'relu'), #New Layer added\n",
    "                               layers.Dense(1, activation='sigmoid', name = 'Output_layer')],\n",
    "                               name = 'model_6_USE')"
   ]
  },
  {
   "cell_type": "code",
   "execution_count": 89,
   "id": "309e21bb",
   "metadata": {},
   "outputs": [],
   "source": [
    "model_6.compile(loss = 'binary_crossentropy',\n",
    "                optimizer= 'adam',\n",
    "                metrics = ['accuracy'])"
   ]
  },
  {
   "cell_type": "code",
   "execution_count": 90,
   "id": "b243a174",
   "metadata": {},
   "outputs": [
    {
     "name": "stdout",
     "output_type": "stream",
     "text": [
      "Model: \"model_6_USE\"\n",
      "_________________________________________________________________\n",
      " Layer (type)                Output Shape              Param #   \n",
      "=================================================================\n",
      " USE (KerasLayer)            (None, 512)               256797824 \n",
      "                                                                 \n",
      " dense_7 (Dense)             (None, 64)                32832     \n",
      "                                                                 \n",
      " Output_layer (Dense)        (None, 1)                 65        \n",
      "                                                                 \n",
      "=================================================================\n",
      "Total params: 256,830,721\n",
      "Trainable params: 32,897\n",
      "Non-trainable params: 256,797,824\n",
      "_________________________________________________________________\n"
     ]
    }
   ],
   "source": [
    "model_6.summary()"
   ]
  },
  {
   "cell_type": "code",
   "execution_count": 91,
   "id": "2117a1b4",
   "metadata": {},
   "outputs": [
    {
     "name": "stdout",
     "output_type": "stream",
     "text": [
      "Saving TensorBoard log files to: model_logs/tf_hub_sentance_encoder/20230926-125650\n",
      "Epoch 1/5\n",
      "215/215 [==============================] - 9s 26ms/step - loss: 0.5032 - accuracy: 0.7866 - val_loss: 0.4483 - val_accuracy: 0.8005\n",
      "Epoch 2/5\n",
      "215/215 [==============================] - 5s 22ms/step - loss: 0.4153 - accuracy: 0.8146 - val_loss: 0.4377 - val_accuracy: 0.8136\n",
      "Epoch 3/5\n",
      "215/215 [==============================] - 5s 23ms/step - loss: 0.4010 - accuracy: 0.8205 - val_loss: 0.4338 - val_accuracy: 0.8123\n",
      "Epoch 4/5\n",
      "215/215 [==============================] - 5s 23ms/step - loss: 0.3941 - accuracy: 0.8248 - val_loss: 0.4295 - val_accuracy: 0.8150\n",
      "Epoch 5/5\n",
      "215/215 [==============================] - 5s 22ms/step - loss: 0.3883 - accuracy: 0.8272 - val_loss: 0.4315 - val_accuracy: 0.8150\n"
     ]
    }
   ],
   "source": [
    "model_6_history = model_6.fit(train_sentences,\n",
    "                              train_labels,\n",
    "                              epochs=5,\n",
    "                              validation_data=(val_sentences, val_labels),\n",
    "                              callbacks=[create_tensorboard_callback(SAVE_DIR, \"tf_hub_sentance_encoder\")])"
   ]
  },
  {
   "cell_type": "code",
   "execution_count": 92,
   "id": "a0771c0a",
   "metadata": {},
   "outputs": [
    {
     "name": "stdout",
     "output_type": "stream",
     "text": [
      "24/24 [==============================] - 1s 21ms/step\n"
     ]
    },
    {
     "data": {
      "text/plain": [
       "array([[0.14376776],\n",
       "       [0.74101067],\n",
       "       [0.98478705],\n",
       "       [0.17871137],\n",
       "       [0.747965  ],\n",
       "       [0.6611063 ],\n",
       "       [0.9774665 ],\n",
       "       [0.97439176],\n",
       "       [0.9131896 ],\n",
       "       [0.08313901]], dtype=float32)"
      ]
     },
     "execution_count": 92,
     "metadata": {},
     "output_type": "execute_result"
    }
   ],
   "source": [
    "model_6_pred_probs = model_6.predict(val_sentences)\n",
    "model_6_pred_probs[:10]"
   ]
  },
  {
   "cell_type": "code",
   "execution_count": 93,
   "id": "a26e1143",
   "metadata": {},
   "outputs": [
    {
     "data": {
      "text/plain": [
       "<tf.Tensor: shape=(10,), dtype=float32, numpy=array([0., 1., 1., 0., 1., 1., 1., 1., 1., 0.], dtype=float32)>"
      ]
     },
     "execution_count": 93,
     "metadata": {},
     "output_type": "execute_result"
    }
   ],
   "source": [
    "model_6_preds = tf.squeeze(tf.round(model_6_pred_probs))\n",
    "model_6_preds[:10]"
   ]
  },
  {
   "cell_type": "code",
   "execution_count": 94,
   "id": "1e9da4f9",
   "metadata": {},
   "outputs": [
    {
     "data": {
      "text/plain": [
       "{'accuracy': 81.49606299212599,\n",
       " 'precision': 0.8172549323109193,\n",
       " 'recall': 0.8149606299212598,\n",
       " 'f1': 0.8134357776936025}"
      ]
     },
     "execution_count": 94,
     "metadata": {},
     "output_type": "execute_result"
    }
   ],
   "source": [
    "model_6_results = calculate_results(y_true=val_labels, y_pred=model_6_preds)\n",
    "model_6_results"
   ]
  },
  {
   "cell_type": "code",
   "execution_count": 95,
   "id": "323327e3",
   "metadata": {},
   "outputs": [
    {
     "data": {
      "text/plain": [
       "{'accuracy': 79.26509186351706,\n",
       " 'precision': 0.8111390004213173,\n",
       " 'recall': 0.7926509186351706,\n",
       " 'f1': 0.7862189758049549}"
      ]
     },
     "execution_count": 95,
     "metadata": {},
     "output_type": "execute_result"
    }
   ],
   "source": [
    "baseline_results"
   ]
  },
  {
   "cell_type": "code",
   "execution_count": null,
   "id": "f5585e72",
   "metadata": {},
   "outputs": [],
   "source": []
  },
  {
   "cell_type": "code",
   "execution_count": 96,
   "id": "4248012f",
   "metadata": {},
   "outputs": [],
   "source": [
    "train_10_percent = train_df_shuffled[['text', 'target']].sample(frac=0.1, random_state=42)\n",
    "train_sentences_10_percent = train_10_percent['text'].to_list()\n",
    "train_labels_10_percent = train_10_percent['target'].to_list()"
   ]
  },
  {
   "cell_type": "code",
   "execution_count": 97,
   "id": "b4e13d2f",
   "metadata": {},
   "outputs": [
    {
     "data": {
      "text/plain": [
       "(761, 761)"
      ]
     },
     "execution_count": 97,
     "metadata": {},
     "output_type": "execute_result"
    }
   ],
   "source": [
    "len(train_labels_10_percent), len(train_sentences_10_percent)"
   ]
  },
  {
   "cell_type": "code",
   "execution_count": 98,
   "id": "bcb2f6a2",
   "metadata": {},
   "outputs": [
    {
     "data": {
      "text/plain": [
       "target\n",
       "0    413\n",
       "1    348\n",
       "Name: count, dtype: int64"
      ]
     },
     "execution_count": 98,
     "metadata": {},
     "output_type": "execute_result"
    }
   ],
   "source": [
    "train_10_percent['target'].value_counts()"
   ]
  },
  {
   "cell_type": "code",
   "execution_count": 99,
   "id": "6ec1f3cf",
   "metadata": {},
   "outputs": [
    {
     "data": {
      "text/plain": [
       "target\n",
       "0    4342\n",
       "1    3271\n",
       "Name: count, dtype: int64"
      ]
     },
     "execution_count": 99,
     "metadata": {},
     "output_type": "execute_result"
    }
   ],
   "source": [
    "train_df_shuffled['target'].value_counts()"
   ]
  },
  {
   "cell_type": "code",
   "execution_count": 100,
   "id": "45baac89",
   "metadata": {},
   "outputs": [
    {
     "ename": "InternalError",
     "evalue": "Failed copying input tensor from /job:localhost/replica:0/task:0/device:CPU:0 to /job:localhost/replica:0/task:0/device:GPU:0 in order to run Identity: Dst tensor is not initialized. [Op:Identity]",
     "output_type": "error",
     "traceback": [
      "\u001b[1;31m---------------------------------------------------------------------------\u001b[0m",
      "\u001b[1;31mInternalError\u001b[0m                             Traceback (most recent call last)",
      "Cell \u001b[1;32mIn[100], line 1\u001b[0m\n\u001b[1;32m----> 1\u001b[0m model_7 \u001b[38;5;241m=\u001b[39m \u001b[43mtf\u001b[49m\u001b[38;5;241;43m.\u001b[39;49m\u001b[43mkeras\u001b[49m\u001b[38;5;241;43m.\u001b[39;49m\u001b[43mmodels\u001b[49m\u001b[38;5;241;43m.\u001b[39;49m\u001b[43mclone_model\u001b[49m\u001b[43m(\u001b[49m\u001b[43mmodel_6\u001b[49m\u001b[43m)\u001b[49m\n\u001b[0;32m      3\u001b[0m model_7\u001b[38;5;241m.\u001b[39mcompile(loss\u001b[38;5;241m=\u001b[39m\u001b[38;5;124m\"\u001b[39m\u001b[38;5;124mbinary_crossentropy\u001b[39m\u001b[38;5;124m\"\u001b[39m,\n\u001b[0;32m      4\u001b[0m                 optimizer\u001b[38;5;241m=\u001b[39m\u001b[38;5;124m'\u001b[39m\u001b[38;5;124madam\u001b[39m\u001b[38;5;124m'\u001b[39m,\n\u001b[0;32m      5\u001b[0m                 metrics\u001b[38;5;241m=\u001b[39m[\u001b[38;5;124m\"\u001b[39m\u001b[38;5;124maccuracy\u001b[39m\u001b[38;5;124m\"\u001b[39m])\n",
      "File \u001b[1;32m~\\OneDrive\\Desktop\\Files\\TensorFlow Developer Certificate in 2023 Zero to Mastery\\My files\\venv\\lib\\site-packages\\keras\\models\\cloning.py:445\u001b[0m, in \u001b[0;36mclone_model\u001b[1;34m(model, input_tensors, clone_function)\u001b[0m\n\u001b[0;32m    442\u001b[0m   clone_function \u001b[38;5;241m=\u001b[39m _clone_layer\n\u001b[0;32m    444\u001b[0m \u001b[38;5;28;01mif\u001b[39;00m \u001b[38;5;28misinstance\u001b[39m(model, Sequential):\n\u001b[1;32m--> 445\u001b[0m   \u001b[38;5;28;01mreturn\u001b[39;00m \u001b[43m_clone_sequential_model\u001b[49m\u001b[43m(\u001b[49m\n\u001b[0;32m    446\u001b[0m \u001b[43m      \u001b[49m\u001b[43mmodel\u001b[49m\u001b[43m,\u001b[49m\u001b[43m \u001b[49m\u001b[43minput_tensors\u001b[49m\u001b[38;5;241;43m=\u001b[39;49m\u001b[43minput_tensors\u001b[49m\u001b[43m,\u001b[49m\u001b[43m \u001b[49m\u001b[43mlayer_fn\u001b[49m\u001b[38;5;241;43m=\u001b[39;49m\u001b[43mclone_function\u001b[49m\u001b[43m)\u001b[49m\n\u001b[0;32m    447\u001b[0m \u001b[38;5;28;01melse\u001b[39;00m:\n\u001b[0;32m    448\u001b[0m   \u001b[38;5;28;01mreturn\u001b[39;00m _clone_functional_model(\n\u001b[0;32m    449\u001b[0m       model, input_tensors\u001b[38;5;241m=\u001b[39minput_tensors, layer_fn\u001b[38;5;241m=\u001b[39mclone_function)\n",
      "File \u001b[1;32m~\\OneDrive\\Desktop\\Files\\TensorFlow Developer Certificate in 2023 Zero to Mastery\\My files\\venv\\lib\\site-packages\\keras\\models\\cloning.py:322\u001b[0m, in \u001b[0;36m_clone_sequential_model\u001b[1;34m(model, input_tensors, layer_fn)\u001b[0m\n\u001b[0;32m    316\u001b[0m \u001b[38;5;28;01mif\u001b[39;00m \u001b[38;5;28misinstance\u001b[39m(layer, InputLayer) \u001b[38;5;129;01mand\u001b[39;00m input_tensors \u001b[38;5;129;01mis\u001b[39;00m \u001b[38;5;129;01mnot\u001b[39;00m \u001b[38;5;28;01mNone\u001b[39;00m:\n\u001b[0;32m    317\u001b[0m   \u001b[38;5;66;03m# If input tensors are provided, the original model's InputLayer is\u001b[39;00m\n\u001b[0;32m    318\u001b[0m   \u001b[38;5;66;03m# overwritten with a different InputLayer.\u001b[39;00m\n\u001b[0;32m    319\u001b[0m   \u001b[38;5;28;01mcontinue\u001b[39;00m\n\u001b[0;32m    320\u001b[0m cloned_layer \u001b[38;5;241m=\u001b[39m (\n\u001b[0;32m    321\u001b[0m     _clone_layer(layer)\n\u001b[1;32m--> 322\u001b[0m     \u001b[38;5;28;01mif\u001b[39;00m \u001b[38;5;28misinstance\u001b[39m(layer, InputLayer) \u001b[38;5;28;01melse\u001b[39;00m \u001b[43mlayer_fn\u001b[49m\u001b[43m(\u001b[49m\u001b[43mlayer\u001b[49m\u001b[43m)\u001b[49m)\n\u001b[0;32m    323\u001b[0m layers\u001b[38;5;241m.\u001b[39mappend(cloned_layer)\n\u001b[0;32m    324\u001b[0m layer_map[layer] \u001b[38;5;241m=\u001b[39m cloned_layer\n",
      "File \u001b[1;32m~\\OneDrive\\Desktop\\Files\\TensorFlow Developer Certificate in 2023 Zero to Mastery\\My files\\venv\\lib\\site-packages\\keras\\models\\cloning.py:48\u001b[0m, in \u001b[0;36m_clone_layer\u001b[1;34m(layer)\u001b[0m\n\u001b[0;32m     47\u001b[0m \u001b[38;5;28;01mdef\u001b[39;00m \u001b[38;5;21m_clone_layer\u001b[39m(layer):\n\u001b[1;32m---> 48\u001b[0m   \u001b[38;5;28;01mreturn\u001b[39;00m \u001b[43mlayer\u001b[49m\u001b[38;5;241;43m.\u001b[39;49m\u001b[38;5;18;43m__class__\u001b[39;49m\u001b[38;5;241;43m.\u001b[39;49m\u001b[43mfrom_config\u001b[49m\u001b[43m(\u001b[49m\u001b[43mlayer\u001b[49m\u001b[38;5;241;43m.\u001b[39;49m\u001b[43mget_config\u001b[49m\u001b[43m(\u001b[49m\u001b[43m)\u001b[49m\u001b[43m)\u001b[49m\n",
      "File \u001b[1;32m~\\OneDrive\\Desktop\\Files\\TensorFlow Developer Certificate in 2023 Zero to Mastery\\My files\\venv\\lib\\site-packages\\keras\\engine\\base_layer.py:783\u001b[0m, in \u001b[0;36mLayer.from_config\u001b[1;34m(cls, config)\u001b[0m\n\u001b[0;32m    767\u001b[0m \u001b[38;5;129m@classmethod\u001b[39m\n\u001b[0;32m    768\u001b[0m \u001b[38;5;28;01mdef\u001b[39;00m \u001b[38;5;21mfrom_config\u001b[39m(\u001b[38;5;28mcls\u001b[39m, config):\n\u001b[0;32m    769\u001b[0m \u001b[38;5;250m  \u001b[39m\u001b[38;5;124;03m\"\"\"Creates a layer from its config.\u001b[39;00m\n\u001b[0;32m    770\u001b[0m \n\u001b[0;32m    771\u001b[0m \u001b[38;5;124;03m  This method is the reverse of `get_config`,\u001b[39;00m\n\u001b[1;32m   (...)\u001b[0m\n\u001b[0;32m    781\u001b[0m \u001b[38;5;124;03m      A layer instance.\u001b[39;00m\n\u001b[0;32m    782\u001b[0m \u001b[38;5;124;03m  \"\"\"\u001b[39;00m\n\u001b[1;32m--> 783\u001b[0m   \u001b[38;5;28;01mreturn\u001b[39;00m \u001b[38;5;28;43mcls\u001b[39;49m\u001b[43m(\u001b[49m\u001b[38;5;241;43m*\u001b[39;49m\u001b[38;5;241;43m*\u001b[39;49m\u001b[43mconfig\u001b[49m\u001b[43m)\u001b[49m\n",
      "File \u001b[1;32m~\\OneDrive\\Desktop\\Files\\TensorFlow Developer Certificate in 2023 Zero to Mastery\\My files\\venv\\lib\\site-packages\\tensorflow_hub\\keras_layer.py:157\u001b[0m, in \u001b[0;36mKerasLayer.__init__\u001b[1;34m(self, handle, trainable, arguments, _sentinel, tags, signature, signature_outputs_as_dict, output_key, output_shape, load_options, **kwargs)\u001b[0m\n\u001b[0;32m    153\u001b[0m   \u001b[38;5;28mself\u001b[39m\u001b[38;5;241m.\u001b[39m_output_shape \u001b[38;5;241m=\u001b[39m data_structures\u001b[38;5;241m.\u001b[39mNoDependency(\n\u001b[0;32m    154\u001b[0m       _convert_nest_to_shapes(output_shape))\n\u001b[0;32m    156\u001b[0m \u001b[38;5;28mself\u001b[39m\u001b[38;5;241m.\u001b[39m_load_options \u001b[38;5;241m=\u001b[39m load_options\n\u001b[1;32m--> 157\u001b[0m \u001b[38;5;28mself\u001b[39m\u001b[38;5;241m.\u001b[39m_func \u001b[38;5;241m=\u001b[39m \u001b[43mload_module\u001b[49m\u001b[43m(\u001b[49m\u001b[43mhandle\u001b[49m\u001b[43m,\u001b[49m\u001b[43m \u001b[49m\u001b[43mtags\u001b[49m\u001b[43m,\u001b[49m\u001b[43m \u001b[49m\u001b[38;5;28;43mself\u001b[39;49m\u001b[38;5;241;43m.\u001b[39;49m\u001b[43m_load_options\u001b[49m\u001b[43m)\u001b[49m\n\u001b[0;32m    158\u001b[0m \u001b[38;5;28mself\u001b[39m\u001b[38;5;241m.\u001b[39m_is_hub_module_v1 \u001b[38;5;241m=\u001b[39m \u001b[38;5;28mgetattr\u001b[39m(\u001b[38;5;28mself\u001b[39m\u001b[38;5;241m.\u001b[39m_func, \u001b[38;5;124m\"\u001b[39m\u001b[38;5;124m_is_hub_module_v1\u001b[39m\u001b[38;5;124m\"\u001b[39m, \u001b[38;5;28;01mFalse\u001b[39;00m)\n\u001b[0;32m    160\u001b[0m \u001b[38;5;66;03m# Update with the defaults when using legacy TF1 Hub format.\u001b[39;00m\n",
      "File \u001b[1;32m~\\OneDrive\\Desktop\\Files\\TensorFlow Developer Certificate in 2023 Zero to Mastery\\My files\\venv\\lib\\site-packages\\tensorflow_hub\\keras_layer.py:459\u001b[0m, in \u001b[0;36mload_module\u001b[1;34m(handle, tags, load_options)\u001b[0m\n\u001b[0;32m    457\u001b[0m     \u001b[38;5;28;01mexcept\u001b[39;00m \u001b[38;5;167;01mImportError\u001b[39;00m:  \u001b[38;5;66;03m# Expected before TF2.4.\u001b[39;00m\n\u001b[0;32m    458\u001b[0m       set_load_options \u001b[38;5;241m=\u001b[39m load_options\n\u001b[1;32m--> 459\u001b[0m \u001b[38;5;28;01mreturn\u001b[39;00m \u001b[43mmodule_v2\u001b[49m\u001b[38;5;241;43m.\u001b[39;49m\u001b[43mload\u001b[49m\u001b[43m(\u001b[49m\u001b[43mhandle\u001b[49m\u001b[43m,\u001b[49m\u001b[43m \u001b[49m\u001b[43mtags\u001b[49m\u001b[38;5;241;43m=\u001b[39;49m\u001b[43mtags\u001b[49m\u001b[43m,\u001b[49m\u001b[43m \u001b[49m\u001b[43moptions\u001b[49m\u001b[38;5;241;43m=\u001b[39;49m\u001b[43mset_load_options\u001b[49m\u001b[43m)\u001b[49m\n",
      "File \u001b[1;32m~\\OneDrive\\Desktop\\Files\\TensorFlow Developer Certificate in 2023 Zero to Mastery\\My files\\venv\\lib\\site-packages\\tensorflow_hub\\module_v2.py:120\u001b[0m, in \u001b[0;36mload\u001b[1;34m(handle, tags, options)\u001b[0m\n\u001b[0;32m    117\u001b[0m   obj \u001b[38;5;241m=\u001b[39m tf\u001b[38;5;241m.\u001b[39mcompat\u001b[38;5;241m.\u001b[39mv1\u001b[38;5;241m.\u001b[39msaved_model\u001b[38;5;241m.\u001b[39mload_v2(\n\u001b[0;32m    118\u001b[0m       module_path, tags\u001b[38;5;241m=\u001b[39mtags, options\u001b[38;5;241m=\u001b[39moptions)\n\u001b[0;32m    119\u001b[0m \u001b[38;5;28;01melse\u001b[39;00m:\n\u001b[1;32m--> 120\u001b[0m   obj \u001b[38;5;241m=\u001b[39m \u001b[43mtf\u001b[49m\u001b[38;5;241;43m.\u001b[39;49m\u001b[43mcompat\u001b[49m\u001b[38;5;241;43m.\u001b[39;49m\u001b[43mv1\u001b[49m\u001b[38;5;241;43m.\u001b[39;49m\u001b[43msaved_model\u001b[49m\u001b[38;5;241;43m.\u001b[39;49m\u001b[43mload_v2\u001b[49m\u001b[43m(\u001b[49m\u001b[43mmodule_path\u001b[49m\u001b[43m,\u001b[49m\u001b[43m \u001b[49m\u001b[43mtags\u001b[49m\u001b[38;5;241;43m=\u001b[39;49m\u001b[43mtags\u001b[49m\u001b[43m)\u001b[49m\n\u001b[0;32m    121\u001b[0m obj\u001b[38;5;241m.\u001b[39m_is_hub_module_v1 \u001b[38;5;241m=\u001b[39m is_hub_module_v1  \u001b[38;5;66;03m# pylint: disable=protected-access\u001b[39;00m\n\u001b[0;32m    122\u001b[0m \u001b[38;5;28;01mreturn\u001b[39;00m obj\n",
      "File \u001b[1;32m~\\OneDrive\\Desktop\\Files\\TensorFlow Developer Certificate in 2023 Zero to Mastery\\My files\\venv\\lib\\site-packages\\tensorflow\\python\\saved_model\\load.py:782\u001b[0m, in \u001b[0;36mload\u001b[1;34m(export_dir, tags, options)\u001b[0m\n\u001b[0;32m    780\u001b[0m \u001b[38;5;28;01mif\u001b[39;00m \u001b[38;5;28misinstance\u001b[39m(export_dir, os\u001b[38;5;241m.\u001b[39mPathLike):\n\u001b[0;32m    781\u001b[0m   export_dir \u001b[38;5;241m=\u001b[39m os\u001b[38;5;241m.\u001b[39mfspath(export_dir)\n\u001b[1;32m--> 782\u001b[0m result \u001b[38;5;241m=\u001b[39m \u001b[43mload_partial\u001b[49m\u001b[43m(\u001b[49m\u001b[43mexport_dir\u001b[49m\u001b[43m,\u001b[49m\u001b[43m \u001b[49m\u001b[38;5;28;43;01mNone\u001b[39;49;00m\u001b[43m,\u001b[49m\u001b[43m \u001b[49m\u001b[43mtags\u001b[49m\u001b[43m,\u001b[49m\u001b[43m \u001b[49m\u001b[43moptions\u001b[49m\u001b[43m)\u001b[49m[\u001b[38;5;124m\"\u001b[39m\u001b[38;5;124mroot\u001b[39m\u001b[38;5;124m\"\u001b[39m]\n\u001b[0;32m    783\u001b[0m \u001b[38;5;28;01mreturn\u001b[39;00m result\n",
      "File \u001b[1;32m~\\OneDrive\\Desktop\\Files\\TensorFlow Developer Certificate in 2023 Zero to Mastery\\My files\\venv\\lib\\site-packages\\tensorflow\\python\\saved_model\\load.py:912\u001b[0m, in \u001b[0;36mload_partial\u001b[1;34m(export_dir, filters, tags, options)\u001b[0m\n\u001b[0;32m    910\u001b[0m \u001b[38;5;28;01mwith\u001b[39;00m ops\u001b[38;5;241m.\u001b[39minit_scope():\n\u001b[0;32m    911\u001b[0m   \u001b[38;5;28;01mtry\u001b[39;00m:\n\u001b[1;32m--> 912\u001b[0m     loader \u001b[38;5;241m=\u001b[39m \u001b[43mLoader\u001b[49m\u001b[43m(\u001b[49m\u001b[43mobject_graph_proto\u001b[49m\u001b[43m,\u001b[49m\u001b[43m \u001b[49m\u001b[43msaved_model_proto\u001b[49m\u001b[43m,\u001b[49m\u001b[43m \u001b[49m\u001b[43mexport_dir\u001b[49m\u001b[43m,\u001b[49m\n\u001b[0;32m    913\u001b[0m \u001b[43m                    \u001b[49m\u001b[43mckpt_options\u001b[49m\u001b[43m,\u001b[49m\u001b[43m \u001b[49m\u001b[43moptions\u001b[49m\u001b[43m,\u001b[49m\u001b[43m \u001b[49m\u001b[43mfilters\u001b[49m\u001b[43m)\u001b[49m\n\u001b[0;32m    914\u001b[0m   \u001b[38;5;28;01mexcept\u001b[39;00m errors\u001b[38;5;241m.\u001b[39mNotFoundError \u001b[38;5;28;01mas\u001b[39;00m err:\n\u001b[0;32m    915\u001b[0m     \u001b[38;5;28;01mraise\u001b[39;00m \u001b[38;5;167;01mFileNotFoundError\u001b[39;00m(\n\u001b[0;32m    916\u001b[0m         \u001b[38;5;28mstr\u001b[39m(err) \u001b[38;5;241m+\u001b[39m \u001b[38;5;124m\"\u001b[39m\u001b[38;5;130;01m\\n\u001b[39;00m\u001b[38;5;124m You may be trying to load on a different device \u001b[39m\u001b[38;5;124m\"\u001b[39m\n\u001b[0;32m    917\u001b[0m         \u001b[38;5;124m\"\u001b[39m\u001b[38;5;124mfrom the computational device. Consider setting the \u001b[39m\u001b[38;5;124m\"\u001b[39m\n\u001b[0;32m    918\u001b[0m         \u001b[38;5;124m\"\u001b[39m\u001b[38;5;124m`experimental_io_device` option in `tf.saved_model.LoadOptions` \u001b[39m\u001b[38;5;124m\"\u001b[39m\n\u001b[0;32m    919\u001b[0m         \u001b[38;5;124m\"\u001b[39m\u001b[38;5;124mto the io_device such as \u001b[39m\u001b[38;5;124m'\u001b[39m\u001b[38;5;124m/job:localhost\u001b[39m\u001b[38;5;124m'\u001b[39m\u001b[38;5;124m.\u001b[39m\u001b[38;5;124m\"\u001b[39m)\n",
      "File \u001b[1;32m~\\OneDrive\\Desktop\\Files\\TensorFlow Developer Certificate in 2023 Zero to Mastery\\My files\\venv\\lib\\site-packages\\tensorflow\\python\\saved_model\\load.py:189\u001b[0m, in \u001b[0;36mLoader.__init__\u001b[1;34m(self, object_graph_proto, saved_model_proto, export_dir, ckpt_options, save_options, filters)\u001b[0m\n\u001b[0;32m    186\u001b[0m \u001b[38;5;28mself\u001b[39m\u001b[38;5;241m.\u001b[39m_load_all()\n\u001b[0;32m    188\u001b[0m \u001b[38;5;28;01mif\u001b[39;00m \u001b[38;5;129;01mnot\u001b[39;00m save_options\u001b[38;5;241m.\u001b[39mexperimental_skip_checkpoint:\n\u001b[1;32m--> 189\u001b[0m   \u001b[38;5;28;43mself\u001b[39;49m\u001b[38;5;241;43m.\u001b[39;49m\u001b[43m_restore_checkpoint\u001b[49m\u001b[43m(\u001b[49m\u001b[43m)\u001b[49m\n\u001b[0;32m    190\u001b[0m \u001b[38;5;28;01mfor\u001b[39;00m node \u001b[38;5;129;01min\u001b[39;00m \u001b[38;5;28mself\u001b[39m\u001b[38;5;241m.\u001b[39m_nodes:\n\u001b[0;32m    191\u001b[0m   \u001b[38;5;28;01mif\u001b[39;00m \u001b[38;5;28misinstance\u001b[39m(node, tracking\u001b[38;5;241m.\u001b[39mCapturableResource):\n",
      "File \u001b[1;32m~\\OneDrive\\Desktop\\Files\\TensorFlow Developer Certificate in 2023 Zero to Mastery\\My files\\venv\\lib\\site-packages\\tensorflow\\python\\saved_model\\load.py:507\u001b[0m, in \u001b[0;36mLoader._restore_checkpoint\u001b[1;34m(self)\u001b[0m\n\u001b[0;32m    505\u001b[0m   load_status\u001b[38;5;241m.\u001b[39massert_nontrivial_match()\n\u001b[0;32m    506\u001b[0m \u001b[38;5;28;01melse\u001b[39;00m:\n\u001b[1;32m--> 507\u001b[0m   load_status \u001b[38;5;241m=\u001b[39m \u001b[43msaver\u001b[49m\u001b[38;5;241;43m.\u001b[39;49m\u001b[43mrestore\u001b[49m\u001b[43m(\u001b[49m\u001b[43mvariables_path\u001b[49m\u001b[43m,\u001b[49m\u001b[43m \u001b[49m\u001b[38;5;28;43mself\u001b[39;49m\u001b[38;5;241;43m.\u001b[39;49m\u001b[43m_checkpoint_options\u001b[49m\u001b[43m)\u001b[49m\n\u001b[0;32m    508\u001b[0m   load_status\u001b[38;5;241m.\u001b[39massert_existing_objects_matched()\n\u001b[0;32m    509\u001b[0m checkpoint \u001b[38;5;241m=\u001b[39m load_status\u001b[38;5;241m.\u001b[39m_checkpoint\n",
      "File \u001b[1;32m~\\OneDrive\\Desktop\\Files\\TensorFlow Developer Certificate in 2023 Zero to Mastery\\My files\\venv\\lib\\site-packages\\tensorflow\\python\\training\\tracking\\util.py:1468\u001b[0m, in \u001b[0;36mTrackableSaver.restore\u001b[1;34m(self, save_path, options)\u001b[0m\n\u001b[0;32m   1459\u001b[0m object_graph_proto\u001b[38;5;241m.\u001b[39mParseFromString(object_graph_string)\n\u001b[0;32m   1460\u001b[0m checkpoint \u001b[38;5;241m=\u001b[39m _CheckpointRestoreCoordinator(\n\u001b[0;32m   1461\u001b[0m     object_graph_proto\u001b[38;5;241m=\u001b[39mobject_graph_proto,\n\u001b[0;32m   1462\u001b[0m     save_path\u001b[38;5;241m=\u001b[39msave_path,\n\u001b[1;32m   (...)\u001b[0m\n\u001b[0;32m   1466\u001b[0m     graph_view\u001b[38;5;241m=\u001b[39m\u001b[38;5;28mself\u001b[39m\u001b[38;5;241m.\u001b[39m_graph_view,\n\u001b[0;32m   1467\u001b[0m     options\u001b[38;5;241m=\u001b[39moptions)\n\u001b[1;32m-> 1468\u001b[0m \u001b[43mbase\u001b[49m\u001b[38;5;241;43m.\u001b[39;49m\u001b[43mCheckpointPosition\u001b[49m\u001b[43m(\u001b[49m\n\u001b[0;32m   1469\u001b[0m \u001b[43m    \u001b[49m\u001b[43mcheckpoint\u001b[49m\u001b[38;5;241;43m=\u001b[39;49m\u001b[43mcheckpoint\u001b[49m\u001b[43m,\u001b[49m\u001b[43m \u001b[49m\u001b[43mproto_id\u001b[49m\u001b[38;5;241;43m=\u001b[39;49m\u001b[38;5;241;43m0\u001b[39;49m\u001b[43m)\u001b[49m\u001b[38;5;241;43m.\u001b[39;49m\u001b[43mrestore\u001b[49m\u001b[43m(\u001b[49m\u001b[38;5;28;43mself\u001b[39;49m\u001b[38;5;241;43m.\u001b[39;49m\u001b[43m_graph_view\u001b[49m\u001b[38;5;241;43m.\u001b[39;49m\u001b[43mroot\u001b[49m\u001b[43m)\u001b[49m\n\u001b[0;32m   1471\u001b[0m \u001b[38;5;66;03m# Attached dependencies are not attached to the root, so should be restored\u001b[39;00m\n\u001b[0;32m   1472\u001b[0m \u001b[38;5;66;03m# separately.\u001b[39;00m\n\u001b[0;32m   1473\u001b[0m \u001b[38;5;28;01mif\u001b[39;00m \u001b[38;5;28mself\u001b[39m\u001b[38;5;241m.\u001b[39m_graph_view\u001b[38;5;241m.\u001b[39mattached_dependencies:\n",
      "File \u001b[1;32m~\\OneDrive\\Desktop\\Files\\TensorFlow Developer Certificate in 2023 Zero to Mastery\\My files\\venv\\lib\\site-packages\\tensorflow\\python\\training\\tracking\\base.py:295\u001b[0m, in \u001b[0;36mCheckpointPosition.restore\u001b[1;34m(self, trackable)\u001b[0m\n\u001b[0;32m    291\u001b[0m \u001b[38;5;28;01mwith\u001b[39;00m ops\u001b[38;5;241m.\u001b[39minit_scope():\n\u001b[0;32m    292\u001b[0m   \u001b[38;5;28;01mif\u001b[39;00m \u001b[38;5;28mself\u001b[39m\u001b[38;5;241m.\u001b[39mbind_object(trackable):\n\u001b[0;32m    293\u001b[0m     \u001b[38;5;66;03m# This object's correspondence with a checkpointed object is new, so\u001b[39;00m\n\u001b[0;32m    294\u001b[0m     \u001b[38;5;66;03m# process deferred restorations for it and its dependencies.\u001b[39;00m\n\u001b[1;32m--> 295\u001b[0m     restore_ops \u001b[38;5;241m=\u001b[39m \u001b[43mtrackable\u001b[49m\u001b[38;5;241;43m.\u001b[39;49m\u001b[43m_restore_from_checkpoint_position\u001b[49m\u001b[43m(\u001b[49m\u001b[38;5;28;43mself\u001b[39;49m\u001b[43m)\u001b[49m  \u001b[38;5;66;03m# pylint: disable=protected-access\u001b[39;00m\n\u001b[0;32m    296\u001b[0m     \u001b[38;5;28;01mif\u001b[39;00m restore_ops:\n\u001b[0;32m    297\u001b[0m       \u001b[38;5;28mself\u001b[39m\u001b[38;5;241m.\u001b[39m_checkpoint\u001b[38;5;241m.\u001b[39mnew_restore_ops(restore_ops)\n",
      "File \u001b[1;32m~\\OneDrive\\Desktop\\Files\\TensorFlow Developer Certificate in 2023 Zero to Mastery\\My files\\venv\\lib\\site-packages\\tensorflow\\python\\training\\tracking\\base.py:1060\u001b[0m, in \u001b[0;36mTrackable._restore_from_checkpoint_position\u001b[1;34m(self, checkpoint_position)\u001b[0m\n\u001b[0;32m   1056\u001b[0m   _queue_children_for_restoration(current_position, visit_queue)\n\u001b[0;32m   1057\u001b[0m   checkpoint_util\u001b[38;5;241m.\u001b[39mqueue_slot_variables(current_position, visit_queue)\n\u001b[0;32m   1059\u001b[0m restore_ops\u001b[38;5;241m.\u001b[39mextend(\n\u001b[1;32m-> 1060\u001b[0m     \u001b[43mcurrent_position\u001b[49m\u001b[38;5;241;43m.\u001b[39;49m\u001b[43mcheckpoint\u001b[49m\u001b[38;5;241;43m.\u001b[39;49m\u001b[43mrestore_saveables\u001b[49m\u001b[43m(\u001b[49m\u001b[43mtensor_saveables\u001b[49m\u001b[43m,\u001b[49m\n\u001b[0;32m   1061\u001b[0m \u001b[43m                                                  \u001b[49m\u001b[43mpython_saveables\u001b[49m\u001b[43m,\u001b[49m\n\u001b[0;32m   1062\u001b[0m \u001b[43m                                                  \u001b[49m\u001b[43mregistered_savers\u001b[49m\u001b[43m)\u001b[49m)\n\u001b[0;32m   1063\u001b[0m \u001b[38;5;28;01mreturn\u001b[39;00m restore_ops\n",
      "File \u001b[1;32m~\\OneDrive\\Desktop\\Files\\TensorFlow Developer Certificate in 2023 Zero to Mastery\\My files\\venv\\lib\\site-packages\\tensorflow\\python\\training\\tracking\\util.py:349\u001b[0m, in \u001b[0;36m_CheckpointRestoreCoordinator.restore_saveables\u001b[1;34m(self, tensor_saveables, python_saveables, registered_savers)\u001b[0m\n\u001b[0;32m    345\u001b[0m \u001b[38;5;28;01mif\u001b[39;00m \u001b[38;5;28mset\u001b[39m(tensor_saveables\u001b[38;5;241m.\u001b[39mkeys()) \u001b[38;5;241m!=\u001b[39m validated_names:\n\u001b[0;32m    346\u001b[0m   \u001b[38;5;28;01mraise\u001b[39;00m \u001b[38;5;167;01mAssertionError\u001b[39;00m(\n\u001b[0;32m    347\u001b[0m       \u001b[38;5;124m\"\u001b[39m\u001b[38;5;124mSaveable keys changed when validating. Got back \u001b[39m\u001b[38;5;124m\"\u001b[39m\n\u001b[0;32m    348\u001b[0m       \u001b[38;5;124mf\u001b[39m\u001b[38;5;124m\"\u001b[39m\u001b[38;5;132;01m{\u001b[39;00mtensor_saveables\u001b[38;5;241m.\u001b[39mkeys()\u001b[38;5;132;01m}\u001b[39;00m\u001b[38;5;124m, was expecting \u001b[39m\u001b[38;5;132;01m{\u001b[39;00mvalidated_names\u001b[38;5;132;01m}\u001b[39;00m\u001b[38;5;124m\"\u001b[39m)\n\u001b[1;32m--> 349\u001b[0m new_restore_ops \u001b[38;5;241m=\u001b[39m \u001b[43mfunctional_saver\u001b[49m\u001b[38;5;241;43m.\u001b[39;49m\u001b[43mMultiDeviceSaver\u001b[49m\u001b[43m(\u001b[49m\n\u001b[0;32m    350\u001b[0m \u001b[43m    \u001b[49m\u001b[43mvalidated_saveables\u001b[49m\u001b[43m,\u001b[49m\n\u001b[0;32m    351\u001b[0m \u001b[43m    \u001b[49m\u001b[43mregistered_savers\u001b[49m\u001b[43m)\u001b[49m\u001b[38;5;241;43m.\u001b[39;49m\u001b[43mrestore\u001b[49m\u001b[43m(\u001b[49m\u001b[38;5;28;43mself\u001b[39;49m\u001b[38;5;241;43m.\u001b[39;49m\u001b[43msave_path_tensor\u001b[49m\u001b[43m,\u001b[49m\u001b[43m \u001b[49m\u001b[38;5;28;43mself\u001b[39;49m\u001b[38;5;241;43m.\u001b[39;49m\u001b[43moptions\u001b[49m\u001b[43m)\u001b[49m\n\u001b[0;32m    352\u001b[0m \u001b[38;5;28;01mif\u001b[39;00m \u001b[38;5;129;01mnot\u001b[39;00m context\u001b[38;5;241m.\u001b[39mexecuting_eagerly():\n\u001b[0;32m    353\u001b[0m   \u001b[38;5;28;01mfor\u001b[39;00m name, restore_op \u001b[38;5;129;01min\u001b[39;00m \u001b[38;5;28msorted\u001b[39m(new_restore_ops\u001b[38;5;241m.\u001b[39mitems()):\n",
      "File \u001b[1;32m~\\OneDrive\\Desktop\\Files\\TensorFlow Developer Certificate in 2023 Zero to Mastery\\My files\\venv\\lib\\site-packages\\tensorflow\\python\\training\\saving\\functional_saver.py:415\u001b[0m, in \u001b[0;36mMultiDeviceSaver.restore\u001b[1;34m(self, file_prefix, options)\u001b[0m\n\u001b[0;32m    413\u001b[0m   restore_ops \u001b[38;5;241m=\u001b[39m tf_function_restore()\n\u001b[0;32m    414\u001b[0m \u001b[38;5;28;01melse\u001b[39;00m:\n\u001b[1;32m--> 415\u001b[0m   restore_ops \u001b[38;5;241m=\u001b[39m \u001b[43mrestore_fn\u001b[49m\u001b[43m(\u001b[49m\u001b[43m)\u001b[49m\n\u001b[0;32m    417\u001b[0m \u001b[38;5;28;01mfor\u001b[39;00m callback \u001b[38;5;129;01min\u001b[39;00m \u001b[38;5;28mself\u001b[39m\u001b[38;5;241m.\u001b[39m_after_restore_callbacks:\n\u001b[0;32m    418\u001b[0m   callback()\n",
      "File \u001b[1;32m~\\OneDrive\\Desktop\\Files\\TensorFlow Developer Certificate in 2023 Zero to Mastery\\My files\\venv\\lib\\site-packages\\tensorflow\\python\\training\\saving\\functional_saver.py:398\u001b[0m, in \u001b[0;36mMultiDeviceSaver.restore.<locals>.restore_fn\u001b[1;34m()\u001b[0m\n\u001b[0;32m    396\u001b[0m \u001b[38;5;28;01mfor\u001b[39;00m device, saver \u001b[38;5;129;01min\u001b[39;00m \u001b[38;5;28msorted\u001b[39m(\u001b[38;5;28mself\u001b[39m\u001b[38;5;241m.\u001b[39m_single_device_savers\u001b[38;5;241m.\u001b[39mitems()):\n\u001b[0;32m    397\u001b[0m   \u001b[38;5;28;01mwith\u001b[39;00m ops\u001b[38;5;241m.\u001b[39mdevice(device):\n\u001b[1;32m--> 398\u001b[0m     restore_ops\u001b[38;5;241m.\u001b[39mupdate(\u001b[43msaver\u001b[49m\u001b[38;5;241;43m.\u001b[39;49m\u001b[43mrestore\u001b[49m\u001b[43m(\u001b[49m\u001b[43mfile_prefix\u001b[49m\u001b[43m,\u001b[49m\u001b[43m \u001b[49m\u001b[43moptions\u001b[49m\u001b[43m)\u001b[49m)\n\u001b[0;32m    399\u001b[0m \u001b[38;5;28;01mfor\u001b[39;00m _, (_, restore_fn) \u001b[38;5;129;01min\u001b[39;00m \u001b[38;5;28mself\u001b[39m\u001b[38;5;241m.\u001b[39m_registered_savers\u001b[38;5;241m.\u001b[39mitems():\n\u001b[0;32m    400\u001b[0m   restore_fn(file_prefix)\n",
      "File \u001b[1;32m~\\OneDrive\\Desktop\\Files\\TensorFlow Developer Certificate in 2023 Zero to Mastery\\My files\\venv\\lib\\site-packages\\tensorflow\\python\\training\\saving\\functional_saver.py:112\u001b[0m, in \u001b[0;36m_SingleDeviceSaver.restore\u001b[1;34m(self, file_prefix, options)\u001b[0m\n\u001b[0;32m    109\u001b[0m restore_ops \u001b[38;5;241m=\u001b[39m {}\n\u001b[0;32m    110\u001b[0m \u001b[38;5;28;01mfor\u001b[39;00m saveable, restored_tensors \u001b[38;5;129;01min\u001b[39;00m \u001b[38;5;28mzip\u001b[39m(\u001b[38;5;28mself\u001b[39m\u001b[38;5;241m.\u001b[39m_saveable_objects,\n\u001b[0;32m    111\u001b[0m                                       structured_restored_tensors):\n\u001b[1;32m--> 112\u001b[0m   restore_ops[saveable\u001b[38;5;241m.\u001b[39mname] \u001b[38;5;241m=\u001b[39m \u001b[43msaveable\u001b[49m\u001b[38;5;241;43m.\u001b[39;49m\u001b[43mrestore\u001b[49m\u001b[43m(\u001b[49m\n\u001b[0;32m    113\u001b[0m \u001b[43m      \u001b[49m\u001b[43mrestored_tensors\u001b[49m\u001b[43m,\u001b[49m\u001b[43m \u001b[49m\u001b[43mrestored_shapes\u001b[49m\u001b[38;5;241;43m=\u001b[39;49m\u001b[38;5;28;43;01mNone\u001b[39;49;00m\u001b[43m)\u001b[49m\n\u001b[0;32m    114\u001b[0m \u001b[38;5;28;01mreturn\u001b[39;00m restore_ops\n",
      "File \u001b[1;32m~\\OneDrive\\Desktop\\Files\\TensorFlow Developer Certificate in 2023 Zero to Mastery\\My files\\venv\\lib\\site-packages\\tensorflow\\python\\training\\saving\\saveable_object_util.py:128\u001b[0m, in \u001b[0;36mResourceVariableSaveable.restore\u001b[1;34m(self, restored_tensors, restored_shapes)\u001b[0m\n\u001b[0;32m    126\u001b[0m \u001b[38;5;66;03m# Copy the restored tensor to the variable's device.\u001b[39;00m\n\u001b[0;32m    127\u001b[0m \u001b[38;5;28;01mwith\u001b[39;00m ops\u001b[38;5;241m.\u001b[39mdevice(\u001b[38;5;28mself\u001b[39m\u001b[38;5;241m.\u001b[39m_var_device):\n\u001b[1;32m--> 128\u001b[0m   restored_tensor \u001b[38;5;241m=\u001b[39m \u001b[43marray_ops\u001b[49m\u001b[38;5;241;43m.\u001b[39;49m\u001b[43midentity\u001b[49m\u001b[43m(\u001b[49m\u001b[43mrestored_tensor\u001b[49m\u001b[43m)\u001b[49m\n\u001b[0;32m    129\u001b[0m   \u001b[38;5;28;01mtry\u001b[39;00m:\n\u001b[0;32m    130\u001b[0m     assigned_variable \u001b[38;5;241m=\u001b[39m resource_variable_ops\u001b[38;5;241m.\u001b[39mshape_safe_assign_variable_handle(\n\u001b[0;32m    131\u001b[0m         \u001b[38;5;28mself\u001b[39m\u001b[38;5;241m.\u001b[39mhandle_op, \u001b[38;5;28mself\u001b[39m\u001b[38;5;241m.\u001b[39m_var_shape, restored_tensor)\n",
      "File \u001b[1;32m~\\OneDrive\\Desktop\\Files\\TensorFlow Developer Certificate in 2023 Zero to Mastery\\My files\\venv\\lib\\site-packages\\tensorflow\\python\\util\\traceback_utils.py:153\u001b[0m, in \u001b[0;36mfilter_traceback.<locals>.error_handler\u001b[1;34m(*args, **kwargs)\u001b[0m\n\u001b[0;32m    151\u001b[0m \u001b[38;5;28;01mexcept\u001b[39;00m \u001b[38;5;167;01mException\u001b[39;00m \u001b[38;5;28;01mas\u001b[39;00m e:\n\u001b[0;32m    152\u001b[0m   filtered_tb \u001b[38;5;241m=\u001b[39m _process_traceback_frames(e\u001b[38;5;241m.\u001b[39m__traceback__)\n\u001b[1;32m--> 153\u001b[0m   \u001b[38;5;28;01mraise\u001b[39;00m e\u001b[38;5;241m.\u001b[39mwith_traceback(filtered_tb) \u001b[38;5;28;01mfrom\u001b[39;00m \u001b[38;5;28;01mNone\u001b[39;00m\n\u001b[0;32m    154\u001b[0m \u001b[38;5;28;01mfinally\u001b[39;00m:\n\u001b[0;32m    155\u001b[0m   \u001b[38;5;28;01mdel\u001b[39;00m filtered_tb\n",
      "File \u001b[1;32m~\\OneDrive\\Desktop\\Files\\TensorFlow Developer Certificate in 2023 Zero to Mastery\\My files\\venv\\lib\\site-packages\\tensorflow\\python\\framework\\ops.py:7164\u001b[0m, in \u001b[0;36mraise_from_not_ok_status\u001b[1;34m(e, name)\u001b[0m\n\u001b[0;32m   7162\u001b[0m \u001b[38;5;28;01mdef\u001b[39;00m \u001b[38;5;21mraise_from_not_ok_status\u001b[39m(e, name):\n\u001b[0;32m   7163\u001b[0m   e\u001b[38;5;241m.\u001b[39mmessage \u001b[38;5;241m+\u001b[39m\u001b[38;5;241m=\u001b[39m (\u001b[38;5;124m\"\u001b[39m\u001b[38;5;124m name: \u001b[39m\u001b[38;5;124m\"\u001b[39m \u001b[38;5;241m+\u001b[39m name \u001b[38;5;28;01mif\u001b[39;00m name \u001b[38;5;129;01mis\u001b[39;00m \u001b[38;5;129;01mnot\u001b[39;00m \u001b[38;5;28;01mNone\u001b[39;00m \u001b[38;5;28;01melse\u001b[39;00m \u001b[38;5;124m\"\u001b[39m\u001b[38;5;124m\"\u001b[39m)\n\u001b[1;32m-> 7164\u001b[0m   \u001b[38;5;28;01mraise\u001b[39;00m core\u001b[38;5;241m.\u001b[39m_status_to_exception(e) \u001b[38;5;28;01mfrom\u001b[39;00m \u001b[38;5;28;01mNone\u001b[39;00m\n",
      "\u001b[1;31mInternalError\u001b[0m: Failed copying input tensor from /job:localhost/replica:0/task:0/device:CPU:0 to /job:localhost/replica:0/task:0/device:GPU:0 in order to run Identity: Dst tensor is not initialized. [Op:Identity]"
     ]
    }
   ],
   "source": [
    "model_7 = tf.keras.models.clone_model(model_6)\n",
    "\n",
    "model_7.compile(loss=\"binary_crossentropy\",\n",
    "                optimizer='adam',\n",
    "                metrics=[\"accuracy\"])"
   ]
  },
  {
   "cell_type": "code",
   "execution_count": null,
   "id": "f457fcaa",
   "metadata": {},
   "outputs": [],
   "source": [
    "model_7.summary()"
   ]
  },
  {
   "cell_type": "code",
   "execution_count": null,
   "id": "cff5f817",
   "metadata": {},
   "outputs": [],
   "source": [
    "model_7_history = model_7.fit(x=train_sentences_10_percent,\n",
    "                              y=train_labels_10_percent,\n",
    "                              epochs=5,\n",
    "                              validation_data=(val_sentences, val_labels),\n",
    "                              callbacks=[create_tensorboard_callback(SAVE_DIR, \"10_percent_tf_hub_sentence_encoder\")])"
   ]
  },
  {
   "cell_type": "code",
   "execution_count": null,
   "id": "e41e3828",
   "metadata": {},
   "outputs": [],
   "source": []
  },
  {
   "cell_type": "code",
   "execution_count": null,
   "id": "463f0eaf",
   "metadata": {},
   "outputs": [],
   "source": []
  },
  {
   "cell_type": "code",
   "execution_count": null,
   "id": "3b940ec4",
   "metadata": {},
   "outputs": [],
   "source": []
  }
 ],
 "metadata": {
  "kernelspec": {
   "display_name": "'ZTM-Tensorflow'",
   "language": "python",
   "name": "venv"
  },
  "language_info": {
   "codemirror_mode": {
    "name": "ipython",
    "version": 3
   },
   "file_extension": ".py",
   "mimetype": "text/x-python",
   "name": "python",
   "nbconvert_exporter": "python",
   "pygments_lexer": "ipython3",
   "version": "3.8.10"
  }
 },
 "nbformat": 4,
 "nbformat_minor": 5
}
