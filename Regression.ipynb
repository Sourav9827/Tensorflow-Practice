{
 "cells": [
  {
   "cell_type": "code",
   "execution_count": 1,
   "id": "5288c87d",
   "metadata": {},
   "outputs": [],
   "source": [
    "import tensorflow as tf"
   ]
  },
  {
   "cell_type": "code",
   "execution_count": 2,
   "id": "354b77f3",
   "metadata": {},
   "outputs": [
    {
     "data": {
      "text/plain": [
       "'2.10.0'"
      ]
     },
     "execution_count": 2,
     "metadata": {},
     "output_type": "execute_result"
    }
   ],
   "source": [
    "tf.__version__"
   ]
  },
  {
   "cell_type": "code",
   "execution_count": 3,
   "id": "997c4048",
   "metadata": {},
   "outputs": [],
   "source": [
    "import numpy as np\n",
    "import matplotlib.pyplot as plt"
   ]
  },
  {
   "cell_type": "code",
   "execution_count": 3,
   "id": "99d1727d",
   "metadata": {},
   "outputs": [],
   "source": [
    "X = np.array([-7.0, -4.0, -1.0, 2.0, 5.0, 8.0, 11.0, 14.0])\n",
    "y = np.array([3.0, 6.0, 9.0, 12.0, 15.0, 18.0, 21.0, 24.0])"
   ]
  },
  {
   "cell_type": "code",
   "execution_count": 10,
   "id": "648237fc",
   "metadata": {},
   "outputs": [
    {
     "data": {
      "text/plain": [
       "<matplotlib.collections.PathCollection at 0x1ff3e4dc5e0>"
      ]
     },
     "execution_count": 10,
     "metadata": {},
     "output_type": "execute_result"
    },
    {
     "data": {
      "image/png": "[encoded data removed]",
      "text/plain": [
       "<Figure size 640x480 with 1 Axes>"
      ]
     },
     "metadata": {},
     "output_type": "display_data"
    }
   ],
   "source": [
    "plt.scatter(X, y, c='Red')"
   ]
  },
  {
   "cell_type": "code",
   "execution_count": 11,
   "id": "d7d80f51",
   "metadata": {},
   "outputs": [
    {
     "data": {
      "text/plain": [
       "array([ True,  True,  True,  True,  True,  True,  True,  True])"
      ]
     },
     "execution_count": 11,
     "metadata": {},
     "output_type": "execute_result"
    }
   ],
   "source": [
    "y == X + 10"
   ]
  },
  {
   "cell_type": "code",
   "execution_count": 10,
   "id": "b4680ad0",
   "metadata": {},
   "outputs": [],
   "source": [
    "house_info = tf.constant([\"bedroom\", \"bathroom\", \"garage\"])\n",
    "house_price = tf.constant([939700])"
   ]
  },
  {
   "cell_type": "code",
   "execution_count": 13,
   "id": "5c185724",
   "metadata": {},
   "outputs": [
    {
     "data": {
      "text/plain": [
       "<tf.Tensor: shape=(3,), dtype=string, numpy=array([b'bedroom', b'bathroom', b'garage'], dtype=object)>"
      ]
     },
     "execution_count": 13,
     "metadata": {},
     "output_type": "execute_result"
    }
   ],
   "source": [
    "house_info"
   ]
  },
  {
   "cell_type": "code",
   "execution_count": 14,
   "id": "b5f04a3b",
   "metadata": {},
   "outputs": [
    {
     "data": {
      "text/plain": [
       "<tf.Tensor: shape=(1,), dtype=int32, numpy=array([939700])>"
      ]
     },
     "execution_count": 14,
     "metadata": {},
     "output_type": "execute_result"
    }
   ],
   "source": [
    "house_price"
   ]
  },
  {
   "cell_type": "code",
   "execution_count": 19,
   "id": "6c613db6",
   "metadata": {},
   "outputs": [
    {
     "data": {
      "text/plain": [
       "(-7.0, 3.0)"
      ]
     },
     "execution_count": 19,
     "metadata": {},
     "output_type": "execute_result"
    }
   ],
   "source": [
    "X[0], y[0]"
   ]
  },
  {
   "cell_type": "code",
   "execution_count": 20,
   "id": "6064686b",
   "metadata": {},
   "outputs": [
    {
     "data": {
      "text/plain": [
       "(-4.0, 6.0)"
      ]
     },
     "execution_count": 20,
     "metadata": {},
     "output_type": "execute_result"
    }
   ],
   "source": [
    "X[1], y[1]"
   ]
  },
  {
   "cell_type": "code",
   "execution_count": 4,
   "id": "7dd686ce",
   "metadata": {},
   "outputs": [],
   "source": [
    "input_shape = X.shape \n",
    "output_shape = y.shape"
   ]
  },
  {
   "cell_type": "code",
   "execution_count": 17,
   "id": "54f3c8b0",
   "metadata": {},
   "outputs": [
    {
     "data": {
      "text/plain": [
       "(8,)"
      ]
     },
     "execution_count": 17,
     "metadata": {},
     "output_type": "execute_result"
    }
   ],
   "source": [
    "input_shape"
   ]
  },
  {
   "cell_type": "code",
   "execution_count": 18,
   "id": "b30cac8c",
   "metadata": {},
   "outputs": [
    {
     "data": {
      "text/plain": [
       "(8,)"
      ]
     },
     "execution_count": 18,
     "metadata": {},
     "output_type": "execute_result"
    }
   ],
   "source": [
    "output_shape"
   ]
  },
  {
   "cell_type": "code",
   "execution_count": 5,
   "id": "91757fc9",
   "metadata": {},
   "outputs": [
    {
     "data": {
      "text/plain": [
       "((), ())"
      ]
     },
     "execution_count": 5,
     "metadata": {},
     "output_type": "execute_result"
    }
   ],
   "source": [
    "input_shape = X[0].shape \n",
    "output_shape = y[0].shape\n",
    "\n",
    "input_shape, output_shape"
   ]
  },
  {
   "cell_type": "code",
   "execution_count": 6,
   "id": "02b3b808",
   "metadata": {},
   "outputs": [
    {
     "data": {
      "text/plain": [
       "(<tf.Tensor: shape=(8,), dtype=float64, numpy=array([-7., -4., -1.,  2.,  5.,  8., 11., 14.])>,\n",
       " <tf.Tensor: shape=(8,), dtype=float64, numpy=array([ 3.,  6.,  9., 12., 15., 18., 21., 24.])>)"
      ]
     },
     "execution_count": 6,
     "metadata": {},
     "output_type": "execute_result"
    }
   ],
   "source": [
    "X = tf.constant(X)\n",
    "y = tf.constant(y)\n",
    "X, y"
   ]
  },
  {
   "cell_type": "code",
   "execution_count": 14,
   "id": "76390b79",
   "metadata": {},
   "outputs": [
    {
     "data": {
      "text/plain": [
       "(TensorShape([]), TensorShape([]))"
      ]
     },
     "execution_count": 14,
     "metadata": {},
     "output_type": "execute_result"
    }
   ],
   "source": [
    "input_shape = X[0].shape \n",
    "output_shape = y[0].shape\n",
    "\n",
    "input_shape, output_shape"
   ]
  },
  {
   "cell_type": "code",
   "execution_count": 4,
   "id": "37c35a61",
   "metadata": {},
   "outputs": [
    {
     "name": "stdout",
     "output_type": "stream",
     "text": [
      "Tue Aug  8 08:45:23 2023       \n",
      "+---------------------------------------------------------------------------------------+\n",
      "| NVIDIA-SMI 536.25                 Driver Version: 536.25       CUDA Version: 12.2     |\n",
      "|-----------------------------------------+----------------------+----------------------+\n",
      "| GPU  Name                     TCC/WDDM  | Bus-Id        Disp.A | Volatile Uncorr. ECC |\n",
      "| Fan  Temp   Perf          Pwr:Usage/Cap |         Memory-Usage | GPU-Util  Compute M. |\n",
      "|                                         |                      |               MIG M. |\n",
      "|=========================================+======================+======================|\n",
      "|   0  NVIDIA GeForce GTX 1650      WDDM  | 00000000:01:00.0 Off |                  N/A |\n",
      "| N/A   40C    P0              14W /  50W |      0MiB /  4096MiB |      0%      Default |\n",
      "|                                         |                      |                  N/A |\n",
      "+-----------------------------------------+----------------------+----------------------+\n",
      "                                                                                         \n",
      "+---------------------------------------------------------------------------------------+\n",
      "| Processes:                                                                            |\n",
      "|  GPU   GI   CI        PID   Type   Process name                            GPU Memory |\n",
      "|        ID   ID                                                             Usage      |\n",
      "|=======================================================================================|\n",
      "|  No running processes found                                                           |\n",
      "+---------------------------------------------------------------------------------------+\n"
     ]
    }
   ],
   "source": [
    "!nvidia-smi"
   ]
  },
  {
   "cell_type": "code",
   "execution_count": 15,
   "id": "c9dff1e2",
   "metadata": {},
   "outputs": [],
   "source": [
    "tf.random.set_seed(42)"
   ]
  },
  {
   "cell_type": "code",
   "execution_count": 16,
   "id": "8b987c30",
   "metadata": {},
   "outputs": [],
   "source": [
    "model = tf.keras.Sequential([\n",
    "    tf.keras.layers.Dense(1)\n",
    "])"
   ]
  },
  {
   "cell_type": "code",
   "execution_count": 17,
   "id": "dcab274c",
   "metadata": {},
   "outputs": [],
   "source": [
    "model.compile(loss = 'mae',\n",
    "             optimizer = 'sgd',\n",
    "             metrics = ['mae'])"
   ]
  },
  {
   "cell_type": "code",
   "execution_count": 37,
   "id": "02c96a5a",
   "metadata": {},
   "outputs": [
    {
     "name": "stdout",
     "output_type": "stream",
     "text": [
      "Epoch 1/5\n"
     ]
    },
    {
     "ename": "InvalidArgumentError",
     "evalue": "Graph execution error:\n\nDetected at node 'sequential/dense/MatMul' defined at (most recent call last):\n    File \"C:\\Users\\manda\\OneDrive\\Desktop\\Files\\TensorFlow Developer Certificate in 2023 Zero to Mastery\\My files\\venv\\lib\\runpy.py\", line 194, in _run_module_as_main\n      return _run_code(code, main_globals, None,\n    File \"C:\\Users\\manda\\OneDrive\\Desktop\\Files\\TensorFlow Developer Certificate in 2023 Zero to Mastery\\My files\\venv\\lib\\runpy.py\", line 87, in _run_code\n      exec(code, run_globals)\n    File \"C:\\Users\\manda\\AppData\\Roaming\\Python\\Python38\\site-packages\\ipykernel_launcher.py\", line 17, in <module>\n      app.launch_new_instance()\n    File \"C:\\Users\\manda\\AppData\\Roaming\\Python\\Python38\\site-packages\\traitlets\\config\\application.py\", line 1043, in launch_instance\n      app.start()\n    File \"C:\\Users\\manda\\AppData\\Roaming\\Python\\Python38\\site-packages\\ipykernel\\kernelapp.py\", line 736, in start\n      self.io_loop.start()\n    File \"C:\\Users\\manda\\AppData\\Roaming\\Python\\Python38\\site-packages\\tornado\\platform\\asyncio.py\", line 195, in start\n      self.asyncio_loop.run_forever()\n    File \"C:\\Users\\manda\\OneDrive\\Desktop\\Files\\TensorFlow Developer Certificate in 2023 Zero to Mastery\\My files\\venv\\lib\\asyncio\\base_events.py\", line 570, in run_forever\n      self._run_once()\n    File \"C:\\Users\\manda\\OneDrive\\Desktop\\Files\\TensorFlow Developer Certificate in 2023 Zero to Mastery\\My files\\venv\\lib\\asyncio\\base_events.py\", line 1859, in _run_once\n      handle._run()\n    File \"C:\\Users\\manda\\OneDrive\\Desktop\\Files\\TensorFlow Developer Certificate in 2023 Zero to Mastery\\My files\\venv\\lib\\asyncio\\events.py\", line 81, in _run\n      self._context.run(self._callback, *self._args)\n    File \"C:\\Users\\manda\\AppData\\Roaming\\Python\\Python38\\site-packages\\ipykernel\\kernelbase.py\", line 516, in dispatch_queue\n      await self.process_one()\n    File \"C:\\Users\\manda\\AppData\\Roaming\\Python\\Python38\\site-packages\\ipykernel\\kernelbase.py\", line 505, in process_one\n      await dispatch(*args)\n    File \"C:\\Users\\manda\\AppData\\Roaming\\Python\\Python38\\site-packages\\ipykernel\\kernelbase.py\", line 412, in dispatch_shell\n      await result\n    File \"C:\\Users\\manda\\AppData\\Roaming\\Python\\Python38\\site-packages\\ipykernel\\kernelbase.py\", line 740, in execute_request\n      reply_content = await reply_content\n    File \"C:\\Users\\manda\\AppData\\Roaming\\Python\\Python38\\site-packages\\ipykernel\\ipkernel.py\", line 422, in do_execute\n      res = shell.run_cell(\n    File \"C:\\Users\\manda\\AppData\\Roaming\\Python\\Python38\\site-packages\\ipykernel\\zmqshell.py\", line 546, in run_cell\n      return super().run_cell(*args, **kwargs)\n    File \"C:\\Users\\manda\\AppData\\Roaming\\Python\\Python38\\site-packages\\IPython\\core\\interactiveshell.py\", line 3009, in run_cell\n      result = self._run_cell(\n    File \"C:\\Users\\manda\\AppData\\Roaming\\Python\\Python38\\site-packages\\IPython\\core\\interactiveshell.py\", line 3064, in _run_cell\n      result = runner(coro)\n    File \"C:\\Users\\manda\\AppData\\Roaming\\Python\\Python38\\site-packages\\IPython\\core\\async_helpers.py\", line 129, in _pseudo_sync_runner\n      coro.send(None)\n    File \"C:\\Users\\manda\\AppData\\Roaming\\Python\\Python38\\site-packages\\IPython\\core\\interactiveshell.py\", line 3269, in run_cell_async\n      has_raised = await self.run_ast_nodes(code_ast.body, cell_name,\n    File \"C:\\Users\\manda\\AppData\\Roaming\\Python\\Python38\\site-packages\\IPython\\core\\interactiveshell.py\", line 3448, in run_ast_nodes\n      if await self.run_code(code, result, async_=asy):\n    File \"C:\\Users\\manda\\AppData\\Roaming\\Python\\Python38\\site-packages\\IPython\\core\\interactiveshell.py\", line 3508, in run_code\n      exec(code_obj, self.user_global_ns, self.user_ns)\n    File \"C:\\Users\\manda\\AppData\\Local\\Temp\\ipykernel_7600\\2698172604.py\", line 1, in <module>\n      model.fit(X, y, epochs = 5)\n    File \"C:\\Users\\manda\\OneDrive\\Desktop\\Files\\TensorFlow Developer Certificate in 2023 Zero to Mastery\\My files\\venv\\lib\\site-packages\\keras\\utils\\traceback_utils.py\", line 65, in error_handler\n      return fn(*args, **kwargs)\n    File \"C:\\Users\\manda\\OneDrive\\Desktop\\Files\\TensorFlow Developer Certificate in 2023 Zero to Mastery\\My files\\venv\\lib\\site-packages\\keras\\engine\\training.py\", line 1564, in fit\n      tmp_logs = self.train_function(iterator)\n    File \"C:\\Users\\manda\\OneDrive\\Desktop\\Files\\TensorFlow Developer Certificate in 2023 Zero to Mastery\\My files\\venv\\lib\\site-packages\\keras\\engine\\training.py\", line 1160, in train_function\n      return step_function(self, iterator)\n    File \"C:\\Users\\manda\\OneDrive\\Desktop\\Files\\TensorFlow Developer Certificate in 2023 Zero to Mastery\\My files\\venv\\lib\\site-packages\\keras\\engine\\training.py\", line 1146, in step_function\n      outputs = model.distribute_strategy.run(run_step, args=(data,))\n    File \"C:\\Users\\manda\\OneDrive\\Desktop\\Files\\TensorFlow Developer Certificate in 2023 Zero to Mastery\\My files\\venv\\lib\\site-packages\\keras\\engine\\training.py\", line 1135, in run_step\n      outputs = model.train_step(data)\n    File \"C:\\Users\\manda\\OneDrive\\Desktop\\Files\\TensorFlow Developer Certificate in 2023 Zero to Mastery\\My files\\venv\\lib\\site-packages\\keras\\engine\\training.py\", line 993, in train_step\n      y_pred = self(x, training=True)\n    File \"C:\\Users\\manda\\OneDrive\\Desktop\\Files\\TensorFlow Developer Certificate in 2023 Zero to Mastery\\My files\\venv\\lib\\site-packages\\keras\\utils\\traceback_utils.py\", line 65, in error_handler\n      return fn(*args, **kwargs)\n    File \"C:\\Users\\manda\\OneDrive\\Desktop\\Files\\TensorFlow Developer Certificate in 2023 Zero to Mastery\\My files\\venv\\lib\\site-packages\\keras\\engine\\training.py\", line 557, in __call__\n      return super().__call__(*args, **kwargs)\n    File \"C:\\Users\\manda\\OneDrive\\Desktop\\Files\\TensorFlow Developer Certificate in 2023 Zero to Mastery\\My files\\venv\\lib\\site-packages\\keras\\utils\\traceback_utils.py\", line 65, in error_handler\n      return fn(*args, **kwargs)\n    File \"C:\\Users\\manda\\OneDrive\\Desktop\\Files\\TensorFlow Developer Certificate in 2023 Zero to Mastery\\My files\\venv\\lib\\site-packages\\keras\\engine\\base_layer.py\", line 1097, in __call__\n      outputs = call_fn(inputs, *args, **kwargs)\n    File \"C:\\Users\\manda\\OneDrive\\Desktop\\Files\\TensorFlow Developer Certificate in 2023 Zero to Mastery\\My files\\venv\\lib\\site-packages\\keras\\utils\\traceback_utils.py\", line 96, in error_handler\n      return fn(*args, **kwargs)\n    File \"C:\\Users\\manda\\OneDrive\\Desktop\\Files\\TensorFlow Developer Certificate in 2023 Zero to Mastery\\My files\\venv\\lib\\site-packages\\keras\\engine\\sequential.py\", line 425, in call\n      outputs = layer(inputs, **kwargs)\n    File \"C:\\Users\\manda\\OneDrive\\Desktop\\Files\\TensorFlow Developer Certificate in 2023 Zero to Mastery\\My files\\venv\\lib\\site-packages\\keras\\utils\\traceback_utils.py\", line 65, in error_handler\n      return fn(*args, **kwargs)\n    File \"C:\\Users\\manda\\OneDrive\\Desktop\\Files\\TensorFlow Developer Certificate in 2023 Zero to Mastery\\My files\\venv\\lib\\site-packages\\keras\\engine\\base_layer.py\", line 1097, in __call__\n      outputs = call_fn(inputs, *args, **kwargs)\n    File \"C:\\Users\\manda\\OneDrive\\Desktop\\Files\\TensorFlow Developer Certificate in 2023 Zero to Mastery\\My files\\venv\\lib\\site-packages\\keras\\utils\\traceback_utils.py\", line 96, in error_handler\n      return fn(*args, **kwargs)\n    File \"C:\\Users\\manda\\OneDrive\\Desktop\\Files\\TensorFlow Developer Certificate in 2023 Zero to Mastery\\My files\\venv\\lib\\site-packages\\keras\\layers\\core\\dense.py\", line 241, in call\n      outputs = tf.matmul(a=inputs, b=self.kernel)\nNode: 'sequential/dense/MatMul'\nIn[0] ndims must be >= 2: 1\n\t [[{{node sequential/dense/MatMul}}]] [Op:__inference_train_function_1850]",
     "output_type": "error",
     "traceback": [
      "\u001b[1;31m---------------------------------------------------------------------------\u001b[0m",
      "\u001b[1;31mInvalidArgumentError\u001b[0m                      Traceback (most recent call last)",
      "Cell \u001b[1;32mIn[37], line 1\u001b[0m\n\u001b[1;32m----> 1\u001b[0m \u001b[43mmodel\u001b[49m\u001b[38;5;241;43m.\u001b[39;49m\u001b[43mfit\u001b[49m\u001b[43m(\u001b[49m\u001b[43mX\u001b[49m\u001b[43m,\u001b[49m\u001b[43m \u001b[49m\u001b[43my\u001b[49m\u001b[43m,\u001b[49m\u001b[43m \u001b[49m\u001b[43mepochs\u001b[49m\u001b[43m \u001b[49m\u001b[38;5;241;43m=\u001b[39;49m\u001b[43m \u001b[49m\u001b[38;5;241;43m5\u001b[39;49m\u001b[43m)\u001b[49m\n",
      "File \u001b[1;32m~\\OneDrive\\Desktop\\Files\\TensorFlow Developer Certificate in 2023 Zero to Mastery\\My files\\venv\\lib\\site-packages\\keras\\utils\\traceback_utils.py:70\u001b[0m, in \u001b[0;36mfilter_traceback.<locals>.error_handler\u001b[1;34m(*args, **kwargs)\u001b[0m\n\u001b[0;32m     67\u001b[0m     filtered_tb \u001b[38;5;241m=\u001b[39m _process_traceback_frames(e\u001b[38;5;241m.\u001b[39m__traceback__)\n\u001b[0;32m     68\u001b[0m     \u001b[38;5;66;03m# To get the full stack trace, call:\u001b[39;00m\n\u001b[0;32m     69\u001b[0m     \u001b[38;5;66;03m# `tf.debugging.disable_traceback_filtering()`\u001b[39;00m\n\u001b[1;32m---> 70\u001b[0m     \u001b[38;5;28;01mraise\u001b[39;00m e\u001b[38;5;241m.\u001b[39mwith_traceback(filtered_tb) \u001b[38;5;28;01mfrom\u001b[39;00m \u001b[38;5;28;01mNone\u001b[39;00m\n\u001b[0;32m     71\u001b[0m \u001b[38;5;28;01mfinally\u001b[39;00m:\n\u001b[0;32m     72\u001b[0m     \u001b[38;5;28;01mdel\u001b[39;00m filtered_tb\n",
      "File \u001b[1;32m~\\OneDrive\\Desktop\\Files\\TensorFlow Developer Certificate in 2023 Zero to Mastery\\My files\\venv\\lib\\site-packages\\tensorflow\\python\\eager\\execute.py:54\u001b[0m, in \u001b[0;36mquick_execute\u001b[1;34m(op_name, num_outputs, inputs, attrs, ctx, name)\u001b[0m\n\u001b[0;32m     52\u001b[0m \u001b[38;5;28;01mtry\u001b[39;00m:\n\u001b[0;32m     53\u001b[0m   ctx\u001b[38;5;241m.\u001b[39mensure_initialized()\n\u001b[1;32m---> 54\u001b[0m   tensors \u001b[38;5;241m=\u001b[39m pywrap_tfe\u001b[38;5;241m.\u001b[39mTFE_Py_Execute(ctx\u001b[38;5;241m.\u001b[39m_handle, device_name, op_name,\n\u001b[0;32m     55\u001b[0m                                       inputs, attrs, num_outputs)\n\u001b[0;32m     56\u001b[0m \u001b[38;5;28;01mexcept\u001b[39;00m core\u001b[38;5;241m.\u001b[39m_NotOkStatusException \u001b[38;5;28;01mas\u001b[39;00m e:\n\u001b[0;32m     57\u001b[0m   \u001b[38;5;28;01mif\u001b[39;00m name \u001b[38;5;129;01mis\u001b[39;00m \u001b[38;5;129;01mnot\u001b[39;00m \u001b[38;5;28;01mNone\u001b[39;00m:\n",
      "\u001b[1;31mInvalidArgumentError\u001b[0m: Graph execution error:\n\nDetected at node 'sequential/dense/MatMul' defined at (most recent call last):\n    File \"C:\\Users\\manda\\OneDrive\\Desktop\\Files\\TensorFlow Developer Certificate in 2023 Zero to Mastery\\My files\\venv\\lib\\runpy.py\", line 194, in _run_module_as_main\n      return _run_code(code, main_globals, None,\n    File \"C:\\Users\\manda\\OneDrive\\Desktop\\Files\\TensorFlow Developer Certificate in 2023 Zero to Mastery\\My files\\venv\\lib\\runpy.py\", line 87, in _run_code\n      exec(code, run_globals)\n    File \"C:\\Users\\manda\\AppData\\Roaming\\Python\\Python38\\site-packages\\ipykernel_launcher.py\", line 17, in <module>\n      app.launch_new_instance()\n    File \"C:\\Users\\manda\\AppData\\Roaming\\Python\\Python38\\site-packages\\traitlets\\config\\application.py\", line 1043, in launch_instance\n      app.start()\n    File \"C:\\Users\\manda\\AppData\\Roaming\\Python\\Python38\\site-packages\\ipykernel\\kernelapp.py\", line 736, in start\n      self.io_loop.start()\n    File \"C:\\Users\\manda\\AppData\\Roaming\\Python\\Python38\\site-packages\\tornado\\platform\\asyncio.py\", line 195, in start\n      self.asyncio_loop.run_forever()\n    File \"C:\\Users\\manda\\OneDrive\\Desktop\\Files\\TensorFlow Developer Certificate in 2023 Zero to Mastery\\My files\\venv\\lib\\asyncio\\base_events.py\", line 570, in run_forever\n      self._run_once()\n    File \"C:\\Users\\manda\\OneDrive\\Desktop\\Files\\TensorFlow Developer Certificate in 2023 Zero to Mastery\\My files\\venv\\lib\\asyncio\\base_events.py\", line 1859, in _run_once\n      handle._run()\n    File \"C:\\Users\\manda\\OneDrive\\Desktop\\Files\\TensorFlow Developer Certificate in 2023 Zero to Mastery\\My files\\venv\\lib\\asyncio\\events.py\", line 81, in _run\n      self._context.run(self._callback, *self._args)\n    File \"C:\\Users\\manda\\AppData\\Roaming\\Python\\Python38\\site-packages\\ipykernel\\kernelbase.py\", line 516, in dispatch_queue\n      await self.process_one()\n    File \"C:\\Users\\manda\\AppData\\Roaming\\Python\\Python38\\site-packages\\ipykernel\\kernelbase.py\", line 505, in process_one\n      await dispatch(*args)\n    File \"C:\\Users\\manda\\AppData\\Roaming\\Python\\Python38\\site-packages\\ipykernel\\kernelbase.py\", line 412, in dispatch_shell\n      await result\n    File \"C:\\Users\\manda\\AppData\\Roaming\\Python\\Python38\\site-packages\\ipykernel\\kernelbase.py\", line 740, in execute_request\n      reply_content = await reply_content\n    File \"C:\\Users\\manda\\AppData\\Roaming\\Python\\Python38\\site-packages\\ipykernel\\ipkernel.py\", line 422, in do_execute\n      res = shell.run_cell(\n    File \"C:\\Users\\manda\\AppData\\Roaming\\Python\\Python38\\site-packages\\ipykernel\\zmqshell.py\", line 546, in run_cell\n      return super().run_cell(*args, **kwargs)\n    File \"C:\\Users\\manda\\AppData\\Roaming\\Python\\Python38\\site-packages\\IPython\\core\\interactiveshell.py\", line 3009, in run_cell\n      result = self._run_cell(\n    File \"C:\\Users\\manda\\AppData\\Roaming\\Python\\Python38\\site-packages\\IPython\\core\\interactiveshell.py\", line 3064, in _run_cell\n      result = runner(coro)\n    File \"C:\\Users\\manda\\AppData\\Roaming\\Python\\Python38\\site-packages\\IPython\\core\\async_helpers.py\", line 129, in _pseudo_sync_runner\n      coro.send(None)\n    File \"C:\\Users\\manda\\AppData\\Roaming\\Python\\Python38\\site-packages\\IPython\\core\\interactiveshell.py\", line 3269, in run_cell_async\n      has_raised = await self.run_ast_nodes(code_ast.body, cell_name,\n    File \"C:\\Users\\manda\\AppData\\Roaming\\Python\\Python38\\site-packages\\IPython\\core\\interactiveshell.py\", line 3448, in run_ast_nodes\n      if await self.run_code(code, result, async_=asy):\n    File \"C:\\Users\\manda\\AppData\\Roaming\\Python\\Python38\\site-packages\\IPython\\core\\interactiveshell.py\", line 3508, in run_code\n      exec(code_obj, self.user_global_ns, self.user_ns)\n    File \"C:\\Users\\manda\\AppData\\Local\\Temp\\ipykernel_7600\\2698172604.py\", line 1, in <module>\n      model.fit(X, y, epochs = 5)\n    File \"C:\\Users\\manda\\OneDrive\\Desktop\\Files\\TensorFlow Developer Certificate in 2023 Zero to Mastery\\My files\\venv\\lib\\site-packages\\keras\\utils\\traceback_utils.py\", line 65, in error_handler\n      return fn(*args, **kwargs)\n    File \"C:\\Users\\manda\\OneDrive\\Desktop\\Files\\TensorFlow Developer Certificate in 2023 Zero to Mastery\\My files\\venv\\lib\\site-packages\\keras\\engine\\training.py\", line 1564, in fit\n      tmp_logs = self.train_function(iterator)\n    File \"C:\\Users\\manda\\OneDrive\\Desktop\\Files\\TensorFlow Developer Certificate in 2023 Zero to Mastery\\My files\\venv\\lib\\site-packages\\keras\\engine\\training.py\", line 1160, in train_function\n      return step_function(self, iterator)\n    File \"C:\\Users\\manda\\OneDrive\\Desktop\\Files\\TensorFlow Developer Certificate in 2023 Zero to Mastery\\My files\\venv\\lib\\site-packages\\keras\\engine\\training.py\", line 1146, in step_function\n      outputs = model.distribute_strategy.run(run_step, args=(data,))\n    File \"C:\\Users\\manda\\OneDrive\\Desktop\\Files\\TensorFlow Developer Certificate in 2023 Zero to Mastery\\My files\\venv\\lib\\site-packages\\keras\\engine\\training.py\", line 1135, in run_step\n      outputs = model.train_step(data)\n    File \"C:\\Users\\manda\\OneDrive\\Desktop\\Files\\TensorFlow Developer Certificate in 2023 Zero to Mastery\\My files\\venv\\lib\\site-packages\\keras\\engine\\training.py\", line 993, in train_step\n      y_pred = self(x, training=True)\n    File \"C:\\Users\\manda\\OneDrive\\Desktop\\Files\\TensorFlow Developer Certificate in 2023 Zero to Mastery\\My files\\venv\\lib\\site-packages\\keras\\utils\\traceback_utils.py\", line 65, in error_handler\n      return fn(*args, **kwargs)\n    File \"C:\\Users\\manda\\OneDrive\\Desktop\\Files\\TensorFlow Developer Certificate in 2023 Zero to Mastery\\My files\\venv\\lib\\site-packages\\keras\\engine\\training.py\", line 557, in __call__\n      return super().__call__(*args, **kwargs)\n    File \"C:\\Users\\manda\\OneDrive\\Desktop\\Files\\TensorFlow Developer Certificate in 2023 Zero to Mastery\\My files\\venv\\lib\\site-packages\\keras\\utils\\traceback_utils.py\", line 65, in error_handler\n      return fn(*args, **kwargs)\n    File \"C:\\Users\\manda\\OneDrive\\Desktop\\Files\\TensorFlow Developer Certificate in 2023 Zero to Mastery\\My files\\venv\\lib\\site-packages\\keras\\engine\\base_layer.py\", line 1097, in __call__\n      outputs = call_fn(inputs, *args, **kwargs)\n    File \"C:\\Users\\manda\\OneDrive\\Desktop\\Files\\TensorFlow Developer Certificate in 2023 Zero to Mastery\\My files\\venv\\lib\\site-packages\\keras\\utils\\traceback_utils.py\", line 96, in error_handler\n      return fn(*args, **kwargs)\n    File \"C:\\Users\\manda\\OneDrive\\Desktop\\Files\\TensorFlow Developer Certificate in 2023 Zero to Mastery\\My files\\venv\\lib\\site-packages\\keras\\engine\\sequential.py\", line 425, in call\n      outputs = layer(inputs, **kwargs)\n    File \"C:\\Users\\manda\\OneDrive\\Desktop\\Files\\TensorFlow Developer Certificate in 2023 Zero to Mastery\\My files\\venv\\lib\\site-packages\\keras\\utils\\traceback_utils.py\", line 65, in error_handler\n      return fn(*args, **kwargs)\n    File \"C:\\Users\\manda\\OneDrive\\Desktop\\Files\\TensorFlow Developer Certificate in 2023 Zero to Mastery\\My files\\venv\\lib\\site-packages\\keras\\engine\\base_layer.py\", line 1097, in __call__\n      outputs = call_fn(inputs, *args, **kwargs)\n    File \"C:\\Users\\manda\\OneDrive\\Desktop\\Files\\TensorFlow Developer Certificate in 2023 Zero to Mastery\\My files\\venv\\lib\\site-packages\\keras\\utils\\traceback_utils.py\", line 96, in error_handler\n      return fn(*args, **kwargs)\n    File \"C:\\Users\\manda\\OneDrive\\Desktop\\Files\\TensorFlow Developer Certificate in 2023 Zero to Mastery\\My files\\venv\\lib\\site-packages\\keras\\layers\\core\\dense.py\", line 241, in call\n      outputs = tf.matmul(a=inputs, b=self.kernel)\nNode: 'sequential/dense/MatMul'\nIn[0] ndims must be >= 2: 1\n\t [[{{node sequential/dense/MatMul}}]] [Op:__inference_train_function_1850]"
     ]
    }
   ],
   "source": [
    "model.fit(X, y, epochs = 5)"
   ]
  },
  {
   "cell_type": "code",
   "execution_count": 38,
   "id": "176c208e",
   "metadata": {},
   "outputs": [
    {
     "data": {
      "text/plain": [
       "<tf.Tensor: shape=(8,), dtype=float64, numpy=array([-7., -4., -1.,  2.,  5.,  8., 11., 14.])>"
      ]
     },
     "execution_count": 38,
     "metadata": {},
     "output_type": "execute_result"
    }
   ],
   "source": [
    "X"
   ]
  },
  {
   "cell_type": "code",
   "execution_count": 39,
   "id": "a42c4ff3",
   "metadata": {},
   "outputs": [
    {
     "data": {
      "text/plain": [
       "<tf.Tensor: shape=(8,), dtype=float64, numpy=array([ 3.,  6.,  9., 12., 15., 18., 21., 24.])>"
      ]
     },
     "execution_count": 39,
     "metadata": {},
     "output_type": "execute_result"
    }
   ],
   "source": [
    "y"
   ]
  },
  {
   "cell_type": "code",
   "execution_count": 41,
   "id": "25dea2a1",
   "metadata": {},
   "outputs": [
    {
     "data": {
      "text/plain": [
       "<tf.Tensor: shape=(8, 1), dtype=float64, numpy=\n",
       "array([[-7.],\n",
       "       [-4.],\n",
       "       [-1.],\n",
       "       [ 2.],\n",
       "       [ 5.],\n",
       "       [ 8.],\n",
       "       [11.],\n",
       "       [14.]])>"
      ]
     },
     "execution_count": 41,
     "metadata": {},
     "output_type": "execute_result"
    }
   ],
   "source": [
    "tf.expand_dims(X, axis=-1)"
   ]
  },
  {
   "cell_type": "code",
   "execution_count": 18,
   "id": "ba20685a",
   "metadata": {},
   "outputs": [
    {
     "name": "stdout",
     "output_type": "stream",
     "text": [
      "Epoch 1/5\n",
      "1/1 [==============================] - 2s 2s/step - loss: 8.0718 - mae: 8.0718\n",
      "Epoch 2/5\n",
      "1/1 [==============================] - 0s 6ms/step - loss: 7.9393 - mae: 7.9393\n",
      "Epoch 3/5\n",
      "1/1 [==============================] - 0s 6ms/step - loss: 7.8068 - mae: 7.8068\n",
      "Epoch 4/5\n",
      "1/1 [==============================] - 0s 7ms/step - loss: 7.6743 - mae: 7.6743\n",
      "Epoch 5/5\n",
      "1/1 [==============================] - 0s 9ms/step - loss: 7.5418 - mae: 7.5418\n"
     ]
    },
    {
     "data": {
      "text/plain": [
       "<keras.callbacks.History at 0x15825b2bdf0>"
      ]
     },
     "execution_count": 18,
     "metadata": {},
     "output_type": "execute_result"
    }
   ],
   "source": [
    "model.fit(tf.expand_dims(X, axis=-1), y, epochs = 5)"
   ]
  },
  {
   "cell_type": "raw",
   "id": "4f897d7f",
   "metadata": {},
   "source": [
    "model = tf.keras.Sequential()\n",
    "model.add(tf.keras.layers.Dense(8, input_shape = (16,)))\n",
    "\n",
    "model.add(tf.keras.layers.Dense(4))"
   ]
  },
  {
   "cell_type": "code",
   "execution_count": 20,
   "id": "7a846004",
   "metadata": {},
   "outputs": [
    {
     "name": "stdout",
     "output_type": "stream",
     "text": [
      "1/1 [==============================] - 0s 70ms/step\n"
     ]
    }
   ],
   "source": [
    "y_pred = model.predict([17.0])"
   ]
  },
  {
   "cell_type": "code",
   "execution_count": 21,
   "id": "6f73fe10",
   "metadata": {},
   "outputs": [
    {
     "data": {
      "text/plain": [
       "array([[29.390461]], dtype=float32)"
      ]
     },
     "execution_count": 21,
     "metadata": {},
     "output_type": "execute_result"
    }
   ],
   "source": [
    "y_pred"
   ]
  },
  {
   "cell_type": "code",
   "execution_count": 22,
   "id": "4beaab67",
   "metadata": {},
   "outputs": [
    {
     "data": {
      "text/plain": [
       "array([[22.390461]], dtype=float32)"
      ]
     },
     "execution_count": 22,
     "metadata": {},
     "output_type": "execute_result"
    }
   ],
   "source": [
    "y_pred - 7"
   ]
  },
  {
   "cell_type": "code",
   "execution_count": 7,
   "id": "acbf29f7",
   "metadata": {},
   "outputs": [
    {
     "name": "stdout",
     "output_type": "stream",
     "text": [
      "Epoch 1/5\n",
      "1/1 [==============================] - 2s 2s/step - loss: 12.3089 - mae: 12.3089\n",
      "Epoch 2/5\n",
      "1/1 [==============================] - 0s 10ms/step - loss: 12.1764 - mae: 12.1764\n",
      "Epoch 3/5\n",
      "1/1 [==============================] - 0s 6ms/step - loss: 12.0439 - mae: 12.0439\n",
      "Epoch 4/5\n",
      "1/1 [==============================] - 0s 10ms/step - loss: 11.9114 - mae: 11.9114\n",
      "Epoch 5/5\n",
      "1/1 [==============================] - 0s 9ms/step - loss: 11.7789 - mae: 11.7789\n"
     ]
    },
    {
     "data": {
      "text/plain": [
       "<keras.callbacks.History at 0x1e58325e7f0>"
      ]
     },
     "execution_count": 7,
     "metadata": {},
     "output_type": "execute_result"
    }
   ],
   "source": [
    "# Set random seed\n",
    "tf.random.set_seed(42)\n",
    "\n",
    "# Create a model using the Sequential API\n",
    "model = tf.keras.Sequential([\n",
    "  tf.keras.layers.Dense(1)\n",
    "])\n",
    "\n",
    "# Compile the model\n",
    "model.compile(loss=tf.keras.losses.mae, # mae is short for mean absolute error\n",
    "              optimizer=tf.keras.optimizers.SGD(), # SGD is short for stochastic gradient descent\n",
    "              metrics=[\"mae\"])\n",
    "\n",
    "# Fit the model\n",
    "# model.fit(X, y, epochs=5) # this will break with TensorFlow 2.7.0+\n",
    "model.fit(tf.expand_dims(X, axis=-1), y, epochs=5)"
   ]
  },
  {
   "cell_type": "code",
   "execution_count": 8,
   "id": "df11c3c5",
   "metadata": {},
   "outputs": [
    {
     "name": "stdout",
     "output_type": "stream",
     "text": [
      "1/1 [==============================] - 0s 132ms/step\n"
     ]
    },
    {
     "data": {
      "text/plain": [
       "array([[8.810343]], dtype=float32)"
      ]
     },
     "execution_count": 8,
     "metadata": {},
     "output_type": "execute_result"
    }
   ],
   "source": [
    "model.predict([17.0])"
   ]
  },
  {
   "cell_type": "code",
   "execution_count": 11,
   "id": "a29ec475",
   "metadata": {},
   "outputs": [
    {
     "name": "stdout",
     "output_type": "stream",
     "text": [
      "Epoch 1/100\n",
      "1/1 [==============================] - 0s 385ms/step - loss: 9.9069 - mae: 9.9069\n",
      "Epoch 2/100\n",
      "1/1 [==============================] - 0s 9ms/step - loss: 9.7744 - mae: 9.7744\n",
      "Epoch 3/100\n",
      "1/1 [==============================] - 0s 9ms/step - loss: 9.6419 - mae: 9.6419\n",
      "Epoch 4/100\n",
      "1/1 [==============================] - 0s 8ms/step - loss: 9.5094 - mae: 9.5094\n",
      "Epoch 5/100\n",
      "1/1 [==============================] - 0s 9ms/step - loss: 9.3769 - mae: 9.3769\n",
      "Epoch 6/100\n",
      "1/1 [==============================] - 0s 7ms/step - loss: 9.2444 - mae: 9.2444\n",
      "Epoch 7/100\n",
      "1/1 [==============================] - 0s 8ms/step - loss: 9.1119 - mae: 9.1119\n",
      "Epoch 8/100\n",
      "1/1 [==============================] - 0s 7ms/step - loss: 8.9794 - mae: 8.9794\n",
      "Epoch 9/100\n",
      "1/1 [==============================] - 0s 8ms/step - loss: 8.8469 - mae: 8.8469\n",
      "Epoch 10/100\n",
      "1/1 [==============================] - 0s 7ms/step - loss: 8.7144 - mae: 8.7144\n",
      "Epoch 11/100\n",
      "1/1 [==============================] - 0s 8ms/step - loss: 8.5819 - mae: 8.5819\n",
      "Epoch 12/100\n",
      "1/1 [==============================] - 0s 9ms/step - loss: 8.4494 - mae: 8.4494\n",
      "Epoch 13/100\n",
      "1/1 [==============================] - 0s 9ms/step - loss: 8.3169 - mae: 8.3169\n",
      "Epoch 14/100\n",
      "1/1 [==============================] - 0s 11ms/step - loss: 8.1844 - mae: 8.1844\n",
      "Epoch 15/100\n",
      "1/1 [==============================] - 0s 9ms/step - loss: 8.0519 - mae: 8.0519\n",
      "Epoch 16/100\n",
      "1/1 [==============================] - 0s 6ms/step - loss: 7.9194 - mae: 7.9194\n",
      "Epoch 17/100\n",
      "1/1 [==============================] - 0s 6ms/step - loss: 7.7869 - mae: 7.7869\n",
      "Epoch 18/100\n",
      "1/1 [==============================] - 0s 7ms/step - loss: 7.6544 - mae: 7.6544\n",
      "Epoch 19/100\n",
      "1/1 [==============================] - 0s 7ms/step - loss: 7.5219 - mae: 7.5219\n",
      "Epoch 20/100\n",
      "1/1 [==============================] - 0s 6ms/step - loss: 7.3894 - mae: 7.3894\n",
      "Epoch 21/100\n",
      "1/1 [==============================] - 0s 6ms/step - loss: 7.3500 - mae: 7.3500\n",
      "Epoch 22/100\n",
      "1/1 [==============================] - 0s 7ms/step - loss: 7.3444 - mae: 7.3444\n",
      "Epoch 23/100\n",
      "1/1 [==============================] - 0s 6ms/step - loss: 7.3387 - mae: 7.3387\n",
      "Epoch 24/100\n",
      "1/1 [==============================] - 0s 6ms/step - loss: 7.3331 - mae: 7.3331\n",
      "Epoch 25/100\n",
      "1/1 [==============================] - 0s 7ms/step - loss: 7.3275 - mae: 7.3275\n",
      "Epoch 26/100\n",
      "1/1 [==============================] - 0s 7ms/step - loss: 7.3219 - mae: 7.3219\n",
      "Epoch 27/100\n",
      "1/1 [==============================] - 0s 8ms/step - loss: 7.3162 - mae: 7.3162\n",
      "Epoch 28/100\n",
      "1/1 [==============================] - 0s 7ms/step - loss: 7.3106 - mae: 7.3106\n",
      "Epoch 29/100\n",
      "1/1 [==============================] - 0s 8ms/step - loss: 7.3050 - mae: 7.3050\n",
      "Epoch 30/100\n",
      "1/1 [==============================] - 0s 7ms/step - loss: 7.2994 - mae: 7.2994\n",
      "Epoch 31/100\n",
      "1/1 [==============================] - 0s 7ms/step - loss: 7.2938 - mae: 7.2938\n",
      "Epoch 32/100\n",
      "1/1 [==============================] - 0s 8ms/step - loss: 7.2881 - mae: 7.2881\n",
      "Epoch 33/100\n",
      "1/1 [==============================] - 0s 8ms/step - loss: 7.2825 - mae: 7.2825\n",
      "Epoch 34/100\n",
      "1/1 [==============================] - 0s 7ms/step - loss: 7.2769 - mae: 7.2769\n",
      "Epoch 35/100\n",
      "1/1 [==============================] - 0s 8ms/step - loss: 7.2712 - mae: 7.2712\n",
      "Epoch 36/100\n",
      "1/1 [==============================] - 0s 7ms/step - loss: 7.2656 - mae: 7.2656\n",
      "Epoch 37/100\n",
      "1/1 [==============================] - 0s 7ms/step - loss: 7.2600 - mae: 7.2600\n",
      "Epoch 38/100\n",
      "1/1 [==============================] - 0s 8ms/step - loss: 7.2544 - mae: 7.2544\n",
      "Epoch 39/100\n",
      "1/1 [==============================] - 0s 7ms/step - loss: 7.2487 - mae: 7.2487\n",
      "Epoch 40/100\n",
      "1/1 [==============================] - 0s 6ms/step - loss: 7.2431 - mae: 7.2431\n",
      "Epoch 41/100\n",
      "1/1 [==============================] - 0s 7ms/step - loss: 7.2375 - mae: 7.2375\n",
      "Epoch 42/100\n",
      "1/1 [==============================] - 0s 7ms/step - loss: 7.2319 - mae: 7.2319\n",
      "Epoch 43/100\n",
      "1/1 [==============================] - 0s 6ms/step - loss: 7.2263 - mae: 7.2263\n",
      "Epoch 44/100\n",
      "1/1 [==============================] - 0s 7ms/step - loss: 7.2206 - mae: 7.2206\n",
      "Epoch 45/100\n",
      "1/1 [==============================] - 0s 6ms/step - loss: 7.2150 - mae: 7.2150\n",
      "Epoch 46/100\n",
      "1/1 [==============================] - 0s 7ms/step - loss: 7.2094 - mae: 7.2094\n",
      "Epoch 47/100\n",
      "1/1 [==============================] - 0s 8ms/step - loss: 7.2037 - mae: 7.2037\n",
      "Epoch 48/100\n",
      "1/1 [==============================] - 0s 8ms/step - loss: 7.1981 - mae: 7.1981\n",
      "Epoch 49/100\n",
      "1/1 [==============================] - 0s 8ms/step - loss: 7.1925 - mae: 7.1925\n",
      "Epoch 50/100\n",
      "1/1 [==============================] - 0s 8ms/step - loss: 7.1869 - mae: 7.1869\n",
      "Epoch 51/100\n",
      "1/1 [==============================] - 0s 9ms/step - loss: 7.1813 - mae: 7.1813\n",
      "Epoch 52/100\n",
      "1/1 [==============================] - 0s 7ms/step - loss: 7.1756 - mae: 7.1756\n",
      "Epoch 53/100\n",
      "1/1 [==============================] - 0s 8ms/step - loss: 7.1700 - mae: 7.1700\n",
      "Epoch 54/100\n",
      "1/1 [==============================] - 0s 7ms/step - loss: 7.1644 - mae: 7.1644\n",
      "Epoch 55/100\n",
      "1/1 [==============================] - 0s 8ms/step - loss: 7.1588 - mae: 7.1588\n",
      "Epoch 56/100\n",
      "1/1 [==============================] - 0s 8ms/step - loss: 7.1531 - mae: 7.1531\n",
      "Epoch 57/100\n",
      "1/1 [==============================] - 0s 8ms/step - loss: 7.1475 - mae: 7.1475\n",
      "Epoch 58/100\n",
      "1/1 [==============================] - 0s 8ms/step - loss: 7.1419 - mae: 7.1419\n",
      "Epoch 59/100\n",
      "1/1 [==============================] - 0s 9ms/step - loss: 7.1363 - mae: 7.1363\n",
      "Epoch 60/100\n",
      "1/1 [==============================] - 0s 9ms/step - loss: 7.1306 - mae: 7.1306\n",
      "Epoch 61/100\n",
      "1/1 [==============================] - 0s 9ms/step - loss: 7.1250 - mae: 7.1250\n",
      "Epoch 62/100\n",
      "1/1 [==============================] - 0s 8ms/step - loss: 7.1194 - mae: 7.1194\n",
      "Epoch 63/100\n",
      "1/1 [==============================] - 0s 7ms/step - loss: 7.1138 - mae: 7.1138\n",
      "Epoch 64/100\n",
      "1/1 [==============================] - 0s 7ms/step - loss: 7.1081 - mae: 7.1081\n",
      "Epoch 65/100\n",
      "1/1 [==============================] - 0s 8ms/step - loss: 7.1025 - mae: 7.1025\n",
      "Epoch 66/100\n",
      "1/1 [==============================] - 0s 8ms/step - loss: 7.0969 - mae: 7.0969\n",
      "Epoch 67/100\n",
      "1/1 [==============================] - 0s 8ms/step - loss: 7.0912 - mae: 7.0912\n",
      "Epoch 68/100\n",
      "1/1 [==============================] - 0s 8ms/step - loss: 7.0856 - mae: 7.0856\n",
      "Epoch 69/100\n",
      "1/1 [==============================] - 0s 8ms/step - loss: 7.0800 - mae: 7.0800\n",
      "Epoch 70/100\n",
      "1/1 [==============================] - 0s 7ms/step - loss: 7.0744 - mae: 7.0744\n",
      "Epoch 71/100\n",
      "1/1 [==============================] - 0s 8ms/step - loss: 7.0688 - mae: 7.0688\n",
      "Epoch 72/100\n",
      "1/1 [==============================] - 0s 8ms/step - loss: 7.0631 - mae: 7.0631\n",
      "Epoch 73/100\n",
      "1/1 [==============================] - 0s 7ms/step - loss: 7.0575 - mae: 7.0575\n",
      "Epoch 74/100\n",
      "1/1 [==============================] - 0s 7ms/step - loss: 7.0519 - mae: 7.0519\n",
      "Epoch 75/100\n",
      "1/1 [==============================] - 0s 8ms/step - loss: 7.0463 - mae: 7.0463\n",
      "Epoch 76/100\n",
      "1/1 [==============================] - 0s 7ms/step - loss: 7.0406 - mae: 7.0406\n",
      "Epoch 77/100\n",
      "1/1 [==============================] - 0s 8ms/step - loss: 7.0350 - mae: 7.0350\n",
      "Epoch 78/100\n",
      "1/1 [==============================] - 0s 8ms/step - loss: 7.0294 - mae: 7.0294\n",
      "Epoch 79/100\n",
      "1/1 [==============================] - 0s 8ms/step - loss: 7.0238 - mae: 7.0238\n",
      "Epoch 80/100\n",
      "1/1 [==============================] - 0s 9ms/step - loss: 7.0181 - mae: 7.0181\n",
      "Epoch 81/100\n",
      "1/1 [==============================] - 0s 9ms/step - loss: 7.0125 - mae: 7.0125\n",
      "Epoch 82/100\n",
      "1/1 [==============================] - 0s 8ms/step - loss: 7.0069 - mae: 7.0069\n",
      "Epoch 83/100\n",
      "1/1 [==============================] - 0s 7ms/step - loss: 7.0013 - mae: 7.0013\n",
      "Epoch 84/100\n",
      "1/1 [==============================] - 0s 8ms/step - loss: 6.9956 - mae: 6.9956\n",
      "Epoch 85/100\n",
      "1/1 [==============================] - 0s 8ms/step - loss: 6.9900 - mae: 6.9900\n",
      "Epoch 86/100\n",
      "1/1 [==============================] - 0s 8ms/step - loss: 6.9844 - mae: 6.9844\n",
      "Epoch 87/100\n",
      "1/1 [==============================] - 0s 8ms/step - loss: 6.9788 - mae: 6.9788\n",
      "Epoch 88/100\n",
      "1/1 [==============================] - 0s 8ms/step - loss: 6.9731 - mae: 6.9731\n",
      "Epoch 89/100\n",
      "1/1 [==============================] - 0s 9ms/step - loss: 6.9675 - mae: 6.9675\n",
      "Epoch 90/100\n",
      "1/1 [==============================] - 0s 7ms/step - loss: 6.9619 - mae: 6.9619\n",
      "Epoch 91/100\n",
      "1/1 [==============================] - 0s 7ms/step - loss: 6.9563 - mae: 6.9563\n",
      "Epoch 92/100\n",
      "1/1 [==============================] - 0s 9ms/step - loss: 6.9506 - mae: 6.9506\n",
      "Epoch 93/100\n",
      "1/1 [==============================] - 0s 7ms/step - loss: 6.9450 - mae: 6.9450\n",
      "Epoch 94/100\n",
      "1/1 [==============================] - 0s 6ms/step - loss: 6.9394 - mae: 6.9394\n",
      "Epoch 95/100\n",
      "1/1 [==============================] - 0s 9ms/step - loss: 6.9338 - mae: 6.9338\n",
      "Epoch 96/100\n",
      "1/1 [==============================] - 0s 9ms/step - loss: 6.9281 - mae: 6.9281\n",
      "Epoch 97/100\n",
      "1/1 [==============================] - 0s 7ms/step - loss: 6.9225 - mae: 6.9225\n",
      "Epoch 98/100\n",
      "1/1 [==============================] - 0s 9ms/step - loss: 6.9169 - mae: 6.9169\n",
      "Epoch 99/100\n",
      "1/1 [==============================] - 0s 8ms/step - loss: 6.9113 - mae: 6.9113\n",
      "Epoch 100/100\n",
      "1/1 [==============================] - 0s 8ms/step - loss: 6.9056 - mae: 6.9056\n"
     ]
    },
    {
     "data": {
      "text/plain": [
       "<keras.callbacks.History at 0x1e589355640>"
      ]
     },
     "execution_count": 11,
     "metadata": {},
     "output_type": "execute_result"
    }
   ],
   "source": [
    "# Set random seed\n",
    "tf.random.set_seed(42)\n",
    "\n",
    "# Create a model (same as above)\n",
    "model1 = tf.keras.Sequential([\n",
    "  tf.keras.layers.Dense(1)\n",
    "])\n",
    "\n",
    "# Compile model (same as above)\n",
    "model1.compile(loss=tf.keras.losses.mae,\n",
    "              optimizer=tf.keras.optimizers.SGD(),\n",
    "              metrics=[\"mae\"])\n",
    "\n",
    "# Fit model (this time we'll train for longer)\n",
    "model1.fit(tf.expand_dims(X, axis=-1), y, epochs=100) # train for 100 epochs not 10"
   ]
  },
  {
   "cell_type": "code",
   "execution_count": 12,
   "id": "d9f8881e",
   "metadata": {},
   "outputs": [
    {
     "name": "stdout",
     "output_type": "stream",
     "text": [
      "1/1 [==============================] - 0s 107ms/step\n"
     ]
    },
    {
     "data": {
      "text/plain": [
       "array([[30.152079]], dtype=float32)"
      ]
     },
     "execution_count": 12,
     "metadata": {},
     "output_type": "execute_result"
    }
   ],
   "source": [
    "model1.predict([17.0])"
   ]
  },
  {
   "cell_type": "code",
   "execution_count": 14,
   "id": "0da9823a",
   "metadata": {},
   "outputs": [
    {
     "name": "stdout",
     "output_type": "stream",
     "text": [
      "Epoch 1/100\n",
      "1/1 [==============================] - 0s 436ms/step - loss: 14.1293 - mae: 14.1293\n",
      "Epoch 2/100\n",
      "1/1 [==============================] - 0s 8ms/step - loss: 13.5989 - mae: 13.5989\n",
      "Epoch 3/100\n",
      "1/1 [==============================] - 0s 10ms/step - loss: 13.0834 - mae: 13.0834\n",
      "Epoch 4/100\n",
      "1/1 [==============================] - 0s 9ms/step - loss: 12.5784 - mae: 12.5784\n",
      "Epoch 5/100\n",
      "1/1 [==============================] - 0s 11ms/step - loss: 12.0694 - mae: 12.0694\n",
      "Epoch 6/100\n",
      "1/1 [==============================] - 0s 9ms/step - loss: 11.5478 - mae: 11.5478\n",
      "Epoch 7/100\n",
      "1/1 [==============================] - 0s 7ms/step - loss: 11.0096 - mae: 11.0096\n",
      "Epoch 8/100\n",
      "1/1 [==============================] - 0s 8ms/step - loss: 10.4511 - mae: 10.4511\n",
      "Epoch 9/100\n",
      "1/1 [==============================] - 0s 8ms/step - loss: 9.8711 - mae: 9.8711\n",
      "Epoch 10/100\n",
      "1/1 [==============================] - 0s 8ms/step - loss: 9.2659 - mae: 9.2659\n",
      "Epoch 11/100\n",
      "1/1 [==============================] - 0s 8ms/step - loss: 8.6203 - mae: 8.6203\n",
      "Epoch 12/100\n",
      "1/1 [==============================] - 0s 9ms/step - loss: 7.9312 - mae: 7.9312\n",
      "Epoch 13/100\n",
      "1/1 [==============================] - 0s 8ms/step - loss: 7.1929 - mae: 7.1929\n",
      "Epoch 14/100\n",
      "1/1 [==============================] - 0s 9ms/step - loss: 6.3997 - mae: 6.3997\n",
      "Epoch 15/100\n",
      "1/1 [==============================] - 0s 8ms/step - loss: 5.5425 - mae: 5.5425\n",
      "Epoch 16/100\n",
      "1/1 [==============================] - 0s 7ms/step - loss: 4.6141 - mae: 4.6141\n",
      "Epoch 17/100\n",
      "1/1 [==============================] - 0s 8ms/step - loss: 4.1222 - mae: 4.1222\n",
      "Epoch 18/100\n",
      "1/1 [==============================] - 0s 8ms/step - loss: 4.0230 - mae: 4.0230\n",
      "Epoch 19/100\n",
      "1/1 [==============================] - 0s 8ms/step - loss: 3.9930 - mae: 3.9930\n",
      "Epoch 20/100\n",
      "1/1 [==============================] - 0s 8ms/step - loss: 3.9261 - mae: 3.9261\n",
      "Epoch 21/100\n",
      "1/1 [==============================] - 0s 8ms/step - loss: 3.9135 - mae: 3.9135\n",
      "Epoch 22/100\n",
      "1/1 [==============================] - 0s 8ms/step - loss: 3.9317 - mae: 3.9317\n",
      "Epoch 23/100\n",
      "1/1 [==============================] - 0s 8ms/step - loss: 3.8881 - mae: 3.8881\n",
      "Epoch 24/100\n",
      "1/1 [==============================] - 0s 7ms/step - loss: 3.9384 - mae: 3.9384\n",
      "Epoch 25/100\n",
      "1/1 [==============================] - 0s 8ms/step - loss: 3.8719 - mae: 3.8719\n",
      "Epoch 26/100\n",
      "1/1 [==============================] - 0s 8ms/step - loss: 3.9349 - mae: 3.9349\n",
      "Epoch 27/100\n",
      "1/1 [==============================] - 0s 8ms/step - loss: 3.8794 - mae: 3.8794\n",
      "Epoch 28/100\n",
      "1/1 [==============================] - 0s 7ms/step - loss: 3.9179 - mae: 3.9179\n",
      "Epoch 29/100\n",
      "1/1 [==============================] - 0s 8ms/step - loss: 3.8940 - mae: 3.8940\n",
      "Epoch 30/100\n",
      "1/1 [==============================] - 0s 8ms/step - loss: 3.8924 - mae: 3.8924\n",
      "Epoch 31/100\n",
      "1/1 [==============================] - 0s 8ms/step - loss: 3.9007 - mae: 3.9007\n",
      "Epoch 32/100\n",
      "1/1 [==============================] - 0s 7ms/step - loss: 3.8668 - mae: 3.8668\n",
      "Epoch 33/100\n",
      "1/1 [==============================] - 0s 6ms/step - loss: 3.9076 - mae: 3.9076\n",
      "Epoch 34/100\n",
      "1/1 [==============================] - 0s 8ms/step - loss: 3.8415 - mae: 3.8415\n",
      "Epoch 35/100\n",
      "1/1 [==============================] - 0s 9ms/step - loss: 3.9139 - mae: 3.9139\n",
      "Epoch 36/100\n",
      "1/1 [==============================] - 0s 8ms/step - loss: 3.8571 - mae: 3.8571\n",
      "Epoch 37/100\n",
      "1/1 [==============================] - 0s 7ms/step - loss: 3.8959 - mae: 3.8959\n",
      "Epoch 38/100\n",
      "1/1 [==============================] - 0s 7ms/step - loss: 3.8639 - mae: 3.8639\n",
      "Epoch 39/100\n",
      "1/1 [==============================] - 0s 8ms/step - loss: 3.8701 - mae: 3.8701\n",
      "Epoch 40/100\n",
      "1/1 [==============================] - 0s 8ms/step - loss: 3.8708 - mae: 3.8708\n",
      "Epoch 41/100\n",
      "1/1 [==============================] - 0s 8ms/step - loss: 3.8443 - mae: 3.8443\n",
      "Epoch 42/100\n",
      "1/1 [==============================] - 0s 8ms/step - loss: 3.8779 - mae: 3.8779\n",
      "Epoch 43/100\n",
      "1/1 [==============================] - 0s 8ms/step - loss: 3.8182 - mae: 3.8182\n",
      "Epoch 44/100\n",
      "1/1 [==============================] - 0s 8ms/step - loss: 3.8931 - mae: 3.8931\n",
      "Epoch 45/100\n",
      "1/1 [==============================] - 0s 7ms/step - loss: 3.8280 - mae: 3.8280\n",
      "Epoch 46/100\n",
      "1/1 [==============================] - 0s 6ms/step - loss: 3.8726 - mae: 3.8726\n",
      "Epoch 47/100\n",
      "1/1 [==============================] - 0s 7ms/step - loss: 3.8350 - mae: 3.8350\n",
      "Epoch 48/100\n",
      "1/1 [==============================] - 0s 6ms/step - loss: 3.8466 - mae: 3.8466\n",
      "Epoch 49/100\n",
      "1/1 [==============================] - 0s 6ms/step - loss: 3.8421 - mae: 3.8421\n",
      "Epoch 50/100\n",
      "1/1 [==============================] - 0s 7ms/step - loss: 3.8204 - mae: 3.8204\n",
      "Epoch 51/100\n",
      "1/1 [==============================] - 0s 8ms/step - loss: 3.8494 - mae: 3.8494\n",
      "Epoch 52/100\n",
      "1/1 [==============================] - 0s 8ms/step - loss: 3.8016 - mae: 3.8016\n",
      "Epoch 53/100\n",
      "1/1 [==============================] - 0s 9ms/step - loss: 3.8657 - mae: 3.8657\n",
      "Epoch 54/100\n",
      "1/1 [==============================] - 0s 7ms/step - loss: 3.8000 - mae: 3.8000\n",
      "Epoch 55/100\n",
      "1/1 [==============================] - 0s 8ms/step - loss: 3.8480 - mae: 3.8480\n",
      "Epoch 56/100\n",
      "1/1 [==============================] - 0s 9ms/step - loss: 3.8072 - mae: 3.8072\n",
      "Epoch 57/100\n",
      "1/1 [==============================] - 0s 8ms/step - loss: 3.8217 - mae: 3.8217\n",
      "Epoch 58/100\n",
      "1/1 [==============================] - 0s 8ms/step - loss: 3.8145 - mae: 3.8145\n",
      "Epoch 59/100\n",
      "1/1 [==============================] - 0s 8ms/step - loss: 3.7954 - mae: 3.7954\n",
      "Epoch 60/100\n",
      "1/1 [==============================] - 0s 8ms/step - loss: 3.8279 - mae: 3.8279\n",
      "Epoch 61/100\n",
      "1/1 [==============================] - 0s 9ms/step - loss: 3.7771 - mae: 3.7771\n",
      "Epoch 62/100\n",
      "1/1 [==============================] - 0s 8ms/step - loss: 3.8385 - mae: 3.8385\n",
      "Epoch 63/100\n",
      "1/1 [==============================] - 0s 8ms/step - loss: 3.7732 - mae: 3.7732\n",
      "Epoch 64/100\n",
      "1/1 [==============================] - 0s 7ms/step - loss: 3.8222 - mae: 3.8222\n",
      "Epoch 65/100\n",
      "1/1 [==============================] - 0s 8ms/step - loss: 3.7805 - mae: 3.7805\n",
      "Epoch 66/100\n",
      "1/1 [==============================] - 0s 7ms/step - loss: 3.7957 - mae: 3.7957\n",
      "Epoch 67/100\n",
      "1/1 [==============================] - 0s 7ms/step - loss: 3.7881 - mae: 3.7881\n",
      "Epoch 68/100\n",
      "1/1 [==============================] - 0s 8ms/step - loss: 3.7741 - mae: 3.7741\n",
      "Epoch 69/100\n",
      "1/1 [==============================] - 0s 8ms/step - loss: 3.8047 - mae: 3.8047\n",
      "Epoch 70/100\n",
      "1/1 [==============================] - 0s 7ms/step - loss: 3.7504 - mae: 3.7504\n",
      "Epoch 71/100\n",
      "1/1 [==============================] - 0s 8ms/step - loss: 3.8123 - mae: 3.8123\n",
      "Epoch 72/100\n",
      "1/1 [==============================] - 0s 9ms/step - loss: 3.7473 - mae: 3.7473\n",
      "Epoch 73/100\n",
      "1/1 [==============================] - 0s 8ms/step - loss: 3.7951 - mae: 3.7951\n",
      "Epoch 74/100\n",
      "1/1 [==============================] - 0s 7ms/step - loss: 3.7549 - mae: 3.7549\n",
      "Epoch 75/100\n",
      "1/1 [==============================] - 0s 7ms/step - loss: 3.7683 - mae: 3.7683\n",
      "Epoch 76/100\n",
      "1/1 [==============================] - 0s 8ms/step - loss: 3.7662 - mae: 3.7662\n",
      "Epoch 77/100\n",
      "1/1 [==============================] - 0s 10ms/step - loss: 3.7496 - mae: 3.7496\n",
      "Epoch 78/100\n",
      "1/1 [==============================] - 0s 7ms/step - loss: 3.7794 - mae: 3.7794\n",
      "Epoch 79/100\n",
      "1/1 [==============================] - 0s 8ms/step - loss: 3.7223 - mae: 3.7223\n",
      "Epoch 80/100\n",
      "1/1 [==============================] - 0s 8ms/step - loss: 3.7873 - mae: 3.7873\n",
      "Epoch 81/100\n",
      "1/1 [==============================] - 0s 8ms/step - loss: 3.7225 - mae: 3.7225\n",
      "Epoch 82/100\n",
      "1/1 [==============================] - 0s 8ms/step - loss: 3.7667 - mae: 3.7667\n",
      "Epoch 83/100\n",
      "1/1 [==============================] - 0s 8ms/step - loss: 3.7304 - mae: 3.7304\n",
      "Epoch 84/100\n",
      "1/1 [==============================] - 0s 7ms/step - loss: 3.7423 - mae: 3.7423\n",
      "Epoch 85/100\n",
      "1/1 [==============================] - 0s 8ms/step - loss: 3.7473 - mae: 3.7473\n",
      "Epoch 86/100\n",
      "1/1 [==============================] - 0s 7ms/step - loss: 3.7205 - mae: 3.7205\n",
      "Epoch 87/100\n",
      "1/1 [==============================] - 0s 8ms/step - loss: 3.7552 - mae: 3.7552\n",
      "Epoch 88/100\n",
      "1/1 [==============================] - 0s 8ms/step - loss: 3.6929 - mae: 3.6929\n"
     ]
    },
    {
     "name": "stdout",
     "output_type": "stream",
     "text": [
      "Epoch 89/100\n",
      "1/1 [==============================] - 0s 8ms/step - loss: 3.7632 - mae: 3.7632\n",
      "Epoch 90/100\n",
      "1/1 [==============================] - 0s 8ms/step - loss: 3.6988 - mae: 3.6988\n",
      "Epoch 91/100\n",
      "1/1 [==============================] - 0s 8ms/step - loss: 3.7370 - mae: 3.7370\n",
      "Epoch 92/100\n",
      "1/1 [==============================] - 0s 6ms/step - loss: 3.7080 - mae: 3.7080\n",
      "Epoch 93/100\n",
      "1/1 [==============================] - 0s 6ms/step - loss: 3.7179 - mae: 3.7179\n",
      "Epoch 94/100\n",
      "1/1 [==============================] - 0s 7ms/step - loss: 3.7238 - mae: 3.7238\n",
      "Epoch 95/100\n",
      "1/1 [==============================] - 0s 7ms/step - loss: 3.6901 - mae: 3.6901\n",
      "Epoch 96/100\n",
      "1/1 [==============================] - 0s 8ms/step - loss: 3.7319 - mae: 3.7319\n",
      "Epoch 97/100\n",
      "1/1 [==============================] - 0s 8ms/step - loss: 3.6679 - mae: 3.6679\n",
      "Epoch 98/100\n",
      "1/1 [==============================] - 0s 8ms/step - loss: 3.7336 - mae: 3.7336\n",
      "Epoch 99/100\n",
      "1/1 [==============================] - 0s 8ms/step - loss: 3.6760 - mae: 3.6760\n",
      "Epoch 100/100\n",
      "1/1 [==============================] - 0s 8ms/step - loss: 3.7063 - mae: 3.7063\n"
     ]
    },
    {
     "data": {
      "text/plain": [
       "<keras.callbacks.History at 0x1e58940b6a0>"
      ]
     },
     "execution_count": 14,
     "metadata": {},
     "output_type": "execute_result"
    }
   ],
   "source": [
    "# Set random seed\n",
    "tf.random.set_seed(42)\n",
    "\n",
    "# Create a model (same as above)\n",
    "model2 = tf.keras.Sequential([\n",
    "    tf.keras.layers.Dense(100, activation=\"relu\"),\n",
    "    tf.keras.layers.Dense(1)    \n",
    "])\n",
    "\n",
    "# Compile model (same as above)\n",
    "model2.compile(loss=tf.keras.losses.mae,\n",
    "              optimizer=tf.keras.optimizers.SGD(),\n",
    "              metrics=[\"mae\"])\n",
    "\n",
    "# Fit model (this time we'll train for longer)\n",
    "model2.fit(tf.expand_dims(X, axis=-1), y, epochs=100) # train for 100 epochs not 10"
   ]
  },
  {
   "cell_type": "code",
   "execution_count": 15,
   "id": "4eec613f",
   "metadata": {},
   "outputs": [
    {
     "name": "stdout",
     "output_type": "stream",
     "text": [
      "1/1 [==============================] - 0s 99ms/step\n"
     ]
    },
    {
     "data": {
      "text/plain": [
       "array([[32.408752]], dtype=float32)"
      ]
     },
     "execution_count": 15,
     "metadata": {},
     "output_type": "execute_result"
    }
   ],
   "source": [
    "model2.predict([17.0])"
   ]
  },
  {
   "cell_type": "code",
   "execution_count": null,
   "id": "66af7114",
   "metadata": {},
   "outputs": [],
   "source": []
  },
  {
   "cell_type": "code",
   "execution_count": null,
   "id": "902eab7e",
   "metadata": {},
   "outputs": [],
   "source": []
  },
  {
   "cell_type": "code",
   "execution_count": 20,
   "id": "565d2121",
   "metadata": {},
   "outputs": [
    {
     "name": "stdout",
     "output_type": "stream",
     "text": [
      "Epoch 1/100\n",
      "1/1 [==============================] - 0s 494ms/step - loss: 12.5909 - mae: 12.5909\n",
      "Epoch 2/100\n",
      "1/1 [==============================] - 0s 9ms/step - loss: 11.8837 - mae: 11.8837\n",
      "Epoch 3/100\n",
      "1/1 [==============================] - 0s 8ms/step - loss: 11.1710 - mae: 11.1710\n",
      "Epoch 4/100\n",
      "1/1 [==============================] - 0s 8ms/step - loss: 10.4496 - mae: 10.4496\n",
      "Epoch 5/100\n",
      "1/1 [==============================] - 0s 10ms/step - loss: 9.7179 - mae: 9.7179\n",
      "Epoch 6/100\n",
      "1/1 [==============================] - 0s 8ms/step - loss: 8.9748 - mae: 8.9748\n",
      "Epoch 7/100\n",
      "1/1 [==============================] - 0s 8ms/step - loss: 8.2184 - mae: 8.2184\n",
      "Epoch 8/100\n",
      "1/1 [==============================] - 0s 8ms/step - loss: 7.4468 - mae: 7.4468\n",
      "Epoch 9/100\n",
      "1/1 [==============================] - 0s 9ms/step - loss: 6.8642 - mae: 6.8642\n",
      "Epoch 10/100\n",
      "1/1 [==============================] - 0s 8ms/step - loss: 6.9554 - mae: 6.9554\n",
      "Epoch 11/100\n",
      "1/1 [==============================] - 0s 9ms/step - loss: 7.2326 - mae: 7.2326\n",
      "Epoch 12/100\n",
      "1/1 [==============================] - 0s 10ms/step - loss: 7.3895 - mae: 7.3895\n",
      "Epoch 13/100\n",
      "1/1 [==============================] - 0s 8ms/step - loss: 7.5181 - mae: 7.5181\n",
      "Epoch 14/100\n",
      "1/1 [==============================] - 0s 7ms/step - loss: 7.4444 - mae: 7.4444\n",
      "Epoch 15/100\n",
      "1/1 [==============================] - 0s 7ms/step - loss: 7.2027 - mae: 7.2027\n",
      "Epoch 16/100\n",
      "1/1 [==============================] - 0s 9ms/step - loss: 6.9959 - mae: 6.9959\n",
      "Epoch 17/100\n",
      "1/1 [==============================] - 0s 8ms/step - loss: 6.7582 - mae: 6.7582\n",
      "Epoch 18/100\n",
      "1/1 [==============================] - 0s 9ms/step - loss: 6.4961 - mae: 6.4961\n",
      "Epoch 19/100\n",
      "1/1 [==============================] - 0s 7ms/step - loss: 6.2146 - mae: 6.2146\n",
      "Epoch 20/100\n",
      "1/1 [==============================] - 0s 9ms/step - loss: 6.1441 - mae: 6.1441\n",
      "Epoch 21/100\n",
      "1/1 [==============================] - 0s 9ms/step - loss: 6.1013 - mae: 6.1013\n",
      "Epoch 22/100\n",
      "1/1 [==============================] - 0s 8ms/step - loss: 6.1948 - mae: 6.1948\n",
      "Epoch 23/100\n",
      "1/1 [==============================] - 0s 8ms/step - loss: 6.1756 - mae: 6.1756\n",
      "Epoch 24/100\n",
      "1/1 [==============================] - 0s 8ms/step - loss: 6.0592 - mae: 6.0592\n",
      "Epoch 25/100\n",
      "1/1 [==============================] - 0s 9ms/step - loss: 5.8572 - mae: 5.8572\n",
      "Epoch 26/100\n",
      "1/1 [==============================] - 0s 7ms/step - loss: 5.6828 - mae: 5.6828\n",
      "Epoch 27/100\n",
      "1/1 [==============================] - 0s 10ms/step - loss: 5.5797 - mae: 5.5797\n",
      "Epoch 28/100\n",
      "1/1 [==============================] - 0s 8ms/step - loss: 5.4735 - mae: 5.4735\n",
      "Epoch 29/100\n",
      "1/1 [==============================] - 0s 8ms/step - loss: 5.4577 - mae: 5.4577\n",
      "Epoch 30/100\n",
      "1/1 [==============================] - 0s 7ms/step - loss: 5.4324 - mae: 5.4324\n",
      "Epoch 31/100\n",
      "1/1 [==============================] - 0s 7ms/step - loss: 5.3600 - mae: 5.3600\n",
      "Epoch 32/100\n",
      "1/1 [==============================] - 0s 8ms/step - loss: 5.2444 - mae: 5.2444\n",
      "Epoch 33/100\n",
      "1/1 [==============================] - 0s 7ms/step - loss: 5.0894 - mae: 5.0894\n",
      "Epoch 34/100\n",
      "1/1 [==============================] - 0s 7ms/step - loss: 4.8985 - mae: 4.8985\n",
      "Epoch 35/100\n",
      "1/1 [==============================] - 0s 6ms/step - loss: 4.7818 - mae: 4.7818\n",
      "Epoch 36/100\n",
      "1/1 [==============================] - 0s 8ms/step - loss: 4.6844 - mae: 4.6844\n",
      "Epoch 37/100\n",
      "1/1 [==============================] - 0s 9ms/step - loss: 4.5796 - mae: 4.5796\n",
      "Epoch 38/100\n",
      "1/1 [==============================] - 0s 8ms/step - loss: 4.5656 - mae: 4.5656\n",
      "Epoch 39/100\n",
      "1/1 [==============================] - 0s 9ms/step - loss: 4.4388 - mae: 4.4388\n",
      "Epoch 40/100\n",
      "1/1 [==============================] - 0s 10ms/step - loss: 4.1973 - mae: 4.1973\n",
      "Epoch 41/100\n",
      "1/1 [==============================] - 0s 7ms/step - loss: 4.0352 - mae: 4.0352\n",
      "Epoch 42/100\n",
      "1/1 [==============================] - 0s 9ms/step - loss: 3.8850 - mae: 3.8850\n",
      "Epoch 43/100\n",
      "1/1 [==============================] - 0s 7ms/step - loss: 3.8179 - mae: 3.8179\n",
      "Epoch 44/100\n",
      "1/1 [==============================] - 0s 7ms/step - loss: 3.6946 - mae: 3.6946\n",
      "Epoch 45/100\n",
      "1/1 [==============================] - 0s 9ms/step - loss: 3.5181 - mae: 3.5181\n",
      "Epoch 46/100\n",
      "1/1 [==============================] - 0s 11ms/step - loss: 3.2916 - mae: 3.2916\n",
      "Epoch 47/100\n",
      "1/1 [==============================] - 0s 8ms/step - loss: 3.0839 - mae: 3.0839\n",
      "Epoch 48/100\n",
      "1/1 [==============================] - 0s 6ms/step - loss: 2.9192 - mae: 2.9192\n",
      "Epoch 49/100\n",
      "1/1 [==============================] - 0s 7ms/step - loss: 2.8142 - mae: 2.8142\n",
      "Epoch 50/100\n",
      "1/1 [==============================] - 0s 7ms/step - loss: 2.6047 - mae: 2.6047\n",
      "Epoch 51/100\n",
      "1/1 [==============================] - 0s 6ms/step - loss: 2.3289 - mae: 2.3289\n",
      "Epoch 52/100\n",
      "1/1 [==============================] - 0s 7ms/step - loss: 2.1215 - mae: 2.1215\n",
      "Epoch 53/100\n",
      "1/1 [==============================] - 0s 8ms/step - loss: 1.9481 - mae: 1.9481\n",
      "Epoch 54/100\n",
      "1/1 [==============================] - 0s 8ms/step - loss: 1.7069 - mae: 1.7069\n",
      "Epoch 55/100\n",
      "1/1 [==============================] - 0s 9ms/step - loss: 1.4296 - mae: 1.4296\n",
      "Epoch 56/100\n",
      "1/1 [==============================] - 0s 7ms/step - loss: 1.2049 - mae: 1.2049\n",
      "Epoch 57/100\n",
      "1/1 [==============================] - 0s 7ms/step - loss: 0.9321 - mae: 0.9321\n",
      "Epoch 58/100\n",
      "1/1 [==============================] - 0s 8ms/step - loss: 0.6887 - mae: 0.6887\n",
      "Epoch 59/100\n",
      "1/1 [==============================] - 0s 9ms/step - loss: 0.4020 - mae: 0.4020\n",
      "Epoch 60/100\n",
      "1/1 [==============================] - 0s 8ms/step - loss: 0.1982 - mae: 0.1982\n",
      "Epoch 61/100\n",
      "1/1 [==============================] - 0s 9ms/step - loss: 0.2148 - mae: 0.2148\n",
      "Epoch 62/100\n",
      "1/1 [==============================] - 0s 11ms/step - loss: 0.6151 - mae: 0.6151\n",
      "Epoch 63/100\n",
      "1/1 [==============================] - 0s 10ms/step - loss: 0.8271 - mae: 0.8271\n",
      "Epoch 64/100\n",
      "1/1 [==============================] - 0s 8ms/step - loss: 0.7994 - mae: 0.7994\n",
      "Epoch 65/100\n",
      "1/1 [==============================] - 0s 7ms/step - loss: 0.8717 - mae: 0.8717\n",
      "Epoch 66/100\n",
      "1/1 [==============================] - 0s 6ms/step - loss: 0.9700 - mae: 0.9700\n",
      "Epoch 67/100\n",
      "1/1 [==============================] - 0s 8ms/step - loss: 0.8456 - mae: 0.8456\n",
      "Epoch 68/100\n",
      "1/1 [==============================] - 0s 7ms/step - loss: 0.8083 - mae: 0.8083\n",
      "Epoch 69/100\n",
      "1/1 [==============================] - 0s 7ms/step - loss: 0.7600 - mae: 0.7600\n",
      "Epoch 70/100\n",
      "1/1 [==============================] - 0s 7ms/step - loss: 0.5725 - mae: 0.5725\n",
      "Epoch 71/100\n",
      "1/1 [==============================] - 0s 8ms/step - loss: 0.5659 - mae: 0.5659\n",
      "Epoch 72/100\n",
      "1/1 [==============================] - 0s 8ms/step - loss: 0.3954 - mae: 0.3954\n",
      "Epoch 73/100\n",
      "1/1 [==============================] - 0s 8ms/step - loss: 0.2271 - mae: 0.2271\n",
      "Epoch 74/100\n",
      "1/1 [==============================] - 0s 9ms/step - loss: 0.1833 - mae: 0.1833\n",
      "Epoch 75/100\n",
      "1/1 [==============================] - 0s 9ms/step - loss: 0.2311 - mae: 0.2311\n",
      "Epoch 76/100\n",
      "1/1 [==============================] - 0s 7ms/step - loss: 0.3570 - mae: 0.3570\n",
      "Epoch 77/100\n",
      "1/1 [==============================] - 0s 7ms/step - loss: 0.3070 - mae: 0.3070\n",
      "Epoch 78/100\n",
      "1/1 [==============================] - 0s 8ms/step - loss: 0.4860 - mae: 0.4860\n",
      "Epoch 79/100\n",
      "1/1 [==============================] - 0s 7ms/step - loss: 0.4973 - mae: 0.4973\n",
      "Epoch 80/100\n",
      "1/1 [==============================] - 0s 7ms/step - loss: 0.2990 - mae: 0.2990\n",
      "Epoch 81/100\n",
      "1/1 [==============================] - 0s 6ms/step - loss: 0.4337 - mae: 0.4337\n",
      "Epoch 82/100\n",
      "1/1 [==============================] - 0s 8ms/step - loss: 0.4597 - mae: 0.4597\n",
      "Epoch 83/100\n",
      "1/1 [==============================] - 0s 5ms/step - loss: 0.2848 - mae: 0.2848\n",
      "Epoch 84/100\n",
      "1/1 [==============================] - 0s 7ms/step - loss: 0.1510 - mae: 0.1510\n",
      "Epoch 85/100\n",
      "1/1 [==============================] - 0s 7ms/step - loss: 0.2075 - mae: 0.2075\n",
      "Epoch 86/100\n",
      "1/1 [==============================] - 0s 7ms/step - loss: 0.1293 - mae: 0.1293\n",
      "Epoch 87/100\n",
      "1/1 [==============================] - 0s 8ms/step - loss: 0.1986 - mae: 0.1986\n",
      "Epoch 88/100\n",
      "1/1 [==============================] - 0s 8ms/step - loss: 0.1728 - mae: 0.1728\n",
      "Epoch 89/100\n"
     ]
    },
    {
     "name": "stdout",
     "output_type": "stream",
     "text": [
      "1/1 [==============================] - 0s 9ms/step - loss: 0.1290 - mae: 0.1290\n",
      "Epoch 90/100\n",
      "1/1 [==============================] - 0s 9ms/step - loss: 0.0684 - mae: 0.0684\n",
      "Epoch 91/100\n",
      "1/1 [==============================] - 0s 7ms/step - loss: 0.1421 - mae: 0.1421\n",
      "Epoch 92/100\n",
      "1/1 [==============================] - 0s 8ms/step - loss: 0.0909 - mae: 0.0909\n",
      "Epoch 93/100\n",
      "1/1 [==============================] - 0s 8ms/step - loss: 0.1415 - mae: 0.1415\n",
      "Epoch 94/100\n",
      "1/1 [==============================] - 0s 8ms/step - loss: 0.2015 - mae: 0.2015\n",
      "Epoch 95/100\n",
      "1/1 [==============================] - 0s 7ms/step - loss: 0.1592 - mae: 0.1592\n",
      "Epoch 96/100\n",
      "1/1 [==============================] - 0s 9ms/step - loss: 0.1673 - mae: 0.1673\n",
      "Epoch 97/100\n",
      "1/1 [==============================] - 0s 8ms/step - loss: 0.0740 - mae: 0.0740\n",
      "Epoch 98/100\n",
      "1/1 [==============================] - 0s 9ms/step - loss: 0.2999 - mae: 0.2999\n",
      "Epoch 99/100\n",
      "1/1 [==============================] - 0s 8ms/step - loss: 0.3413 - mae: 0.3413\n",
      "Epoch 100/100\n",
      "1/1 [==============================] - 0s 8ms/step - loss: 0.1474 - mae: 0.1474\n"
     ]
    },
    {
     "data": {
      "text/plain": [
       "<keras.callbacks.History at 0x1e5d93e0790>"
      ]
     },
     "execution_count": 20,
     "metadata": {},
     "output_type": "execute_result"
    }
   ],
   "source": [
    "# Set random seed\n",
    "tf.random.set_seed(42)\n",
    "\n",
    "# Create a model (same as above)\n",
    "model3 = tf.keras.Sequential([\n",
    "    tf.keras.layers.Dense(50, activation=None),\n",
    "    tf.keras.layers.Dense(1)    \n",
    "])\n",
    "\n",
    "# Compile model (same as above)\n",
    "model3.compile(loss=tf.keras.losses.mae,\n",
    "              optimizer=tf.keras.optimizers.Adam(lr=0.01),\n",
    "              metrics=[\"mae\"])\n",
    "\n",
    "# Fit model (this time we'll train for longer)\n",
    "model3.fit(tf.expand_dims(X, axis=-1), y, epochs=100) # train for 100 epochs not 10"
   ]
  },
  {
   "cell_type": "code",
   "execution_count": 21,
   "id": "ddb08bf1",
   "metadata": {},
   "outputs": [
    {
     "name": "stdout",
     "output_type": "stream",
     "text": [
      "WARNING:tensorflow:5 out of the last 5 calls to <function Model.make_predict_function.<locals>.predict_function at 0x000001E5D90D91F0> triggered tf.function retracing. Tracing is expensive and the excessive number of tracings could be due to (1) creating @tf.function repeatedly in a loop, (2) passing tensors with different shapes, (3) passing Python objects instead of tensors. For (1), please define your @tf.function outside of the loop. For (2), @tf.function has reduce_retracing=True option that can avoid unnecessary retracing. For (3), please refer to https://www.tensorflow.org/guide/function#controlling_retracing and https://www.tensorflow.org/api_docs/python/tf/function for  more details.\n",
      "1/1 [==============================] - 0s 114ms/step\n"
     ]
    },
    {
     "data": {
      "text/plain": [
       "array([[27.731857]], dtype=float32)"
      ]
     },
     "execution_count": 21,
     "metadata": {},
     "output_type": "execute_result"
    }
   ],
   "source": [
    "model3.predict([17.0])"
   ]
  },
  {
   "cell_type": "code",
   "execution_count": null,
   "id": "99979e21",
   "metadata": {},
   "outputs": [],
   "source": []
  },
  {
   "cell_type": "code",
   "execution_count": null,
   "id": "15e88498",
   "metadata": {},
   "outputs": [],
   "source": []
  },
  {
   "cell_type": "code",
   "execution_count": 3,
   "id": "e22ac9b5",
   "metadata": {},
   "outputs": [
    {
     "data": {
      "text/plain": [
       "array([-100,  -96,  -92,  -88,  -84,  -80,  -76,  -72,  -68,  -64,  -60,\n",
       "        -56,  -52,  -48,  -44,  -40,  -36,  -32,  -28,  -24,  -20,  -16,\n",
       "        -12,   -8,   -4,    0,    4,    8,   12,   16,   20,   24,   28,\n",
       "         32,   36,   40,   44,   48,   52,   56,   60,   64,   68,   72,\n",
       "         76,   80,   84,   88,   92,   96])"
      ]
     },
     "execution_count": 3,
     "metadata": {},
     "output_type": "execute_result"
    }
   ],
   "source": [
    "X = np.arange(-100, 100, 4)\n",
    "X"
   ]
  },
  {
   "cell_type": "code",
   "execution_count": 4,
   "id": "841ee522",
   "metadata": {},
   "outputs": [
    {
     "data": {
      "text/plain": [
       "array([-90, -86, -82, -78, -74, -70, -66, -62, -58, -54, -50, -46, -42,\n",
       "       -38, -34, -30, -26, -22, -18, -14, -10,  -6,  -2,   2,   6,  10,\n",
       "        14,  18,  22,  26,  30,  34,  38,  42,  46,  50,  54,  58,  62,\n",
       "        66,  70,  74,  78,  82,  86,  90,  94,  98, 102, 106])"
      ]
     },
     "execution_count": 4,
     "metadata": {},
     "output_type": "execute_result"
    }
   ],
   "source": [
    "y = np.arange(-90, 110, 4)\n",
    "y # y = X + 10"
   ]
  },
  {
   "cell_type": "code",
   "execution_count": 24,
   "id": "c8548c26",
   "metadata": {},
   "outputs": [
    {
     "data": {
      "text/plain": [
       "[<matplotlib.lines.Line2D at 0x1e5e6f8aa90>]"
      ]
     },
     "execution_count": 24,
     "metadata": {},
     "output_type": "execute_result"
    },
    {
     "data": {
      "image/png": "[encoded data removed]",
      "text/plain": [
       "<Figure size 640x480 with 1 Axes>"
      ]
     },
     "metadata": {},
     "output_type": "display_data"
    }
   ],
   "source": [
    "plt.plot(X, y)"
   ]
  },
  {
   "cell_type": "code",
   "execution_count": 25,
   "id": "3d3b19fa",
   "metadata": {},
   "outputs": [
    {
     "data": {
      "text/plain": [
       "<matplotlib.collections.PathCollection at 0x1e5ea7e6a30>"
      ]
     },
     "execution_count": 25,
     "metadata": {},
     "output_type": "execute_result"
    },
    {
     "data": {
      "image/png": "[encoded data removed]",
      "text/plain": [
       "<Figure size 640x480 with 1 Axes>"
      ]
     },
     "metadata": {},
     "output_type": "display_data"
    }
   ],
   "source": [
    "plt.scatter(X, y)"
   ]
  },
  {
   "cell_type": "code",
   "execution_count": 28,
   "id": "fb1431e5",
   "metadata": {},
   "outputs": [],
   "source": [
    "from sklearn.model_selection import train_test_split\n",
    "X_train, X_test, y_train, y_test = train_test_split(X, y,test_size= 0.2 ,random_state=42)"
   ]
  },
  {
   "cell_type": "code",
   "execution_count": 5,
   "id": "738eb097",
   "metadata": {},
   "outputs": [],
   "source": [
    "X_train = X[:40]\n",
    "X_test = X[40:]\n",
    "y_train = y[:40]\n",
    "y_test = y[40:]"
   ]
  },
  {
   "cell_type": "code",
   "execution_count": 6,
   "id": "d40aecb4",
   "metadata": {},
   "outputs": [
    {
     "data": {
      "text/plain": [
       "((40,), (10,), (40,), (10,))"
      ]
     },
     "execution_count": 6,
     "metadata": {},
     "output_type": "execute_result"
    }
   ],
   "source": [
    "X_train.shape, X_test.shape, y_train.shape, y_test.shape"
   ]
  },
  {
   "cell_type": "code",
   "execution_count": 30,
   "id": "c24751c4",
   "metadata": {},
   "outputs": [
    {
     "data": {
      "text/plain": [
       "<matplotlib.legend.Legend at 0x1f5bf1fe730>"
      ]
     },
     "execution_count": 30,
     "metadata": {},
     "output_type": "execute_result"
    },
    {
     "data": {
      "image/png": "[encoded data removed]",
      "text/plain": [
       "<Figure size 640x480 with 1 Axes>"
      ]
     },
     "metadata": {},
     "output_type": "display_data"
    }
   ],
   "source": [
    "plt.scatter(X_train, y_train, c='b', label='Training data')\n",
    "plt.scatter(X_test, y_test, c='g', label='Testing data')\n",
    "plt.legend()"
   ]
  },
  {
   "cell_type": "code",
   "execution_count": 31,
   "id": "db090fa4",
   "metadata": {},
   "outputs": [],
   "source": [
    "model = tf.keras.Sequential([\n",
    "  tf.keras.layers.Dense(1)\n",
    "])\n",
    "\n",
    "model.compile(loss=tf.keras.losses.mae,\n",
    "              optimizer=tf.keras.optimizers.SGD(),\n",
    "              metrics=[\"mae\"])\n",
    "\n",
    "#model.fit(X_train, y_train, epochs=100)"
   ]
  },
  {
   "cell_type": "code",
   "execution_count": 32,
   "id": "02f555b3",
   "metadata": {},
   "outputs": [
    {
     "ename": "ValueError",
     "evalue": "This model has not yet been built. Build the model first by calling `build()` or by calling the model on a batch of data.",
     "output_type": "error",
     "traceback": [
      "\u001b[1;31m---------------------------------------------------------------------------\u001b[0m",
      "\u001b[1;31mValueError\u001b[0m                                Traceback (most recent call last)",
      "Cell \u001b[1;32mIn[32], line 1\u001b[0m\n\u001b[1;32m----> 1\u001b[0m \u001b[43mmodel\u001b[49m\u001b[38;5;241;43m.\u001b[39;49m\u001b[43msummary\u001b[49m\u001b[43m(\u001b[49m\u001b[43m)\u001b[49m\n",
      "File \u001b[1;32m~\\OneDrive\\Desktop\\Files\\TensorFlow Developer Certificate in 2023 Zero to Mastery\\My files\\venv\\lib\\site-packages\\keras\\engine\\training.py:3214\u001b[0m, in \u001b[0;36mModel.summary\u001b[1;34m(self, line_length, positions, print_fn, expand_nested, show_trainable, layer_range)\u001b[0m\n\u001b[0;32m   3184\u001b[0m \u001b[38;5;250m\u001b[39m\u001b[38;5;124;03m\"\"\"Prints a string summary of the network.\u001b[39;00m\n\u001b[0;32m   3185\u001b[0m \n\u001b[0;32m   3186\u001b[0m \u001b[38;5;124;03mArgs:\u001b[39;00m\n\u001b[1;32m   (...)\u001b[0m\n\u001b[0;32m   3211\u001b[0m \u001b[38;5;124;03m    ValueError: if `summary()` is called before the model is built.\u001b[39;00m\n\u001b[0;32m   3212\u001b[0m \u001b[38;5;124;03m\"\"\"\u001b[39;00m\n\u001b[0;32m   3213\u001b[0m \u001b[38;5;28;01mif\u001b[39;00m \u001b[38;5;129;01mnot\u001b[39;00m \u001b[38;5;28mself\u001b[39m\u001b[38;5;241m.\u001b[39mbuilt:\n\u001b[1;32m-> 3214\u001b[0m     \u001b[38;5;28;01mraise\u001b[39;00m \u001b[38;5;167;01mValueError\u001b[39;00m(\n\u001b[0;32m   3215\u001b[0m         \u001b[38;5;124m\"\u001b[39m\u001b[38;5;124mThis model has not yet been built. \u001b[39m\u001b[38;5;124m\"\u001b[39m\n\u001b[0;32m   3216\u001b[0m         \u001b[38;5;124m\"\u001b[39m\u001b[38;5;124mBuild the model first by calling `build()` or by calling \u001b[39m\u001b[38;5;124m\"\u001b[39m\n\u001b[0;32m   3217\u001b[0m         \u001b[38;5;124m\"\u001b[39m\u001b[38;5;124mthe model on a batch of data.\u001b[39m\u001b[38;5;124m\"\u001b[39m\n\u001b[0;32m   3218\u001b[0m     )\n\u001b[0;32m   3219\u001b[0m layer_utils\u001b[38;5;241m.\u001b[39mprint_summary(\n\u001b[0;32m   3220\u001b[0m     \u001b[38;5;28mself\u001b[39m,\n\u001b[0;32m   3221\u001b[0m     line_length\u001b[38;5;241m=\u001b[39mline_length,\n\u001b[1;32m   (...)\u001b[0m\n\u001b[0;32m   3226\u001b[0m     layer_range\u001b[38;5;241m=\u001b[39mlayer_range,\n\u001b[0;32m   3227\u001b[0m )\n",
      "\u001b[1;31mValueError\u001b[0m: This model has not yet been built. Build the model first by calling `build()` or by calling the model on a batch of data."
     ]
    }
   ],
   "source": [
    "model.summary()"
   ]
  },
  {
   "cell_type": "code",
   "execution_count": 32,
   "id": "fd1a75a7",
   "metadata": {},
   "outputs": [
    {
     "data": {
      "text/plain": [
       "(-100, -90)"
      ]
     },
     "execution_count": 32,
     "metadata": {},
     "output_type": "execute_result"
    }
   ],
   "source": [
    "X[0], y[0]"
   ]
  },
  {
   "cell_type": "code",
   "execution_count": 8,
   "id": "1d90df51",
   "metadata": {},
   "outputs": [],
   "source": [
    "tf.random.set_seed(42)\n",
    "model = tf.keras.Sequential([\n",
    "  tf.keras.layers.Dense(1, input_shape=[1])\n",
    "])\n",
    "\n",
    "model.compile(loss=tf.keras.losses.mae,\n",
    "              optimizer=tf.keras.optimizers.SGD(),\n",
    "              metrics=[\"mae\"])"
   ]
  },
  {
   "cell_type": "code",
   "execution_count": 9,
   "id": "7b0ee6ee",
   "metadata": {},
   "outputs": [
    {
     "name": "stdout",
     "output_type": "stream",
     "text": [
      "Model: \"sequential\"\n",
      "_________________________________________________________________\n",
      " Layer (type)                Output Shape              Param #   \n",
      "=================================================================\n",
      " dense (Dense)               (None, 1)                 2         \n",
      "                                                                 \n",
      "=================================================================\n",
      "Total params: 2\n",
      "Trainable params: 2\n",
      "Non-trainable params: 0\n",
      "_________________________________________________________________\n"
     ]
    }
   ],
   "source": [
    "model.summary()"
   ]
  },
  {
   "cell_type": "code",
   "execution_count": 10,
   "id": "ca1e5e13",
   "metadata": {},
   "outputs": [
    {
     "data": {
      "image/png": "[encoded data removed]",
      "text/plain": [
       "<IPython.core.display.Image object>"
      ]
     },
     "execution_count": 10,
     "metadata": {},
     "output_type": "execute_result"
    }
   ],
   "source": [
    "from tensorflow.keras.utils import plot_model\n",
    "\n",
    "plot_model(model, show_shapes=True)"
   ]
  },
  {
   "cell_type": "code",
   "execution_count": 11,
   "id": "feaad588",
   "metadata": {},
   "outputs": [
    {
     "data": {
      "text/plain": [
       "<keras.callbacks.History at 0x299851f4d90>"
      ]
     },
     "execution_count": 11,
     "metadata": {},
     "output_type": "execute_result"
    }
   ],
   "source": [
    "model.fit(X_train, y_train, epochs=100, verbose=0)"
   ]
  },
  {
   "cell_type": "code",
   "execution_count": 12,
   "id": "b6d25e2d",
   "metadata": {},
   "outputs": [
    {
     "name": "stdout",
     "output_type": "stream",
     "text": [
      "Model: \"sequential\"\n",
      "_________________________________________________________________\n",
      " Layer (type)                Output Shape              Param #   \n",
      "=================================================================\n",
      " dense (Dense)               (None, 1)                 2         \n",
      "                                                                 \n",
      "=================================================================\n",
      "Total params: 2\n",
      "Trainable params: 2\n",
      "Non-trainable params: 0\n",
      "_________________________________________________________________\n"
     ]
    }
   ],
   "source": [
    "model.summary()"
   ]
  },
  {
   "cell_type": "code",
   "execution_count": 13,
   "id": "db970db3",
   "metadata": {},
   "outputs": [
    {
     "data": {
      "image/png": "[encoded data removed]",
      "text/plain": [
       "<IPython.core.display.Image object>"
      ]
     },
     "execution_count": 13,
     "metadata": {},
     "output_type": "execute_result"
    }
   ],
   "source": [
    "from tensorflow.keras.utils import plot_model\n",
    "\n",
    "plot_model(model, show_shapes=True)"
   ]
  },
  {
   "cell_type": "code",
   "execution_count": 6,
   "id": "2245e070",
   "metadata": {},
   "outputs": [],
   "source": [
    "tf.random.set_seed(42)\n",
    "model1 = tf.keras.Sequential([\n",
    "  tf.keras.layers.Dense(10, input_shape=[1])\n",
    "])\n",
    "\n",
    "model1.compile(loss=tf.keras.losses.mae,\n",
    "              optimizer=tf.keras.optimizers.SGD(),\n",
    "              metrics=[\"mae\"])"
   ]
  },
  {
   "cell_type": "code",
   "execution_count": 7,
   "id": "49c36bfe",
   "metadata": {},
   "outputs": [
    {
     "name": "stdout",
     "output_type": "stream",
     "text": [
      "Model: \"sequential\"\n",
      "_________________________________________________________________\n",
      " Layer (type)                Output Shape              Param #   \n",
      "=================================================================\n",
      " dense (Dense)               (None, 10)                20        \n",
      "                                                                 \n",
      "=================================================================\n",
      "Total params: 20\n",
      "Trainable params: 20\n",
      "Non-trainable params: 0\n",
      "_________________________________________________________________\n"
     ]
    }
   ],
   "source": [
    "model1.summary()"
   ]
  },
  {
   "cell_type": "code",
   "execution_count": 8,
   "id": "247c933e",
   "metadata": {},
   "outputs": [
    {
     "data": {
      "text/plain": [
       "<keras.callbacks.History at 0x254af546730>"
      ]
     },
     "execution_count": 8,
     "metadata": {},
     "output_type": "execute_result"
    }
   ],
   "source": [
    "model1.fit(X_train, y_train, epochs=100, verbose=0)"
   ]
  },
  {
   "cell_type": "code",
   "execution_count": 9,
   "id": "af651937",
   "metadata": {},
   "outputs": [
    {
     "name": "stdout",
     "output_type": "stream",
     "text": [
      "Model: \"sequential\"\n",
      "_________________________________________________________________\n",
      " Layer (type)                Output Shape              Param #   \n",
      "=================================================================\n",
      " dense (Dense)               (None, 10)                20        \n",
      "                                                                 \n",
      "=================================================================\n",
      "Total params: 20\n",
      "Trainable params: 20\n",
      "Non-trainable params: 0\n",
      "_________________________________________________________________\n"
     ]
    }
   ],
   "source": [
    "model1.summary()"
   ]
  },
  {
   "cell_type": "code",
   "execution_count": 10,
   "id": "fe0fdb4c",
   "metadata": {},
   "outputs": [
    {
     "data": {
      "image/png": "[encoded data removed]",
      "text/plain": [
       "<IPython.core.display.Image object>"
      ]
     },
     "execution_count": 10,
     "metadata": {},
     "output_type": "execute_result"
    }
   ],
   "source": [
    "from tensorflow.keras.utils import plot_model\n",
    "\n",
    "plot_model(model1, show_shapes=True)"
   ]
  },
  {
   "cell_type": "code",
   "execution_count": 11,
   "id": "7079af75",
   "metadata": {},
   "outputs": [],
   "source": [
    "tf.random.set_seed(42)\n",
    "model2 = tf.keras.Sequential([\n",
    "    tf.keras.layers.Dense(10, input_shape=[1], name = \"Input_Layer\"),\n",
    "    tf.keras.layers.Dense(1, name = \"Output_Layer\")\n",
    "], name = \"Second_Model\")\n",
    "\n",
    "model2.compile(loss=tf.keras.losses.mae,\n",
    "              optimizer=tf.keras.optimizers.SGD(),\n",
    "              metrics=[\"mae\"])"
   ]
  },
  {
   "cell_type": "code",
   "execution_count": 12,
   "id": "9a00014b",
   "metadata": {},
   "outputs": [
    {
     "name": "stdout",
     "output_type": "stream",
     "text": [
      "Model: \"Second_Model\"\n",
      "_________________________________________________________________\n",
      " Layer (type)                Output Shape              Param #   \n",
      "=================================================================\n",
      " Input_Layer (Dense)         (None, 10)                20        \n",
      "                                                                 \n",
      " Output_Layer (Dense)        (None, 1)                 11        \n",
      "                                                                 \n",
      "=================================================================\n",
      "Total params: 31\n",
      "Trainable params: 31\n",
      "Non-trainable params: 0\n",
      "_________________________________________________________________\n"
     ]
    }
   ],
   "source": [
    "model2.summary()"
   ]
  },
  {
   "cell_type": "code",
   "execution_count": 13,
   "id": "9bc9e832",
   "metadata": {},
   "outputs": [
    {
     "data": {
      "text/plain": [
       "<keras.callbacks.History at 0x254b6e97c40>"
      ]
     },
     "execution_count": 13,
     "metadata": {},
     "output_type": "execute_result"
    }
   ],
   "source": [
    "model2.fit(X_train, y_train, epochs=100, verbose=0)"
   ]
  },
  {
   "cell_type": "code",
   "execution_count": 14,
   "id": "b82e3090",
   "metadata": {},
   "outputs": [
    {
     "name": "stdout",
     "output_type": "stream",
     "text": [
      "Model: \"Second_Model\"\n",
      "_________________________________________________________________\n",
      " Layer (type)                Output Shape              Param #   \n",
      "=================================================================\n",
      " Input_Layer (Dense)         (None, 10)                20        \n",
      "                                                                 \n",
      " Output_Layer (Dense)        (None, 1)                 11        \n",
      "                                                                 \n",
      "=================================================================\n",
      "Total params: 31\n",
      "Trainable params: 31\n",
      "Non-trainable params: 0\n",
      "_________________________________________________________________\n"
     ]
    }
   ],
   "source": [
    "model2.summary()"
   ]
  },
  {
   "cell_type": "code",
   "execution_count": 15,
   "id": "902b432b",
   "metadata": {},
   "outputs": [
    {
     "data": {
      "image/png": "[encoded data removed]",
      "text/plain": [
       "<IPython.core.display.Image object>"
      ]
     },
     "execution_count": 15,
     "metadata": {},
     "output_type": "execute_result"
    }
   ],
   "source": [
    "from tensorflow.keras.utils import plot_model\n",
    "\n",
    "plot_model(model2, show_shapes=True)"
   ]
  },
  {
   "cell_type": "code",
   "execution_count": 16,
   "id": "404bbf72",
   "metadata": {},
   "outputs": [
    {
     "name": "stdout",
     "output_type": "stream",
     "text": [
      "1/1 [==============================] - 0s 52ms/step\n"
     ]
    }
   ],
   "source": [
    "y_preds = model2.predict(X_test)"
   ]
  },
  {
   "cell_type": "code",
   "execution_count": 17,
   "id": "2f1744f2",
   "metadata": {},
   "outputs": [
    {
     "data": {
      "text/plain": [
       "array([[ 78.27641 ],\n",
       "       [ 83.37883 ],\n",
       "       [ 88.48125 ],\n",
       "       [ 93.58365 ],\n",
       "       [ 98.686066],\n",
       "       [103.78847 ],\n",
       "       [108.89088 ],\n",
       "       [113.993286],\n",
       "       [119.0957  ],\n",
       "       [124.19812 ]], dtype=float32)"
      ]
     },
     "execution_count": 17,
     "metadata": {},
     "output_type": "execute_result"
    }
   ],
   "source": [
    "y_preds"
   ]
  },
  {
   "cell_type": "code",
   "execution_count": 18,
   "id": "cc755791",
   "metadata": {},
   "outputs": [],
   "source": [
    "def plot_predictions(train_data=X_train, \n",
    "                     train_labels=y_train, \n",
    "                     test_data=X_test, \n",
    "                     test_labels=y_test, \n",
    "                     predictions=y_preds):\n",
    "  \"\"\"\n",
    "  Plots training data, test data and compares predictions.\n",
    "  \"\"\"\n",
    "  plt.figure(figsize=(10, 7))\n",
    "  plt.scatter(train_data, train_labels, c=\"b\", label=\"Training data\")\n",
    "  plt.scatter(test_data, test_labels, c=\"g\", label=\"Testing data\")\n",
    "  plt.scatter(test_data, predictions, c=\"r\", label=\"Predictions\")\n",
    "  plt.legend()"
   ]
  },
  {
   "cell_type": "code",
   "execution_count": 19,
   "id": "6725038f",
   "metadata": {},
   "outputs": [
    {
     "data": {
      "image/png": "[encoded data removed]",
      "text/plain": [
       "<Figure size 1000x700 with 1 Axes>"
      ]
     },
     "metadata": {},
     "output_type": "display_data"
    }
   ],
   "source": [
    "plot_predictions(train_data=X_train,\n",
    "                 train_labels=y_train,\n",
    "                 test_data=X_test,\n",
    "                 test_labels=y_test,\n",
    "                 predictions=y_preds)"
   ]
  },
  {
   "cell_type": "code",
   "execution_count": 20,
   "id": "69e2bc61",
   "metadata": {},
   "outputs": [
    {
     "name": "stdout",
     "output_type": "stream",
     "text": [
      "1/1 [==============================] - 0s 86ms/step - loss: 13.2373 - mae: 13.2373\n"
     ]
    },
    {
     "data": {
      "text/plain": [
       "[13.237264633178711, 13.237264633178711]"
      ]
     },
     "execution_count": 20,
     "metadata": {},
     "output_type": "execute_result"
    }
   ],
   "source": [
    "model2.evaluate(X_test, y_test)"
   ]
  },
  {
   "cell_type": "code",
   "execution_count": 21,
   "id": "a8bf539b",
   "metadata": {},
   "outputs": [
    {
     "data": {
      "text/plain": [
       "<tf.Tensor: shape=(10,), dtype=float32, numpy=\n",
       "array([12.289434, 10.524234, 10.      , 10.71673 , 12.81164 , 16.230774,\n",
       "       20.890877, 25.993286, 31.095703, 36.19812 ], dtype=float32)>"
      ]
     },
     "execution_count": 21,
     "metadata": {},
     "output_type": "execute_result"
    }
   ],
   "source": [
    "tf.metrics.mean_absolute_error(y_true=y_test, y_pred=y_preds)"
   ]
  },
  {
   "cell_type": "code",
   "execution_count": 22,
   "id": "388b138e",
   "metadata": {},
   "outputs": [
    {
     "data": {
      "text/plain": [
       "array([[ -8.27641296,  -4.27641296,  -0.27641296,   3.72358704,\n",
       "          7.72358704,  11.72358704,  15.72358704,  19.72358704,\n",
       "         23.72358704,  27.72358704],\n",
       "       [-13.37882996,  -9.37882996,  -5.37882996,  -1.37882996,\n",
       "          2.62117004,   6.62117004,  10.62117004,  14.62117004,\n",
       "         18.62117004,  22.62117004],\n",
       "       [-18.48124695, -14.48124695, -10.48124695,  -6.48124695,\n",
       "         -2.48124695,   1.51875305,   5.51875305,   9.51875305,\n",
       "         13.51875305,  17.51875305],\n",
       "       [-23.58364868, -19.58364868, -15.58364868, -11.58364868,\n",
       "         -7.58364868,  -3.58364868,   0.41635132,   4.41635132,\n",
       "          8.41635132,  12.41635132],\n",
       "       [-28.68606567, -24.68606567, -20.68606567, -16.68606567,\n",
       "        -12.68606567,  -8.68606567,  -4.68606567,  -0.68606567,\n",
       "          3.31393433,   7.31393433],\n",
       "       [-33.78846741, -29.78846741, -25.78846741, -21.78846741,\n",
       "        -17.78846741, -13.78846741,  -9.78846741,  -5.78846741,\n",
       "         -1.78846741,   2.21153259],\n",
       "       [-38.89087677, -34.89087677, -30.89087677, -26.89087677,\n",
       "        -22.89087677, -18.89087677, -14.89087677, -10.89087677,\n",
       "         -6.89087677,  -2.89087677],\n",
       "       [-43.99328613, -39.99328613, -35.99328613, -31.99328613,\n",
       "        -27.99328613, -23.99328613, -19.99328613, -15.99328613,\n",
       "        -11.99328613,  -7.99328613],\n",
       "       [-49.09570312, -45.09570312, -41.09570312, -37.09570312,\n",
       "        -33.09570312, -29.09570312, -25.09570312, -21.09570312,\n",
       "        -17.09570312, -13.09570312],\n",
       "       [-54.19812012, -50.19812012, -46.19812012, -42.19812012,\n",
       "        -38.19812012, -34.19812012, -30.19812012, -26.19812012,\n",
       "        -22.19812012, -18.19812012]])"
      ]
     },
     "execution_count": 22,
     "metadata": {},
     "output_type": "execute_result"
    }
   ],
   "source": [
    "y_test - y_preds"
   ]
  },
  {
   "cell_type": "code",
   "execution_count": 23,
   "id": "cf622853",
   "metadata": {},
   "outputs": [
    {
     "data": {
      "text/plain": [
       "array([[  8.27641296,   4.27641296,   0.27641296,  -3.72358704,\n",
       "         -7.72358704, -11.72358704, -15.72358704, -19.72358704,\n",
       "        -23.72358704, -27.72358704],\n",
       "       [ 13.37882996,   9.37882996,   5.37882996,   1.37882996,\n",
       "         -2.62117004,  -6.62117004, -10.62117004, -14.62117004,\n",
       "        -18.62117004, -22.62117004],\n",
       "       [ 18.48124695,  14.48124695,  10.48124695,   6.48124695,\n",
       "          2.48124695,  -1.51875305,  -5.51875305,  -9.51875305,\n",
       "        -13.51875305, -17.51875305],\n",
       "       [ 23.58364868,  19.58364868,  15.58364868,  11.58364868,\n",
       "          7.58364868,   3.58364868,  -0.41635132,  -4.41635132,\n",
       "         -8.41635132, -12.41635132],\n",
       "       [ 28.68606567,  24.68606567,  20.68606567,  16.68606567,\n",
       "         12.68606567,   8.68606567,   4.68606567,   0.68606567,\n",
       "         -3.31393433,  -7.31393433],\n",
       "       [ 33.78846741,  29.78846741,  25.78846741,  21.78846741,\n",
       "         17.78846741,  13.78846741,   9.78846741,   5.78846741,\n",
       "          1.78846741,  -2.21153259],\n",
       "       [ 38.89087677,  34.89087677,  30.89087677,  26.89087677,\n",
       "         22.89087677,  18.89087677,  14.89087677,  10.89087677,\n",
       "          6.89087677,   2.89087677],\n",
       "       [ 43.99328613,  39.99328613,  35.99328613,  31.99328613,\n",
       "         27.99328613,  23.99328613,  19.99328613,  15.99328613,\n",
       "         11.99328613,   7.99328613],\n",
       "       [ 49.09570312,  45.09570312,  41.09570312,  37.09570312,\n",
       "         33.09570312,  29.09570312,  25.09570312,  21.09570312,\n",
       "         17.09570312,  13.09570312],\n",
       "       [ 54.19812012,  50.19812012,  46.19812012,  42.19812012,\n",
       "         38.19812012,  34.19812012,  30.19812012,  26.19812012,\n",
       "         22.19812012,  18.19812012]])"
      ]
     },
     "execution_count": 23,
     "metadata": {},
     "output_type": "execute_result"
    }
   ],
   "source": [
    "y_preds - y_test"
   ]
  },
  {
   "cell_type": "code",
   "execution_count": 24,
   "id": "06c04c75",
   "metadata": {},
   "outputs": [
    {
     "data": {
      "text/plain": [
       "array([ 70,  74,  78,  82,  86,  90,  94,  98, 102, 106])"
      ]
     },
     "execution_count": 24,
     "metadata": {},
     "output_type": "execute_result"
    }
   ],
   "source": [
    "y_test"
   ]
  },
  {
   "cell_type": "code",
   "execution_count": 25,
   "id": "a10427a2",
   "metadata": {},
   "outputs": [
    {
     "data": {
      "text/plain": [
       "array([[ 78.27641 ],\n",
       "       [ 83.37883 ],\n",
       "       [ 88.48125 ],\n",
       "       [ 93.58365 ],\n",
       "       [ 98.686066],\n",
       "       [103.78847 ],\n",
       "       [108.89088 ],\n",
       "       [113.993286],\n",
       "       [119.0957  ],\n",
       "       [124.19812 ]], dtype=float32)"
      ]
     },
     "execution_count": 25,
     "metadata": {},
     "output_type": "execute_result"
    }
   ],
   "source": [
    "y_preds"
   ]
  },
  {
   "cell_type": "code",
   "execution_count": 26,
   "id": "ecc1cff1",
   "metadata": {},
   "outputs": [
    {
     "data": {
      "text/plain": [
       "((10,), (10, 1))"
      ]
     },
     "execution_count": 26,
     "metadata": {},
     "output_type": "execute_result"
    }
   ],
   "source": [
    "y_test.shape, y_preds.shape"
   ]
  },
  {
   "cell_type": "code",
   "execution_count": 27,
   "id": "c7959ddc",
   "metadata": {},
   "outputs": [
    {
     "data": {
      "text/plain": [
       "array([ 8.27641296,  9.37882996, 10.48124695, 11.58364868, 12.68606567,\n",
       "       13.78846741, 14.89087677, 15.99328613, 17.09570312, 18.19812012])"
      ]
     },
     "execution_count": 27,
     "metadata": {},
     "output_type": "execute_result"
    }
   ],
   "source": [
    "y_preds.squeeze() - y_test"
   ]
  },
  {
   "cell_type": "code",
   "execution_count": 28,
   "id": "9ac2a1dd",
   "metadata": {},
   "outputs": [
    {
     "data": {
      "text/plain": [
       "<tf.Tensor: shape=(), dtype=float32, numpy=13.237265>"
      ]
     },
     "execution_count": 28,
     "metadata": {},
     "output_type": "execute_result"
    }
   ],
   "source": [
    "tf.metrics.mean_absolute_error(y_true=y_test, y_pred=y_preds.squeeze())"
   ]
  },
  {
   "cell_type": "code",
   "execution_count": 29,
   "id": "0cf2fb48",
   "metadata": {},
   "outputs": [
    {
     "data": {
      "text/plain": [
       "<tf.Tensor: shape=(), dtype=float32, numpy=185.25151>"
      ]
     },
     "execution_count": 29,
     "metadata": {},
     "output_type": "execute_result"
    }
   ],
   "source": [
    "tf.metrics.mean_squared_error(y_true=y_test, y_pred=y_preds.squeeze())"
   ]
  },
  {
   "cell_type": "code",
   "execution_count": 30,
   "id": "3fa76e2b",
   "metadata": {},
   "outputs": [],
   "source": [
    "def mae(y_test, y_pred):\n",
    "  \"\"\"\n",
    "  Calculuates mean absolute error between y_test and y_preds.\n",
    "  \"\"\"\n",
    "  return tf.metrics.mean_absolute_error(y_test,\n",
    "                                        y_pred)\n",
    "  \n",
    "def mse(y_test, y_pred):\n",
    "  \"\"\"\n",
    "  Calculates mean squared error between y_test and y_preds.\n",
    "  \"\"\"\n",
    "  return tf.metrics.mean_squared_error(y_test,\n",
    "                                       y_pred)"
   ]
  },
  {
   "cell_type": "code",
   "execution_count": 31,
   "id": "31b68273",
   "metadata": {},
   "outputs": [
    {
     "name": "stdout",
     "output_type": "stream",
     "text": [
      "Epoch 1/100\n",
      "2/2 [==============================] - 0s 5ms/step - loss: 40.6713 - mae: 40.6713\n",
      "Epoch 2/100\n",
      "2/2 [==============================] - 0s 5ms/step - loss: 12.1334 - mae: 12.1334\n",
      "Epoch 3/100\n",
      "2/2 [==============================] - 0s 4ms/step - loss: 11.3973 - mae: 11.3973\n",
      "Epoch 4/100\n",
      "2/2 [==============================] - 0s 5ms/step - loss: 9.5116 - mae: 9.5116\n",
      "Epoch 5/100\n",
      "2/2 [==============================] - 0s 5ms/step - loss: 10.4110 - mae: 10.4110\n",
      "Epoch 6/100\n",
      "2/2 [==============================] - 0s 5ms/step - loss: 9.6456 - mae: 9.6456\n",
      "Epoch 7/100\n",
      "2/2 [==============================] - 0s 4ms/step - loss: 8.7515 - mae: 8.7515\n",
      "Epoch 8/100\n",
      "2/2 [==============================] - 0s 3ms/step - loss: 9.0675 - mae: 9.0675\n",
      "Epoch 9/100\n",
      "2/2 [==============================] - 0s 4ms/step - loss: 19.1894 - mae: 19.1894\n",
      "Epoch 10/100\n",
      "2/2 [==============================] - 0s 4ms/step - loss: 10.3637 - mae: 10.3637\n",
      "Epoch 11/100\n",
      "2/2 [==============================] - 0s 4ms/step - loss: 8.5003 - mae: 8.5003\n",
      "Epoch 12/100\n",
      "2/2 [==============================] - 0s 5ms/step - loss: 10.8652 - mae: 10.8652\n",
      "Epoch 13/100\n",
      "2/2 [==============================] - 0s 4ms/step - loss: 9.9084 - mae: 9.9084\n",
      "Epoch 14/100\n",
      "2/2 [==============================] - 0s 6ms/step - loss: 12.1344 - mae: 12.1344\n",
      "Epoch 15/100\n",
      "2/2 [==============================] - 0s 4ms/step - loss: 12.3517 - mae: 12.3517\n",
      "Epoch 16/100\n",
      "2/2 [==============================] - 0s 5ms/step - loss: 8.4422 - mae: 8.4422\n",
      "Epoch 17/100\n",
      "2/2 [==============================] - 0s 4ms/step - loss: 13.4039 - mae: 13.4039\n",
      "Epoch 18/100\n",
      "2/2 [==============================] - 0s 4ms/step - loss: 11.1729 - mae: 11.1729\n",
      "Epoch 19/100\n",
      "2/2 [==============================] - 0s 5ms/step - loss: 18.3751 - mae: 18.3751\n",
      "Epoch 20/100\n",
      "2/2 [==============================] - 0s 4ms/step - loss: 15.0780 - mae: 15.0780\n",
      "Epoch 21/100\n",
      "2/2 [==============================] - 0s 4ms/step - loss: 11.0469 - mae: 11.0469\n",
      "Epoch 22/100\n",
      "2/2 [==============================] - 0s 4ms/step - loss: 8.1799 - mae: 8.1799\n",
      "Epoch 23/100\n",
      "2/2 [==============================] - 0s 4ms/step - loss: 9.5061 - mae: 9.5061\n",
      "Epoch 24/100\n",
      "2/2 [==============================] - 0s 4ms/step - loss: 7.6723 - mae: 7.6723\n",
      "Epoch 25/100\n",
      "2/2 [==============================] - 0s 4ms/step - loss: 13.1573 - mae: 13.1573\n",
      "Epoch 26/100\n",
      "2/2 [==============================] - 0s 4ms/step - loss: 16.4493 - mae: 16.4493\n",
      "Epoch 27/100\n",
      "2/2 [==============================] - 0s 4ms/step - loss: 13.1905 - mae: 13.1905\n",
      "Epoch 28/100\n",
      "2/2 [==============================] - 0s 4ms/step - loss: 14.2862 - mae: 14.2862\n",
      "Epoch 29/100\n",
      "2/2 [==============================] - 0s 5ms/step - loss: 10.0799 - mae: 10.0799\n",
      "Epoch 30/100\n",
      "2/2 [==============================] - 0s 4ms/step - loss: 16.3825 - mae: 16.3825\n",
      "Epoch 31/100\n",
      "2/2 [==============================] - 0s 4ms/step - loss: 23.6112 - mae: 23.6112\n",
      "Epoch 32/100\n",
      "2/2 [==============================] - 0s 4ms/step - loss: 7.6223 - mae: 7.6223\n",
      "Epoch 33/100\n",
      "2/2 [==============================] - 0s 4ms/step - loss: 9.3208 - mae: 9.3208\n",
      "Epoch 34/100\n",
      "2/2 [==============================] - 0s 4ms/step - loss: 13.7108 - mae: 13.7108\n",
      "Epoch 35/100\n",
      "2/2 [==============================] - 0s 5ms/step - loss: 11.1485 - mae: 11.1485\n",
      "Epoch 36/100\n",
      "2/2 [==============================] - 0s 5ms/step - loss: 13.3561 - mae: 13.3561\n",
      "Epoch 37/100\n",
      "2/2 [==============================] - 0s 5ms/step - loss: 9.4709 - mae: 9.4709\n",
      "Epoch 38/100\n",
      "2/2 [==============================] - 0s 5ms/step - loss: 10.1281 - mae: 10.1281\n",
      "Epoch 39/100\n",
      "2/2 [==============================] - 0s 5ms/step - loss: 10.2004 - mae: 10.2004\n",
      "Epoch 40/100\n",
      "2/2 [==============================] - 0s 5ms/step - loss: 10.9394 - mae: 10.9394\n",
      "Epoch 41/100\n",
      "2/2 [==============================] - 0s 4ms/step - loss: 7.9286 - mae: 7.9286\n",
      "Epoch 42/100\n",
      "2/2 [==============================] - 0s 4ms/step - loss: 10.0838 - mae: 10.0838\n",
      "Epoch 43/100\n",
      "2/2 [==============================] - 0s 4ms/step - loss: 8.7012 - mae: 8.7012\n",
      "Epoch 44/100\n",
      "2/2 [==============================] - 0s 4ms/step - loss: 12.1839 - mae: 12.1839\n",
      "Epoch 45/100\n",
      "2/2 [==============================] - 0s 4ms/step - loss: 13.8270 - mae: 13.8270\n",
      "Epoch 46/100\n",
      "2/2 [==============================] - 0s 5ms/step - loss: 8.4920 - mae: 8.4920\n",
      "Epoch 47/100\n",
      "2/2 [==============================] - 0s 4ms/step - loss: 9.1273 - mae: 9.1273\n",
      "Epoch 48/100\n",
      "2/2 [==============================] - 0s 4ms/step - loss: 10.6077 - mae: 10.6077\n",
      "Epoch 49/100\n",
      "2/2 [==============================] - 0s 4ms/step - loss: 7.7457 - mae: 7.7457\n",
      "Epoch 50/100\n",
      "2/2 [==============================] - 0s 4ms/step - loss: 9.5306 - mae: 9.5306\n",
      "Epoch 51/100\n",
      "2/2 [==============================] - 0s 4ms/step - loss: 9.1608 - mae: 9.1608\n",
      "Epoch 52/100\n",
      "2/2 [==============================] - 0s 5ms/step - loss: 16.3301 - mae: 16.3301\n",
      "Epoch 53/100\n",
      "2/2 [==============================] - 0s 4ms/step - loss: 14.1497 - mae: 14.1497\n",
      "Epoch 54/100\n",
      "2/2 [==============================] - 0s 4ms/step - loss: 21.1666 - mae: 21.1666\n",
      "Epoch 55/100\n",
      "2/2 [==============================] - 0s 4ms/step - loss: 16.3677 - mae: 16.3677\n",
      "Epoch 56/100\n",
      "2/2 [==============================] - 0s 5ms/step - loss: 10.0100 - mae: 10.0100\n",
      "Epoch 57/100\n",
      "2/2 [==============================] - 0s 4ms/step - loss: 9.9522 - mae: 9.9522\n",
      "Epoch 58/100\n",
      "2/2 [==============================] - 0s 3ms/step - loss: 9.2147 - mae: 9.2147\n",
      "Epoch 59/100\n",
      "2/2 [==============================] - 0s 5ms/step - loss: 8.4169 - mae: 8.4169\n",
      "Epoch 60/100\n",
      "2/2 [==============================] - 0s 5ms/step - loss: 9.4834 - mae: 9.4834\n",
      "Epoch 61/100\n",
      "2/2 [==============================] - 0s 4ms/step - loss: 11.4211 - mae: 11.4211\n",
      "Epoch 62/100\n",
      "2/2 [==============================] - 0s 3ms/step - loss: 11.7182 - mae: 11.7182\n",
      "Epoch 63/100\n",
      "2/2 [==============================] - 0s 4ms/step - loss: 7.0829 - mae: 7.0829\n",
      "Epoch 64/100\n",
      "2/2 [==============================] - 0s 4ms/step - loss: 16.9972 - mae: 16.9972\n",
      "Epoch 65/100\n",
      "2/2 [==============================] - 0s 4ms/step - loss: 12.4838 - mae: 12.4838\n",
      "Epoch 66/100\n",
      "2/2 [==============================] - 0s 4ms/step - loss: 13.0480 - mae: 13.0480\n",
      "Epoch 67/100\n",
      "2/2 [==============================] - 0s 4ms/step - loss: 8.0755 - mae: 8.0755\n",
      "Epoch 68/100\n",
      "2/2 [==============================] - 0s 4ms/step - loss: 10.2097 - mae: 10.2097\n",
      "Epoch 69/100\n",
      "2/2 [==============================] - 0s 4ms/step - loss: 12.3948 - mae: 12.3948\n",
      "Epoch 70/100\n",
      "2/2 [==============================] - 0s 4ms/step - loss: 9.0458 - mae: 9.0458\n",
      "Epoch 71/100\n",
      "2/2 [==============================] - 0s 4ms/step - loss: 10.0304 - mae: 10.0304\n",
      "Epoch 72/100\n",
      "2/2 [==============================] - 0s 4ms/step - loss: 10.0474 - mae: 10.0474\n",
      "Epoch 73/100\n",
      "2/2 [==============================] - 0s 4ms/step - loss: 12.5976 - mae: 12.5976\n",
      "Epoch 74/100\n",
      "2/2 [==============================] - 0s 4ms/step - loss: 10.4132 - mae: 10.4132\n",
      "Epoch 75/100\n",
      "2/2 [==============================] - 0s 3ms/step - loss: 9.7169 - mae: 9.7169\n",
      "Epoch 76/100\n",
      "2/2 [==============================] - 0s 4ms/step - loss: 11.2147 - mae: 11.2147\n",
      "Epoch 77/100\n",
      "2/2 [==============================] - 0s 4ms/step - loss: 8.3588 - mae: 8.3588\n",
      "Epoch 78/100\n",
      "2/2 [==============================] - 0s 3ms/step - loss: 9.1131 - mae: 9.1131\n",
      "Epoch 79/100\n",
      "2/2 [==============================] - 0s 4ms/step - loss: 19.5442 - mae: 19.5442\n",
      "Epoch 80/100\n",
      "2/2 [==============================] - 0s 4ms/step - loss: 14.8691 - mae: 14.8691\n",
      "Epoch 81/100\n",
      "2/2 [==============================] - 0s 3ms/step - loss: 9.0382 - mae: 9.0382\n",
      "Epoch 82/100\n",
      "2/2 [==============================] - 0s 4ms/step - loss: 13.0007 - mae: 13.0007\n",
      "Epoch 83/100\n",
      "2/2 [==============================] - 0s 4ms/step - loss: 7.9200 - mae: 7.9200\n",
      "Epoch 84/100\n",
      "2/2 [==============================] - 0s 5ms/step - loss: 7.7011 - mae: 7.7011\n",
      "Epoch 85/100\n",
      "2/2 [==============================] - 0s 4ms/step - loss: 10.0561 - mae: 10.0561\n",
      "Epoch 86/100\n",
      "2/2 [==============================] - 0s 5ms/step - loss: 9.2607 - mae: 9.2607\n",
      "Epoch 87/100\n",
      "2/2 [==============================] - 0s 4ms/step - loss: 12.0462 - mae: 12.0462\n",
      "Epoch 88/100\n"
     ]
    },
    {
     "name": "stdout",
     "output_type": "stream",
     "text": [
      "2/2 [==============================] - 0s 4ms/step - loss: 10.6659 - mae: 10.6659\n",
      "Epoch 89/100\n",
      "2/2 [==============================] - 0s 4ms/step - loss: 7.2750 - mae: 7.2750\n",
      "Epoch 90/100\n",
      "2/2 [==============================] - 0s 4ms/step - loss: 12.8080 - mae: 12.8080\n",
      "Epoch 91/100\n",
      "2/2 [==============================] - 0s 5ms/step - loss: 7.4861 - mae: 7.4861\n",
      "Epoch 92/100\n",
      "2/2 [==============================] - 0s 4ms/step - loss: 6.7594 - mae: 6.7594\n",
      "Epoch 93/100\n",
      "2/2 [==============================] - 0s 4ms/step - loss: 11.9581 - mae: 11.9581\n",
      "Epoch 94/100\n",
      "2/2 [==============================] - 0s 4ms/step - loss: 8.8898 - mae: 8.8898\n",
      "Epoch 95/100\n",
      "2/2 [==============================] - 0s 4ms/step - loss: 7.7289 - mae: 7.7289\n",
      "Epoch 96/100\n",
      "2/2 [==============================] - 0s 4ms/step - loss: 6.7578 - mae: 6.7578\n",
      "Epoch 97/100\n",
      "2/2 [==============================] - 0s 4ms/step - loss: 8.6417 - mae: 8.6417\n",
      "Epoch 98/100\n",
      "2/2 [==============================] - 0s 4ms/step - loss: 9.3983 - mae: 9.3983\n",
      "Epoch 99/100\n",
      "2/2 [==============================] - 0s 4ms/step - loss: 9.1342 - mae: 9.1342\n",
      "Epoch 100/100\n",
      "2/2 [==============================] - 0s 4ms/step - loss: 10.4905 - mae: 10.4905\n"
     ]
    },
    {
     "data": {
      "text/plain": [
       "<keras.callbacks.History at 0x254c5ce9460>"
      ]
     },
     "execution_count": 31,
     "metadata": {},
     "output_type": "execute_result"
    }
   ],
   "source": [
    "tf.random.set_seed(42)\n",
    "\n",
    "model_1 = tf.keras.Sequential([\n",
    "  tf.keras.layers.Dense(1)\n",
    "])\n",
    "\n",
    "model_1.compile(loss=tf.keras.losses.mae,\n",
    "                optimizer=tf.keras.optimizers.SGD(),\n",
    "                metrics=['mae'])\n",
    "\n",
    "model_1.fit(tf.expand_dims(X_train, axis=-1), y_train, epochs=100)"
   ]
  },
  {
   "cell_type": "code",
   "execution_count": 32,
   "id": "4f791cd4",
   "metadata": {
    "scrolled": true
   },
   "outputs": [
    {
     "name": "stdout",
     "output_type": "stream",
     "text": [
      "1/1 [==============================] - 0s 46ms/step\n"
     ]
    },
    {
     "data": {
      "image/png": "[encoded data removed]",
      "text/plain": [
       "<Figure size 1000x700 with 1 Axes>"
      ]
     },
     "metadata": {},
     "output_type": "display_data"
    }
   ],
   "source": [
    "y_preds_1 = model_1.predict(X_test)\n",
    "plot_predictions(predictions=y_preds_1)"
   ]
  },
  {
   "cell_type": "code",
   "execution_count": 33,
   "id": "752a92da",
   "metadata": {},
   "outputs": [
    {
     "data": {
      "text/plain": [
       "(14.9294615, 223.72757)"
      ]
     },
     "execution_count": 33,
     "metadata": {},
     "output_type": "execute_result"
    }
   ],
   "source": [
    "mae_1 = mae(y_test, y_preds_1.squeeze()).numpy()\n",
    "mse_1 = mse(y_test, y_preds_1.squeeze()).numpy()\n",
    "mae_1, mse_1"
   ]
  },
  {
   "cell_type": "code",
   "execution_count": 34,
   "id": "9a25f5c1",
   "metadata": {},
   "outputs": [
    {
     "name": "stdout",
     "output_type": "stream",
     "text": [
      "Epoch 1/100\n",
      "2/2 [==============================] - 0s 4ms/step - loss: 14.0356 - mse: 441.0598\n",
      "Epoch 2/100\n",
      "2/2 [==============================] - 0s 5ms/step - loss: 24.3572 - mse: 760.8811\n",
      "Epoch 3/100\n",
      "2/2 [==============================] - 0s 5ms/step - loss: 29.9864 - mse: 1331.3790\n",
      "Epoch 4/100\n",
      "2/2 [==============================] - 0s 5ms/step - loss: 25.8082 - mse: 971.7718\n",
      "Epoch 5/100\n",
      "2/2 [==============================] - 0s 4ms/step - loss: 14.1828 - mse: 246.3971\n",
      "Epoch 6/100\n",
      "2/2 [==============================] - 0s 4ms/step - loss: 11.3355 - mse: 145.0256\n",
      "Epoch 7/100\n",
      "2/2 [==============================] - 0s 4ms/step - loss: 12.3523 - mse: 198.1244\n",
      "Epoch 8/100\n",
      "2/2 [==============================] - 0s 6ms/step - loss: 10.9307 - mse: 140.8278\n",
      "Epoch 9/100\n",
      "2/2 [==============================] - 0s 5ms/step - loss: 38.5326 - mse: 2306.6770\n",
      "Epoch 10/100\n",
      "2/2 [==============================] - 0s 3ms/step - loss: 26.0366 - mse: 953.5115\n",
      "Epoch 11/100\n",
      "2/2 [==============================] - 0s 4ms/step - loss: 9.3861 - mse: 118.0487\n",
      "Epoch 12/100\n",
      "2/2 [==============================] - 0s 5ms/step - loss: 26.3118 - mse: 957.3473\n",
      "Epoch 13/100\n",
      "2/2 [==============================] - 0s 4ms/step - loss: 14.4018 - mse: 276.3452\n",
      "Epoch 14/100\n",
      "2/2 [==============================] - 0s 5ms/step - loss: 29.7204 - mse: 1409.2703\n",
      "Epoch 15/100\n",
      "2/2 [==============================] - 0s 4ms/step - loss: 19.6092 - mse: 537.5978\n",
      "Epoch 16/100\n",
      "2/2 [==============================] - 0s 4ms/step - loss: 9.8095 - mse: 126.7687\n",
      "Epoch 17/100\n",
      "2/2 [==============================] - 0s 4ms/step - loss: 17.5745 - mse: 406.9313\n",
      "Epoch 18/100\n",
      "2/2 [==============================] - 0s 5ms/step - loss: 14.0502 - mse: 310.4506\n",
      "Epoch 19/100\n",
      "2/2 [==============================] - 0s 4ms/step - loss: 13.8865 - mse: 299.8650\n",
      "Epoch 20/100\n",
      "2/2 [==============================] - 0s 3ms/step - loss: 11.1761 - mse: 146.1473\n",
      "Epoch 21/100\n",
      "2/2 [==============================] - 0s 5ms/step - loss: 17.2001 - mse: 418.2655\n",
      "Epoch 22/100\n",
      "2/2 [==============================] - 0s 4ms/step - loss: 15.4377 - mse: 327.9622\n",
      "Epoch 23/100\n",
      "2/2 [==============================] - 0s 4ms/step - loss: 9.2454 - mse: 118.6089\n",
      "Epoch 24/100\n",
      "2/2 [==============================] - 0s 4ms/step - loss: 17.2963 - mse: 410.3898\n",
      "Epoch 25/100\n",
      "2/2 [==============================] - 0s 4ms/step - loss: 15.9612 - mse: 334.9774\n",
      "Epoch 26/100\n",
      "2/2 [==============================] - 0s 4ms/step - loss: 20.9838 - mse: 651.9005\n",
      "Epoch 27/100\n",
      "2/2 [==============================] - 0s 5ms/step - loss: 25.8450 - mse: 1041.0394\n",
      "Epoch 28/100\n",
      "2/2 [==============================] - 0s 5ms/step - loss: 18.3584 - mse: 533.2138\n",
      "Epoch 29/100\n",
      "2/2 [==============================] - 0s 4ms/step - loss: 9.2399 - mse: 98.2156\n",
      "Epoch 30/100\n",
      "2/2 [==============================] - 0s 4ms/step - loss: 28.9658 - mse: 1495.6635\n",
      "Epoch 31/100\n",
      "2/2 [==============================] - 0s 6ms/step - loss: 52.4492 - mse: 4916.9033\n",
      "Epoch 32/100\n",
      "2/2 [==============================] - 0s 5ms/step - loss: 11.8790 - mse: 203.8745\n",
      "Epoch 33/100\n",
      "2/2 [==============================] - 0s 5ms/step - loss: 15.4396 - mse: 328.2033\n",
      "Epoch 34/100\n",
      "2/2 [==============================] - 0s 4ms/step - loss: 12.5561 - mse: 206.8932\n",
      "Epoch 35/100\n",
      "2/2 [==============================] - 0s 4ms/step - loss: 9.1781 - mse: 91.0312\n",
      "Epoch 36/100\n",
      "2/2 [==============================] - 0s 5ms/step - loss: 16.4051 - mse: 390.8240\n",
      "Epoch 37/100\n",
      "2/2 [==============================] - 0s 5ms/step - loss: 11.1045 - mse: 192.1661\n",
      "Epoch 38/100\n",
      "2/2 [==============================] - 0s 4ms/step - loss: 18.2360 - mse: 438.6603\n",
      "Epoch 39/100\n",
      "2/2 [==============================] - 0s 5ms/step - loss: 19.1657 - mse: 535.7401\n",
      "Epoch 40/100\n",
      "2/2 [==============================] - 0s 4ms/step - loss: 20.5499 - mse: 616.7275\n",
      "Epoch 41/100\n",
      "2/2 [==============================] - 0s 5ms/step - loss: 14.7609 - mse: 271.9788\n",
      "Epoch 42/100\n",
      "2/2 [==============================] - 0s 5ms/step - loss: 12.1679 - mse: 180.1693\n",
      "Epoch 43/100\n",
      "2/2 [==============================] - 0s 5ms/step - loss: 10.6798 - mse: 161.3514\n",
      "Epoch 44/100\n",
      "2/2 [==============================] - 0s 4ms/step - loss: 32.1534 - mse: 1699.1584\n",
      "Epoch 45/100\n",
      "2/2 [==============================] - 0s 5ms/step - loss: 12.4359 - mse: 199.7411\n",
      "Epoch 46/100\n",
      "2/2 [==============================] - 0s 6ms/step - loss: 17.4266 - mse: 454.8719\n",
      "Epoch 47/100\n",
      "2/2 [==============================] - 0s 6ms/step - loss: 15.7885 - mse: 340.5273\n",
      "Epoch 48/100\n",
      "2/2 [==============================] - 0s 5ms/step - loss: 8.3946 - mse: 112.8564\n",
      "Epoch 49/100\n",
      "2/2 [==============================] - 0s 5ms/step - loss: 14.2468 - mse: 284.2721\n",
      "Epoch 50/100\n",
      "2/2 [==============================] - 0s 5ms/step - loss: 15.1780 - mse: 309.2511\n",
      "Epoch 51/100\n",
      "2/2 [==============================] - 0s 5ms/step - loss: 13.6922 - mse: 256.9645\n",
      "Epoch 52/100\n",
      "2/2 [==============================] - 0s 4ms/step - loss: 18.1069 - mse: 462.6042\n",
      "Epoch 53/100\n",
      "2/2 [==============================] - 0s 5ms/step - loss: 22.7693 - mse: 749.1354\n",
      "Epoch 54/100\n",
      "2/2 [==============================] - 0s 5ms/step - loss: 26.8059 - mse: 1106.4563\n",
      "Epoch 55/100\n",
      "2/2 [==============================] - 0s 5ms/step - loss: 26.4398 - mse: 1062.8611\n",
      "Epoch 56/100\n",
      "2/2 [==============================] - 0s 5ms/step - loss: 11.3590 - mse: 171.9522\n",
      "Epoch 57/100\n",
      "2/2 [==============================] - 0s 4ms/step - loss: 13.3819 - mse: 226.2497\n",
      "Epoch 58/100\n",
      "2/2 [==============================] - 0s 4ms/step - loss: 9.9607 - mse: 109.7985\n",
      "Epoch 59/100\n",
      "2/2 [==============================] - 0s 5ms/step - loss: 13.9371 - mse: 276.7320\n",
      "Epoch 60/100\n",
      "2/2 [==============================] - 0s 6ms/step - loss: 10.0020 - mse: 118.9261\n",
      "Epoch 61/100\n",
      "2/2 [==============================] - 0s 5ms/step - loss: 14.9909 - mse: 309.0344\n",
      "Epoch 62/100\n",
      "2/2 [==============================] - 0s 5ms/step - loss: 11.9390 - mse: 197.2570\n",
      "Epoch 63/100\n",
      "2/2 [==============================] - 0s 4ms/step - loss: 10.2954 - mse: 135.3894\n",
      "Epoch 64/100\n",
      "2/2 [==============================] - 0s 5ms/step - loss: 23.9111 - mse: 840.3756\n",
      "Epoch 65/100\n",
      "2/2 [==============================] - 0s 5ms/step - loss: 10.4717 - mse: 130.5149\n",
      "Epoch 66/100\n",
      "2/2 [==============================] - 0s 5ms/step - loss: 20.9523 - mse: 645.7652\n",
      "Epoch 67/100\n",
      "2/2 [==============================] - 0s 4ms/step - loss: 10.4500 - mse: 126.5303\n",
      "Epoch 68/100\n",
      "2/2 [==============================] - 0s 4ms/step - loss: 14.1890 - mse: 303.1077\n",
      "Epoch 69/100\n",
      "2/2 [==============================] - 0s 5ms/step - loss: 10.5211 - mse: 126.1920\n",
      "Epoch 70/100\n",
      "2/2 [==============================] - 0s 5ms/step - loss: 12.5925 - mse: 201.1256\n",
      "Epoch 71/100\n",
      "2/2 [==============================] - 0s 4ms/step - loss: 13.0210 - mse: 226.2897\n",
      "Epoch 72/100\n",
      "2/2 [==============================] - 0s 5ms/step - loss: 19.3692 - mse: 532.3263\n",
      "Epoch 73/100\n",
      "2/2 [==============================] - 0s 5ms/step - loss: 11.1330 - mse: 193.2900\n",
      "Epoch 74/100\n",
      "2/2 [==============================] - 0s 3ms/step - loss: 21.4536 - mse: 718.4152\n",
      "Epoch 75/100\n",
      "2/2 [==============================] - 0s 5ms/step - loss: 9.4635 - mse: 151.5495\n",
      "Epoch 76/100\n",
      "2/2 [==============================] - 0s 6ms/step - loss: 12.2867 - mse: 183.0693\n",
      "Epoch 77/100\n",
      "2/2 [==============================] - 0s 5ms/step - loss: 16.3242 - mse: 410.4522\n",
      "Epoch 78/100\n",
      "2/2 [==============================] - 0s 4ms/step - loss: 9.0113 - mse: 92.0870\n",
      "Epoch 79/100\n",
      "2/2 [==============================] - 0s 5ms/step - loss: 23.5696 - mse: 831.9589\n",
      "Epoch 80/100\n",
      "2/2 [==============================] - 0s 5ms/step - loss: 26.2661 - mse: 1061.2062\n",
      "Epoch 81/100\n",
      "2/2 [==============================] - 0s 5ms/step - loss: 11.4439 - mse: 161.0126\n",
      "Epoch 82/100\n",
      "2/2 [==============================] - 0s 6ms/step - loss: 12.4430 - mse: 226.6372\n",
      "Epoch 83/100\n",
      "2/2 [==============================] - 0s 4ms/step - loss: 17.1097 - mse: 380.8533\n",
      "Epoch 84/100\n",
      "2/2 [==============================] - 0s 4ms/step - loss: 7.2594 - mse: 76.1771\n",
      "Epoch 85/100\n",
      "2/2 [==============================] - 0s 5ms/step - loss: 37.1659 - mse: 2220.5063\n",
      "Epoch 86/100\n",
      "2/2 [==============================] - 0s 4ms/step - loss: 21.1872 - mse: 645.2648\n",
      "Epoch 87/100\n",
      "2/2 [==============================] - 0s 4ms/step - loss: 11.0205 - mse: 148.0355\n",
      "Epoch 88/100\n",
      "2/2 [==============================] - 0s 4ms/step - loss: 24.9148 - mse: 884.5396\n",
      "Epoch 89/100\n",
      "2/2 [==============================] - 0s 5ms/step - loss: 9.6619 - mse: 128.3185\n",
      "Epoch 90/100\n",
      "2/2 [==============================] - 0s 4ms/step - loss: 18.9091 - mse: 512.6094\n",
      "Epoch 91/100\n",
      "2/2 [==============================] - 0s 4ms/step - loss: 10.5141 - mse: 163.1400\n",
      "Epoch 92/100\n",
      "2/2 [==============================] - 0s 4ms/step - loss: 18.1441 - mse: 450.7191\n",
      "Epoch 93/100\n",
      "2/2 [==============================] - 0s 5ms/step - loss: 6.5492 - mse: 60.7388\n",
      "Epoch 94/100\n",
      "2/2 [==============================] - 0s 4ms/step - loss: 11.1708 - mse: 155.3981\n",
      "Epoch 95/100\n",
      "2/2 [==============================] - 0s 4ms/step - loss: 24.5770 - mse: 907.1498\n",
      "Epoch 96/100\n",
      "2/2 [==============================] - 0s 4ms/step - loss: 10.7794 - mse: 171.8911\n",
      "Epoch 97/100\n",
      "2/2 [==============================] - 0s 5ms/step - loss: 15.4940 - mse: 364.2487\n",
      "Epoch 98/100\n",
      "2/2 [==============================] - 0s 4ms/step - loss: 9.0470 - mse: 143.8288\n",
      "Epoch 99/100\n",
      "2/2 [==============================] - 0s 4ms/step - loss: 10.8652 - mse: 138.7235\n",
      "Epoch 100/100\n",
      "2/2 [==============================] - 0s 4ms/step - loss: 27.0865 - mse: 1118.8154\n"
     ]
    },
    {
     "data": {
      "text/plain": [
       "<keras.callbacks.History at 0x254d30c92b0>"
      ]
     },
     "execution_count": 34,
     "metadata": {},
     "output_type": "execute_result"
    }
   ],
   "source": [
    "# Set random seed\n",
    "tf.random.set_seed(42)\n",
    "\n",
    "# Replicate model_1 and add an extra layer\n",
    "model_2 = tf.keras.Sequential([\n",
    "  tf.keras.layers.Dense(10),\n",
    "  tf.keras.layers.Dense(1) # add a second layer\n",
    "])\n",
    "\n",
    "# Compile the model\n",
    "model_2.compile(loss=tf.keras.losses.mae,\n",
    "                optimizer=tf.keras.optimizers.SGD(),\n",
    "                metrics=['mse'])\n",
    "\n",
    "# Fit the model\n",
    "model_2.fit(tf.expand_dims(X_train, axis=-1), y_train, epochs=100) # set verbose to 0 for less output"
   ]
  },
  {
   "cell_type": "code",
   "execution_count": 35,
   "id": "2df36a5d",
   "metadata": {},
   "outputs": [
    {
     "name": "stdout",
     "output_type": "stream",
     "text": [
      "1/1 [==============================] - 0s 36ms/step\n"
     ]
    },
    {
     "data": {
      "image/png": "[encoded data removed]",
      "text/plain": [
       "<Figure size 1000x700 with 1 Axes>"
      ]
     },
     "metadata": {},
     "output_type": "display_data"
    }
   ],
   "source": [
    "y_preds_2 = model_2.predict(X_test)\n",
    "plot_predictions(predictions=y_preds_2)"
   ]
  },
  {
   "cell_type": "code",
   "execution_count": 36,
   "id": "229d44bd",
   "metadata": {},
   "outputs": [
    {
     "data": {
      "text/plain": [
       "(10.076444, 108.829956)"
      ]
     },
     "execution_count": 36,
     "metadata": {},
     "output_type": "execute_result"
    }
   ],
   "source": [
    "mae_2 = mae(y_test, y_preds_2.squeeze()).numpy()\n",
    "mse_2 = mse(y_test, y_preds_2.squeeze()).numpy()\n",
    "mae_2, mse_2"
   ]
  },
  {
   "cell_type": "code",
   "execution_count": 37,
   "id": "846814e3",
   "metadata": {},
   "outputs": [
    {
     "name": "stdout",
     "output_type": "stream",
     "text": [
      "Epoch 1/500\n",
      "2/2 [==============================] - 0s 6ms/step - loss: 37.3275 - mae: 37.3275\n",
      "Epoch 2/500\n",
      "2/2 [==============================] - 0s 7ms/step - loss: 26.6233 - mae: 26.6233\n",
      "Epoch 3/500\n",
      "2/2 [==============================] - 0s 4ms/step - loss: 31.9094 - mae: 31.9094\n",
      "Epoch 4/500\n",
      "2/2 [==============================] - 0s 4ms/step - loss: 26.9955 - mae: 26.9955\n",
      "Epoch 5/500\n",
      "2/2 [==============================] - 0s 4ms/step - loss: 14.7539 - mae: 14.7539\n",
      "Epoch 6/500\n",
      "2/2 [==============================] - 0s 5ms/step - loss: 11.7460 - mae: 11.7460\n",
      "Epoch 7/500\n",
      "2/2 [==============================] - 0s 5ms/step - loss: 11.0878 - mae: 11.0878\n",
      "Epoch 8/500\n",
      "2/2 [==============================] - 0s 4ms/step - loss: 11.0644 - mae: 11.0644\n",
      "Epoch 9/500\n",
      "2/2 [==============================] - 0s 4ms/step - loss: 40.0916 - mae: 40.0916\n",
      "Epoch 10/500\n",
      "2/2 [==============================] - 0s 8ms/step - loss: 27.5334 - mae: 27.5334\n",
      "Epoch 11/500\n",
      "2/2 [==============================] - 0s 4ms/step - loss: 10.2472 - mae: 10.2472\n",
      "Epoch 12/500\n",
      "2/2 [==============================] - 0s 3ms/step - loss: 25.3923 - mae: 25.3923\n",
      "Epoch 13/500\n",
      "2/2 [==============================] - 0s 5ms/step - loss: 16.8339 - mae: 16.8339\n",
      "Epoch 14/500\n",
      "2/2 [==============================] - 0s 5ms/step - loss: 25.6376 - mae: 25.6376\n",
      "Epoch 15/500\n",
      "2/2 [==============================] - 0s 4ms/step - loss: 17.5170 - mae: 17.5170\n",
      "Epoch 16/500\n",
      "2/2 [==============================] - 0s 5ms/step - loss: 10.0287 - mae: 10.0287\n",
      "Epoch 17/500\n",
      "2/2 [==============================] - 0s 5ms/step - loss: 18.5378 - mae: 18.5378\n",
      "Epoch 18/500\n",
      "2/2 [==============================] - 0s 5ms/step - loss: 11.3625 - mae: 11.3625\n",
      "Epoch 19/500\n",
      "2/2 [==============================] - 0s 4ms/step - loss: 13.9564 - mae: 13.9564\n",
      "Epoch 20/500\n",
      "2/2 [==============================] - 0s 5ms/step - loss: 11.2042 - mae: 11.2042\n",
      "Epoch 21/500\n",
      "2/2 [==============================] - 0s 4ms/step - loss: 17.2783 - mae: 17.2783\n",
      "Epoch 22/500\n",
      "2/2 [==============================] - 0s 4ms/step - loss: 15.5146 - mae: 15.5146\n",
      "Epoch 23/500\n",
      "2/2 [==============================] - 0s 4ms/step - loss: 9.2344 - mae: 9.2344\n",
      "Epoch 24/500\n",
      "2/2 [==============================] - 0s 4ms/step - loss: 17.2613 - mae: 17.2613\n",
      "Epoch 25/500\n",
      "2/2 [==============================] - 0s 4ms/step - loss: 15.9346 - mae: 15.9346\n",
      "Epoch 26/500\n",
      "2/2 [==============================] - 0s 5ms/step - loss: 20.9255 - mae: 20.9255\n",
      "Epoch 27/500\n",
      "2/2 [==============================] - 0s 5ms/step - loss: 25.9738 - mae: 25.9738\n",
      "Epoch 28/500\n",
      "2/2 [==============================] - 0s 5ms/step - loss: 18.4696 - mae: 18.4696\n",
      "Epoch 29/500\n",
      "2/2 [==============================] - 0s 4ms/step - loss: 9.2383 - mae: 9.2383\n",
      "Epoch 30/500\n",
      "2/2 [==============================] - 0s 4ms/step - loss: 29.0889 - mae: 29.0889\n",
      "Epoch 31/500\n",
      "2/2 [==============================] - 0s 5ms/step - loss: 52.6851 - mae: 52.6851\n",
      "Epoch 32/500\n",
      "2/2 [==============================] - 0s 4ms/step - loss: 11.9228 - mae: 11.9228\n",
      "Epoch 33/500\n",
      "2/2 [==============================] - 0s 4ms/step - loss: 15.5185 - mae: 15.5185\n",
      "Epoch 34/500\n",
      "2/2 [==============================] - 0s 5ms/step - loss: 12.6089 - mae: 12.6089\n",
      "Epoch 35/500\n",
      "2/2 [==============================] - 0s 5ms/step - loss: 9.2001 - mae: 9.2001\n",
      "Epoch 36/500\n",
      "2/2 [==============================] - 0s 4ms/step - loss: 16.5072 - mae: 16.5072\n",
      "Epoch 37/500\n",
      "2/2 [==============================] - 0s 3ms/step - loss: 11.0735 - mae: 11.0735\n",
      "Epoch 38/500\n",
      "2/2 [==============================] - 0s 5ms/step - loss: 18.2025 - mae: 18.2025\n",
      "Epoch 39/500\n",
      "2/2 [==============================] - 0s 5ms/step - loss: 19.1355 - mae: 19.1355\n",
      "Epoch 40/500\n",
      "2/2 [==============================] - 0s 4ms/step - loss: 20.4959 - mae: 20.4959\n",
      "Epoch 41/500\n",
      "2/2 [==============================] - 0s 5ms/step - loss: 14.8238 - mae: 14.8238\n",
      "Epoch 42/500\n",
      "2/2 [==============================] - 0s 4ms/step - loss: 12.2152 - mae: 12.2152\n",
      "Epoch 43/500\n",
      "2/2 [==============================] - 0s 5ms/step - loss: 10.6974 - mae: 10.6974\n",
      "Epoch 44/500\n",
      "2/2 [==============================] - 0s 4ms/step - loss: 32.3367 - mae: 32.3367\n",
      "Epoch 45/500\n",
      "2/2 [==============================] - 0s 5ms/step - loss: 12.4822 - mae: 12.4822\n",
      "Epoch 46/500\n",
      "2/2 [==============================] - 0s 5ms/step - loss: 17.5692 - mae: 17.5692\n",
      "Epoch 47/500\n",
      "2/2 [==============================] - 0s 4ms/step - loss: 15.7337 - mae: 15.7337\n",
      "Epoch 48/500\n",
      "2/2 [==============================] - 0s 5ms/step - loss: 8.3600 - mae: 8.3600\n",
      "Epoch 49/500\n",
      "2/2 [==============================] - 0s 4ms/step - loss: 13.9647 - mae: 13.9647\n",
      "Epoch 50/500\n",
      "2/2 [==============================] - 0s 6ms/step - loss: 12.8099 - mae: 12.8099\n",
      "Epoch 51/500\n",
      "2/2 [==============================] - 0s 4ms/step - loss: 14.8233 - mae: 14.8233\n",
      "Epoch 52/500\n",
      "2/2 [==============================] - 0s 4ms/step - loss: 18.7109 - mae: 18.7109\n",
      "Epoch 53/500\n",
      "2/2 [==============================] - 0s 4ms/step - loss: 24.1487 - mae: 24.1487\n",
      "Epoch 54/500\n",
      "2/2 [==============================] - 0s 5ms/step - loss: 23.2252 - mae: 23.2252\n",
      "Epoch 55/500\n",
      "2/2 [==============================] - 0s 5ms/step - loss: 24.0844 - mae: 24.0844\n",
      "Epoch 56/500\n",
      "2/2 [==============================] - 0s 4ms/step - loss: 11.1728 - mae: 11.1728\n",
      "Epoch 57/500\n",
      "2/2 [==============================] - 0s 5ms/step - loss: 13.1339 - mae: 13.1339\n",
      "Epoch 58/500\n",
      "2/2 [==============================] - 0s 5ms/step - loss: 9.8190 - mae: 9.8190\n",
      "Epoch 59/500\n",
      "2/2 [==============================] - 0s 5ms/step - loss: 13.3252 - mae: 13.3252\n",
      "Epoch 60/500\n",
      "2/2 [==============================] - 0s 3ms/step - loss: 10.8797 - mae: 10.8797\n",
      "Epoch 61/500\n",
      "2/2 [==============================] - 0s 4ms/step - loss: 13.4884 - mae: 13.4884\n",
      "Epoch 62/500\n",
      "2/2 [==============================] - 0s 4ms/step - loss: 17.5375 - mae: 17.5375\n",
      "Epoch 63/500\n",
      "2/2 [==============================] - 0s 4ms/step - loss: 9.1640 - mae: 9.1640\n",
      "Epoch 64/500\n",
      "2/2 [==============================] - 0s 4ms/step - loss: 18.4087 - mae: 18.4087\n",
      "Epoch 65/500\n",
      "2/2 [==============================] - 0s 4ms/step - loss: 10.1198 - mae: 10.1198\n",
      "Epoch 66/500\n",
      "2/2 [==============================] - 0s 4ms/step - loss: 24.2812 - mae: 24.2812\n",
      "Epoch 67/500\n",
      "2/2 [==============================] - 0s 4ms/step - loss: 10.8930 - mae: 10.8930\n",
      "Epoch 68/500\n",
      "2/2 [==============================] - 0s 4ms/step - loss: 10.7729 - mae: 10.7729\n",
      "Epoch 69/500\n",
      "2/2 [==============================] - 0s 3ms/step - loss: 23.2725 - mae: 23.2725\n",
      "Epoch 70/500\n",
      "2/2 [==============================] - 0s 4ms/step - loss: 8.8090 - mae: 8.8090\n",
      "Epoch 71/500\n",
      "2/2 [==============================] - 0s 4ms/step - loss: 15.9717 - mae: 15.9717\n",
      "Epoch 72/500\n",
      "2/2 [==============================] - 0s 3ms/step - loss: 8.1345 - mae: 8.1345\n",
      "Epoch 73/500\n",
      "2/2 [==============================] - 0s 5ms/step - loss: 9.4619 - mae: 9.4619\n",
      "Epoch 74/500\n",
      "2/2 [==============================] - 0s 5ms/step - loss: 28.1504 - mae: 28.1504\n",
      "Epoch 75/500\n",
      "2/2 [==============================] - 0s 4ms/step - loss: 10.1997 - mae: 10.1997\n",
      "Epoch 76/500\n",
      "2/2 [==============================] - 0s 5ms/step - loss: 13.1508 - mae: 13.1508\n",
      "Epoch 77/500\n",
      "2/2 [==============================] - 0s 4ms/step - loss: 18.4043 - mae: 18.4043\n",
      "Epoch 78/500\n",
      "2/2 [==============================] - 0s 4ms/step - loss: 9.0140 - mae: 9.0140\n",
      "Epoch 79/500\n",
      "2/2 [==============================] - 0s 5ms/step - loss: 23.4569 - mae: 23.4569\n",
      "Epoch 80/500\n",
      "2/2 [==============================] - 0s 4ms/step - loss: 26.1309 - mae: 26.1309\n",
      "Epoch 81/500\n",
      "2/2 [==============================] - 0s 4ms/step - loss: 11.3944 - mae: 11.3944\n",
      "Epoch 82/500\n",
      "2/2 [==============================] - 0s 5ms/step - loss: 12.4882 - mae: 12.4882\n",
      "Epoch 83/500\n",
      "2/2 [==============================] - 0s 5ms/step - loss: 17.1731 - mae: 17.1731\n",
      "Epoch 84/500\n",
      "2/2 [==============================] - 0s 3ms/step - loss: 6.5876 - mae: 6.5876\n",
      "Epoch 85/500\n",
      "2/2 [==============================] - 0s 4ms/step - loss: 20.3113 - mae: 20.3113\n",
      "Epoch 86/500\n",
      "2/2 [==============================] - 0s 4ms/step - loss: 10.1671 - mae: 10.1671\n",
      "Epoch 87/500\n",
      "2/2 [==============================] - 0s 5ms/step - loss: 24.3567 - mae: 24.3567\n",
      "Epoch 88/500\n",
      "2/2 [==============================] - 0s 5ms/step - loss: 19.0205 - mae: 19.0205\n",
      "Epoch 89/500\n",
      "2/2 [==============================] - 0s 4ms/step - loss: 7.1600 - mae: 7.1600\n",
      "Epoch 90/500\n",
      "2/2 [==============================] - 0s 4ms/step - loss: 18.2509 - mae: 18.2509\n",
      "Epoch 91/500\n",
      "2/2 [==============================] - 0s 5ms/step - loss: 13.3005 - mae: 13.3005\n",
      "Epoch 92/500\n",
      "2/2 [==============================] - 0s 4ms/step - loss: 14.8486 - mae: 14.8486\n",
      "Epoch 93/500\n",
      "2/2 [==============================] - 0s 4ms/step - loss: 11.6426 - mae: 11.6426\n",
      "Epoch 94/500\n",
      "2/2 [==============================] - 0s 4ms/step - loss: 16.1994 - mae: 16.1994\n",
      "Epoch 95/500\n",
      "2/2 [==============================] - 0s 4ms/step - loss: 15.5418 - mae: 15.5418\n",
      "Epoch 96/500\n",
      "2/2 [==============================] - 0s 4ms/step - loss: 15.0758 - mae: 15.0758\n",
      "Epoch 97/500\n",
      "2/2 [==============================] - 0s 4ms/step - loss: 10.9049 - mae: 10.9049\n",
      "Epoch 98/500\n",
      "2/2 [==============================] - 0s 4ms/step - loss: 14.3655 - mae: 14.3655\n",
      "Epoch 99/500\n",
      "2/2 [==============================] - 0s 4ms/step - loss: 13.3826 - mae: 13.3826\n",
      "Epoch 100/500\n",
      "2/2 [==============================] - 0s 4ms/step - loss: 20.0042 - mae: 20.0042\n",
      "Epoch 101/500\n",
      "2/2 [==============================] - 0s 5ms/step - loss: 22.5027 - mae: 22.5027\n",
      "Epoch 102/500\n",
      "2/2 [==============================] - 0s 4ms/step - loss: 11.2683 - mae: 11.2683\n",
      "Epoch 103/500\n",
      "2/2 [==============================] - 0s 5ms/step - loss: 9.3553 - mae: 9.3553\n",
      "Epoch 104/500\n",
      "2/2 [==============================] - 0s 4ms/step - loss: 25.1287 - mae: 25.1287\n",
      "Epoch 105/500\n",
      "2/2 [==============================] - 0s 4ms/step - loss: 12.3998 - mae: 12.3998\n",
      "Epoch 106/500\n",
      "2/2 [==============================] - 0s 4ms/step - loss: 9.3906 - mae: 9.3906\n",
      "Epoch 107/500\n",
      "2/2 [==============================] - 0s 4ms/step - loss: 23.1399 - mae: 23.1399\n",
      "Epoch 108/500\n",
      "2/2 [==============================] - 0s 3ms/step - loss: 8.2651 - mae: 8.2651\n",
      "Epoch 109/500\n",
      "2/2 [==============================] - 0s 4ms/step - loss: 13.9868 - mae: 13.9868\n",
      "Epoch 110/500\n",
      "2/2 [==============================] - 0s 3ms/step - loss: 10.6438 - mae: 10.6438\n",
      "Epoch 111/500\n",
      "2/2 [==============================] - 0s 5ms/step - loss: 16.9703 - mae: 16.9703\n",
      "Epoch 112/500\n",
      "2/2 [==============================] - 0s 4ms/step - loss: 8.2607 - mae: 8.2607\n",
      "Epoch 113/500\n",
      "2/2 [==============================] - 0s 4ms/step - loss: 19.6236 - mae: 19.6236\n",
      "Epoch 114/500\n",
      "2/2 [==============================] - 0s 4ms/step - loss: 17.3350 - mae: 17.3350\n",
      "Epoch 115/500\n",
      "2/2 [==============================] - 0s 4ms/step - loss: 11.2115 - mae: 11.2115\n",
      "Epoch 116/500\n",
      "2/2 [==============================] - 0s 3ms/step - loss: 23.4827 - mae: 23.4827\n",
      "Epoch 117/500\n",
      "2/2 [==============================] - 0s 9ms/step - loss: 9.7061 - mae: 9.7061\n",
      "Epoch 118/500\n",
      "2/2 [==============================] - 0s 5ms/step - loss: 10.7814 - mae: 10.7814\n",
      "Epoch 119/500\n",
      "2/2 [==============================] - 0s 4ms/step - loss: 8.0874 - mae: 8.0874\n",
      "Epoch 120/500\n",
      "2/2 [==============================] - 0s 5ms/step - loss: 29.8026 - mae: 29.8026\n",
      "Epoch 121/500\n",
      "2/2 [==============================] - 0s 4ms/step - loss: 8.1180 - mae: 8.1180\n",
      "Epoch 122/500\n",
      "2/2 [==============================] - 0s 5ms/step - loss: 28.3828 - mae: 28.3828\n",
      "Epoch 123/500\n",
      "2/2 [==============================] - 0s 4ms/step - loss: 32.9896 - mae: 32.9896\n",
      "Epoch 124/500\n",
      "2/2 [==============================] - 0s 4ms/step - loss: 19.7065 - mae: 19.7065\n",
      "Epoch 125/500\n",
      "2/2 [==============================] - 0s 4ms/step - loss: 7.0516 - mae: 7.0516\n",
      "Epoch 126/500\n",
      "2/2 [==============================] - 0s 4ms/step - loss: 21.8587 - mae: 21.8587\n",
      "Epoch 127/500\n",
      "2/2 [==============================] - 0s 3ms/step - loss: 8.0255 - mae: 8.0255\n",
      "Epoch 128/500\n",
      "2/2 [==============================] - 0s 4ms/step - loss: 21.0902 - mae: 21.0902\n",
      "Epoch 129/500\n",
      "2/2 [==============================] - 0s 4ms/step - loss: 9.0560 - mae: 9.0560\n",
      "Epoch 130/500\n",
      "2/2 [==============================] - 0s 3ms/step - loss: 24.0606 - mae: 24.0606\n",
      "Epoch 131/500\n",
      "2/2 [==============================] - 0s 5ms/step - loss: 9.7967 - mae: 9.7967\n",
      "Epoch 132/500\n",
      "2/2 [==============================] - 0s 4ms/step - loss: 18.3037 - mae: 18.3037\n",
      "Epoch 133/500\n",
      "2/2 [==============================] - 0s 4ms/step - loss: 7.6180 - mae: 7.6180\n",
      "Epoch 134/500\n",
      "2/2 [==============================] - 0s 5ms/step - loss: 18.5619 - mae: 18.5619\n",
      "Epoch 135/500\n",
      "2/2 [==============================] - 0s 3ms/step - loss: 10.5645 - mae: 10.5645\n",
      "Epoch 136/500\n",
      "2/2 [==============================] - 0s 4ms/step - loss: 18.2426 - mae: 18.2426\n",
      "Epoch 137/500\n",
      "2/2 [==============================] - 0s 5ms/step - loss: 23.1155 - mae: 23.1155\n",
      "Epoch 138/500\n",
      "2/2 [==============================] - 0s 4ms/step - loss: 9.1438 - mae: 9.1438\n",
      "Epoch 139/500\n",
      "2/2 [==============================] - 0s 3ms/step - loss: 8.9314 - mae: 8.9314\n",
      "Epoch 140/500\n",
      "2/2 [==============================] - 0s 4ms/step - loss: 16.4082 - mae: 16.4082\n",
      "Epoch 141/500\n",
      "2/2 [==============================] - 0s 4ms/step - loss: 8.4559 - mae: 8.4559\n",
      "Epoch 142/500\n",
      "2/2 [==============================] - 0s 3ms/step - loss: 36.7515 - mae: 36.7515\n",
      "Epoch 143/500\n",
      "2/2 [==============================] - 0s 3ms/step - loss: 25.4428 - mae: 25.4428\n",
      "Epoch 144/500\n",
      "2/2 [==============================] - 0s 3ms/step - loss: 9.5757 - mae: 9.5757\n",
      "Epoch 145/500\n",
      "2/2 [==============================] - 0s 4ms/step - loss: 26.6632 - mae: 26.6632\n",
      "Epoch 146/500\n",
      "2/2 [==============================] - 0s 4ms/step - loss: 8.6855 - mae: 8.6855\n",
      "Epoch 147/500\n",
      "2/2 [==============================] - 0s 4ms/step - loss: 15.6917 - mae: 15.6917\n",
      "Epoch 148/500\n",
      "2/2 [==============================] - 0s 5ms/step - loss: 18.3981 - mae: 18.3981\n",
      "Epoch 149/500\n",
      "2/2 [==============================] - 0s 4ms/step - loss: 8.1630 - mae: 8.1630\n",
      "Epoch 150/500\n",
      "2/2 [==============================] - 0s 3ms/step - loss: 7.5053 - mae: 7.5053\n",
      "Epoch 151/500\n",
      "2/2 [==============================] - 0s 4ms/step - loss: 18.1422 - mae: 18.1422\n",
      "Epoch 152/500\n",
      "2/2 [==============================] - 0s 4ms/step - loss: 10.2723 - mae: 10.2723\n",
      "Epoch 153/500\n",
      "2/2 [==============================] - 0s 3ms/step - loss: 29.3063 - mae: 29.3063\n",
      "Epoch 154/500\n",
      "2/2 [==============================] - 0s 5ms/step - loss: 10.6419 - mae: 10.6419\n",
      "Epoch 155/500\n",
      "2/2 [==============================] - 0s 4ms/step - loss: 15.5320 - mae: 15.5320\n",
      "Epoch 156/500\n",
      "2/2 [==============================] - 0s 4ms/step - loss: 17.1789 - mae: 17.1789\n",
      "Epoch 157/500\n",
      "2/2 [==============================] - 0s 4ms/step - loss: 32.4093 - mae: 32.4093\n",
      "Epoch 158/500\n",
      "2/2 [==============================] - 0s 5ms/step - loss: 10.6201 - mae: 10.6201\n",
      "Epoch 159/500\n",
      "2/2 [==============================] - 0s 4ms/step - loss: 8.8821 - mae: 8.8821\n",
      "Epoch 160/500\n",
      "2/2 [==============================] - 0s 5ms/step - loss: 21.8147 - mae: 21.8147\n",
      "Epoch 161/500\n",
      "2/2 [==============================] - 0s 3ms/step - loss: 11.0883 - mae: 11.0883\n",
      "Epoch 162/500\n",
      "2/2 [==============================] - 0s 4ms/step - loss: 21.3437 - mae: 21.3437\n",
      "Epoch 163/500\n",
      "2/2 [==============================] - 0s 5ms/step - loss: 18.8303 - mae: 18.8303\n",
      "Epoch 164/500\n",
      "2/2 [==============================] - 0s 4ms/step - loss: 12.6732 - mae: 12.6732\n",
      "Epoch 165/500\n",
      "2/2 [==============================] - 0s 4ms/step - loss: 12.7458 - mae: 12.7458\n",
      "Epoch 166/500\n",
      "2/2 [==============================] - 0s 4ms/step - loss: 18.9359 - mae: 18.9359\n",
      "Epoch 167/500\n",
      "2/2 [==============================] - 0s 4ms/step - loss: 26.7478 - mae: 26.7478\n",
      "Epoch 168/500\n",
      "2/2 [==============================] - 0s 4ms/step - loss: 9.9844 - mae: 9.9844\n",
      "Epoch 169/500\n",
      "2/2 [==============================] - 0s 4ms/step - loss: 22.9896 - mae: 22.9896\n",
      "Epoch 170/500\n",
      "2/2 [==============================] - 0s 5ms/step - loss: 10.1040 - mae: 10.1040\n",
      "Epoch 171/500\n",
      "2/2 [==============================] - 0s 4ms/step - loss: 17.8776 - mae: 17.8776\n",
      "Epoch 172/500\n",
      "2/2 [==============================] - 0s 4ms/step - loss: 29.2518 - mae: 29.2518\n",
      "Epoch 173/500\n"
     ]
    },
    {
     "name": "stdout",
     "output_type": "stream",
     "text": [
      "2/2 [==============================] - 0s 4ms/step - loss: 16.8691 - mae: 16.8691\n",
      "Epoch 174/500\n",
      "2/2 [==============================] - 0s 5ms/step - loss: 11.1957 - mae: 11.1957\n",
      "Epoch 175/500\n",
      "2/2 [==============================] - 0s 4ms/step - loss: 27.4824 - mae: 27.4824\n",
      "Epoch 176/500\n",
      "2/2 [==============================] - 0s 5ms/step - loss: 8.4209 - mae: 8.4209\n",
      "Epoch 177/500\n",
      "2/2 [==============================] - 0s 4ms/step - loss: 9.3848 - mae: 9.3848\n",
      "Epoch 178/500\n",
      "2/2 [==============================] - 0s 4ms/step - loss: 18.4609 - mae: 18.4609\n",
      "Epoch 179/500\n",
      "2/2 [==============================] - 0s 5ms/step - loss: 10.4697 - mae: 10.4697\n",
      "Epoch 180/500\n",
      "2/2 [==============================] - 0s 4ms/step - loss: 7.9917 - mae: 7.9917\n",
      "Epoch 181/500\n",
      "2/2 [==============================] - 0s 3ms/step - loss: 17.6472 - mae: 17.6472\n",
      "Epoch 182/500\n",
      "2/2 [==============================] - 0s 5ms/step - loss: 11.1583 - mae: 11.1583\n",
      "Epoch 183/500\n",
      "2/2 [==============================] - 0s 4ms/step - loss: 11.8252 - mae: 11.8252\n",
      "Epoch 184/500\n",
      "2/2 [==============================] - 0s 4ms/step - loss: 30.7400 - mae: 30.7400\n",
      "Epoch 185/500\n",
      "2/2 [==============================] - 0s 5ms/step - loss: 7.5676 - mae: 7.5676\n",
      "Epoch 186/500\n",
      "2/2 [==============================] - 0s 3ms/step - loss: 15.9124 - mae: 15.9124\n",
      "Epoch 187/500\n",
      "2/2 [==============================] - 0s 4ms/step - loss: 8.6279 - mae: 8.6279\n",
      "Epoch 188/500\n",
      "2/2 [==============================] - 0s 4ms/step - loss: 28.9971 - mae: 28.9971\n",
      "Epoch 189/500\n",
      "2/2 [==============================] - 0s 3ms/step - loss: 13.1319 - mae: 13.1319\n",
      "Epoch 190/500\n",
      "2/2 [==============================] - 0s 4ms/step - loss: 18.2712 - mae: 18.2712\n",
      "Epoch 191/500\n",
      "2/2 [==============================] - 0s 5ms/step - loss: 13.6926 - mae: 13.6926\n",
      "Epoch 192/500\n",
      "2/2 [==============================] - 0s 4ms/step - loss: 13.7081 - mae: 13.7081\n",
      "Epoch 193/500\n",
      "2/2 [==============================] - 0s 5ms/step - loss: 28.5449 - mae: 28.5449\n",
      "Epoch 194/500\n",
      "2/2 [==============================] - 0s 6ms/step - loss: 7.1520 - mae: 7.1520\n",
      "Epoch 195/500\n",
      "2/2 [==============================] - 0s 4ms/step - loss: 7.0868 - mae: 7.0868\n",
      "Epoch 196/500\n",
      "2/2 [==============================] - 0s 4ms/step - loss: 21.9690 - mae: 21.9690\n",
      "Epoch 197/500\n",
      "2/2 [==============================] - 0s 4ms/step - loss: 20.9311 - mae: 20.9311\n",
      "Epoch 198/500\n",
      "2/2 [==============================] - 0s 4ms/step - loss: 12.5336 - mae: 12.5336\n",
      "Epoch 199/500\n",
      "2/2 [==============================] - 0s 5ms/step - loss: 17.9814 - mae: 17.9814\n",
      "Epoch 200/500\n",
      "2/2 [==============================] - 0s 4ms/step - loss: 13.8175 - mae: 13.8175\n",
      "Epoch 201/500\n",
      "2/2 [==============================] - 0s 4ms/step - loss: 6.0700 - mae: 6.0700\n",
      "Epoch 202/500\n",
      "2/2 [==============================] - 0s 4ms/step - loss: 22.7871 - mae: 22.7871\n",
      "Epoch 203/500\n",
      "2/2 [==============================] - 0s 4ms/step - loss: 8.9714 - mae: 8.9714\n",
      "Epoch 204/500\n",
      "2/2 [==============================] - 0s 4ms/step - loss: 18.7619 - mae: 18.7619\n",
      "Epoch 205/500\n",
      "2/2 [==============================] - 0s 5ms/step - loss: 9.3606 - mae: 9.3606\n",
      "Epoch 206/500\n",
      "2/2 [==============================] - 0s 5ms/step - loss: 10.4300 - mae: 10.4300\n",
      "Epoch 207/500\n",
      "2/2 [==============================] - 0s 4ms/step - loss: 20.9985 - mae: 20.9985\n",
      "Epoch 208/500\n",
      "2/2 [==============================] - 0s 5ms/step - loss: 16.4100 - mae: 16.4100\n",
      "Epoch 209/500\n",
      "2/2 [==============================] - 0s 4ms/step - loss: 14.2986 - mae: 14.2986\n",
      "Epoch 210/500\n",
      "2/2 [==============================] - 0s 3ms/step - loss: 19.2761 - mae: 19.2761\n",
      "Epoch 211/500\n",
      "2/2 [==============================] - 0s 5ms/step - loss: 10.3071 - mae: 10.3071\n",
      "Epoch 212/500\n",
      "2/2 [==============================] - 0s 3ms/step - loss: 20.0097 - mae: 20.0097\n",
      "Epoch 213/500\n",
      "2/2 [==============================] - 0s 4ms/step - loss: 15.1236 - mae: 15.1236\n",
      "Epoch 214/500\n",
      "2/2 [==============================] - 0s 4ms/step - loss: 14.6472 - mae: 14.6472\n",
      "Epoch 215/500\n",
      "2/2 [==============================] - 0s 4ms/step - loss: 23.4019 - mae: 23.4019\n",
      "Epoch 216/500\n",
      "2/2 [==============================] - 0s 4ms/step - loss: 12.9057 - mae: 12.9057\n",
      "Epoch 217/500\n",
      "2/2 [==============================] - 0s 4ms/step - loss: 12.0646 - mae: 12.0646\n",
      "Epoch 218/500\n",
      "2/2 [==============================] - 0s 4ms/step - loss: 17.0976 - mae: 17.0976\n",
      "Epoch 219/500\n",
      "2/2 [==============================] - 0s 4ms/step - loss: 9.4997 - mae: 9.4997\n",
      "Epoch 220/500\n",
      "2/2 [==============================] - 0s 4ms/step - loss: 13.8729 - mae: 13.8729\n",
      "Epoch 221/500\n",
      "2/2 [==============================] - 0s 4ms/step - loss: 32.2645 - mae: 32.2645\n",
      "Epoch 222/500\n",
      "2/2 [==============================] - 0s 5ms/step - loss: 11.0657 - mae: 11.0657\n",
      "Epoch 223/500\n",
      "2/2 [==============================] - 0s 5ms/step - loss: 8.6529 - mae: 8.6529\n",
      "Epoch 224/500\n",
      "2/2 [==============================] - 0s 3ms/step - loss: 14.5794 - mae: 14.5794\n",
      "Epoch 225/500\n",
      "2/2 [==============================] - 0s 4ms/step - loss: 16.5937 - mae: 16.5937\n",
      "Epoch 226/500\n",
      "2/2 [==============================] - 0s 4ms/step - loss: 15.7383 - mae: 15.7383\n",
      "Epoch 227/500\n",
      "2/2 [==============================] - 0s 4ms/step - loss: 16.2194 - mae: 16.2194\n",
      "Epoch 228/500\n",
      "2/2 [==============================] - 0s 4ms/step - loss: 9.3630 - mae: 9.3630\n",
      "Epoch 229/500\n",
      "2/2 [==============================] - 0s 4ms/step - loss: 18.0394 - mae: 18.0394\n",
      "Epoch 230/500\n",
      "2/2 [==============================] - 0s 4ms/step - loss: 15.6183 - mae: 15.6183\n",
      "Epoch 231/500\n",
      "2/2 [==============================] - 0s 5ms/step - loss: 21.1816 - mae: 21.1816\n",
      "Epoch 232/500\n",
      "2/2 [==============================] - 0s 4ms/step - loss: 25.3436 - mae: 25.3436\n",
      "Epoch 233/500\n",
      "2/2 [==============================] - 0s 5ms/step - loss: 16.3819 - mae: 16.3819\n",
      "Epoch 234/500\n",
      "2/2 [==============================] - 0s 5ms/step - loss: 7.3334 - mae: 7.3334\n",
      "Epoch 235/500\n",
      "2/2 [==============================] - 0s 3ms/step - loss: 17.0192 - mae: 17.0192\n",
      "Epoch 236/500\n",
      "2/2 [==============================] - 0s 5ms/step - loss: 7.1790 - mae: 7.1790\n",
      "Epoch 237/500\n",
      "2/2 [==============================] - 0s 4ms/step - loss: 9.2581 - mae: 9.2581\n",
      "Epoch 238/500\n",
      "2/2 [==============================] - 0s 4ms/step - loss: 8.1448 - mae: 8.1448\n",
      "Epoch 239/500\n",
      "2/2 [==============================] - 0s 4ms/step - loss: 17.0253 - mae: 17.0253\n",
      "Epoch 240/500\n",
      "2/2 [==============================] - 0s 3ms/step - loss: 8.8970 - mae: 8.8970\n",
      "Epoch 241/500\n",
      "2/2 [==============================] - 0s 4ms/step - loss: 12.7859 - mae: 12.7859\n",
      "Epoch 242/500\n",
      "2/2 [==============================] - 0s 6ms/step - loss: 10.9128 - mae: 10.9128\n",
      "Epoch 243/500\n",
      "2/2 [==============================] - 0s 4ms/step - loss: 17.3333 - mae: 17.3333\n",
      "Epoch 244/500\n",
      "2/2 [==============================] - 0s 4ms/step - loss: 14.5109 - mae: 14.5109\n",
      "Epoch 245/500\n",
      "2/2 [==============================] - 0s 4ms/step - loss: 15.0825 - mae: 15.0825\n",
      "Epoch 246/500\n",
      "2/2 [==============================] - 0s 5ms/step - loss: 16.1834 - mae: 16.1834\n",
      "Epoch 247/500\n",
      "2/2 [==============================] - 0s 4ms/step - loss: 18.1811 - mae: 18.1811\n",
      "Epoch 248/500\n",
      "2/2 [==============================] - 0s 4ms/step - loss: 13.7111 - mae: 13.7111\n",
      "Epoch 249/500\n",
      "2/2 [==============================] - 0s 4ms/step - loss: 14.8056 - mae: 14.8056\n",
      "Epoch 250/500\n",
      "2/2 [==============================] - 0s 4ms/step - loss: 23.7977 - mae: 23.7977\n",
      "Epoch 251/500\n",
      "2/2 [==============================] - 0s 4ms/step - loss: 13.5811 - mae: 13.5811\n",
      "Epoch 252/500\n",
      "2/2 [==============================] - 0s 4ms/step - loss: 22.5281 - mae: 22.5281\n",
      "Epoch 253/500\n",
      "2/2 [==============================] - 0s 4ms/step - loss: 9.8109 - mae: 9.8109\n",
      "Epoch 254/500\n",
      "2/2 [==============================] - 0s 4ms/step - loss: 15.8055 - mae: 15.8055\n",
      "Epoch 255/500\n",
      "2/2 [==============================] - 0s 4ms/step - loss: 13.5464 - mae: 13.5464\n",
      "Epoch 256/500\n",
      "2/2 [==============================] - 0s 5ms/step - loss: 9.9441 - mae: 9.9441\n",
      "Epoch 257/500\n",
      "2/2 [==============================] - 0s 4ms/step - loss: 14.6228 - mae: 14.6228\n",
      "Epoch 258/500\n",
      "2/2 [==============================] - 0s 4ms/step - loss: 5.2728 - mae: 5.2728\n",
      "Epoch 259/500\n",
      "2/2 [==============================] - 0s 5ms/step - loss: 16.6157 - mae: 16.6157\n",
      "Epoch 260/500\n",
      "2/2 [==============================] - 0s 4ms/step - loss: 49.6419 - mae: 49.6419\n",
      "Epoch 261/500\n",
      "2/2 [==============================] - 0s 3ms/step - loss: 22.5671 - mae: 22.5671\n",
      "Epoch 262/500\n",
      "2/2 [==============================] - 0s 4ms/step - loss: 4.7204 - mae: 4.7204\n",
      "Epoch 263/500\n",
      "2/2 [==============================] - 0s 4ms/step - loss: 9.3357 - mae: 9.3357\n",
      "Epoch 264/500\n",
      "2/2 [==============================] - 0s 5ms/step - loss: 22.9398 - mae: 22.9398\n",
      "Epoch 265/500\n",
      "2/2 [==============================] - 0s 5ms/step - loss: 10.7647 - mae: 10.7647\n",
      "Epoch 266/500\n",
      "2/2 [==============================] - 0s 5ms/step - loss: 13.2030 - mae: 13.2030\n",
      "Epoch 267/500\n",
      "2/2 [==============================] - 0s 4ms/step - loss: 11.0456 - mae: 11.0456\n",
      "Epoch 268/500\n",
      "2/2 [==============================] - 0s 4ms/step - loss: 21.6374 - mae: 21.6374\n",
      "Epoch 269/500\n",
      "2/2 [==============================] - 0s 4ms/step - loss: 33.1684 - mae: 33.1684\n",
      "Epoch 270/500\n",
      "2/2 [==============================] - 0s 5ms/step - loss: 9.8690 - mae: 9.8690\n",
      "Epoch 271/500\n",
      "2/2 [==============================] - 0s 4ms/step - loss: 7.7437 - mae: 7.7437\n",
      "Epoch 272/500\n",
      "2/2 [==============================] - 0s 4ms/step - loss: 28.4700 - mae: 28.4700\n",
      "Epoch 273/500\n",
      "2/2 [==============================] - 0s 4ms/step - loss: 7.4660 - mae: 7.4660\n",
      "Epoch 274/500\n",
      "2/2 [==============================] - 0s 5ms/step - loss: 6.3691 - mae: 6.3691\n",
      "Epoch 275/500\n",
      "2/2 [==============================] - 0s 5ms/step - loss: 31.8081 - mae: 31.8081\n",
      "Epoch 276/500\n",
      "2/2 [==============================] - 0s 4ms/step - loss: 4.7036 - mae: 4.7036\n",
      "Epoch 277/500\n",
      "2/2 [==============================] - 0s 4ms/step - loss: 19.8053 - mae: 19.8053\n",
      "Epoch 278/500\n",
      "2/2 [==============================] - 0s 4ms/step - loss: 6.5237 - mae: 6.5237\n",
      "Epoch 279/500\n",
      "2/2 [==============================] - 0s 4ms/step - loss: 18.7479 - mae: 18.7479\n",
      "Epoch 280/500\n",
      "2/2 [==============================] - 0s 4ms/step - loss: 29.2742 - mae: 29.2742\n",
      "Epoch 281/500\n",
      "2/2 [==============================] - 0s 4ms/step - loss: 7.4309 - mae: 7.4309\n",
      "Epoch 282/500\n",
      "2/2 [==============================] - 0s 4ms/step - loss: 14.2689 - mae: 14.2689\n",
      "Epoch 283/500\n",
      "2/2 [==============================] - 0s 4ms/step - loss: 10.4553 - mae: 10.4553\n",
      "Epoch 284/500\n",
      "2/2 [==============================] - 0s 4ms/step - loss: 25.2936 - mae: 25.2936\n",
      "Epoch 285/500\n",
      "2/2 [==============================] - 0s 3ms/step - loss: 16.0364 - mae: 16.0364\n",
      "Epoch 286/500\n",
      "2/2 [==============================] - 0s 5ms/step - loss: 5.2716 - mae: 5.2716\n",
      "Epoch 287/500\n",
      "2/2 [==============================] - 0s 5ms/step - loss: 20.8306 - mae: 20.8306\n",
      "Epoch 288/500\n",
      "2/2 [==============================] - 0s 4ms/step - loss: 27.5708 - mae: 27.5708\n",
      "Epoch 289/500\n",
      "2/2 [==============================] - 0s 4ms/step - loss: 10.4468 - mae: 10.4468\n",
      "Epoch 290/500\n",
      "2/2 [==============================] - 0s 7ms/step - loss: 16.3187 - mae: 16.3187\n",
      "Epoch 291/500\n",
      "2/2 [==============================] - 0s 4ms/step - loss: 16.5100 - mae: 16.5100\n",
      "Epoch 292/500\n",
      "2/2 [==============================] - 0s 5ms/step - loss: 7.4400 - mae: 7.4400\n",
      "Epoch 293/500\n",
      "2/2 [==============================] - 0s 4ms/step - loss: 16.5544 - mae: 16.5544\n",
      "Epoch 294/500\n",
      "2/2 [==============================] - 0s 6ms/step - loss: 25.3463 - mae: 25.3463\n",
      "Epoch 295/500\n",
      "2/2 [==============================] - 0s 6ms/step - loss: 14.5527 - mae: 14.5527\n",
      "Epoch 296/500\n",
      "2/2 [==============================] - 0s 7ms/step - loss: 4.6814 - mae: 4.6814\n",
      "Epoch 297/500\n",
      "2/2 [==============================] - 0s 6ms/step - loss: 7.2832 - mae: 7.2832\n",
      "Epoch 298/500\n",
      "2/2 [==============================] - 0s 5ms/step - loss: 19.5789 - mae: 19.5789\n",
      "Epoch 299/500\n",
      "2/2 [==============================] - 0s 4ms/step - loss: 6.6200 - mae: 6.6200\n",
      "Epoch 300/500\n",
      "2/2 [==============================] - 0s 5ms/step - loss: 22.0227 - mae: 22.0227\n",
      "Epoch 301/500\n",
      "2/2 [==============================] - 0s 5ms/step - loss: 9.1291 - mae: 9.1291\n",
      "Epoch 302/500\n",
      "2/2 [==============================] - 0s 4ms/step - loss: 11.1765 - mae: 11.1765\n",
      "Epoch 303/500\n",
      "2/2 [==============================] - 0s 4ms/step - loss: 9.3339 - mae: 9.3339\n",
      "Epoch 304/500\n",
      "2/2 [==============================] - 0s 5ms/step - loss: 23.6745 - mae: 23.6745\n",
      "Epoch 305/500\n",
      "2/2 [==============================] - 0s 4ms/step - loss: 7.9202 - mae: 7.9202\n",
      "Epoch 306/500\n",
      "2/2 [==============================] - 0s 4ms/step - loss: 23.7214 - mae: 23.7214\n",
      "Epoch 307/500\n",
      "2/2 [==============================] - 0s 4ms/step - loss: 5.8892 - mae: 5.8892\n",
      "Epoch 308/500\n",
      "2/2 [==============================] - 0s 5ms/step - loss: 21.3383 - mae: 21.3383\n",
      "Epoch 309/500\n",
      "2/2 [==============================] - 0s 4ms/step - loss: 18.3789 - mae: 18.3789\n",
      "Epoch 310/500\n",
      "2/2 [==============================] - 0s 4ms/step - loss: 4.4994 - mae: 4.4994\n",
      "Epoch 311/500\n",
      "2/2 [==============================] - 0s 5ms/step - loss: 6.5110 - mae: 6.5110\n",
      "Epoch 312/500\n",
      "2/2 [==============================] - 0s 5ms/step - loss: 35.4059 - mae: 35.4059\n",
      "Epoch 313/500\n",
      "2/2 [==============================] - 0s 5ms/step - loss: 28.8816 - mae: 28.8816\n",
      "Epoch 314/500\n",
      "2/2 [==============================] - 0s 4ms/step - loss: 11.2001 - mae: 11.2001\n",
      "Epoch 315/500\n",
      "2/2 [==============================] - 0s 4ms/step - loss: 23.5658 - mae: 23.5658\n",
      "Epoch 316/500\n",
      "2/2 [==============================] - 0s 4ms/step - loss: 14.4022 - mae: 14.4022\n",
      "Epoch 317/500\n",
      "2/2 [==============================] - 0s 5ms/step - loss: 19.9409 - mae: 19.9409\n",
      "Epoch 318/500\n",
      "2/2 [==============================] - 0s 4ms/step - loss: 7.9900 - mae: 7.9900\n",
      "Epoch 319/500\n",
      "2/2 [==============================] - 0s 4ms/step - loss: 18.0781 - mae: 18.0781\n",
      "Epoch 320/500\n",
      "2/2 [==============================] - 0s 4ms/step - loss: 10.6180 - mae: 10.6180\n",
      "Epoch 321/500\n",
      "2/2 [==============================] - 0s 4ms/step - loss: 7.0109 - mae: 7.0109\n",
      "Epoch 322/500\n",
      "2/2 [==============================] - 0s 3ms/step - loss: 8.6801 - mae: 8.6801\n",
      "Epoch 323/500\n",
      "2/2 [==============================] - 0s 4ms/step - loss: 18.3523 - mae: 18.3523\n",
      "Epoch 324/500\n",
      "2/2 [==============================] - 0s 5ms/step - loss: 6.2980 - mae: 6.2980\n",
      "Epoch 325/500\n",
      "2/2 [==============================] - 0s 3ms/step - loss: 14.5823 - mae: 14.5823\n",
      "Epoch 326/500\n",
      "2/2 [==============================] - 0s 5ms/step - loss: 6.9803 - mae: 6.9803\n",
      "Epoch 327/500\n",
      "2/2 [==============================] - 0s 5ms/step - loss: 17.5823 - mae: 17.5823\n",
      "Epoch 328/500\n",
      "2/2 [==============================] - 0s 4ms/step - loss: 14.3844 - mae: 14.3844\n",
      "Epoch 329/500\n",
      "2/2 [==============================] - 0s 4ms/step - loss: 17.7008 - mae: 17.7008\n",
      "Epoch 330/500\n",
      "2/2 [==============================] - 0s 5ms/step - loss: 6.7748 - mae: 6.7748\n",
      "Epoch 331/500\n",
      "2/2 [==============================] - 0s 3ms/step - loss: 19.7042 - mae: 19.7042\n",
      "Epoch 332/500\n",
      "2/2 [==============================] - 0s 5ms/step - loss: 10.5322 - mae: 10.5322\n",
      "Epoch 333/500\n",
      "2/2 [==============================] - 0s 7ms/step - loss: 16.3039 - mae: 16.3039\n",
      "Epoch 334/500\n",
      "2/2 [==============================] - 0s 5ms/step - loss: 9.7319 - mae: 9.7319\n",
      "Epoch 335/500\n",
      "2/2 [==============================] - 0s 6ms/step - loss: 13.0589 - mae: 13.0589\n",
      "Epoch 336/500\n",
      "2/2 [==============================] - 0s 6ms/step - loss: 32.5013 - mae: 32.5013\n",
      "Epoch 337/500\n",
      "2/2 [==============================] - 0s 4ms/step - loss: 11.0464 - mae: 11.0464\n",
      "Epoch 338/500\n",
      "2/2 [==============================] - 0s 5ms/step - loss: 19.9705 - mae: 19.9705\n",
      "Epoch 339/500\n",
      "2/2 [==============================] - 0s 5ms/step - loss: 34.2691 - mae: 34.2691\n",
      "Epoch 340/500\n",
      "2/2 [==============================] - 0s 6ms/step - loss: 8.7098 - mae: 8.7098\n",
      "Epoch 341/500\n",
      "2/2 [==============================] - 0s 5ms/step - loss: 21.9197 - mae: 21.9197\n",
      "Epoch 342/500\n",
      "2/2 [==============================] - 0s 5ms/step - loss: 13.8566 - mae: 13.8566\n",
      "Epoch 343/500\n",
      "2/2 [==============================] - 0s 5ms/step - loss: 11.7034 - mae: 11.7034\n",
      "Epoch 344/500\n"
     ]
    },
    {
     "name": "stdout",
     "output_type": "stream",
     "text": [
      "2/2 [==============================] - 0s 5ms/step - loss: 10.6905 - mae: 10.6905\n",
      "Epoch 345/500\n",
      "2/2 [==============================] - 0s 4ms/step - loss: 30.9128 - mae: 30.9128\n",
      "Epoch 346/500\n",
      "2/2 [==============================] - 0s 5ms/step - loss: 10.6442 - mae: 10.6442\n",
      "Epoch 347/500\n",
      "2/2 [==============================] - 0s 6ms/step - loss: 25.5749 - mae: 25.5749\n",
      "Epoch 348/500\n",
      "2/2 [==============================] - 0s 5ms/step - loss: 13.2583 - mae: 13.2583\n",
      "Epoch 349/500\n",
      "2/2 [==============================] - 0s 4ms/step - loss: 13.0432 - mae: 13.0432\n",
      "Epoch 350/500\n",
      "2/2 [==============================] - 0s 5ms/step - loss: 15.4024 - mae: 15.4024\n",
      "Epoch 351/500\n",
      "2/2 [==============================] - 0s 4ms/step - loss: 32.8810 - mae: 32.8810\n",
      "Epoch 352/500\n",
      "2/2 [==============================] - 0s 5ms/step - loss: 14.0916 - mae: 14.0916\n",
      "Epoch 353/500\n",
      "2/2 [==============================] - 0s 4ms/step - loss: 17.7877 - mae: 17.7877\n",
      "Epoch 354/500\n",
      "2/2 [==============================] - 0s 4ms/step - loss: 11.3470 - mae: 11.3470\n",
      "Epoch 355/500\n",
      "2/2 [==============================] - 0s 5ms/step - loss: 26.7800 - mae: 26.7800\n",
      "Epoch 356/500\n",
      "2/2 [==============================] - 0s 5ms/step - loss: 10.1350 - mae: 10.1350\n",
      "Epoch 357/500\n",
      "2/2 [==============================] - 0s 6ms/step - loss: 14.6890 - mae: 14.6890\n",
      "Epoch 358/500\n",
      "2/2 [==============================] - 0s 4ms/step - loss: 14.5576 - mae: 14.5576\n",
      "Epoch 359/500\n",
      "2/2 [==============================] - 0s 5ms/step - loss: 12.3561 - mae: 12.3561\n",
      "Epoch 360/500\n",
      "2/2 [==============================] - 0s 5ms/step - loss: 20.3758 - mae: 20.3758\n",
      "Epoch 361/500\n",
      "2/2 [==============================] - 0s 5ms/step - loss: 10.8570 - mae: 10.8570\n",
      "Epoch 362/500\n",
      "2/2 [==============================] - 0s 5ms/step - loss: 6.8116 - mae: 6.8116\n",
      "Epoch 363/500\n",
      "2/2 [==============================] - 0s 3ms/step - loss: 23.7563 - mae: 23.7563\n",
      "Epoch 364/500\n",
      "2/2 [==============================] - 0s 5ms/step - loss: 29.4368 - mae: 29.4368\n",
      "Epoch 365/500\n",
      "2/2 [==============================] - 0s 4ms/step - loss: 8.2585 - mae: 8.2585\n",
      "Epoch 366/500\n",
      "2/2 [==============================] - 0s 5ms/step - loss: 6.1057 - mae: 6.1057\n",
      "Epoch 367/500\n",
      "2/2 [==============================] - 0s 5ms/step - loss: 34.5141 - mae: 34.5141\n",
      "Epoch 368/500\n",
      "2/2 [==============================] - 0s 5ms/step - loss: 7.3376 - mae: 7.3376\n",
      "Epoch 369/500\n",
      "2/2 [==============================] - 0s 5ms/step - loss: 8.6856 - mae: 8.6856\n",
      "Epoch 370/500\n",
      "2/2 [==============================] - 0s 4ms/step - loss: 14.2258 - mae: 14.2258\n",
      "Epoch 371/500\n",
      "2/2 [==============================] - 0s 6ms/step - loss: 6.8378 - mae: 6.8378\n",
      "Epoch 372/500\n",
      "2/2 [==============================] - 0s 4ms/step - loss: 6.5525 - mae: 6.5525\n",
      "Epoch 373/500\n",
      "2/2 [==============================] - 0s 6ms/step - loss: 24.1607 - mae: 24.1607\n",
      "Epoch 374/500\n",
      "2/2 [==============================] - 0s 5ms/step - loss: 10.2322 - mae: 10.2322\n",
      "Epoch 375/500\n",
      "2/2 [==============================] - 0s 5ms/step - loss: 12.8559 - mae: 12.8559\n",
      "Epoch 376/500\n",
      "2/2 [==============================] - 0s 3ms/step - loss: 14.7293 - mae: 14.7293\n",
      "Epoch 377/500\n",
      "2/2 [==============================] - 0s 4ms/step - loss: 14.6572 - mae: 14.6572\n",
      "Epoch 378/500\n",
      "2/2 [==============================] - 0s 5ms/step - loss: 16.1807 - mae: 16.1807\n",
      "Epoch 379/500\n",
      "2/2 [==============================] - 0s 6ms/step - loss: 20.6155 - mae: 20.6155\n",
      "Epoch 380/500\n",
      "2/2 [==============================] - 0s 6ms/step - loss: 34.1731 - mae: 34.1731\n",
      "Epoch 381/500\n",
      "2/2 [==============================] - 0s 4ms/step - loss: 8.8464 - mae: 8.8464\n",
      "Epoch 382/500\n",
      "2/2 [==============================] - 0s 5ms/step - loss: 9.6022 - mae: 9.6022\n",
      "Epoch 383/500\n",
      "2/2 [==============================] - 0s 4ms/step - loss: 5.7543 - mae: 5.7543\n",
      "Epoch 384/500\n",
      "2/2 [==============================] - 0s 4ms/step - loss: 8.7233 - mae: 8.7233\n",
      "Epoch 385/500\n",
      "2/2 [==============================] - 0s 5ms/step - loss: 4.9609 - mae: 4.9609\n",
      "Epoch 386/500\n",
      "2/2 [==============================] - 0s 5ms/step - loss: 25.1296 - mae: 25.1296\n",
      "Epoch 387/500\n",
      "2/2 [==============================] - 0s 4ms/step - loss: 15.1066 - mae: 15.1066\n",
      "Epoch 388/500\n",
      "2/2 [==============================] - 0s 4ms/step - loss: 6.6488 - mae: 6.6488\n",
      "Epoch 389/500\n",
      "2/2 [==============================] - 0s 5ms/step - loss: 17.5673 - mae: 17.5673\n",
      "Epoch 390/500\n",
      "2/2 [==============================] - 0s 5ms/step - loss: 23.8604 - mae: 23.8604\n",
      "Epoch 391/500\n",
      "2/2 [==============================] - 0s 5ms/step - loss: 16.5139 - mae: 16.5139\n",
      "Epoch 392/500\n",
      "2/2 [==============================] - 0s 6ms/step - loss: 8.3734 - mae: 8.3734\n",
      "Epoch 393/500\n",
      "2/2 [==============================] - 0s 5ms/step - loss: 18.1447 - mae: 18.1447\n",
      "Epoch 394/500\n",
      "2/2 [==============================] - 0s 4ms/step - loss: 14.2011 - mae: 14.2011\n",
      "Epoch 395/500\n",
      "2/2 [==============================] - 0s 5ms/step - loss: 28.6733 - mae: 28.6733\n",
      "Epoch 396/500\n",
      "2/2 [==============================] - 0s 4ms/step - loss: 8.2168 - mae: 8.2168\n",
      "Epoch 397/500\n",
      "2/2 [==============================] - 0s 5ms/step - loss: 10.5084 - mae: 10.5084\n",
      "Epoch 398/500\n",
      "2/2 [==============================] - 0s 4ms/step - loss: 7.3908 - mae: 7.3908\n",
      "Epoch 399/500\n",
      "2/2 [==============================] - 0s 4ms/step - loss: 15.5835 - mae: 15.5835\n",
      "Epoch 400/500\n",
      "2/2 [==============================] - 0s 5ms/step - loss: 6.7360 - mae: 6.7360\n",
      "Epoch 401/500\n",
      "2/2 [==============================] - 0s 4ms/step - loss: 8.0024 - mae: 8.0024\n",
      "Epoch 402/500\n",
      "2/2 [==============================] - 0s 4ms/step - loss: 16.4265 - mae: 16.4265\n",
      "Epoch 403/500\n",
      "2/2 [==============================] - 0s 4ms/step - loss: 12.3699 - mae: 12.3699\n",
      "Epoch 404/500\n",
      "2/2 [==============================] - 0s 4ms/step - loss: 22.9542 - mae: 22.9542\n",
      "Epoch 405/500\n",
      "2/2 [==============================] - 0s 4ms/step - loss: 18.0538 - mae: 18.0538\n",
      "Epoch 406/500\n",
      "2/2 [==============================] - 0s 4ms/step - loss: 7.0543 - mae: 7.0543\n",
      "Epoch 407/500\n",
      "2/2 [==============================] - 0s 3ms/step - loss: 12.6142 - mae: 12.6142\n",
      "Epoch 408/500\n",
      "2/2 [==============================] - 0s 3ms/step - loss: 5.6760 - mae: 5.6760\n",
      "Epoch 409/500\n",
      "2/2 [==============================] - 0s 3ms/step - loss: 31.1332 - mae: 31.1332\n",
      "Epoch 410/500\n",
      "2/2 [==============================] - 0s 4ms/step - loss: 9.2806 - mae: 9.2806\n",
      "Epoch 411/500\n",
      "2/2 [==============================] - 0s 4ms/step - loss: 14.8920 - mae: 14.8920\n",
      "Epoch 412/500\n",
      "2/2 [==============================] - 0s 4ms/step - loss: 21.7812 - mae: 21.7812\n",
      "Epoch 413/500\n",
      "2/2 [==============================] - 0s 4ms/step - loss: 12.5480 - mae: 12.5480\n",
      "Epoch 414/500\n",
      "2/2 [==============================] - 0s 5ms/step - loss: 6.0834 - mae: 6.0834\n",
      "Epoch 415/500\n",
      "2/2 [==============================] - 0s 4ms/step - loss: 13.2441 - mae: 13.2441\n",
      "Epoch 416/500\n",
      "2/2 [==============================] - 0s 4ms/step - loss: 27.4722 - mae: 27.4722\n",
      "Epoch 417/500\n",
      "2/2 [==============================] - 0s 4ms/step - loss: 10.5282 - mae: 10.5282\n",
      "Epoch 418/500\n",
      "2/2 [==============================] - 0s 6ms/step - loss: 12.8592 - mae: 12.8592\n",
      "Epoch 419/500\n",
      "2/2 [==============================] - 0s 5ms/step - loss: 15.9029 - mae: 15.9029\n",
      "Epoch 420/500\n",
      "2/2 [==============================] - 0s 4ms/step - loss: 24.8013 - mae: 24.8013\n",
      "Epoch 421/500\n",
      "2/2 [==============================] - 0s 4ms/step - loss: 17.2536 - mae: 17.2536\n",
      "Epoch 422/500\n",
      "2/2 [==============================] - 0s 4ms/step - loss: 7.8182 - mae: 7.8182\n",
      "Epoch 423/500\n",
      "2/2 [==============================] - 0s 4ms/step - loss: 25.4248 - mae: 25.4248\n",
      "Epoch 424/500\n",
      "2/2 [==============================] - 0s 4ms/step - loss: 15.0029 - mae: 15.0029\n",
      "Epoch 425/500\n",
      "2/2 [==============================] - 0s 4ms/step - loss: 7.1185 - mae: 7.1185\n",
      "Epoch 426/500\n",
      "2/2 [==============================] - 0s 4ms/step - loss: 20.2105 - mae: 20.2105\n",
      "Epoch 427/500\n",
      "2/2 [==============================] - 0s 4ms/step - loss: 6.2811 - mae: 6.2811\n",
      "Epoch 428/500\n",
      "2/2 [==============================] - 0s 5ms/step - loss: 12.9159 - mae: 12.9159\n",
      "Epoch 429/500\n",
      "2/2 [==============================] - 0s 3ms/step - loss: 10.7168 - mae: 10.7168\n",
      "Epoch 430/500\n"
     ]
    },
    {
     "name": "stdout",
     "output_type": "stream",
     "text": [
      "2/2 [==============================] - 0s 5ms/step - loss: 11.3266 - mae: 11.3266\n",
      "Epoch 431/500\n",
      "2/2 [==============================] - 0s 3ms/step - loss: 10.5451 - mae: 10.5451\n",
      "Epoch 432/500\n",
      "2/2 [==============================] - 0s 4ms/step - loss: 11.3707 - mae: 11.3707\n",
      "Epoch 433/500\n",
      "2/2 [==============================] - 0s 4ms/step - loss: 11.3859 - mae: 11.3859\n",
      "Epoch 434/500\n",
      "2/2 [==============================] - 0s 4ms/step - loss: 30.4271 - mae: 30.4271\n",
      "Epoch 435/500\n",
      "2/2 [==============================] - 0s 4ms/step - loss: 10.5042 - mae: 10.5042\n",
      "Epoch 436/500\n",
      "2/2 [==============================] - 0s 5ms/step - loss: 28.9119 - mae: 28.9119\n",
      "Epoch 437/500\n",
      "2/2 [==============================] - 0s 4ms/step - loss: 8.6172 - mae: 8.6172\n",
      "Epoch 438/500\n",
      "2/2 [==============================] - 0s 4ms/step - loss: 12.7381 - mae: 12.7381\n",
      "Epoch 439/500\n",
      "2/2 [==============================] - 0s 5ms/step - loss: 33.6951 - mae: 33.6951\n",
      "Epoch 440/500\n",
      "2/2 [==============================] - 0s 4ms/step - loss: 15.1154 - mae: 15.1154\n",
      "Epoch 441/500\n",
      "2/2 [==============================] - 0s 4ms/step - loss: 17.4952 - mae: 17.4952\n",
      "Epoch 442/500\n",
      "2/2 [==============================] - 0s 4ms/step - loss: 22.3441 - mae: 22.3441\n",
      "Epoch 443/500\n",
      "2/2 [==============================] - 0s 3ms/step - loss: 23.4910 - mae: 23.4910\n",
      "Epoch 444/500\n",
      "2/2 [==============================] - 0s 4ms/step - loss: 10.9194 - mae: 10.9194\n",
      "Epoch 445/500\n",
      "2/2 [==============================] - 0s 4ms/step - loss: 14.9363 - mae: 14.9363\n",
      "Epoch 446/500\n",
      "2/2 [==============================] - 0s 4ms/step - loss: 18.0265 - mae: 18.0265\n",
      "Epoch 447/500\n",
      "2/2 [==============================] - 0s 5ms/step - loss: 5.4004 - mae: 5.4004\n",
      "Epoch 448/500\n",
      "2/2 [==============================] - 0s 4ms/step - loss: 10.0758 - mae: 10.0758\n",
      "Epoch 449/500\n",
      "2/2 [==============================] - 0s 4ms/step - loss: 14.0241 - mae: 14.0241\n",
      "Epoch 450/500\n",
      "2/2 [==============================] - 0s 4ms/step - loss: 16.7952 - mae: 16.7952\n",
      "Epoch 451/500\n",
      "2/2 [==============================] - 0s 3ms/step - loss: 14.2971 - mae: 14.2971\n",
      "Epoch 452/500\n",
      "2/2 [==============================] - 0s 4ms/step - loss: 30.6395 - mae: 30.6395\n",
      "Epoch 453/500\n",
      "2/2 [==============================] - 0s 4ms/step - loss: 7.6462 - mae: 7.6462\n",
      "Epoch 454/500\n",
      "2/2 [==============================] - 0s 4ms/step - loss: 28.1648 - mae: 28.1648\n",
      "Epoch 455/500\n",
      "2/2 [==============================] - 0s 4ms/step - loss: 7.9516 - mae: 7.9516\n",
      "Epoch 456/500\n",
      "2/2 [==============================] - 0s 3ms/step - loss: 10.4058 - mae: 10.4058\n",
      "Epoch 457/500\n",
      "2/2 [==============================] - 0s 3ms/step - loss: 15.0415 - mae: 15.0415\n",
      "Epoch 458/500\n",
      "2/2 [==============================] - 0s 5ms/step - loss: 16.5700 - mae: 16.5700\n",
      "Epoch 459/500\n",
      "2/2 [==============================] - 0s 4ms/step - loss: 26.8788 - mae: 26.8788\n",
      "Epoch 460/500\n",
      "2/2 [==============================] - 0s 4ms/step - loss: 12.4319 - mae: 12.4319\n",
      "Epoch 461/500\n",
      "2/2 [==============================] - 0s 5ms/step - loss: 12.4945 - mae: 12.4945\n",
      "Epoch 462/500\n",
      "2/2 [==============================] - 0s 3ms/step - loss: 13.3255 - mae: 13.3255\n",
      "Epoch 463/500\n",
      "2/2 [==============================] - 0s 5ms/step - loss: 29.5704 - mae: 29.5704\n",
      "Epoch 464/500\n",
      "2/2 [==============================] - 0s 4ms/step - loss: 3.4536 - mae: 3.4536\n",
      "Epoch 465/500\n",
      "2/2 [==============================] - 0s 3ms/step - loss: 15.2275 - mae: 15.2275\n",
      "Epoch 466/500\n",
      "2/2 [==============================] - 0s 4ms/step - loss: 20.8588 - mae: 20.8588\n",
      "Epoch 467/500\n",
      "2/2 [==============================] - 0s 4ms/step - loss: 30.4432 - mae: 30.4432\n",
      "Epoch 468/500\n",
      "2/2 [==============================] - 0s 4ms/step - loss: 11.0216 - mae: 11.0216\n",
      "Epoch 469/500\n",
      "2/2 [==============================] - 0s 5ms/step - loss: 12.7929 - mae: 12.7929\n",
      "Epoch 470/500\n",
      "2/2 [==============================] - 0s 5ms/step - loss: 3.2195 - mae: 3.2195\n",
      "Epoch 471/500\n",
      "2/2 [==============================] - 0s 3ms/step - loss: 16.7104 - mae: 16.7104\n",
      "Epoch 472/500\n",
      "2/2 [==============================] - 0s 5ms/step - loss: 13.4011 - mae: 13.4011\n",
      "Epoch 473/500\n",
      "2/2 [==============================] - 0s 4ms/step - loss: 15.2878 - mae: 15.2878\n",
      "Epoch 474/500\n",
      "2/2 [==============================] - 0s 4ms/step - loss: 11.7549 - mae: 11.7549\n",
      "Epoch 475/500\n",
      "2/2 [==============================] - 0s 5ms/step - loss: 16.4267 - mae: 16.4267\n",
      "Epoch 476/500\n",
      "2/2 [==============================] - 0s 4ms/step - loss: 14.0045 - mae: 14.0045\n",
      "Epoch 477/500\n",
      "2/2 [==============================] - 0s 4ms/step - loss: 30.5815 - mae: 30.5815\n",
      "Epoch 478/500\n",
      "2/2 [==============================] - 0s 4ms/step - loss: 8.1620 - mae: 8.1620\n",
      "Epoch 479/500\n",
      "2/2 [==============================] - 0s 4ms/step - loss: 11.2222 - mae: 11.2222\n",
      "Epoch 480/500\n",
      "2/2 [==============================] - 0s 5ms/step - loss: 17.8878 - mae: 17.8878\n",
      "Epoch 481/500\n",
      "2/2 [==============================] - 0s 4ms/step - loss: 15.7951 - mae: 15.7951\n",
      "Epoch 482/500\n",
      "2/2 [==============================] - 0s 4ms/step - loss: 21.2821 - mae: 21.2821\n",
      "Epoch 483/500\n",
      "2/2 [==============================] - 0s 5ms/step - loss: 25.4375 - mae: 25.4375\n",
      "Epoch 484/500\n",
      "2/2 [==============================] - 0s 4ms/step - loss: 24.0313 - mae: 24.0313\n",
      "Epoch 485/500\n",
      "2/2 [==============================] - 0s 3ms/step - loss: 5.7685 - mae: 5.7685\n",
      "Epoch 486/500\n",
      "2/2 [==============================] - 0s 5ms/step - loss: 20.0565 - mae: 20.0565\n",
      "Epoch 487/500\n",
      "2/2 [==============================] - 0s 3ms/step - loss: 14.0346 - mae: 14.0346\n",
      "Epoch 488/500\n",
      "2/2 [==============================] - 0s 4ms/step - loss: 30.5989 - mae: 30.5989\n",
      "Epoch 489/500\n",
      "2/2 [==============================] - 0s 4ms/step - loss: 11.9215 - mae: 11.9215\n",
      "Epoch 490/500\n",
      "2/2 [==============================] - 0s 3ms/step - loss: 12.7241 - mae: 12.7241\n",
      "Epoch 491/500\n",
      "2/2 [==============================] - 0s 4ms/step - loss: 23.5953 - mae: 23.5953\n",
      "Epoch 492/500\n",
      "2/2 [==============================] - 0s 3ms/step - loss: 20.5859 - mae: 20.5859\n",
      "Epoch 493/500\n",
      "2/2 [==============================] - 0s 4ms/step - loss: 4.9906 - mae: 4.9906\n",
      "Epoch 494/500\n",
      "2/2 [==============================] - 0s 5ms/step - loss: 12.8340 - mae: 12.8340\n",
      "Epoch 495/500\n",
      "2/2 [==============================] - 0s 4ms/step - loss: 13.3590 - mae: 13.3590\n",
      "Epoch 496/500\n",
      "2/2 [==============================] - 0s 5ms/step - loss: 12.6595 - mae: 12.6595\n",
      "Epoch 497/500\n",
      "2/2 [==============================] - 0s 4ms/step - loss: 17.5935 - mae: 17.5935\n",
      "Epoch 498/500\n",
      "2/2 [==============================] - 0s 3ms/step - loss: 23.6155 - mae: 23.6155\n",
      "Epoch 499/500\n",
      "2/2 [==============================] - 0s 3ms/step - loss: 9.4181 - mae: 9.4181\n",
      "Epoch 500/500\n",
      "2/2 [==============================] - 0s 3ms/step - loss: 14.6217 - mae: 14.6217\n"
     ]
    },
    {
     "data": {
      "text/plain": [
       "<keras.callbacks.History at 0x254dd216790>"
      ]
     },
     "execution_count": 37,
     "metadata": {},
     "output_type": "execute_result"
    }
   ],
   "source": [
    "# Set random seed\n",
    "tf.random.set_seed(42)\n",
    "\n",
    "# Replicate model_1 and add an extra layer\n",
    "model_3 = tf.keras.Sequential([\n",
    "  tf.keras.layers.Dense(10),\n",
    "  tf.keras.layers.Dense(1) # add a second layer\n",
    "])\n",
    "\n",
    "# Compile the model\n",
    "model_3.compile(loss=tf.keras.losses.mae,\n",
    "                optimizer=tf.keras.optimizers.SGD(),\n",
    "                metrics=['mae'])\n",
    "\n",
    "# Fit the model\n",
    "model_3.fit(tf.expand_dims(X_train, axis=-1), y_train, epochs=500) # set verbose to 0 for less output"
   ]
  },
  {
   "cell_type": "code",
   "execution_count": 38,
   "id": "e4441d82",
   "metadata": {},
   "outputs": [
    {
     "name": "stdout",
     "output_type": "stream",
     "text": [
      "1/1 [==============================] - 0s 38ms/step\n"
     ]
    },
    {
     "data": {
      "image/png": "[encoded data removed]",
      "text/plain": [
       "<Figure size 1000x700 with 1 Axes>"
      ]
     },
     "metadata": {},
     "output_type": "display_data"
    }
   ],
   "source": [
    "y_preds_3 = model_3.predict(X_test)\n",
    "plot_predictions(predictions=y_preds_3)"
   ]
  },
  {
   "cell_type": "code",
   "execution_count": 39,
   "id": "c36600e7",
   "metadata": {},
   "outputs": [
    {
     "data": {
      "text/plain": [
       "(68.67457, 4802.612)"
      ]
     },
     "execution_count": 39,
     "metadata": {},
     "output_type": "execute_result"
    }
   ],
   "source": [
    "mae_3 = mae(y_test, y_preds_3.squeeze()).numpy()\n",
    "mse_3 = mse(y_test, y_preds_3.squeeze()).numpy()\n",
    "mae_3, mse_3"
   ]
  },
  {
   "cell_type": "code",
   "execution_count": null,
   "id": "fb74d673",
   "metadata": {},
   "outputs": [],
   "source": []
  },
  {
   "cell_type": "code",
   "execution_count": 40,
   "id": "c7bb3bd2",
   "metadata": {},
   "outputs": [],
   "source": [
    "model_results = [[\"model_1\", mae_1, mse_1],\n",
    "                 [\"model_2\", mae_2, mse_2],\n",
    "                 [\"model_3\", mae_3, mae_3]]"
   ]
  },
  {
   "cell_type": "code",
   "execution_count": 41,
   "id": "6c49d341",
   "metadata": {},
   "outputs": [
    {
     "data": {
      "text/html": [
       "<div>\n",
       "<style scoped>\n",
       "    .dataframe tbody tr th:only-of-type {\n",
       "        vertical-align: middle;\n",
       "    }\n",
       "\n",
       "    .dataframe tbody tr th {\n",
       "        vertical-align: top;\n",
       "    }\n",
       "\n",
       "    .dataframe thead th {\n",
       "        text-align: right;\n",
       "    }\n",
       "</style>\n",
       "<table border=\"1\" class=\"dataframe\">\n",
       "  <thead>\n",
       "    <tr style=\"text-align: right;\">\n",
       "      <th></th>\n",
       "      <th>model</th>\n",
       "      <th>mae</th>\n",
       "      <th>mse</th>\n",
       "    </tr>\n",
       "  </thead>\n",
       "  <tbody>\n",
       "    <tr>\n",
       "      <th>0</th>\n",
       "      <td>model_1</td>\n",
       "      <td>14.929461</td>\n",
       "      <td>223.727570</td>\n",
       "    </tr>\n",
       "    <tr>\n",
       "      <th>1</th>\n",
       "      <td>model_2</td>\n",
       "      <td>10.076444</td>\n",
       "      <td>108.829956</td>\n",
       "    </tr>\n",
       "    <tr>\n",
       "      <th>2</th>\n",
       "      <td>model_3</td>\n",
       "      <td>68.674568</td>\n",
       "      <td>68.674568</td>\n",
       "    </tr>\n",
       "  </tbody>\n",
       "</table>\n",
       "</div>"
      ],
      "text/plain": [
       "     model        mae         mse\n",
       "0  model_1  14.929461  223.727570\n",
       "1  model_2  10.076444  108.829956\n",
       "2  model_3  68.674568   68.674568"
      ]
     },
     "execution_count": 41,
     "metadata": {},
     "output_type": "execute_result"
    }
   ],
   "source": [
    "import pandas as pd\n",
    "all_results = pd.DataFrame(model_results, columns=[\"model\", \"mae\", \"mse\"])\n",
    "all_results"
   ]
  },
  {
   "cell_type": "code",
   "execution_count": 43,
   "id": "c08c1fc3",
   "metadata": {},
   "outputs": [
    {
     "name": "stdout",
     "output_type": "stream",
     "text": [
      "INFO:tensorflow:Assets written to: best_model_SavedModel_format\\assets\n"
     ]
    }
   ],
   "source": [
    "model_2.save('best_model_SavedModel_format')"
   ]
  },
  {
   "cell_type": "code",
   "execution_count": 44,
   "id": "9d77ae86",
   "metadata": {},
   "outputs": [],
   "source": [
    "model_2.save(\"best_model_HDF5_format.h5\")"
   ]
  },
  {
   "cell_type": "code",
   "execution_count": null,
   "id": "f864f737",
   "metadata": {},
   "outputs": [],
   "source": []
  },
  {
   "cell_type": "code",
   "execution_count": 5,
   "id": "99c1813b",
   "metadata": {},
   "outputs": [
    {
     "name": "stdout",
     "output_type": "stream",
     "text": [
      "Model: \"sequential_2\"\n",
      "_________________________________________________________________\n",
      " Layer (type)                Output Shape              Param #   \n",
      "=================================================================\n",
      " dense_2 (Dense)             (None, 10)                20        \n",
      "                                                                 \n",
      " dense_3 (Dense)             (None, 1)                 11        \n",
      "                                                                 \n",
      "=================================================================\n",
      "Total params: 31\n",
      "Trainable params: 31\n",
      "Non-trainable params: 0\n",
      "_________________________________________________________________\n"
     ]
    }
   ],
   "source": [
    "loaded_saved_model = tf.keras.models.load_model(\"best_model_SavedModel_format\")\n",
    "loaded_saved_model.summary()"
   ]
  },
  {
   "cell_type": "code",
   "execution_count": 46,
   "id": "beb35981",
   "metadata": {},
   "outputs": [
    {
     "name": "stdout",
     "output_type": "stream",
     "text": [
      "Model: \"sequential_2\"\n",
      "_________________________________________________________________\n",
      " Layer (type)                Output Shape              Param #   \n",
      "=================================================================\n",
      " dense_2 (Dense)             (None, 10)                20        \n",
      "                                                                 \n",
      " dense_3 (Dense)             (None, 1)                 11        \n",
      "                                                                 \n",
      "=================================================================\n",
      "Total params: 31\n",
      "Trainable params: 31\n",
      "Non-trainable params: 0\n",
      "_________________________________________________________________\n"
     ]
    }
   ],
   "source": [
    "model_2.summary()"
   ]
  },
  {
   "cell_type": "code",
   "execution_count": 51,
   "id": "49d6f0f3",
   "metadata": {},
   "outputs": [
    {
     "name": "stdout",
     "output_type": "stream",
     "text": [
      "1/1 [==============================] - 0s 23ms/step\n",
      "1/1 [==============================] - 0s 19ms/step\n"
     ]
    },
    {
     "data": {
      "text/plain": [
       "<tf.Tensor: shape=(10,), dtype=bool, numpy=\n",
       "array([ True,  True,  True,  True,  True,  True,  True,  True,  True,\n",
       "        True])>"
      ]
     },
     "execution_count": 51,
     "metadata": {},
     "output_type": "execute_result"
    }
   ],
   "source": [
    "model_2_preds = model_2.predict(X_test)\n",
    "saved_model_preds = loaded_saved_model.predict(X_test)\n",
    "mae(y_test, saved_model_preds) == mae(y_test, model_2_preds)"
   ]
  },
  {
   "cell_type": "code",
   "execution_count": 54,
   "id": "147c6819",
   "metadata": {},
   "outputs": [
    {
     "data": {
      "text/plain": [
       "<tf.Tensor: shape=(), dtype=bool, numpy=True>"
      ]
     },
     "execution_count": 54,
     "metadata": {},
     "output_type": "execute_result"
    }
   ],
   "source": [
    "mae(y_test, saved_model_preds.squeeze()) == mae(y_test, model_2_preds.squeeze())"
   ]
  },
  {
   "cell_type": "code",
   "execution_count": 55,
   "id": "1cbe9bec",
   "metadata": {},
   "outputs": [
    {
     "data": {
      "text/plain": [
       "True"
      ]
     },
     "execution_count": 55,
     "metadata": {},
     "output_type": "execute_result"
    }
   ],
   "source": [
    "mae(y_test, saved_model_preds.squeeze()).numpy() == mae(y_test, model_2_preds.squeeze()).numpy()"
   ]
  },
  {
   "cell_type": "code",
   "execution_count": 4,
   "id": "333de9bd",
   "metadata": {},
   "outputs": [
    {
     "name": "stdout",
     "output_type": "stream",
     "text": [
      "Model: \"sequential_2\"\n",
      "_________________________________________________________________\n",
      " Layer (type)                Output Shape              Param #   \n",
      "=================================================================\n",
      " dense_2 (Dense)             (None, 10)                20        \n",
      "                                                                 \n",
      " dense_3 (Dense)             (None, 1)                 11        \n",
      "                                                                 \n",
      "=================================================================\n",
      "Total params: 31\n",
      "Trainable params: 31\n",
      "Non-trainable params: 0\n",
      "_________________________________________________________________\n"
     ]
    }
   ],
   "source": [
    "loaded_h5_model = tf.keras.models.load_model(\"best_model_HDF5_format.h5\")\n",
    "loaded_h5_model.summary()"
   ]
  },
  {
   "cell_type": "code",
   "execution_count": 50,
   "id": "84e9c958",
   "metadata": {},
   "outputs": [
    {
     "name": "stdout",
     "output_type": "stream",
     "text": [
      "WARNING:tensorflow:6 out of the last 7 calls to <function Model.make_predict_function.<locals>.predict_function at 0x00000254B6EE2820> triggered tf.function retracing. Tracing is expensive and the excessive number of tracings could be due to (1) creating @tf.function repeatedly in a loop, (2) passing tensors with different shapes, (3) passing Python objects instead of tensors. For (1), please define your @tf.function outside of the loop. For (2), @tf.function has reduce_retracing=True option that can avoid unnecessary retracing. For (3), please refer to https://www.tensorflow.org/guide/function#controlling_retracing and https://www.tensorflow.org/api_docs/python/tf/function for  more details.\n",
      "1/1 [==============================] - 0s 40ms/step\n"
     ]
    },
    {
     "data": {
      "text/plain": [
       "True"
      ]
     },
     "execution_count": 50,
     "metadata": {},
     "output_type": "execute_result"
    }
   ],
   "source": [
    "h5_model_preds = loaded_h5_model.predict(X_test)\n",
    "mae(y_test, h5_model_preds.squeeze()).numpy() == mae(y_test, model_2_preds.squeeze()).numpy()"
   ]
  },
  {
   "cell_type": "code",
   "execution_count": null,
   "id": "e5c59645",
   "metadata": {},
   "outputs": [],
   "source": []
  },
  {
   "cell_type": "code",
   "execution_count": 1,
   "id": "c6006490",
   "metadata": {},
   "outputs": [],
   "source": [
    "import tensorflow as tf\n",
    "import numpy as np\n",
    "import pandas as pd\n",
    "import matplotlib.pyplot as plt"
   ]
  },
  {
   "cell_type": "code",
   "execution_count": 2,
   "id": "1fec3528",
   "metadata": {},
   "outputs": [],
   "source": [
    "insurance = pd.read_csv(\"https://raw.githubusercontent.com/stedy/Machine-Learning-with-R-datasets/master/insurance.csv\")"
   ]
  },
  {
   "cell_type": "code",
   "execution_count": 3,
   "id": "fa9d2f61",
   "metadata": {},
   "outputs": [
    {
     "data": {
      "text/html": [
       "<div>\n",
       "<style scoped>\n",
       "    .dataframe tbody tr th:only-of-type {\n",
       "        vertical-align: middle;\n",
       "    }\n",
       "\n",
       "    .dataframe tbody tr th {\n",
       "        vertical-align: top;\n",
       "    }\n",
       "\n",
       "    .dataframe thead th {\n",
       "        text-align: right;\n",
       "    }\n",
       "</style>\n",
       "<table border=\"1\" class=\"dataframe\">\n",
       "  <thead>\n",
       "    <tr style=\"text-align: right;\">\n",
       "      <th></th>\n",
       "      <th>age</th>\n",
       "      <th>sex</th>\n",
       "      <th>bmi</th>\n",
       "      <th>children</th>\n",
       "      <th>smoker</th>\n",
       "      <th>region</th>\n",
       "      <th>charges</th>\n",
       "    </tr>\n",
       "  </thead>\n",
       "  <tbody>\n",
       "    <tr>\n",
       "      <th>0</th>\n",
       "      <td>19</td>\n",
       "      <td>female</td>\n",
       "      <td>27.900</td>\n",
       "      <td>0</td>\n",
       "      <td>yes</td>\n",
       "      <td>southwest</td>\n",
       "      <td>16884.92400</td>\n",
       "    </tr>\n",
       "    <tr>\n",
       "      <th>1</th>\n",
       "      <td>18</td>\n",
       "      <td>male</td>\n",
       "      <td>33.770</td>\n",
       "      <td>1</td>\n",
       "      <td>no</td>\n",
       "      <td>southeast</td>\n",
       "      <td>1725.55230</td>\n",
       "    </tr>\n",
       "    <tr>\n",
       "      <th>2</th>\n",
       "      <td>28</td>\n",
       "      <td>male</td>\n",
       "      <td>33.000</td>\n",
       "      <td>3</td>\n",
       "      <td>no</td>\n",
       "      <td>southeast</td>\n",
       "      <td>4449.46200</td>\n",
       "    </tr>\n",
       "    <tr>\n",
       "      <th>3</th>\n",
       "      <td>33</td>\n",
       "      <td>male</td>\n",
       "      <td>22.705</td>\n",
       "      <td>0</td>\n",
       "      <td>no</td>\n",
       "      <td>northwest</td>\n",
       "      <td>21984.47061</td>\n",
       "    </tr>\n",
       "    <tr>\n",
       "      <th>4</th>\n",
       "      <td>32</td>\n",
       "      <td>male</td>\n",
       "      <td>28.880</td>\n",
       "      <td>0</td>\n",
       "      <td>no</td>\n",
       "      <td>northwest</td>\n",
       "      <td>3866.85520</td>\n",
       "    </tr>\n",
       "  </tbody>\n",
       "</table>\n",
       "</div>"
      ],
      "text/plain": [
       "   age     sex     bmi  children smoker     region      charges\n",
       "0   19  female  27.900         0    yes  southwest  16884.92400\n",
       "1   18    male  33.770         1     no  southeast   1725.55230\n",
       "2   28    male  33.000         3     no  southeast   4449.46200\n",
       "3   33    male  22.705         0     no  northwest  21984.47061\n",
       "4   32    male  28.880         0     no  northwest   3866.85520"
      ]
     },
     "execution_count": 3,
     "metadata": {},
     "output_type": "execute_result"
    }
   ],
   "source": [
    "insurance.head()"
   ]
  },
  {
   "cell_type": "code",
   "execution_count": 4,
   "id": "eedd7c69",
   "metadata": {},
   "outputs": [
    {
     "data": {
      "text/html": [
       "<div>\n",
       "<style scoped>\n",
       "    .dataframe tbody tr th:only-of-type {\n",
       "        vertical-align: middle;\n",
       "    }\n",
       "\n",
       "    .dataframe tbody tr th {\n",
       "        vertical-align: top;\n",
       "    }\n",
       "\n",
       "    .dataframe thead th {\n",
       "        text-align: right;\n",
       "    }\n",
       "</style>\n",
       "<table border=\"1\" class=\"dataframe\">\n",
       "  <thead>\n",
       "    <tr style=\"text-align: right;\">\n",
       "      <th></th>\n",
       "      <th>age</th>\n",
       "      <th>bmi</th>\n",
       "      <th>children</th>\n",
       "      <th>charges</th>\n",
       "    </tr>\n",
       "  </thead>\n",
       "  <tbody>\n",
       "    <tr>\n",
       "      <th>count</th>\n",
       "      <td>1338.000000</td>\n",
       "      <td>1338.000000</td>\n",
       "      <td>1338.000000</td>\n",
       "      <td>1338.000000</td>\n",
       "    </tr>\n",
       "    <tr>\n",
       "      <th>mean</th>\n",
       "      <td>39.207025</td>\n",
       "      <td>30.663397</td>\n",
       "      <td>1.094918</td>\n",
       "      <td>13270.422265</td>\n",
       "    </tr>\n",
       "    <tr>\n",
       "      <th>std</th>\n",
       "      <td>14.049960</td>\n",
       "      <td>6.098187</td>\n",
       "      <td>1.205493</td>\n",
       "      <td>12110.011237</td>\n",
       "    </tr>\n",
       "    <tr>\n",
       "      <th>min</th>\n",
       "      <td>18.000000</td>\n",
       "      <td>15.960000</td>\n",
       "      <td>0.000000</td>\n",
       "      <td>1121.873900</td>\n",
       "    </tr>\n",
       "    <tr>\n",
       "      <th>25%</th>\n",
       "      <td>27.000000</td>\n",
       "      <td>26.296250</td>\n",
       "      <td>0.000000</td>\n",
       "      <td>4740.287150</td>\n",
       "    </tr>\n",
       "    <tr>\n",
       "      <th>50%</th>\n",
       "      <td>39.000000</td>\n",
       "      <td>30.400000</td>\n",
       "      <td>1.000000</td>\n",
       "      <td>9382.033000</td>\n",
       "    </tr>\n",
       "    <tr>\n",
       "      <th>75%</th>\n",
       "      <td>51.000000</td>\n",
       "      <td>34.693750</td>\n",
       "      <td>2.000000</td>\n",
       "      <td>16639.912515</td>\n",
       "    </tr>\n",
       "    <tr>\n",
       "      <th>max</th>\n",
       "      <td>64.000000</td>\n",
       "      <td>53.130000</td>\n",
       "      <td>5.000000</td>\n",
       "      <td>63770.428010</td>\n",
       "    </tr>\n",
       "  </tbody>\n",
       "</table>\n",
       "</div>"
      ],
      "text/plain": [
       "               age          bmi     children       charges\n",
       "count  1338.000000  1338.000000  1338.000000   1338.000000\n",
       "mean     39.207025    30.663397     1.094918  13270.422265\n",
       "std      14.049960     6.098187     1.205493  12110.011237\n",
       "min      18.000000    15.960000     0.000000   1121.873900\n",
       "25%      27.000000    26.296250     0.000000   4740.287150\n",
       "50%      39.000000    30.400000     1.000000   9382.033000\n",
       "75%      51.000000    34.693750     2.000000  16639.912515\n",
       "max      64.000000    53.130000     5.000000  63770.428010"
      ]
     },
     "execution_count": 4,
     "metadata": {},
     "output_type": "execute_result"
    }
   ],
   "source": [
    "insurance.describe()"
   ]
  },
  {
   "cell_type": "code",
   "execution_count": 5,
   "id": "681d1e16",
   "metadata": {},
   "outputs": [
    {
     "name": "stdout",
     "output_type": "stream",
     "text": [
      "<class 'pandas.core.frame.DataFrame'>\n",
      "RangeIndex: 1338 entries, 0 to 1337\n",
      "Data columns (total 7 columns):\n",
      " #   Column    Non-Null Count  Dtype  \n",
      "---  ------    --------------  -----  \n",
      " 0   age       1338 non-null   int64  \n",
      " 1   sex       1338 non-null   object \n",
      " 2   bmi       1338 non-null   float64\n",
      " 3   children  1338 non-null   int64  \n",
      " 4   smoker    1338 non-null   object \n",
      " 5   region    1338 non-null   object \n",
      " 6   charges   1338 non-null   float64\n",
      "dtypes: float64(2), int64(2), object(3)\n",
      "memory usage: 73.3+ KB\n"
     ]
    }
   ],
   "source": [
    "insurance.info()"
   ]
  },
  {
   "cell_type": "code",
   "execution_count": 6,
   "id": "95285001",
   "metadata": {},
   "outputs": [
    {
     "data": {
      "text/plain": [
       "age         0\n",
       "sex         0\n",
       "bmi         0\n",
       "children    0\n",
       "smoker      0\n",
       "region      0\n",
       "charges     0\n",
       "dtype: int64"
      ]
     },
     "execution_count": 6,
     "metadata": {},
     "output_type": "execute_result"
    }
   ],
   "source": [
    "insurance.isnull().sum()"
   ]
  },
  {
   "cell_type": "code",
   "execution_count": 7,
   "id": "b40127c5",
   "metadata": {},
   "outputs": [
    {
     "data": {
      "text/plain": [
       "1"
      ]
     },
     "execution_count": 7,
     "metadata": {},
     "output_type": "execute_result"
    }
   ],
   "source": [
    "insurance.duplicated().sum()"
   ]
  },
  {
   "cell_type": "code",
   "execution_count": 3,
   "id": "cbc65dfc",
   "metadata": {},
   "outputs": [],
   "source": [
    "insurance.drop_duplicates(inplace = True)"
   ]
  },
  {
   "cell_type": "code",
   "execution_count": 9,
   "id": "2392719b",
   "metadata": {},
   "outputs": [
    {
     "data": {
      "text/plain": [
       "0"
      ]
     },
     "execution_count": 9,
     "metadata": {},
     "output_type": "execute_result"
    }
   ],
   "source": [
    "insurance.duplicated().sum()"
   ]
  },
  {
   "cell_type": "code",
   "execution_count": 4,
   "id": "628d1116",
   "metadata": {},
   "outputs": [
    {
     "data": {
      "text/html": [
       "<div>\n",
       "<style scoped>\n",
       "    .dataframe tbody tr th:only-of-type {\n",
       "        vertical-align: middle;\n",
       "    }\n",
       "\n",
       "    .dataframe tbody tr th {\n",
       "        vertical-align: top;\n",
       "    }\n",
       "\n",
       "    .dataframe thead th {\n",
       "        text-align: right;\n",
       "    }\n",
       "</style>\n",
       "<table border=\"1\" class=\"dataframe\">\n",
       "  <thead>\n",
       "    <tr style=\"text-align: right;\">\n",
       "      <th></th>\n",
       "      <th>age</th>\n",
       "      <th>bmi</th>\n",
       "      <th>children</th>\n",
       "      <th>charges</th>\n",
       "      <th>sex_female</th>\n",
       "      <th>sex_male</th>\n",
       "      <th>smoker_no</th>\n",
       "      <th>smoker_yes</th>\n",
       "      <th>region_northeast</th>\n",
       "      <th>region_northwest</th>\n",
       "      <th>region_southeast</th>\n",
       "      <th>region_southwest</th>\n",
       "    </tr>\n",
       "  </thead>\n",
       "  <tbody>\n",
       "    <tr>\n",
       "      <th>0</th>\n",
       "      <td>19</td>\n",
       "      <td>27.900</td>\n",
       "      <td>0</td>\n",
       "      <td>16884.92400</td>\n",
       "      <td>1</td>\n",
       "      <td>0</td>\n",
       "      <td>0</td>\n",
       "      <td>1</td>\n",
       "      <td>0</td>\n",
       "      <td>0</td>\n",
       "      <td>0</td>\n",
       "      <td>1</td>\n",
       "    </tr>\n",
       "    <tr>\n",
       "      <th>1</th>\n",
       "      <td>18</td>\n",
       "      <td>33.770</td>\n",
       "      <td>1</td>\n",
       "      <td>1725.55230</td>\n",
       "      <td>0</td>\n",
       "      <td>1</td>\n",
       "      <td>1</td>\n",
       "      <td>0</td>\n",
       "      <td>0</td>\n",
       "      <td>0</td>\n",
       "      <td>1</td>\n",
       "      <td>0</td>\n",
       "    </tr>\n",
       "    <tr>\n",
       "      <th>2</th>\n",
       "      <td>28</td>\n",
       "      <td>33.000</td>\n",
       "      <td>3</td>\n",
       "      <td>4449.46200</td>\n",
       "      <td>0</td>\n",
       "      <td>1</td>\n",
       "      <td>1</td>\n",
       "      <td>0</td>\n",
       "      <td>0</td>\n",
       "      <td>0</td>\n",
       "      <td>1</td>\n",
       "      <td>0</td>\n",
       "    </tr>\n",
       "    <tr>\n",
       "      <th>3</th>\n",
       "      <td>33</td>\n",
       "      <td>22.705</td>\n",
       "      <td>0</td>\n",
       "      <td>21984.47061</td>\n",
       "      <td>0</td>\n",
       "      <td>1</td>\n",
       "      <td>1</td>\n",
       "      <td>0</td>\n",
       "      <td>0</td>\n",
       "      <td>1</td>\n",
       "      <td>0</td>\n",
       "      <td>0</td>\n",
       "    </tr>\n",
       "    <tr>\n",
       "      <th>4</th>\n",
       "      <td>32</td>\n",
       "      <td>28.880</td>\n",
       "      <td>0</td>\n",
       "      <td>3866.85520</td>\n",
       "      <td>0</td>\n",
       "      <td>1</td>\n",
       "      <td>1</td>\n",
       "      <td>0</td>\n",
       "      <td>0</td>\n",
       "      <td>1</td>\n",
       "      <td>0</td>\n",
       "      <td>0</td>\n",
       "    </tr>\n",
       "  </tbody>\n",
       "</table>\n",
       "</div>"
      ],
      "text/plain": [
       "   age     bmi  children      charges  sex_female  sex_male  smoker_no  \\\n",
       "0   19  27.900         0  16884.92400           1         0          0   \n",
       "1   18  33.770         1   1725.55230           0         1          1   \n",
       "2   28  33.000         3   4449.46200           0         1          1   \n",
       "3   33  22.705         0  21984.47061           0         1          1   \n",
       "4   32  28.880         0   3866.85520           0         1          1   \n",
       "\n",
       "   smoker_yes  region_northeast  region_northwest  region_southeast  \\\n",
       "0           1                 0                 0                 0   \n",
       "1           0                 0                 0                 1   \n",
       "2           0                 0                 0                 1   \n",
       "3           0                 0                 1                 0   \n",
       "4           0                 0                 1                 0   \n",
       "\n",
       "   region_southwest  \n",
       "0                 1  \n",
       "1                 0  \n",
       "2                 0  \n",
       "3                 0  \n",
       "4                 0  "
      ]
     },
     "execution_count": 4,
     "metadata": {},
     "output_type": "execute_result"
    }
   ],
   "source": [
    "insurance_one_hot = pd.get_dummies(insurance, dtype=int)\n",
    "insurance_one_hot.head()"
   ]
  },
  {
   "cell_type": "code",
   "execution_count": 5,
   "id": "bd596726",
   "metadata": {},
   "outputs": [],
   "source": [
    "X = insurance_one_hot.drop(\"charges\", axis=1)\n",
    "y = insurance_one_hot[\"charges\"]"
   ]
  },
  {
   "cell_type": "code",
   "execution_count": 12,
   "id": "4955074f",
   "metadata": {},
   "outputs": [
    {
     "data": {
      "text/html": [
       "<div>\n",
       "<style scoped>\n",
       "    .dataframe tbody tr th:only-of-type {\n",
       "        vertical-align: middle;\n",
       "    }\n",
       "\n",
       "    .dataframe tbody tr th {\n",
       "        vertical-align: top;\n",
       "    }\n",
       "\n",
       "    .dataframe thead th {\n",
       "        text-align: right;\n",
       "    }\n",
       "</style>\n",
       "<table border=\"1\" class=\"dataframe\">\n",
       "  <thead>\n",
       "    <tr style=\"text-align: right;\">\n",
       "      <th></th>\n",
       "      <th>age</th>\n",
       "      <th>bmi</th>\n",
       "      <th>children</th>\n",
       "      <th>sex_female</th>\n",
       "      <th>sex_male</th>\n",
       "      <th>smoker_no</th>\n",
       "      <th>smoker_yes</th>\n",
       "      <th>region_northeast</th>\n",
       "      <th>region_northwest</th>\n",
       "      <th>region_southeast</th>\n",
       "      <th>region_southwest</th>\n",
       "    </tr>\n",
       "  </thead>\n",
       "  <tbody>\n",
       "    <tr>\n",
       "      <th>0</th>\n",
       "      <td>19</td>\n",
       "      <td>27.900</td>\n",
       "      <td>0</td>\n",
       "      <td>1</td>\n",
       "      <td>0</td>\n",
       "      <td>0</td>\n",
       "      <td>1</td>\n",
       "      <td>0</td>\n",
       "      <td>0</td>\n",
       "      <td>0</td>\n",
       "      <td>1</td>\n",
       "    </tr>\n",
       "    <tr>\n",
       "      <th>1</th>\n",
       "      <td>18</td>\n",
       "      <td>33.770</td>\n",
       "      <td>1</td>\n",
       "      <td>0</td>\n",
       "      <td>1</td>\n",
       "      <td>1</td>\n",
       "      <td>0</td>\n",
       "      <td>0</td>\n",
       "      <td>0</td>\n",
       "      <td>1</td>\n",
       "      <td>0</td>\n",
       "    </tr>\n",
       "    <tr>\n",
       "      <th>2</th>\n",
       "      <td>28</td>\n",
       "      <td>33.000</td>\n",
       "      <td>3</td>\n",
       "      <td>0</td>\n",
       "      <td>1</td>\n",
       "      <td>1</td>\n",
       "      <td>0</td>\n",
       "      <td>0</td>\n",
       "      <td>0</td>\n",
       "      <td>1</td>\n",
       "      <td>0</td>\n",
       "    </tr>\n",
       "    <tr>\n",
       "      <th>3</th>\n",
       "      <td>33</td>\n",
       "      <td>22.705</td>\n",
       "      <td>0</td>\n",
       "      <td>0</td>\n",
       "      <td>1</td>\n",
       "      <td>1</td>\n",
       "      <td>0</td>\n",
       "      <td>0</td>\n",
       "      <td>1</td>\n",
       "      <td>0</td>\n",
       "      <td>0</td>\n",
       "    </tr>\n",
       "    <tr>\n",
       "      <th>4</th>\n",
       "      <td>32</td>\n",
       "      <td>28.880</td>\n",
       "      <td>0</td>\n",
       "      <td>0</td>\n",
       "      <td>1</td>\n",
       "      <td>1</td>\n",
       "      <td>0</td>\n",
       "      <td>0</td>\n",
       "      <td>1</td>\n",
       "      <td>0</td>\n",
       "      <td>0</td>\n",
       "    </tr>\n",
       "  </tbody>\n",
       "</table>\n",
       "</div>"
      ],
      "text/plain": [
       "   age     bmi  children  sex_female  sex_male  smoker_no  smoker_yes  \\\n",
       "0   19  27.900         0           1         0          0           1   \n",
       "1   18  33.770         1           0         1          1           0   \n",
       "2   28  33.000         3           0         1          1           0   \n",
       "3   33  22.705         0           0         1          1           0   \n",
       "4   32  28.880         0           0         1          1           0   \n",
       "\n",
       "   region_northeast  region_northwest  region_southeast  region_southwest  \n",
       "0                 0                 0                 0                 1  \n",
       "1                 0                 0                 1                 0  \n",
       "2                 0                 0                 1                 0  \n",
       "3                 0                 1                 0                 0  \n",
       "4                 0                 1                 0                 0  "
      ]
     },
     "execution_count": 12,
     "metadata": {},
     "output_type": "execute_result"
    }
   ],
   "source": [
    "X.head()"
   ]
  },
  {
   "cell_type": "code",
   "execution_count": 13,
   "id": "ba9a1a91",
   "metadata": {},
   "outputs": [
    {
     "data": {
      "text/plain": [
       "((1337, 11), (1337,))"
      ]
     },
     "execution_count": 13,
     "metadata": {},
     "output_type": "execute_result"
    }
   ],
   "source": [
    "X.shape, y.shape"
   ]
  },
  {
   "cell_type": "code",
   "execution_count": 14,
   "id": "4f489cde",
   "metadata": {},
   "outputs": [
    {
     "name": "stdout",
     "output_type": "stream",
     "text": [
      "<class 'pandas.core.frame.DataFrame'>\n",
      "Index: 1337 entries, 0 to 1337\n",
      "Data columns (total 11 columns):\n",
      " #   Column            Non-Null Count  Dtype  \n",
      "---  ------            --------------  -----  \n",
      " 0   age               1337 non-null   int64  \n",
      " 1   bmi               1337 non-null   float64\n",
      " 2   children          1337 non-null   int64  \n",
      " 3   sex_female        1337 non-null   int32  \n",
      " 4   sex_male          1337 non-null   int32  \n",
      " 5   smoker_no         1337 non-null   int32  \n",
      " 6   smoker_yes        1337 non-null   int32  \n",
      " 7   region_northeast  1337 non-null   int32  \n",
      " 8   region_northwest  1337 non-null   int32  \n",
      " 9   region_southeast  1337 non-null   int32  \n",
      " 10  region_southwest  1337 non-null   int32  \n",
      "dtypes: float64(1), int32(8), int64(2)\n",
      "memory usage: 83.6 KB\n"
     ]
    }
   ],
   "source": [
    "X.info()"
   ]
  },
  {
   "cell_type": "code",
   "execution_count": 6,
   "id": "eda1ac76",
   "metadata": {},
   "outputs": [],
   "source": [
    "from sklearn.model_selection import train_test_split\n",
    "X_train, X_test, y_train, y_test = train_test_split(X, y, test_size=0.2, random_state=42)"
   ]
  },
  {
   "cell_type": "code",
   "execution_count": 16,
   "id": "a0b1605e",
   "metadata": {
    "scrolled": false
   },
   "outputs": [
    {
     "name": "stdout",
     "output_type": "stream",
     "text": [
      "Epoch 1/100\n",
      "34/34 [==============================] - 2s 5ms/step - loss: 8392.1367 - mae: 8392.1367\n",
      "Epoch 2/100\n",
      "34/34 [==============================] - 0s 5ms/step - loss: 7387.9707 - mae: 7387.9707\n",
      "Epoch 3/100\n",
      "34/34 [==============================] - 0s 4ms/step - loss: 7596.8423 - mae: 7596.8423\n",
      "Epoch 4/100\n",
      "34/34 [==============================] - 0s 4ms/step - loss: 7443.2935 - mae: 7443.2935\n",
      "Epoch 5/100\n",
      "34/34 [==============================] - 0s 4ms/step - loss: 7454.1299 - mae: 7454.1299\n",
      "Epoch 6/100\n",
      "34/34 [==============================] - 0s 4ms/step - loss: 7489.5249 - mae: 7489.5249\n",
      "Epoch 7/100\n",
      "34/34 [==============================] - 0s 4ms/step - loss: 7251.5381 - mae: 7251.5381\n",
      "Epoch 8/100\n",
      "34/34 [==============================] - 0s 4ms/step - loss: 7288.7798 - mae: 7288.7798\n",
      "Epoch 9/100\n",
      "34/34 [==============================] - 0s 4ms/step - loss: 7344.1978 - mae: 7344.1978\n",
      "Epoch 10/100\n",
      "34/34 [==============================] - 0s 4ms/step - loss: 7402.4360 - mae: 7402.4360\n",
      "Epoch 11/100\n",
      "34/34 [==============================] - 0s 4ms/step - loss: 7316.0386 - mae: 7316.0386\n",
      "Epoch 12/100\n",
      "34/34 [==============================] - 0s 4ms/step - loss: 7538.2949 - mae: 7538.2949\n",
      "Epoch 13/100\n",
      "34/34 [==============================] - 0s 4ms/step - loss: 7278.4185 - mae: 7278.4185\n",
      "Epoch 14/100\n",
      "34/34 [==============================] - 0s 4ms/step - loss: 7548.4805 - mae: 7548.4805\n",
      "Epoch 15/100\n",
      "34/34 [==============================] - 0s 4ms/step - loss: 7327.4688 - mae: 7327.4688\n",
      "Epoch 16/100\n",
      "34/34 [==============================] - 0s 4ms/step - loss: 7475.5112 - mae: 7475.5112\n",
      "Epoch 17/100\n",
      "34/34 [==============================] - 0s 4ms/step - loss: 7175.6450 - mae: 7175.6450\n",
      "Epoch 18/100\n",
      "34/34 [==============================] - 0s 4ms/step - loss: 7312.8589 - mae: 7312.8589\n",
      "Epoch 19/100\n",
      "34/34 [==============================] - 0s 4ms/step - loss: 7319.9854 - mae: 7319.9854\n",
      "Epoch 20/100\n",
      "34/34 [==============================] - 0s 4ms/step - loss: 7512.1025 - mae: 7512.1025\n",
      "Epoch 21/100\n",
      "34/34 [==============================] - 0s 4ms/step - loss: 7433.2476 - mae: 7433.2476\n",
      "Epoch 22/100\n",
      "34/34 [==============================] - 0s 4ms/step - loss: 7327.8467 - mae: 7327.8467\n",
      "Epoch 23/100\n",
      "34/34 [==============================] - 0s 4ms/step - loss: 7576.4116 - mae: 7576.4116\n",
      "Epoch 24/100\n",
      "34/34 [==============================] - 0s 4ms/step - loss: 7289.8452 - mae: 7289.8452\n",
      "Epoch 25/100\n",
      "34/34 [==============================] - 0s 4ms/step - loss: 7167.3647 - mae: 7167.3647\n",
      "Epoch 26/100\n",
      "34/34 [==============================] - 0s 4ms/step - loss: 7430.4243 - mae: 7430.4243\n",
      "Epoch 27/100\n",
      "34/34 [==============================] - 0s 5ms/step - loss: 7439.3677 - mae: 7439.3677\n",
      "Epoch 28/100\n",
      "34/34 [==============================] - 0s 4ms/step - loss: 7372.3579 - mae: 7372.3579\n",
      "Epoch 29/100\n",
      "34/34 [==============================] - 0s 4ms/step - loss: 7402.5830 - mae: 7402.5830\n",
      "Epoch 30/100\n",
      "34/34 [==============================] - 0s 4ms/step - loss: 7305.2017 - mae: 7305.2017\n",
      "Epoch 31/100\n",
      "34/34 [==============================] - 0s 4ms/step - loss: 7323.8853 - mae: 7323.8853\n",
      "Epoch 32/100\n",
      "34/34 [==============================] - 0s 4ms/step - loss: 7524.1855 - mae: 7524.1855\n",
      "Epoch 33/100\n",
      "34/34 [==============================] - 0s 4ms/step - loss: 7334.9961 - mae: 7334.9961\n",
      "Epoch 34/100\n",
      "34/34 [==============================] - 0s 4ms/step - loss: 7437.0698 - mae: 7437.0698\n",
      "Epoch 35/100\n",
      "34/34 [==============================] - 0s 4ms/step - loss: 7282.1455 - mae: 7282.1455\n",
      "Epoch 36/100\n",
      "34/34 [==============================] - 0s 4ms/step - loss: 7403.1255 - mae: 7403.1250\n",
      "Epoch 37/100\n",
      "34/34 [==============================] - 0s 4ms/step - loss: 7374.9033 - mae: 7374.9033\n",
      "Epoch 38/100\n",
      "34/34 [==============================] - 0s 4ms/step - loss: 7319.7964 - mae: 7319.7964\n",
      "Epoch 39/100\n",
      "34/34 [==============================] - 0s 4ms/step - loss: 7245.1831 - mae: 7245.1831\n",
      "Epoch 40/100\n",
      "34/34 [==============================] - 0s 4ms/step - loss: 7301.1592 - mae: 7301.1592\n",
      "Epoch 41/100\n",
      "34/34 [==============================] - 0s 4ms/step - loss: 7293.2617 - mae: 7293.2617\n",
      "Epoch 42/100\n",
      "34/34 [==============================] - 0s 4ms/step - loss: 7396.1396 - mae: 7396.1396\n",
      "Epoch 43/100\n",
      "34/34 [==============================] - 0s 4ms/step - loss: 7245.1899 - mae: 7245.1899\n",
      "Epoch 44/100\n",
      "34/34 [==============================] - 0s 4ms/step - loss: 7484.9253 - mae: 7484.9253\n",
      "Epoch 45/100\n",
      "34/34 [==============================] - 0s 4ms/step - loss: 7300.7661 - mae: 7300.7661\n",
      "Epoch 46/100\n",
      "34/34 [==============================] - 0s 4ms/step - loss: 7390.1113 - mae: 7390.1113\n",
      "Epoch 47/100\n",
      "34/34 [==============================] - 0s 4ms/step - loss: 7518.1934 - mae: 7518.1934\n",
      "Epoch 48/100\n",
      "34/34 [==============================] - 0s 4ms/step - loss: 7387.8394 - mae: 7387.8394\n",
      "Epoch 49/100\n",
      "34/34 [==============================] - 0s 4ms/step - loss: 7185.7500 - mae: 7185.7500\n",
      "Epoch 50/100\n",
      "34/34 [==============================] - 0s 4ms/step - loss: 7222.3091 - mae: 7222.3091\n",
      "Epoch 51/100\n",
      "34/34 [==============================] - 0s 4ms/step - loss: 7107.8594 - mae: 7107.8594\n",
      "Epoch 52/100\n",
      "34/34 [==============================] - 0s 4ms/step - loss: 7205.0771 - mae: 7205.0771\n",
      "Epoch 53/100\n",
      "34/34 [==============================] - 0s 4ms/step - loss: 7190.3306 - mae: 7190.3306\n",
      "Epoch 54/100\n",
      "34/34 [==============================] - 0s 4ms/step - loss: 7068.1279 - mae: 7068.1279\n",
      "Epoch 55/100\n",
      "34/34 [==============================] - 0s 5ms/step - loss: 7481.9912 - mae: 7481.9912\n",
      "Epoch 56/100\n",
      "34/34 [==============================] - 0s 4ms/step - loss: 7228.1548 - mae: 7228.1548\n",
      "Epoch 57/100\n",
      "34/34 [==============================] - 0s 5ms/step - loss: 7289.4761 - mae: 7289.4761\n",
      "Epoch 58/100\n",
      "34/34 [==============================] - 0s 4ms/step - loss: 7283.2227 - mae: 7283.2227\n",
      "Epoch 59/100\n",
      "34/34 [==============================] - 0s 4ms/step - loss: 7309.4512 - mae: 7309.4512\n",
      "Epoch 60/100\n",
      "34/34 [==============================] - 0s 4ms/step - loss: 7424.0854 - mae: 7424.0854\n",
      "Epoch 61/100\n",
      "34/34 [==============================] - 0s 4ms/step - loss: 7317.0894 - mae: 7317.0894\n",
      "Epoch 62/100\n",
      "34/34 [==============================] - 0s 4ms/step - loss: 7407.9502 - mae: 7407.9502\n",
      "Epoch 63/100\n",
      "34/34 [==============================] - 0s 4ms/step - loss: 7331.6421 - mae: 7331.6421\n",
      "Epoch 64/100\n",
      "34/34 [==============================] - 0s 4ms/step - loss: 6997.9731 - mae: 6997.9731\n",
      "Epoch 65/100\n",
      "34/34 [==============================] - 0s 4ms/step - loss: 7201.0522 - mae: 7201.0522\n",
      "Epoch 66/100\n",
      "34/34 [==============================] - 0s 4ms/step - loss: 7259.8999 - mae: 7259.8999\n",
      "Epoch 67/100\n",
      "34/34 [==============================] - 0s 5ms/step - loss: 7156.8647 - mae: 7156.8647\n",
      "Epoch 68/100\n",
      "34/34 [==============================] - 0s 4ms/step - loss: 7158.9102 - mae: 7158.9102\n",
      "Epoch 69/100\n",
      "34/34 [==============================] - 0s 4ms/step - loss: 6993.0356 - mae: 6993.0356\n",
      "Epoch 70/100\n",
      "34/34 [==============================] - 0s 4ms/step - loss: 7069.4395 - mae: 7069.4395\n",
      "Epoch 71/100\n",
      "34/34 [==============================] - 0s 4ms/step - loss: 7215.6450 - mae: 7215.6450\n",
      "Epoch 72/100\n",
      "34/34 [==============================] - 0s 4ms/step - loss: 7063.4404 - mae: 7063.4404\n",
      "Epoch 73/100\n",
      "34/34 [==============================] - 0s 4ms/step - loss: 7041.2324 - mae: 7041.2324\n",
      "Epoch 74/100\n",
      "34/34 [==============================] - 0s 4ms/step - loss: 7282.4731 - mae: 7282.4731\n",
      "Epoch 75/100\n",
      "34/34 [==============================] - 0s 4ms/step - loss: 7237.7515 - mae: 7237.7515\n",
      "Epoch 76/100\n",
      "34/34 [==============================] - 0s 4ms/step - loss: 7225.6753 - mae: 7225.6753\n",
      "Epoch 77/100\n",
      "34/34 [==============================] - 0s 4ms/step - loss: 7193.7852 - mae: 7193.7852\n",
      "Epoch 78/100\n",
      "34/34 [==============================] - 0s 4ms/step - loss: 7199.8345 - mae: 7199.8345\n",
      "Epoch 79/100\n",
      "34/34 [==============================] - 0s 4ms/step - loss: 7217.0894 - mae: 7217.0894\n",
      "Epoch 80/100\n",
      "34/34 [==============================] - 0s 4ms/step - loss: 7109.2476 - mae: 7109.2476\n",
      "Epoch 81/100\n",
      "34/34 [==============================] - 0s 4ms/step - loss: 7263.9834 - mae: 7263.9834\n",
      "Epoch 82/100\n",
      "34/34 [==============================] - 0s 4ms/step - loss: 7035.6665 - mae: 7035.6665\n",
      "Epoch 83/100\n",
      "34/34 [==============================] - 0s 4ms/step - loss: 7025.3301 - mae: 7025.3301\n",
      "Epoch 84/100\n",
      "34/34 [==============================] - 0s 4ms/step - loss: 6876.9546 - mae: 6876.9546\n",
      "Epoch 85/100\n",
      "34/34 [==============================] - 0s 4ms/step - loss: 7300.5127 - mae: 7300.5127\n",
      "Epoch 86/100\n",
      "34/34 [==============================] - 0s 4ms/step - loss: 7071.6870 - mae: 7071.6870\n",
      "Epoch 87/100\n",
      "34/34 [==============================] - 0s 4ms/step - loss: 7003.1519 - mae: 7003.1519\n",
      "Epoch 88/100\n",
      "34/34 [==============================] - 0s 4ms/step - loss: 7010.0249 - mae: 7010.0249\n",
      "Epoch 89/100\n",
      "34/34 [==============================] - 0s 4ms/step - loss: 6999.6025 - mae: 6999.6025\n",
      "Epoch 90/100\n",
      "34/34 [==============================] - 0s 4ms/step - loss: 7037.6001 - mae: 7037.6001\n",
      "Epoch 91/100\n",
      "34/34 [==============================] - 0s 4ms/step - loss: 7254.2314 - mae: 7254.2314\n",
      "Epoch 92/100\n",
      "34/34 [==============================] - 0s 4ms/step - loss: 6953.5342 - mae: 6953.5342\n",
      "Epoch 93/100\n",
      "34/34 [==============================] - 0s 4ms/step - loss: 7261.9702 - mae: 7261.9702\n",
      "Epoch 94/100\n",
      "34/34 [==============================] - 0s 4ms/step - loss: 6958.9058 - mae: 6958.9058\n",
      "Epoch 95/100\n",
      "34/34 [==============================] - 0s 4ms/step - loss: 7190.6665 - mae: 7190.6665\n",
      "Epoch 96/100\n",
      "34/34 [==============================] - 0s 4ms/step - loss: 7074.0698 - mae: 7074.0698\n",
      "Epoch 97/100\n",
      "34/34 [==============================] - 0s 4ms/step - loss: 6959.5342 - mae: 6959.5342\n",
      "Epoch 98/100\n",
      "34/34 [==============================] - 0s 4ms/step - loss: 7120.3560 - mae: 7120.3560\n",
      "Epoch 99/100\n",
      "34/34 [==============================] - 0s 4ms/step - loss: 7151.1572 - mae: 7151.1572\n",
      "Epoch 100/100\n",
      "34/34 [==============================] - 0s 4ms/step - loss: 7142.5767 - mae: 7142.5767\n"
     ]
    },
    {
     "data": {
      "text/plain": [
       "<keras.callbacks.History at 0x1cf02cf3c70>"
      ]
     },
     "execution_count": 16,
     "metadata": {},
     "output_type": "execute_result"
    }
   ],
   "source": [
    "tf.random.set_seed(42)\n",
    "\n",
    "insurance_model = tf.keras.Sequential([\n",
    "  tf.keras.layers.Dense(10),\n",
    "  tf.keras.layers.Dense(1)\n",
    "])\n",
    "\n",
    "insurance_model.compile(loss=tf.keras.losses.mae,\n",
    "                        optimizer=tf.keras.optimizers.SGD(),\n",
    "                        metrics=['mae'])\n",
    "\n",
    "insurance_model.fit(X_train, y_train, epochs=100)"
   ]
  },
  {
   "cell_type": "code",
   "execution_count": 17,
   "id": "925edffa",
   "metadata": {},
   "outputs": [
    {
     "name": "stdout",
     "output_type": "stream",
     "text": [
      "9/9 [==============================] - 0s 4ms/step - loss: 8671.0117 - mae: 8671.0117\n"
     ]
    },
    {
     "data": {
      "text/plain": [
       "[8671.01171875, 8671.01171875]"
      ]
     },
     "execution_count": 17,
     "metadata": {},
     "output_type": "execute_result"
    }
   ],
   "source": [
    "insurance_model.evaluate(X_test, y_test)"
   ]
  },
  {
   "cell_type": "code",
   "execution_count": 19,
   "id": "f7ecae28",
   "metadata": {},
   "outputs": [
    {
     "data": {
      "text/plain": [
       "(9290.1395, 9535.6506)"
      ]
     },
     "execution_count": 19,
     "metadata": {},
     "output_type": "execute_result"
    }
   ],
   "source": [
    "y_train.median(), y_test.median()"
   ]
  },
  {
   "cell_type": "code",
   "execution_count": null,
   "id": "2d8b9173",
   "metadata": {},
   "outputs": [],
   "source": []
  },
  {
   "cell_type": "code",
   "execution_count": 32,
   "id": "bf43aba7",
   "metadata": {},
   "outputs": [
    {
     "name": "stdout",
     "output_type": "stream",
     "text": [
      "Epoch 1/100\n",
      "34/34 [==============================] - 1s 5ms/step - loss: 12959.6279 - mae: 12959.6279\n",
      "Epoch 2/100\n",
      "34/34 [==============================] - 0s 5ms/step - loss: 12747.9600 - mae: 12747.9600\n",
      "Epoch 3/100\n",
      "34/34 [==============================] - 0s 5ms/step - loss: 12318.7305 - mae: 12318.7305\n",
      "Epoch 4/100\n",
      "34/34 [==============================] - 0s 5ms/step - loss: 11510.2021 - mae: 11510.2021\n",
      "Epoch 5/100\n",
      "34/34 [==============================] - 0s 5ms/step - loss: 10238.6143 - mae: 10238.6143\n",
      "Epoch 6/100\n",
      "34/34 [==============================] - 0s 5ms/step - loss: 8776.1240 - mae: 8776.1240\n",
      "Epoch 7/100\n",
      "34/34 [==============================] - 0s 5ms/step - loss: 7665.8057 - mae: 7665.8057\n",
      "Epoch 8/100\n",
      "34/34 [==============================] - 0s 5ms/step - loss: 7300.7725 - mae: 7300.7725\n",
      "Epoch 9/100\n",
      "34/34 [==============================] - 0s 5ms/step - loss: 7243.8638 - mae: 7243.8638\n",
      "Epoch 10/100\n",
      "34/34 [==============================] - 0s 5ms/step - loss: 7216.1499 - mae: 7216.1499\n",
      "Epoch 11/100\n",
      "34/34 [==============================] - 0s 6ms/step - loss: 7193.2651 - mae: 7193.2651\n",
      "Epoch 12/100\n",
      "34/34 [==============================] - 0s 5ms/step - loss: 7171.3604 - mae: 7171.3604\n",
      "Epoch 13/100\n",
      "34/34 [==============================] - 0s 5ms/step - loss: 7147.6724 - mae: 7147.6724\n",
      "Epoch 14/100\n",
      "34/34 [==============================] - 0s 5ms/step - loss: 7123.3110 - mae: 7123.3110\n",
      "Epoch 15/100\n",
      "34/34 [==============================] - 0s 6ms/step - loss: 7099.3237 - mae: 7099.3237\n",
      "Epoch 16/100\n",
      "34/34 [==============================] - 0s 6ms/step - loss: 7075.1938 - mae: 7075.1938\n",
      "Epoch 17/100\n",
      "34/34 [==============================] - 0s 5ms/step - loss: 7050.1396 - mae: 7050.1396\n",
      "Epoch 18/100\n",
      "34/34 [==============================] - 0s 5ms/step - loss: 7024.9199 - mae: 7024.9199\n",
      "Epoch 19/100\n",
      "34/34 [==============================] - 0s 5ms/step - loss: 6997.0479 - mae: 6997.0479\n",
      "Epoch 20/100\n",
      "34/34 [==============================] - 0s 6ms/step - loss: 6969.8735 - mae: 6969.8735\n",
      "Epoch 21/100\n",
      "34/34 [==============================] - 0s 6ms/step - loss: 6942.5918 - mae: 6942.5918\n",
      "Epoch 22/100\n",
      "34/34 [==============================] - 0s 5ms/step - loss: 6914.9531 - mae: 6914.9531\n",
      "Epoch 23/100\n",
      "34/34 [==============================] - 0s 6ms/step - loss: 6887.6025 - mae: 6887.6025\n",
      "Epoch 24/100\n",
      "34/34 [==============================] - 0s 6ms/step - loss: 6854.4014 - mae: 6854.4014\n",
      "Epoch 25/100\n",
      "34/34 [==============================] - 0s 6ms/step - loss: 6820.0898 - mae: 6820.0898\n",
      "Epoch 26/100\n",
      "34/34 [==============================] - 0s 6ms/step - loss: 6787.4507 - mae: 6787.4507\n",
      "Epoch 27/100\n",
      "34/34 [==============================] - 0s 6ms/step - loss: 6751.7603 - mae: 6751.7603\n",
      "Epoch 28/100\n",
      "34/34 [==============================] - 0s 6ms/step - loss: 6719.8667 - mae: 6719.8667\n",
      "Epoch 29/100\n",
      "34/34 [==============================] - 0s 6ms/step - loss: 6681.3257 - mae: 6681.3257\n",
      "Epoch 30/100\n",
      "34/34 [==============================] - 0s 7ms/step - loss: 6646.1694 - mae: 6646.1694\n",
      "Epoch 31/100\n",
      "34/34 [==============================] - 0s 6ms/step - loss: 6606.5825 - mae: 6606.5825\n",
      "Epoch 32/100\n",
      "34/34 [==============================] - 0s 6ms/step - loss: 6564.7583 - mae: 6564.7583\n",
      "Epoch 33/100\n",
      "34/34 [==============================] - 0s 7ms/step - loss: 6520.0938 - mae: 6520.0938\n",
      "Epoch 34/100\n",
      "34/34 [==============================] - 0s 6ms/step - loss: 6478.1138 - mae: 6478.1138\n",
      "Epoch 35/100\n",
      "34/34 [==============================] - 0s 6ms/step - loss: 6433.7383 - mae: 6433.7383\n",
      "Epoch 36/100\n",
      "34/34 [==============================] - 0s 6ms/step - loss: 6391.3408 - mae: 6391.3408\n",
      "Epoch 37/100\n",
      "34/34 [==============================] - 0s 7ms/step - loss: 6352.5767 - mae: 6352.5767\n",
      "Epoch 38/100\n",
      "34/34 [==============================] - 0s 6ms/step - loss: 6320.6357 - mae: 6320.6357\n",
      "Epoch 39/100\n",
      "34/34 [==============================] - 0s 6ms/step - loss: 6296.2754 - mae: 6296.2754\n",
      "Epoch 40/100\n",
      "34/34 [==============================] - 0s 6ms/step - loss: 6272.6279 - mae: 6272.6279\n",
      "Epoch 41/100\n",
      "34/34 [==============================] - 0s 8ms/step - loss: 6253.0693 - mae: 6253.0693\n",
      "Epoch 42/100\n",
      "34/34 [==============================] - 0s 7ms/step - loss: 6239.3501 - mae: 6239.3501\n",
      "Epoch 43/100\n",
      "34/34 [==============================] - 0s 6ms/step - loss: 6221.4668 - mae: 6221.4668\n",
      "Epoch 44/100\n",
      "34/34 [==============================] - 0s 7ms/step - loss: 6206.5034 - mae: 6206.5034\n",
      "Epoch 45/100\n",
      "34/34 [==============================] - 0s 6ms/step - loss: 6193.5479 - mae: 6193.5479\n",
      "Epoch 46/100\n",
      "34/34 [==============================] - 0s 6ms/step - loss: 6183.5605 - mae: 6183.5605\n",
      "Epoch 47/100\n",
      "34/34 [==============================] - 0s 6ms/step - loss: 6170.7441 - mae: 6170.7441\n",
      "Epoch 48/100\n",
      "34/34 [==============================] - 0s 8ms/step - loss: 6155.9355 - mae: 6155.9355\n",
      "Epoch 49/100\n",
      "34/34 [==============================] - 0s 6ms/step - loss: 6145.5098 - mae: 6145.5098\n",
      "Epoch 50/100\n",
      "34/34 [==============================] - 0s 5ms/step - loss: 6131.7261 - mae: 6131.7261\n",
      "Epoch 51/100\n",
      "34/34 [==============================] - 0s 6ms/step - loss: 6116.2017 - mae: 6116.2017\n",
      "Epoch 52/100\n",
      "34/34 [==============================] - 0s 6ms/step - loss: 6106.0039 - mae: 6106.0039\n",
      "Epoch 53/100\n",
      "34/34 [==============================] - 0s 6ms/step - loss: 6089.4673 - mae: 6089.4673\n",
      "Epoch 54/100\n",
      "34/34 [==============================] - 0s 5ms/step - loss: 6079.3975 - mae: 6079.3975\n",
      "Epoch 55/100\n",
      "34/34 [==============================] - 0s 5ms/step - loss: 6062.5391 - mae: 6062.5391\n",
      "Epoch 56/100\n",
      "34/34 [==============================] - 0s 6ms/step - loss: 6046.8057 - mae: 6046.8057\n",
      "Epoch 57/100\n",
      "34/34 [==============================] - 0s 5ms/step - loss: 6034.2461 - mae: 6034.2461\n",
      "Epoch 58/100\n",
      "34/34 [==============================] - 0s 6ms/step - loss: 6026.3779 - mae: 6026.3779\n",
      "Epoch 59/100\n",
      "34/34 [==============================] - 0s 6ms/step - loss: 6007.0220 - mae: 6007.0220\n",
      "Epoch 60/100\n",
      "34/34 [==============================] - 0s 6ms/step - loss: 5988.9429 - mae: 5988.9429\n",
      "Epoch 61/100\n",
      "34/34 [==============================] - 0s 5ms/step - loss: 5973.8872 - mae: 5973.8872\n",
      "Epoch 62/100\n",
      "34/34 [==============================] - 0s 5ms/step - loss: 5958.8271 - mae: 5958.8271\n",
      "Epoch 63/100\n",
      "34/34 [==============================] - 0s 6ms/step - loss: 5948.8291 - mae: 5948.8291\n",
      "Epoch 64/100\n",
      "34/34 [==============================] - 0s 7ms/step - loss: 5928.3320 - mae: 5928.3320\n",
      "Epoch 65/100\n",
      "34/34 [==============================] - 0s 7ms/step - loss: 5908.0542 - mae: 5908.0542\n",
      "Epoch 66/100\n",
      "34/34 [==============================] - 0s 5ms/step - loss: 5893.7754 - mae: 5893.7754\n",
      "Epoch 67/100\n",
      "34/34 [==============================] - 0s 5ms/step - loss: 5874.4409 - mae: 5874.4409\n",
      "Epoch 68/100\n",
      "34/34 [==============================] - 0s 6ms/step - loss: 5861.7764 - mae: 5861.7764\n",
      "Epoch 69/100\n",
      "34/34 [==============================] - 0s 6ms/step - loss: 5840.0601 - mae: 5840.0601\n",
      "Epoch 70/100\n",
      "34/34 [==============================] - 0s 6ms/step - loss: 5819.9766 - mae: 5819.9766\n",
      "Epoch 71/100\n",
      "34/34 [==============================] - 0s 5ms/step - loss: 5803.2529 - mae: 5803.2529\n",
      "Epoch 72/100\n",
      "34/34 [==============================] - 0s 7ms/step - loss: 5778.2095 - mae: 5778.2095\n",
      "Epoch 73/100\n",
      "34/34 [==============================] - 0s 7ms/step - loss: 5757.7959 - mae: 5757.7959\n",
      "Epoch 74/100\n",
      "34/34 [==============================] - 0s 7ms/step - loss: 5735.9487 - mae: 5735.9487\n",
      "Epoch 75/100\n",
      "34/34 [==============================] - 0s 6ms/step - loss: 5713.1631 - mae: 5713.1631\n",
      "Epoch 76/100\n",
      "34/34 [==============================] - 0s 5ms/step - loss: 5696.1001 - mae: 5696.1001\n",
      "Epoch 77/100\n",
      "34/34 [==============================] - 0s 7ms/step - loss: 5677.1694 - mae: 5677.1694\n",
      "Epoch 78/100\n",
      "34/34 [==============================] - 0s 8ms/step - loss: 5641.1772 - mae: 5641.1772\n",
      "Epoch 79/100\n",
      "34/34 [==============================] - 0s 7ms/step - loss: 5615.5703 - mae: 5615.5703\n",
      "Epoch 80/100\n",
      "34/34 [==============================] - 0s 7ms/step - loss: 5597.5078 - mae: 5597.5078\n",
      "Epoch 81/100\n",
      "34/34 [==============================] - 0s 7ms/step - loss: 5564.5391 - mae: 5564.5391\n",
      "Epoch 82/100\n"
     ]
    },
    {
     "name": "stdout",
     "output_type": "stream",
     "text": [
      "34/34 [==============================] - 0s 8ms/step - loss: 5539.9902 - mae: 5539.9902\n",
      "Epoch 83/100\n",
      "34/34 [==============================] - 0s 8ms/step - loss: 5506.6499 - mae: 5506.6499\n",
      "Epoch 84/100\n",
      "34/34 [==============================] - 0s 7ms/step - loss: 5475.7168 - mae: 5475.7168\n",
      "Epoch 85/100\n",
      "34/34 [==============================] - 0s 7ms/step - loss: 5443.5273 - mae: 5443.5273\n",
      "Epoch 86/100\n",
      "34/34 [==============================] - 0s 9ms/step - loss: 5415.6895 - mae: 5415.6895\n",
      "Epoch 87/100\n",
      "34/34 [==============================] - 0s 9ms/step - loss: 5376.7905 - mae: 5376.7905\n",
      "Epoch 88/100\n",
      "34/34 [==============================] - 0s 6ms/step - loss: 5337.4990 - mae: 5337.4990\n",
      "Epoch 89/100\n",
      "34/34 [==============================] - 0s 5ms/step - loss: 5303.8521 - mae: 5303.8521\n",
      "Epoch 90/100\n",
      "34/34 [==============================] - 0s 6ms/step - loss: 5266.2285 - mae: 5266.2285\n",
      "Epoch 91/100\n",
      "34/34 [==============================] - 0s 8ms/step - loss: 5216.7456 - mae: 5216.7456\n",
      "Epoch 92/100\n",
      "34/34 [==============================] - 0s 7ms/step - loss: 5177.1367 - mae: 5177.1367\n",
      "Epoch 93/100\n",
      "34/34 [==============================] - 0s 6ms/step - loss: 5139.0869 - mae: 5139.0869\n",
      "Epoch 94/100\n",
      "34/34 [==============================] - 0s 6ms/step - loss: 5083.6567 - mae: 5083.6567\n",
      "Epoch 95/100\n",
      "34/34 [==============================] - 0s 5ms/step - loss: 5032.7637 - mae: 5032.7637\n",
      "Epoch 96/100\n",
      "34/34 [==============================] - 0s 6ms/step - loss: 4977.0488 - mae: 4977.0488\n",
      "Epoch 97/100\n",
      "34/34 [==============================] - 0s 7ms/step - loss: 4928.8564 - mae: 4928.8564\n",
      "Epoch 98/100\n",
      "34/34 [==============================] - 0s 6ms/step - loss: 4865.3354 - mae: 4865.3354\n",
      "Epoch 99/100\n",
      "34/34 [==============================] - 0s 7ms/step - loss: 4804.9673 - mae: 4804.9673\n",
      "Epoch 100/100\n",
      "34/34 [==============================] - 0s 6ms/step - loss: 4757.0796 - mae: 4757.0796\n"
     ]
    },
    {
     "data": {
      "text/plain": [
       "<keras.callbacks.History at 0x1d038d8dbe0>"
      ]
     },
     "execution_count": 32,
     "metadata": {},
     "output_type": "execute_result"
    }
   ],
   "source": [
    "tf.random.set_seed(42)\n",
    "\n",
    "insurance_model_2 = tf.keras.Sequential([\n",
    "  tf.keras.layers.Dense(100),\n",
    "  tf.keras.layers.Dense(10),\n",
    "  tf.keras.layers.Dense(1)\n",
    "])\n",
    "\n",
    "insurance_model_2.compile(loss=tf.keras.losses.mae,\n",
    "                        optimizer=tf.keras.optimizers.Adam(),\n",
    "                        metrics=['mae'])\n",
    "\n",
    "insurance_model_2.fit(X_train, y_train, epochs=100)"
   ]
  },
  {
   "cell_type": "code",
   "execution_count": 33,
   "id": "1497ec2e",
   "metadata": {},
   "outputs": [
    {
     "name": "stdout",
     "output_type": "stream",
     "text": [
      "9/9 [==============================] - 0s 5ms/step - loss: 5579.9321 - mae: 5579.9321\n"
     ]
    },
    {
     "data": {
      "text/plain": [
       "[5579.93212890625, 5579.93212890625]"
      ]
     },
     "execution_count": 33,
     "metadata": {},
     "output_type": "execute_result"
    }
   ],
   "source": [
    "insurance_model_2.evaluate(X_test, y_test)"
   ]
  },
  {
   "cell_type": "code",
   "execution_count": null,
   "id": "4e760e8e",
   "metadata": {},
   "outputs": [],
   "source": []
  },
  {
   "cell_type": "code",
   "execution_count": 9,
   "id": "065c86e4",
   "metadata": {},
   "outputs": [
    {
     "name": "stdout",
     "output_type": "stream",
     "text": [
      "Epoch 1/200\n"
     ]
    },
    {
     "name": "stderr",
     "output_type": "stream",
     "text": [
      "C:\\Users\\manda\\OneDrive\\Desktop\\Files\\TensorFlow Developer Certificate in 2023 Zero to Mastery\\My files\\venv\\lib\\site-packages\\keras\\optimizers\\optimizer_v2\\adam.py:114: UserWarning: The `lr` argument is deprecated, use `learning_rate` instead.\n",
      "  super().__init__(name, **kwargs)\n"
     ]
    },
    {
     "name": "stdout",
     "output_type": "stream",
     "text": [
      "34/34 [==============================] - 1s 5ms/step - loss: 11302.8682 - mae: 11302.8682\n",
      "Epoch 2/200\n",
      "34/34 [==============================] - 0s 5ms/step - loss: 7267.2734 - mae: 7267.2734\n",
      "Epoch 3/200\n",
      "34/34 [==============================] - 0s 4ms/step - loss: 7027.4092 - mae: 7027.4092\n",
      "Epoch 4/200\n",
      "34/34 [==============================] - 0s 4ms/step - loss: 6800.8882 - mae: 6800.8882\n",
      "Epoch 5/200\n",
      "34/34 [==============================] - 0s 4ms/step - loss: 6427.3516 - mae: 6427.3516\n",
      "Epoch 6/200\n",
      "34/34 [==============================] - 0s 4ms/step - loss: 6216.1484 - mae: 6216.1484\n",
      "Epoch 7/200\n",
      "34/34 [==============================] - 0s 4ms/step - loss: 6088.7568 - mae: 6088.7568\n",
      "Epoch 8/200\n",
      "34/34 [==============================] - 0s 4ms/step - loss: 5957.0972 - mae: 5957.0972\n",
      "Epoch 9/200\n",
      "34/34 [==============================] - 0s 4ms/step - loss: 5798.1763 - mae: 5798.1763\n",
      "Epoch 10/200\n",
      "34/34 [==============================] - 0s 4ms/step - loss: 5578.6294 - mae: 5578.6294\n",
      "Epoch 11/200\n",
      "34/34 [==============================] - 0s 4ms/step - loss: 5310.3340 - mae: 5310.3340\n",
      "Epoch 12/200\n",
      "34/34 [==============================] - 0s 4ms/step - loss: 4882.5752 - mae: 4882.5752\n",
      "Epoch 13/200\n",
      "34/34 [==============================] - 0s 4ms/step - loss: 4304.2593 - mae: 4304.2593\n",
      "Epoch 14/200\n",
      "34/34 [==============================] - 0s 4ms/step - loss: 3752.6492 - mae: 3752.6492\n",
      "Epoch 15/200\n",
      "34/34 [==============================] - 0s 4ms/step - loss: 3673.2756 - mae: 3673.2756\n",
      "Epoch 16/200\n",
      "34/34 [==============================] - 0s 4ms/step - loss: 3650.6260 - mae: 3650.6260\n",
      "Epoch 17/200\n",
      "34/34 [==============================] - 0s 4ms/step - loss: 3762.0696 - mae: 3762.0696\n",
      "Epoch 18/200\n",
      "34/34 [==============================] - 0s 5ms/step - loss: 3696.1216 - mae: 3696.1216\n",
      "Epoch 19/200\n",
      "34/34 [==============================] - 0s 4ms/step - loss: 3706.3518 - mae: 3706.3518\n",
      "Epoch 20/200\n",
      "34/34 [==============================] - 0s 4ms/step - loss: 3646.7283 - mae: 3646.7283\n",
      "Epoch 21/200\n",
      "34/34 [==============================] - 0s 4ms/step - loss: 3625.9595 - mae: 3625.9595\n",
      "Epoch 22/200\n",
      "34/34 [==============================] - 0s 4ms/step - loss: 3610.0315 - mae: 3610.0315\n",
      "Epoch 23/200\n",
      "34/34 [==============================] - 0s 4ms/step - loss: 3616.2671 - mae: 3616.2671\n",
      "Epoch 24/200\n",
      "34/34 [==============================] - 0s 5ms/step - loss: 3591.6462 - mae: 3591.6462\n",
      "Epoch 25/200\n",
      "34/34 [==============================] - 0s 4ms/step - loss: 3622.9961 - mae: 3622.9961\n",
      "Epoch 26/200\n",
      "34/34 [==============================] - 0s 4ms/step - loss: 3657.7634 - mae: 3657.7634\n",
      "Epoch 27/200\n",
      "34/34 [==============================] - 0s 4ms/step - loss: 3601.2534 - mae: 3601.2534\n",
      "Epoch 28/200\n",
      "34/34 [==============================] - 0s 4ms/step - loss: 3607.5957 - mae: 3607.5957\n",
      "Epoch 29/200\n",
      "34/34 [==============================] - 0s 4ms/step - loss: 3609.8752 - mae: 3609.8752\n",
      "Epoch 30/200\n",
      "34/34 [==============================] - 0s 4ms/step - loss: 3613.0903 - mae: 3613.0903\n",
      "Epoch 31/200\n",
      "34/34 [==============================] - 0s 4ms/step - loss: 3605.9473 - mae: 3605.9473\n",
      "Epoch 32/200\n",
      "34/34 [==============================] - 0s 4ms/step - loss: 3588.0576 - mae: 3588.0576\n",
      "Epoch 33/200\n",
      "34/34 [==============================] - 0s 4ms/step - loss: 3592.2571 - mae: 3592.2571\n",
      "Epoch 34/200\n",
      "34/34 [==============================] - 0s 5ms/step - loss: 3605.8472 - mae: 3605.8472\n",
      "Epoch 35/200\n",
      "34/34 [==============================] - 0s 4ms/step - loss: 3601.0923 - mae: 3601.0923\n",
      "Epoch 36/200\n",
      "34/34 [==============================] - 0s 5ms/step - loss: 3641.1201 - mae: 3641.1201\n",
      "Epoch 37/200\n",
      "34/34 [==============================] - 0s 4ms/step - loss: 3598.5166 - mae: 3598.5166\n",
      "Epoch 38/200\n",
      "34/34 [==============================] - 0s 4ms/step - loss: 3580.6584 - mae: 3580.6584\n",
      "Epoch 39/200\n",
      "34/34 [==============================] - 0s 4ms/step - loss: 3591.5718 - mae: 3591.5718\n",
      "Epoch 40/200\n",
      "34/34 [==============================] - 0s 4ms/step - loss: 3640.7915 - mae: 3640.7915\n",
      "Epoch 41/200\n",
      "34/34 [==============================] - 0s 5ms/step - loss: 3616.5403 - mae: 3616.5403\n",
      "Epoch 42/200\n",
      "34/34 [==============================] - 0s 5ms/step - loss: 3562.2473 - mae: 3562.2473\n",
      "Epoch 43/200\n",
      "34/34 [==============================] - 0s 4ms/step - loss: 3586.0696 - mae: 3586.0696\n",
      "Epoch 44/200\n",
      "34/34 [==============================] - 0s 4ms/step - loss: 3590.4641 - mae: 3590.4641\n",
      "Epoch 45/200\n",
      "34/34 [==============================] - 0s 4ms/step - loss: 3622.9880 - mae: 3622.9880\n",
      "Epoch 46/200\n",
      "34/34 [==============================] - 0s 5ms/step - loss: 3610.5015 - mae: 3610.5015\n",
      "Epoch 47/200\n",
      "34/34 [==============================] - 0s 4ms/step - loss: 3616.1323 - mae: 3616.1323\n",
      "Epoch 48/200\n",
      "34/34 [==============================] - 0s 4ms/step - loss: 3567.6990 - mae: 3567.6990\n",
      "Epoch 49/200\n",
      "34/34 [==============================] - 0s 4ms/step - loss: 3575.2314 - mae: 3575.2314\n",
      "Epoch 50/200\n",
      "34/34 [==============================] - 0s 4ms/step - loss: 3565.1880 - mae: 3565.1880\n",
      "Epoch 51/200\n",
      "34/34 [==============================] - 0s 4ms/step - loss: 3628.9614 - mae: 3628.9614\n",
      "Epoch 52/200\n",
      "34/34 [==============================] - 0s 4ms/step - loss: 3575.0627 - mae: 3575.0627\n",
      "Epoch 53/200\n",
      "34/34 [==============================] - 0s 5ms/step - loss: 3571.8113 - mae: 3571.8113\n",
      "Epoch 54/200\n",
      "34/34 [==============================] - 0s 4ms/step - loss: 3547.9587 - mae: 3547.9587\n",
      "Epoch 55/200\n",
      "34/34 [==============================] - 0s 4ms/step - loss: 3587.2649 - mae: 3587.2649\n",
      "Epoch 56/200\n",
      "34/34 [==============================] - 0s 4ms/step - loss: 3680.6909 - mae: 3680.6909\n",
      "Epoch 57/200\n",
      "34/34 [==============================] - 0s 4ms/step - loss: 3601.6895 - mae: 3601.6895\n",
      "Epoch 58/200\n",
      "34/34 [==============================] - 0s 4ms/step - loss: 3574.6978 - mae: 3574.6978\n",
      "Epoch 59/200\n",
      "34/34 [==============================] - 0s 4ms/step - loss: 3623.4917 - mae: 3623.4917\n",
      "Epoch 60/200\n",
      "34/34 [==============================] - 0s 4ms/step - loss: 3577.5298 - mae: 3577.5298\n",
      "Epoch 61/200\n",
      "34/34 [==============================] - 0s 4ms/step - loss: 3617.3638 - mae: 3617.3638\n",
      "Epoch 62/200\n",
      "34/34 [==============================] - 0s 5ms/step - loss: 3562.4465 - mae: 3562.4468\n",
      "Epoch 63/200\n",
      "34/34 [==============================] - 0s 4ms/step - loss: 3580.4900 - mae: 3580.4900\n",
      "Epoch 64/200\n",
      "34/34 [==============================] - 0s 4ms/step - loss: 3554.1338 - mae: 3554.1338\n",
      "Epoch 65/200\n",
      "34/34 [==============================] - 0s 4ms/step - loss: 3614.5793 - mae: 3614.5793\n",
      "Epoch 66/200\n",
      "34/34 [==============================] - 0s 4ms/step - loss: 3563.9314 - mae: 3563.9314\n",
      "Epoch 67/200\n",
      "34/34 [==============================] - 0s 4ms/step - loss: 3590.5681 - mae: 3590.5681\n",
      "Epoch 68/200\n",
      "34/34 [==============================] - 0s 4ms/step - loss: 3575.8877 - mae: 3575.8877\n",
      "Epoch 69/200\n",
      "34/34 [==============================] - 0s 5ms/step - loss: 3665.4438 - mae: 3665.4438\n",
      "Epoch 70/200\n",
      "34/34 [==============================] - 0s 4ms/step - loss: 3535.2749 - mae: 3535.2749\n",
      "Epoch 71/200\n",
      "34/34 [==============================] - 0s 4ms/step - loss: 3550.2520 - mae: 3550.2520\n",
      "Epoch 72/200\n",
      "34/34 [==============================] - 0s 4ms/step - loss: 3576.1279 - mae: 3576.1279\n",
      "Epoch 73/200\n",
      "34/34 [==============================] - 0s 4ms/step - loss: 3553.0432 - mae: 3553.0432\n",
      "Epoch 74/200\n",
      "34/34 [==============================] - 0s 4ms/step - loss: 3603.6033 - mae: 3603.6033\n",
      "Epoch 75/200\n",
      "34/34 [==============================] - 0s 4ms/step - loss: 3669.1250 - mae: 3669.1250\n",
      "Epoch 76/200\n",
      "34/34 [==============================] - 0s 4ms/step - loss: 3638.4133 - mae: 3638.4133\n",
      "Epoch 77/200\n",
      "34/34 [==============================] - 0s 4ms/step - loss: 3612.0374 - mae: 3612.0374\n",
      "Epoch 78/200\n",
      "34/34 [==============================] - 0s 5ms/step - loss: 3679.5811 - mae: 3679.5811\n",
      "Epoch 79/200\n",
      "34/34 [==============================] - 0s 4ms/step - loss: 3596.6819 - mae: 3596.6819\n",
      "Epoch 80/200\n",
      "34/34 [==============================] - 0s 4ms/step - loss: 3573.7385 - mae: 3573.7385\n",
      "Epoch 81/200\n",
      "34/34 [==============================] - 0s 4ms/step - loss: 3554.6907 - mae: 3554.6907\n",
      "Epoch 82/200\n"
     ]
    },
    {
     "name": "stdout",
     "output_type": "stream",
     "text": [
      "34/34 [==============================] - 0s 3ms/step - loss: 3550.9678 - mae: 3550.9678\n",
      "Epoch 83/200\n",
      "34/34 [==============================] - 0s 4ms/step - loss: 3538.2031 - mae: 3538.2031\n",
      "Epoch 84/200\n",
      "34/34 [==============================] - 0s 4ms/step - loss: 3591.3113 - mae: 3591.3113\n",
      "Epoch 85/200\n",
      "34/34 [==============================] - 0s 4ms/step - loss: 3585.6560 - mae: 3585.6560\n",
      "Epoch 86/200\n",
      "34/34 [==============================] - 0s 4ms/step - loss: 3566.4949 - mae: 3566.4949\n",
      "Epoch 87/200\n",
      "34/34 [==============================] - 0s 4ms/step - loss: 3549.3538 - mae: 3549.3538\n",
      "Epoch 88/200\n",
      "34/34 [==============================] - 0s 4ms/step - loss: 3545.8823 - mae: 3545.8823\n",
      "Epoch 89/200\n",
      "34/34 [==============================] - 0s 4ms/step - loss: 3533.0493 - mae: 3533.0493\n",
      "Epoch 90/200\n",
      "34/34 [==============================] - 0s 4ms/step - loss: 3562.0671 - mae: 3562.0671\n",
      "Epoch 91/200\n",
      "34/34 [==============================] - 0s 4ms/step - loss: 3620.7241 - mae: 3620.7241\n",
      "Epoch 92/200\n",
      "34/34 [==============================] - 0s 4ms/step - loss: 3556.0283 - mae: 3556.0283\n",
      "Epoch 93/200\n",
      "34/34 [==============================] - 0s 4ms/step - loss: 3532.5352 - mae: 3532.5352\n",
      "Epoch 94/200\n",
      "34/34 [==============================] - 0s 5ms/step - loss: 3552.9326 - mae: 3552.9326\n",
      "Epoch 95/200\n",
      "34/34 [==============================] - 0s 4ms/step - loss: 3592.1238 - mae: 3592.1238\n",
      "Epoch 96/200\n",
      "34/34 [==============================] - 0s 4ms/step - loss: 3715.4841 - mae: 3715.4841\n",
      "Epoch 97/200\n",
      "34/34 [==============================] - 0s 4ms/step - loss: 3596.6099 - mae: 3596.6099\n",
      "Epoch 98/200\n",
      "34/34 [==============================] - 0s 5ms/step - loss: 3538.8123 - mae: 3538.8123\n",
      "Epoch 99/200\n",
      "34/34 [==============================] - 0s 3ms/step - loss: 3537.1833 - mae: 3537.1833\n",
      "Epoch 100/200\n",
      "34/34 [==============================] - 0s 4ms/step - loss: 3551.0261 - mae: 3551.0261\n",
      "Epoch 101/200\n",
      "34/34 [==============================] - 0s 5ms/step - loss: 3554.4031 - mae: 3554.4031\n",
      "Epoch 102/200\n",
      "34/34 [==============================] - 0s 4ms/step - loss: 3540.2463 - mae: 3540.2463\n",
      "Epoch 103/200\n",
      "34/34 [==============================] - 0s 4ms/step - loss: 3568.9348 - mae: 3568.9348\n",
      "Epoch 104/200\n",
      "34/34 [==============================] - 0s 4ms/step - loss: 3617.2898 - mae: 3617.2898\n",
      "Epoch 105/200\n",
      "34/34 [==============================] - 0s 4ms/step - loss: 3584.4939 - mae: 3584.4939\n",
      "Epoch 106/200\n",
      "34/34 [==============================] - 0s 4ms/step - loss: 3583.6709 - mae: 3583.6709\n",
      "Epoch 107/200\n",
      "34/34 [==============================] - 0s 4ms/step - loss: 3537.2795 - mae: 3537.2795\n",
      "Epoch 108/200\n",
      "34/34 [==============================] - 0s 4ms/step - loss: 3571.0840 - mae: 3571.0840\n",
      "Epoch 109/200\n",
      "34/34 [==============================] - 0s 4ms/step - loss: 3532.9207 - mae: 3532.9207\n",
      "Epoch 110/200\n",
      "34/34 [==============================] - 0s 4ms/step - loss: 3530.6887 - mae: 3530.6887\n",
      "Epoch 111/200\n",
      "34/34 [==============================] - 0s 4ms/step - loss: 3531.5320 - mae: 3531.5320\n",
      "Epoch 112/200\n",
      "34/34 [==============================] - 0s 4ms/step - loss: 3551.0525 - mae: 3551.0525\n",
      "Epoch 113/200\n",
      "34/34 [==============================] - 0s 4ms/step - loss: 3602.3430 - mae: 3602.3430\n",
      "Epoch 114/200\n",
      "34/34 [==============================] - 0s 4ms/step - loss: 3550.4302 - mae: 3550.4302\n",
      "Epoch 115/200\n",
      "34/34 [==============================] - 0s 4ms/step - loss: 3536.0833 - mae: 3536.0833\n",
      "Epoch 116/200\n",
      "34/34 [==============================] - 0s 4ms/step - loss: 3528.7646 - mae: 3528.7646\n",
      "Epoch 117/200\n",
      "34/34 [==============================] - 0s 4ms/step - loss: 3536.0537 - mae: 3536.0537\n",
      "Epoch 118/200\n",
      "34/34 [==============================] - 0s 4ms/step - loss: 3550.8140 - mae: 3550.8140\n",
      "Epoch 119/200\n",
      "34/34 [==============================] - 0s 4ms/step - loss: 3532.6533 - mae: 3532.6533\n",
      "Epoch 120/200\n",
      "34/34 [==============================] - 0s 4ms/step - loss: 3580.2458 - mae: 3580.2458\n",
      "Epoch 121/200\n",
      "34/34 [==============================] - 0s 4ms/step - loss: 3531.1711 - mae: 3531.1711\n",
      "Epoch 122/200\n",
      "34/34 [==============================] - 0s 4ms/step - loss: 3519.1360 - mae: 3519.1360\n",
      "Epoch 123/200\n",
      "34/34 [==============================] - 0s 4ms/step - loss: 3582.7090 - mae: 3582.7090\n",
      "Epoch 124/200\n",
      "34/34 [==============================] - 0s 4ms/step - loss: 3552.9604 - mae: 3552.9604\n",
      "Epoch 125/200\n",
      "34/34 [==============================] - 0s 4ms/step - loss: 3545.0833 - mae: 3545.0833\n",
      "Epoch 126/200\n",
      "34/34 [==============================] - 0s 4ms/step - loss: 3562.9954 - mae: 3562.9954\n",
      "Epoch 127/200\n",
      "34/34 [==============================] - 0s 4ms/step - loss: 3572.1194 - mae: 3572.1194\n",
      "Epoch 128/200\n",
      "34/34 [==============================] - 0s 4ms/step - loss: 3529.5911 - mae: 3529.5911\n",
      "Epoch 129/200\n",
      "34/34 [==============================] - 0s 4ms/step - loss: 3524.4219 - mae: 3524.4219\n",
      "Epoch 130/200\n",
      "34/34 [==============================] - 0s 4ms/step - loss: 3560.6375 - mae: 3560.6375\n",
      "Epoch 131/200\n",
      "34/34 [==============================] - 0s 5ms/step - loss: 3536.6362 - mae: 3536.6362\n",
      "Epoch 132/200\n",
      "34/34 [==============================] - 0s 4ms/step - loss: 3526.5737 - mae: 3526.5737\n",
      "Epoch 133/200\n",
      "34/34 [==============================] - 0s 4ms/step - loss: 3574.4646 - mae: 3574.4646\n",
      "Epoch 134/200\n",
      "34/34 [==============================] - 0s 5ms/step - loss: 3593.8005 - mae: 3593.8005\n",
      "Epoch 135/200\n",
      "34/34 [==============================] - 0s 4ms/step - loss: 3526.8901 - mae: 3526.8901\n",
      "Epoch 136/200\n",
      "34/34 [==============================] - 0s 4ms/step - loss: 3527.6221 - mae: 3527.6221\n",
      "Epoch 137/200\n",
      "34/34 [==============================] - 0s 4ms/step - loss: 3580.0381 - mae: 3580.0381\n",
      "Epoch 138/200\n",
      "34/34 [==============================] - 0s 4ms/step - loss: 3560.2671 - mae: 3560.2671\n",
      "Epoch 139/200\n",
      "34/34 [==============================] - 0s 4ms/step - loss: 3539.5100 - mae: 3539.5100\n",
      "Epoch 140/200\n",
      "34/34 [==============================] - 0s 4ms/step - loss: 3560.6519 - mae: 3560.6519\n",
      "Epoch 141/200\n",
      "34/34 [==============================] - 0s 4ms/step - loss: 3640.6038 - mae: 3640.6038\n",
      "Epoch 142/200\n",
      "34/34 [==============================] - 0s 5ms/step - loss: 3538.4468 - mae: 3538.4468\n",
      "Epoch 143/200\n",
      "34/34 [==============================] - 0s 4ms/step - loss: 3554.8315 - mae: 3554.8315\n",
      "Epoch 144/200\n",
      "34/34 [==============================] - 0s 4ms/step - loss: 3592.5886 - mae: 3592.5886\n",
      "Epoch 145/200\n",
      "34/34 [==============================] - 0s 4ms/step - loss: 3547.0796 - mae: 3547.0796\n",
      "Epoch 146/200\n",
      "34/34 [==============================] - 0s 4ms/step - loss: 3553.3198 - mae: 3553.3198\n",
      "Epoch 147/200\n",
      "34/34 [==============================] - 0s 4ms/step - loss: 3572.4258 - mae: 3572.4258\n",
      "Epoch 148/200\n",
      "34/34 [==============================] - 0s 4ms/step - loss: 3566.3064 - mae: 3566.3064\n",
      "Epoch 149/200\n",
      "34/34 [==============================] - 0s 4ms/step - loss: 3569.6863 - mae: 3569.6863\n",
      "Epoch 150/200\n",
      "34/34 [==============================] - 0s 4ms/step - loss: 3543.8967 - mae: 3543.8967\n",
      "Epoch 151/200\n",
      "34/34 [==============================] - 0s 5ms/step - loss: 3555.0852 - mae: 3555.0852\n",
      "Epoch 152/200\n",
      "34/34 [==============================] - 0s 3ms/step - loss: 3530.5168 - mae: 3530.5168\n",
      "Epoch 153/200\n",
      "34/34 [==============================] - 0s 4ms/step - loss: 3542.8892 - mae: 3542.8892\n",
      "Epoch 154/200\n",
      "34/34 [==============================] - 0s 4ms/step - loss: 3520.5496 - mae: 3520.5496\n",
      "Epoch 155/200\n",
      "34/34 [==============================] - 0s 4ms/step - loss: 3533.5415 - mae: 3533.5415\n",
      "Epoch 156/200\n",
      "34/34 [==============================] - 0s 4ms/step - loss: 3573.1169 - mae: 3573.1169\n",
      "Epoch 157/200\n",
      "34/34 [==============================] - 0s 4ms/step - loss: 3540.9363 - mae: 3540.9363\n",
      "Epoch 158/200\n",
      "34/34 [==============================] - 0s 4ms/step - loss: 3522.6582 - mae: 3522.6582\n",
      "Epoch 159/200\n",
      "34/34 [==============================] - 0s 4ms/step - loss: 3537.5154 - mae: 3537.5154\n",
      "Epoch 160/200\n",
      "34/34 [==============================] - 0s 4ms/step - loss: 3562.2493 - mae: 3562.2493\n",
      "Epoch 161/200\n",
      "34/34 [==============================] - 0s 3ms/step - loss: 3545.3013 - mae: 3545.3013\n",
      "Epoch 162/200\n"
     ]
    },
    {
     "name": "stdout",
     "output_type": "stream",
     "text": [
      "34/34 [==============================] - 0s 4ms/step - loss: 3581.0957 - mae: 3581.0957\n",
      "Epoch 163/200\n",
      "34/34 [==============================] - 0s 4ms/step - loss: 3564.2983 - mae: 3564.2983\n",
      "Epoch 164/200\n",
      "34/34 [==============================] - 0s 4ms/step - loss: 3533.7451 - mae: 3533.7451\n",
      "Epoch 165/200\n",
      "34/34 [==============================] - 0s 4ms/step - loss: 3520.3462 - mae: 3520.3462\n",
      "Epoch 166/200\n",
      "34/34 [==============================] - 0s 4ms/step - loss: 3536.4172 - mae: 3536.4172\n",
      "Epoch 167/200\n",
      "34/34 [==============================] - 0s 3ms/step - loss: 3567.0471 - mae: 3567.0471\n",
      "Epoch 168/200\n",
      "34/34 [==============================] - 0s 4ms/step - loss: 3519.0657 - mae: 3519.0657\n",
      "Epoch 169/200\n",
      "34/34 [==============================] - 0s 4ms/step - loss: 3564.2302 - mae: 3564.2302\n",
      "Epoch 170/200\n",
      "34/34 [==============================] - 0s 4ms/step - loss: 3541.5728 - mae: 3541.5728\n",
      "Epoch 171/200\n",
      "34/34 [==============================] - 0s 4ms/step - loss: 3536.0564 - mae: 3536.0564\n",
      "Epoch 172/200\n",
      "34/34 [==============================] - 0s 4ms/step - loss: 3538.6760 - mae: 3538.6760\n",
      "Epoch 173/200\n",
      "34/34 [==============================] - 0s 3ms/step - loss: 3563.7065 - mae: 3563.7065\n",
      "Epoch 174/200\n",
      "34/34 [==============================] - 0s 4ms/step - loss: 3522.1948 - mae: 3522.1948\n",
      "Epoch 175/200\n",
      "34/34 [==============================] - 0s 4ms/step - loss: 3524.7820 - mae: 3524.7820\n",
      "Epoch 176/200\n",
      "34/34 [==============================] - 0s 4ms/step - loss: 3553.3440 - mae: 3553.3440\n",
      "Epoch 177/200\n",
      "34/34 [==============================] - 0s 4ms/step - loss: 3579.5781 - mae: 3579.5781\n",
      "Epoch 178/200\n",
      "34/34 [==============================] - 0s 3ms/step - loss: 3571.1511 - mae: 3571.1511\n",
      "Epoch 179/200\n",
      "34/34 [==============================] - 0s 4ms/step - loss: 3557.0051 - mae: 3557.0051\n",
      "Epoch 180/200\n",
      "34/34 [==============================] - 0s 4ms/step - loss: 3571.9368 - mae: 3571.9368\n",
      "Epoch 181/200\n",
      "34/34 [==============================] - 0s 4ms/step - loss: 3555.2385 - mae: 3555.2385\n",
      "Epoch 182/200\n",
      "34/34 [==============================] - 0s 4ms/step - loss: 3585.7820 - mae: 3585.7820\n",
      "Epoch 183/200\n",
      "34/34 [==============================] - 0s 4ms/step - loss: 3554.9155 - mae: 3554.9155\n",
      "Epoch 184/200\n",
      "34/34 [==============================] - 0s 4ms/step - loss: 3531.8245 - mae: 3531.8245\n",
      "Epoch 185/200\n",
      "34/34 [==============================] - 0s 4ms/step - loss: 3541.4846 - mae: 3541.4846\n",
      "Epoch 186/200\n",
      "34/34 [==============================] - 0s 4ms/step - loss: 3532.6016 - mae: 3532.6016\n",
      "Epoch 187/200\n",
      "34/34 [==============================] - 0s 4ms/step - loss: 3534.0908 - mae: 3534.0908\n",
      "Epoch 188/200\n",
      "34/34 [==============================] - 0s 4ms/step - loss: 3526.8040 - mae: 3526.8040\n",
      "Epoch 189/200\n",
      "34/34 [==============================] - 0s 4ms/step - loss: 3556.7212 - mae: 3556.7212\n",
      "Epoch 190/200\n",
      "34/34 [==============================] - 0s 3ms/step - loss: 3774.4929 - mae: 3774.4929\n",
      "Epoch 191/200\n",
      "34/34 [==============================] - 0s 4ms/step - loss: 3593.6162 - mae: 3593.6162\n",
      "Epoch 192/200\n",
      "34/34 [==============================] - 0s 4ms/step - loss: 3527.3186 - mae: 3527.3186\n",
      "Epoch 193/200\n",
      "34/34 [==============================] - 0s 4ms/step - loss: 3533.5972 - mae: 3533.5972\n",
      "Epoch 194/200\n",
      "34/34 [==============================] - 0s 4ms/step - loss: 3564.0605 - mae: 3564.0605\n",
      "Epoch 195/200\n",
      "34/34 [==============================] - 0s 4ms/step - loss: 3557.4651 - mae: 3557.4651\n",
      "Epoch 196/200\n",
      "34/34 [==============================] - 0s 4ms/step - loss: 3560.2131 - mae: 3560.2131\n",
      "Epoch 197/200\n",
      "34/34 [==============================] - 0s 4ms/step - loss: 3553.7439 - mae: 3553.7439\n",
      "Epoch 198/200\n",
      "34/34 [==============================] - 0s 4ms/step - loss: 3536.4929 - mae: 3536.4929\n",
      "Epoch 199/200\n",
      "34/34 [==============================] - 0s 4ms/step - loss: 3575.2595 - mae: 3575.2595\n",
      "Epoch 200/200\n",
      "34/34 [==============================] - 0s 4ms/step - loss: 3529.6541 - mae: 3529.6541\n"
     ]
    }
   ],
   "source": [
    "tf.random.set_seed(42)\n",
    "\n",
    "insurance_model_3 = tf.keras.Sequential([\n",
    "  tf.keras.layers.Dense(100),\n",
    "  tf.keras.layers.Dense(10),\n",
    "  tf.keras.layers.Dense(1)\n",
    "])\n",
    "\n",
    "insurance_model_3.compile(loss=tf.keras.losses.mae,\n",
    "                        optimizer=tf.keras.optimizers.Adam(lr=0.01),\n",
    "                        metrics=['mae'])\n",
    "\n",
    "history_3 = insurance_model_3.fit(X_train, y_train, epochs=200)"
   ]
  },
  {
   "cell_type": "code",
   "execution_count": 10,
   "id": "088fa32f",
   "metadata": {},
   "outputs": [
    {
     "name": "stdout",
     "output_type": "stream",
     "text": [
      "9/9 [==============================] - 0s 4ms/step - loss: 3344.1211 - mae: 3344.1211\n"
     ]
    },
    {
     "data": {
      "text/plain": [
       "[3344.12109375, 3344.12109375]"
      ]
     },
     "execution_count": 10,
     "metadata": {},
     "output_type": "execute_result"
    }
   ],
   "source": [
    "insurance_model_3.evaluate(X_test, y_test)"
   ]
  },
  {
   "cell_type": "code",
   "execution_count": 35,
   "id": "60bc70dc",
   "metadata": {},
   "outputs": [
    {
     "name": "stdout",
     "output_type": "stream",
     "text": [
      "9/9 [==============================] - 0s 3ms/step - loss: 12539.8945 - mae: 12539.8945\n"
     ]
    }
   ],
   "source": [
    "insurance_model_3_loss, insurance_model_3_mae = insurance_model_3.evaluate(X_test_normal, y_test)"
   ]
  },
  {
   "cell_type": "code",
   "execution_count": 11,
   "id": "7f6db764",
   "metadata": {},
   "outputs": [
    {
     "data": {
      "text/plain": [
       "Text(0.5, 0, 'epochs')"
      ]
     },
     "execution_count": 11,
     "metadata": {},
     "output_type": "execute_result"
    },
    {
     "data": {
      "image/png": "[encoded data removed]",
      "text/plain": [
       "<Figure size 640x480 with 1 Axes>"
      ]
     },
     "metadata": {},
     "output_type": "display_data"
    }
   ],
   "source": [
    "pd.DataFrame(history_3.history).plot()\n",
    "plt.ylabel(\"loss\")\n",
    "plt.xlabel(\"epochs\")"
   ]
  },
  {
   "cell_type": "code",
   "execution_count": 23,
   "id": "a0ff882d",
   "metadata": {},
   "outputs": [
    {
     "data": {
      "text/plain": [
       "Index(['age', 'bmi', 'children', 'sex_female', 'sex_male', 'smoker_no',\n",
       "       'smoker_yes', 'region_northeast', 'region_northwest',\n",
       "       'region_southeast', 'region_southwest'],\n",
       "      dtype='object')"
      ]
     },
     "execution_count": 23,
     "metadata": {},
     "output_type": "execute_result"
    }
   ],
   "source": [
    "X.columns"
   ]
  },
  {
   "cell_type": "code",
   "execution_count": 24,
   "id": "c6729602",
   "metadata": {},
   "outputs": [
    {
     "data": {
      "image/png": "[encoded data removed]",
      "text/plain": [
       "<Figure size 640x480 with 1 Axes>"
      ]
     },
     "metadata": {},
     "output_type": "display_data"
    },
    {
     "data": {
      "image/png": "[encoded data removed]",
      "text/plain": [
       "<Figure size 640x480 with 1 Axes>"
      ]
     },
     "metadata": {},
     "output_type": "display_data"
    },
    {
     "data": {
      "image/png": "[encoded data removed]",
      "text/plain": [
       "<Figure size 640x480 with 1 Axes>"
      ]
     },
     "metadata": {},
     "output_type": "display_data"
    }
   ],
   "source": [
    "for i in X.columns[:3]:\n",
    "    X[i].plot(kind = 'hist')\n",
    "    plt.show()"
   ]
  },
  {
   "cell_type": "code",
   "execution_count": 12,
   "id": "090764ed",
   "metadata": {},
   "outputs": [
    {
     "data": {
      "text/plain": [
       "children\n",
       "0    573\n",
       "1    324\n",
       "2    240\n",
       "3    157\n",
       "4     25\n",
       "5     18\n",
       "Name: count, dtype: int64"
      ]
     },
     "execution_count": 12,
     "metadata": {},
     "output_type": "execute_result"
    }
   ],
   "source": [
    "X['children'].value_counts()"
   ]
  },
  {
   "cell_type": "code",
   "execution_count": null,
   "id": "3869b44e",
   "metadata": {},
   "outputs": [],
   "source": []
  },
  {
   "cell_type": "code",
   "execution_count": 13,
   "id": "e6181151",
   "metadata": {},
   "outputs": [],
   "source": [
    "import pandas as pd\n",
    "import matplotlib.pyplot as plt\n",
    "import tensorflow as tf\n",
    "\n",
    "insurance = pd.read_csv(\"https://raw.githubusercontent.com/stedy/Machine-Learning-with-R-datasets/master/insurance.csv\")"
   ]
  },
  {
   "cell_type": "code",
   "execution_count": 14,
   "id": "5224613c",
   "metadata": {},
   "outputs": [
    {
     "data": {
      "text/html": [
       "<div>\n",
       "<style scoped>\n",
       "    .dataframe tbody tr th:only-of-type {\n",
       "        vertical-align: middle;\n",
       "    }\n",
       "\n",
       "    .dataframe tbody tr th {\n",
       "        vertical-align: top;\n",
       "    }\n",
       "\n",
       "    .dataframe thead th {\n",
       "        text-align: right;\n",
       "    }\n",
       "</style>\n",
       "<table border=\"1\" class=\"dataframe\">\n",
       "  <thead>\n",
       "    <tr style=\"text-align: right;\">\n",
       "      <th></th>\n",
       "      <th>age</th>\n",
       "      <th>sex</th>\n",
       "      <th>bmi</th>\n",
       "      <th>children</th>\n",
       "      <th>smoker</th>\n",
       "      <th>region</th>\n",
       "      <th>charges</th>\n",
       "    </tr>\n",
       "  </thead>\n",
       "  <tbody>\n",
       "    <tr>\n",
       "      <th>0</th>\n",
       "      <td>19</td>\n",
       "      <td>female</td>\n",
       "      <td>27.900</td>\n",
       "      <td>0</td>\n",
       "      <td>yes</td>\n",
       "      <td>southwest</td>\n",
       "      <td>16884.92400</td>\n",
       "    </tr>\n",
       "    <tr>\n",
       "      <th>1</th>\n",
       "      <td>18</td>\n",
       "      <td>male</td>\n",
       "      <td>33.770</td>\n",
       "      <td>1</td>\n",
       "      <td>no</td>\n",
       "      <td>southeast</td>\n",
       "      <td>1725.55230</td>\n",
       "    </tr>\n",
       "    <tr>\n",
       "      <th>2</th>\n",
       "      <td>28</td>\n",
       "      <td>male</td>\n",
       "      <td>33.000</td>\n",
       "      <td>3</td>\n",
       "      <td>no</td>\n",
       "      <td>southeast</td>\n",
       "      <td>4449.46200</td>\n",
       "    </tr>\n",
       "    <tr>\n",
       "      <th>3</th>\n",
       "      <td>33</td>\n",
       "      <td>male</td>\n",
       "      <td>22.705</td>\n",
       "      <td>0</td>\n",
       "      <td>no</td>\n",
       "      <td>northwest</td>\n",
       "      <td>21984.47061</td>\n",
       "    </tr>\n",
       "    <tr>\n",
       "      <th>4</th>\n",
       "      <td>32</td>\n",
       "      <td>male</td>\n",
       "      <td>28.880</td>\n",
       "      <td>0</td>\n",
       "      <td>no</td>\n",
       "      <td>northwest</td>\n",
       "      <td>3866.85520</td>\n",
       "    </tr>\n",
       "    <tr>\n",
       "      <th>...</th>\n",
       "      <td>...</td>\n",
       "      <td>...</td>\n",
       "      <td>...</td>\n",
       "      <td>...</td>\n",
       "      <td>...</td>\n",
       "      <td>...</td>\n",
       "      <td>...</td>\n",
       "    </tr>\n",
       "    <tr>\n",
       "      <th>1333</th>\n",
       "      <td>50</td>\n",
       "      <td>male</td>\n",
       "      <td>30.970</td>\n",
       "      <td>3</td>\n",
       "      <td>no</td>\n",
       "      <td>northwest</td>\n",
       "      <td>10600.54830</td>\n",
       "    </tr>\n",
       "    <tr>\n",
       "      <th>1334</th>\n",
       "      <td>18</td>\n",
       "      <td>female</td>\n",
       "      <td>31.920</td>\n",
       "      <td>0</td>\n",
       "      <td>no</td>\n",
       "      <td>northeast</td>\n",
       "      <td>2205.98080</td>\n",
       "    </tr>\n",
       "    <tr>\n",
       "      <th>1335</th>\n",
       "      <td>18</td>\n",
       "      <td>female</td>\n",
       "      <td>36.850</td>\n",
       "      <td>0</td>\n",
       "      <td>no</td>\n",
       "      <td>southeast</td>\n",
       "      <td>1629.83350</td>\n",
       "    </tr>\n",
       "    <tr>\n",
       "      <th>1336</th>\n",
       "      <td>21</td>\n",
       "      <td>female</td>\n",
       "      <td>25.800</td>\n",
       "      <td>0</td>\n",
       "      <td>no</td>\n",
       "      <td>southwest</td>\n",
       "      <td>2007.94500</td>\n",
       "    </tr>\n",
       "    <tr>\n",
       "      <th>1337</th>\n",
       "      <td>61</td>\n",
       "      <td>female</td>\n",
       "      <td>29.070</td>\n",
       "      <td>0</td>\n",
       "      <td>yes</td>\n",
       "      <td>northwest</td>\n",
       "      <td>29141.36030</td>\n",
       "    </tr>\n",
       "  </tbody>\n",
       "</table>\n",
       "<p>1338 rows × 7 columns</p>\n",
       "</div>"
      ],
      "text/plain": [
       "      age     sex     bmi  children smoker     region      charges\n",
       "0      19  female  27.900         0    yes  southwest  16884.92400\n",
       "1      18    male  33.770         1     no  southeast   1725.55230\n",
       "2      28    male  33.000         3     no  southeast   4449.46200\n",
       "3      33    male  22.705         0     no  northwest  21984.47061\n",
       "4      32    male  28.880         0     no  northwest   3866.85520\n",
       "...   ...     ...     ...       ...    ...        ...          ...\n",
       "1333   50    male  30.970         3     no  northwest  10600.54830\n",
       "1334   18  female  31.920         0     no  northeast   2205.98080\n",
       "1335   18  female  36.850         0     no  southeast   1629.83350\n",
       "1336   21  female  25.800         0     no  southwest   2007.94500\n",
       "1337   61  female  29.070         0    yes  northwest  29141.36030\n",
       "\n",
       "[1338 rows x 7 columns]"
      ]
     },
     "execution_count": 14,
     "metadata": {},
     "output_type": "execute_result"
    }
   ],
   "source": [
    "insurance"
   ]
  },
  {
   "cell_type": "code",
   "execution_count": 15,
   "id": "4c6de6bb",
   "metadata": {},
   "outputs": [],
   "source": [
    "from sklearn.compose import make_column_transformer\n",
    "from sklearn.preprocessing import MinMaxScaler, OneHotEncoder"
   ]
  },
  {
   "cell_type": "code",
   "execution_count": 16,
   "id": "d41ccb13",
   "metadata": {},
   "outputs": [],
   "source": [
    "ct = make_column_transformer(\n",
    "    (MinMaxScaler(), [\"age\", \"bmi\", \"children\"]),\n",
    "    (OneHotEncoder(handle_unknown=\"ignore\"), [\"sex\", \"smoker\", \"region\"])\n",
    ")"
   ]
  },
  {
   "cell_type": "code",
   "execution_count": 17,
   "id": "7dd13e77",
   "metadata": {},
   "outputs": [],
   "source": [
    "X = insurance.drop(\"charges\", axis=1)\n",
    "y = insurance[\"charges\"]"
   ]
  },
  {
   "cell_type": "code",
   "execution_count": 18,
   "id": "b6257591",
   "metadata": {},
   "outputs": [],
   "source": [
    "X_train, X_test, y_train, y_test = train_test_split(X, y, test_size=0.2, random_state=42)"
   ]
  },
  {
   "cell_type": "code",
   "execution_count": 19,
   "id": "0a36666c",
   "metadata": {},
   "outputs": [
    {
     "data": {
      "text/html": [
       "<style>#sk-container-id-1 {color: black;}#sk-container-id-1 pre{padding: 0;}#sk-container-id-1 div.sk-toggleable {background-color: white;}#sk-container-id-1 label.sk-toggleable__label {cursor: pointer;display: block;width: 100%;margin-bottom: 0;padding: 0.3em;box-sizing: border-box;text-align: center;}#sk-container-id-1 label.sk-toggleable__label-arrow:before {content: \"▸\";float: left;margin-right: 0.25em;color: #696969;}#sk-container-id-1 label.sk-toggleable__label-arrow:hover:before {color: black;}#sk-container-id-1 div.sk-estimator:hover label.sk-toggleable__label-arrow:before {color: black;}#sk-container-id-1 div.sk-toggleable__content {max-height: 0;max-width: 0;overflow: hidden;text-align: left;background-color: #f0f8ff;}#sk-container-id-1 div.sk-toggleable__content pre {margin: 0.2em;color: black;border-radius: 0.25em;background-color: #f0f8ff;}#sk-container-id-1 input.sk-toggleable__control:checked~div.sk-toggleable__content {max-height: 200px;max-width: 100%;overflow: auto;}#sk-container-id-1 input.sk-toggleable__control:checked~label.sk-toggleable__label-arrow:before {content: \"▾\";}#sk-container-id-1 div.sk-estimator input.sk-toggleable__control:checked~label.sk-toggleable__label {background-color: #d4ebff;}#sk-container-id-1 div.sk-label input.sk-toggleable__control:checked~label.sk-toggleable__label {background-color: #d4ebff;}#sk-container-id-1 input.sk-hidden--visually {border: 0;clip: rect(1px 1px 1px 1px);clip: rect(1px, 1px, 1px, 1px);height: 1px;margin: -1px;overflow: hidden;padding: 0;position: absolute;width: 1px;}#sk-container-id-1 div.sk-estimator {font-family: monospace;background-color: #f0f8ff;border: 1px dotted black;border-radius: 0.25em;box-sizing: border-box;margin-bottom: 0.5em;}#sk-container-id-1 div.sk-estimator:hover {background-color: #d4ebff;}#sk-container-id-1 div.sk-parallel-item::after {content: \"\";width: 100%;border-bottom: 1px solid gray;flex-grow: 1;}#sk-container-id-1 div.sk-label:hover label.sk-toggleable__label {background-color: #d4ebff;}#sk-container-id-1 div.sk-serial::before {content: \"\";position: absolute;border-left: 1px solid gray;box-sizing: border-box;top: 0;bottom: 0;left: 50%;z-index: 0;}#sk-container-id-1 div.sk-serial {display: flex;flex-direction: column;align-items: center;background-color: white;padding-right: 0.2em;padding-left: 0.2em;position: relative;}#sk-container-id-1 div.sk-item {position: relative;z-index: 1;}#sk-container-id-1 div.sk-parallel {display: flex;align-items: stretch;justify-content: center;background-color: white;position: relative;}#sk-container-id-1 div.sk-item::before, #sk-container-id-1 div.sk-parallel-item::before {content: \"\";position: absolute;border-left: 1px solid gray;box-sizing: border-box;top: 0;bottom: 0;left: 50%;z-index: -1;}#sk-container-id-1 div.sk-parallel-item {display: flex;flex-direction: column;z-index: 1;position: relative;background-color: white;}#sk-container-id-1 div.sk-parallel-item:first-child::after {align-self: flex-end;width: 50%;}#sk-container-id-1 div.sk-parallel-item:last-child::after {align-self: flex-start;width: 50%;}#sk-container-id-1 div.sk-parallel-item:only-child::after {width: 0;}#sk-container-id-1 div.sk-dashed-wrapped {border: 1px dashed gray;margin: 0 0.4em 0.5em 0.4em;box-sizing: border-box;padding-bottom: 0.4em;background-color: white;}#sk-container-id-1 div.sk-label label {font-family: monospace;font-weight: bold;display: inline-block;line-height: 1.2em;}#sk-container-id-1 div.sk-label-container {text-align: center;}#sk-container-id-1 div.sk-container {/* jupyter's `normalize.less` sets `[hidden] { display: none; }` but bootstrap.min.css set `[hidden] { display: none !important; }` so we also need the `!important` here to be able to override the default hidden behavior on the sphinx rendered scikit-learn.org. See: https://github.com/scikit-learn/scikit-learn/issues/21755 */display: inline-block !important;position: relative;}#sk-container-id-1 div.sk-text-repr-fallback {display: none;}</style><div id=\"sk-container-id-1\" class=\"sk-top-container\"><div class=\"sk-text-repr-fallback\"><pre>ColumnTransformer(transformers=[(&#x27;minmaxscaler&#x27;, MinMaxScaler(),\n",
       "                                 [&#x27;age&#x27;, &#x27;bmi&#x27;, &#x27;children&#x27;]),\n",
       "                                (&#x27;onehotencoder&#x27;,\n",
       "                                 OneHotEncoder(handle_unknown=&#x27;ignore&#x27;),\n",
       "                                 [&#x27;sex&#x27;, &#x27;smoker&#x27;, &#x27;region&#x27;])])</pre><b>In a Jupyter environment, please rerun this cell to show the HTML representation or trust the notebook. <br />On GitHub, the HTML representation is unable to render, please try loading this page with nbviewer.org.</b></div><div class=\"sk-container\" hidden><div class=\"sk-item sk-dashed-wrapped\"><div class=\"sk-label-container\"><div class=\"sk-label sk-toggleable\"><input class=\"sk-toggleable__control sk-hidden--visually\" id=\"sk-estimator-id-1\" type=\"checkbox\" ><label for=\"sk-estimator-id-1\" class=\"sk-toggleable__label sk-toggleable__label-arrow\">ColumnTransformer</label><div class=\"sk-toggleable__content\"><pre>ColumnTransformer(transformers=[(&#x27;minmaxscaler&#x27;, MinMaxScaler(),\n",
       "                                 [&#x27;age&#x27;, &#x27;bmi&#x27;, &#x27;children&#x27;]),\n",
       "                                (&#x27;onehotencoder&#x27;,\n",
       "                                 OneHotEncoder(handle_unknown=&#x27;ignore&#x27;),\n",
       "                                 [&#x27;sex&#x27;, &#x27;smoker&#x27;, &#x27;region&#x27;])])</pre></div></div></div><div class=\"sk-parallel\"><div class=\"sk-parallel-item\"><div class=\"sk-item\"><div class=\"sk-label-container\"><div class=\"sk-label sk-toggleable\"><input class=\"sk-toggleable__control sk-hidden--visually\" id=\"sk-estimator-id-2\" type=\"checkbox\" ><label for=\"sk-estimator-id-2\" class=\"sk-toggleable__label sk-toggleable__label-arrow\">minmaxscaler</label><div class=\"sk-toggleable__content\"><pre>[&#x27;age&#x27;, &#x27;bmi&#x27;, &#x27;children&#x27;]</pre></div></div></div><div class=\"sk-serial\"><div class=\"sk-item\"><div class=\"sk-estimator sk-toggleable\"><input class=\"sk-toggleable__control sk-hidden--visually\" id=\"sk-estimator-id-3\" type=\"checkbox\" ><label for=\"sk-estimator-id-3\" class=\"sk-toggleable__label sk-toggleable__label-arrow\">MinMaxScaler</label><div class=\"sk-toggleable__content\"><pre>MinMaxScaler()</pre></div></div></div></div></div></div><div class=\"sk-parallel-item\"><div class=\"sk-item\"><div class=\"sk-label-container\"><div class=\"sk-label sk-toggleable\"><input class=\"sk-toggleable__control sk-hidden--visually\" id=\"sk-estimator-id-4\" type=\"checkbox\" ><label for=\"sk-estimator-id-4\" class=\"sk-toggleable__label sk-toggleable__label-arrow\">onehotencoder</label><div class=\"sk-toggleable__content\"><pre>[&#x27;sex&#x27;, &#x27;smoker&#x27;, &#x27;region&#x27;]</pre></div></div></div><div class=\"sk-serial\"><div class=\"sk-item\"><div class=\"sk-estimator sk-toggleable\"><input class=\"sk-toggleable__control sk-hidden--visually\" id=\"sk-estimator-id-5\" type=\"checkbox\" ><label for=\"sk-estimator-id-5\" class=\"sk-toggleable__label sk-toggleable__label-arrow\">OneHotEncoder</label><div class=\"sk-toggleable__content\"><pre>OneHotEncoder(handle_unknown=&#x27;ignore&#x27;)</pre></div></div></div></div></div></div></div></div></div></div>"
      ],
      "text/plain": [
       "ColumnTransformer(transformers=[('minmaxscaler', MinMaxScaler(),\n",
       "                                 ['age', 'bmi', 'children']),\n",
       "                                ('onehotencoder',\n",
       "                                 OneHotEncoder(handle_unknown='ignore'),\n",
       "                                 ['sex', 'smoker', 'region'])])"
      ]
     },
     "execution_count": 19,
     "metadata": {},
     "output_type": "execute_result"
    }
   ],
   "source": [
    "ct.fit(X_train)"
   ]
  },
  {
   "cell_type": "code",
   "execution_count": 20,
   "id": "a25d0bf3",
   "metadata": {},
   "outputs": [],
   "source": [
    "X_train_normal = ct.transform(X_train)\n",
    "X_test_normal = ct.transform(X_test)"
   ]
  },
  {
   "cell_type": "code",
   "execution_count": 29,
   "id": "60f8ad3f",
   "metadata": {},
   "outputs": [
    {
     "data": {
      "text/plain": [
       "age                19\n",
       "sex            female\n",
       "bmi              27.9\n",
       "children            0\n",
       "smoker            yes\n",
       "region      southwest\n",
       "Name: 0, dtype: object"
      ]
     },
     "execution_count": 29,
     "metadata": {},
     "output_type": "execute_result"
    }
   ],
   "source": [
    "X_train.loc[0]"
   ]
  },
  {
   "cell_type": "code",
   "execution_count": 27,
   "id": "22b2beda",
   "metadata": {},
   "outputs": [
    {
     "data": {
      "text/plain": [
       "array([0.60869565, 0.10734463, 0.4       , 1.        , 0.        ,\n",
       "       1.        , 0.        , 0.        , 1.        , 0.        ,\n",
       "       0.        ])"
      ]
     },
     "execution_count": 27,
     "metadata": {},
     "output_type": "execute_result"
    }
   ],
   "source": [
    "X_train_normal[0]"
   ]
  },
  {
   "cell_type": "code",
   "execution_count": 30,
   "id": "d45b637f",
   "metadata": {},
   "outputs": [
    {
     "data": {
      "text/plain": [
       "array([[0.60869565, 0.10734463, 0.4       , ..., 1.        , 0.        ,\n",
       "        0.        ],\n",
       "       [0.63043478, 0.22491256, 0.        , ..., 0.        , 0.        ,\n",
       "        0.        ],\n",
       "       [0.73913043, 0.23944041, 0.        , ..., 0.        , 1.        ,\n",
       "        0.        ],\n",
       "       ...,\n",
       "       [0.86956522, 0.24791499, 0.        , ..., 0.        , 0.        ,\n",
       "        0.        ],\n",
       "       [0.41304348, 0.85122411, 0.4       , ..., 0.        , 0.        ,\n",
       "        1.        ],\n",
       "       [0.80434783, 0.37503363, 0.        , ..., 0.        , 0.        ,\n",
       "        1.        ]])"
      ]
     },
     "execution_count": 30,
     "metadata": {},
     "output_type": "execute_result"
    }
   ],
   "source": [
    "X_train_normal"
   ]
  },
  {
   "cell_type": "code",
   "execution_count": 24,
   "id": "44a84b48",
   "metadata": {},
   "outputs": [
    {
     "data": {
      "text/plain": [
       "((1070, 11), (1070, 6))"
      ]
     },
     "execution_count": 24,
     "metadata": {},
     "output_type": "execute_result"
    }
   ],
   "source": [
    "X_train_normal.shape, X_train.shape"
   ]
  },
  {
   "cell_type": "code",
   "execution_count": 32,
   "id": "8a9fdd4e",
   "metadata": {},
   "outputs": [
    {
     "name": "stdout",
     "output_type": "stream",
     "text": [
      "Epoch 1/200\n",
      "34/34 [==============================] - 1s 4ms/step - loss: 13344.2627 - mae: 13344.2627\n",
      "Epoch 2/200\n",
      "34/34 [==============================] - 0s 4ms/step - loss: 13335.9971 - mae: 13335.9971\n",
      "Epoch 3/200\n",
      "34/34 [==============================] - 0s 4ms/step - loss: 13315.2012 - mae: 13315.2012\n",
      "Epoch 4/200\n",
      "34/34 [==============================] - 0s 5ms/step - loss: 13271.1914 - mae: 13271.1914\n",
      "Epoch 5/200\n",
      "34/34 [==============================] - 0s 4ms/step - loss: 13192.4678 - mae: 13192.4678\n",
      "Epoch 6/200\n",
      "34/34 [==============================] - 0s 4ms/step - loss: 13067.8066 - mae: 13067.8066\n",
      "Epoch 7/200\n",
      "34/34 [==============================] - 0s 4ms/step - loss: 12887.0176 - mae: 12887.0176\n",
      "Epoch 8/200\n",
      "34/34 [==============================] - 0s 4ms/step - loss: 12640.0742 - mae: 12640.0742\n",
      "Epoch 9/200\n",
      "34/34 [==============================] - 0s 4ms/step - loss: 12316.8447 - mae: 12316.8447\n",
      "Epoch 10/200\n",
      "34/34 [==============================] - 0s 4ms/step - loss: 11914.0928 - mae: 11914.0928\n",
      "Epoch 11/200\n",
      "34/34 [==============================] - 0s 4ms/step - loss: 11440.6826 - mae: 11440.6826\n",
      "Epoch 12/200\n",
      "34/34 [==============================] - 0s 4ms/step - loss: 10935.6709 - mae: 10935.6709\n",
      "Epoch 13/200\n",
      "34/34 [==============================] - 0s 4ms/step - loss: 10435.2061 - mae: 10435.2061\n",
      "Epoch 14/200\n",
      "34/34 [==============================] - 0s 4ms/step - loss: 9938.8574 - mae: 9938.8574\n",
      "Epoch 15/200\n",
      "34/34 [==============================] - 0s 4ms/step - loss: 9472.9082 - mae: 9472.9082\n",
      "Epoch 16/200\n",
      "34/34 [==============================] - 0s 4ms/step - loss: 9060.9648 - mae: 9060.9648\n",
      "Epoch 17/200\n",
      "34/34 [==============================] - 0s 4ms/step - loss: 8722.3223 - mae: 8722.3223\n",
      "Epoch 18/200\n",
      "34/34 [==============================] - 0s 4ms/step - loss: 8446.5596 - mae: 8446.5596\n",
      "Epoch 19/200\n",
      "34/34 [==============================] - 0s 4ms/step - loss: 8237.5410 - mae: 8237.5410\n",
      "Epoch 20/200\n",
      "34/34 [==============================] - 0s 5ms/step - loss: 8092.9980 - mae: 8092.9980\n",
      "Epoch 21/200\n",
      "34/34 [==============================] - 0s 4ms/step - loss: 7984.9253 - mae: 7984.9253\n",
      "Epoch 22/200\n",
      "34/34 [==============================] - 0s 5ms/step - loss: 7912.0674 - mae: 7912.0674\n",
      "Epoch 23/200\n",
      "34/34 [==============================] - 0s 4ms/step - loss: 7854.7988 - mae: 7854.7988\n",
      "Epoch 24/200\n",
      "34/34 [==============================] - 0s 4ms/step - loss: 7803.6772 - mae: 7803.6772\n",
      "Epoch 25/200\n",
      "34/34 [==============================] - 0s 4ms/step - loss: 7765.3125 - mae: 7765.3125\n",
      "Epoch 26/200\n",
      "34/34 [==============================] - 0s 5ms/step - loss: 7713.6787 - mae: 7713.6787\n",
      "Epoch 27/200\n",
      "34/34 [==============================] - 0s 4ms/step - loss: 7671.5586 - mae: 7671.5586\n",
      "Epoch 28/200\n",
      "34/34 [==============================] - 0s 4ms/step - loss: 7629.0771 - mae: 7629.0771\n",
      "Epoch 29/200\n",
      "34/34 [==============================] - 0s 4ms/step - loss: 7586.1514 - mae: 7586.1514\n",
      "Epoch 30/200\n",
      "34/34 [==============================] - 0s 4ms/step - loss: 7542.6792 - mae: 7542.6792\n",
      "Epoch 31/200\n",
      "34/34 [==============================] - 0s 4ms/step - loss: 7498.9897 - mae: 7498.9897\n",
      "Epoch 32/200\n",
      "34/34 [==============================] - 0s 4ms/step - loss: 7455.0874 - mae: 7455.0874\n",
      "Epoch 33/200\n",
      "34/34 [==============================] - 0s 4ms/step - loss: 7411.1157 - mae: 7411.1157\n",
      "Epoch 34/200\n",
      "34/34 [==============================] - 0s 4ms/step - loss: 7362.9922 - mae: 7362.9922\n",
      "Epoch 35/200\n",
      "34/34 [==============================] - 0s 4ms/step - loss: 7316.6118 - mae: 7316.6118\n",
      "Epoch 36/200\n",
      "34/34 [==============================] - 0s 4ms/step - loss: 7266.8691 - mae: 7266.8691\n",
      "Epoch 37/200\n",
      "34/34 [==============================] - 0s 3ms/step - loss: 7217.0234 - mae: 7217.0234\n",
      "Epoch 38/200\n",
      "34/34 [==============================] - 0s 4ms/step - loss: 7166.3174 - mae: 7166.3174\n",
      "Epoch 39/200\n",
      "34/34 [==============================] - 0s 4ms/step - loss: 7111.8242 - mae: 7111.8242\n",
      "Epoch 40/200\n",
      "34/34 [==============================] - 0s 4ms/step - loss: 7056.7603 - mae: 7056.7603\n",
      "Epoch 41/200\n",
      "34/34 [==============================] - 0s 4ms/step - loss: 7000.6392 - mae: 7000.6392\n",
      "Epoch 42/200\n",
      "34/34 [==============================] - 0s 4ms/step - loss: 6941.9346 - mae: 6941.9346\n",
      "Epoch 43/200\n",
      "34/34 [==============================] - 0s 5ms/step - loss: 6879.6631 - mae: 6879.6631\n",
      "Epoch 44/200\n",
      "34/34 [==============================] - 0s 4ms/step - loss: 6813.9307 - mae: 6813.9307\n",
      "Epoch 45/200\n",
      "34/34 [==============================] - 0s 4ms/step - loss: 6747.2915 - mae: 6747.2915\n",
      "Epoch 46/200\n",
      "34/34 [==============================] - 0s 4ms/step - loss: 6678.9185 - mae: 6678.9185\n",
      "Epoch 47/200\n",
      "34/34 [==============================] - 0s 4ms/step - loss: 6608.3652 - mae: 6608.3652\n",
      "Epoch 48/200\n",
      "34/34 [==============================] - 0s 4ms/step - loss: 6529.8955 - mae: 6529.8955\n",
      "Epoch 49/200\n",
      "34/34 [==============================] - 0s 4ms/step - loss: 6451.4492 - mae: 6451.4492\n",
      "Epoch 50/200\n",
      "34/34 [==============================] - 0s 4ms/step - loss: 6366.3857 - mae: 6366.3857\n",
      "Epoch 51/200\n",
      "34/34 [==============================] - 0s 4ms/step - loss: 6282.6655 - mae: 6282.6655\n",
      "Epoch 52/200\n",
      "34/34 [==============================] - 0s 4ms/step - loss: 6189.9453 - mae: 6189.9453\n",
      "Epoch 53/200\n",
      "34/34 [==============================] - 0s 4ms/step - loss: 6094.5278 - mae: 6094.5278\n",
      "Epoch 54/200\n",
      "34/34 [==============================] - 0s 4ms/step - loss: 5996.5361 - mae: 5996.5361\n",
      "Epoch 55/200\n",
      "34/34 [==============================] - 0s 4ms/step - loss: 5889.7832 - mae: 5889.7832\n",
      "Epoch 56/200\n",
      "34/34 [==============================] - 0s 4ms/step - loss: 5782.0986 - mae: 5782.0986\n",
      "Epoch 57/200\n",
      "34/34 [==============================] - 0s 5ms/step - loss: 5666.7417 - mae: 5666.7417\n",
      "Epoch 58/200\n",
      "34/34 [==============================] - 0s 4ms/step - loss: 5548.1411 - mae: 5548.1411\n",
      "Epoch 59/200\n",
      "34/34 [==============================] - 0s 4ms/step - loss: 5430.5884 - mae: 5430.5884\n",
      "Epoch 60/200\n",
      "34/34 [==============================] - 0s 4ms/step - loss: 5307.7920 - mae: 5307.7920\n",
      "Epoch 61/200\n",
      "34/34 [==============================] - 0s 4ms/step - loss: 5180.0127 - mae: 5180.0127\n",
      "Epoch 62/200\n",
      "34/34 [==============================] - 0s 4ms/step - loss: 5050.1733 - mae: 5050.1733\n",
      "Epoch 63/200\n",
      "34/34 [==============================] - 0s 4ms/step - loss: 4920.5874 - mae: 4920.5874\n",
      "Epoch 64/200\n",
      "34/34 [==============================] - 0s 4ms/step - loss: 4788.4688 - mae: 4788.4688\n",
      "Epoch 65/200\n",
      "34/34 [==============================] - 0s 4ms/step - loss: 4659.6035 - mae: 4659.6035\n",
      "Epoch 66/200\n",
      "34/34 [==============================] - 0s 4ms/step - loss: 4530.9648 - mae: 4530.9648\n",
      "Epoch 67/200\n",
      "34/34 [==============================] - 0s 5ms/step - loss: 4418.7983 - mae: 4418.7983\n",
      "Epoch 68/200\n",
      "34/34 [==============================] - 0s 4ms/step - loss: 4310.0576 - mae: 4310.0576\n",
      "Epoch 69/200\n",
      "34/34 [==============================] - 0s 4ms/step - loss: 4206.8115 - mae: 4206.8115\n",
      "Epoch 70/200\n",
      "34/34 [==============================] - 0s 4ms/step - loss: 4112.3296 - mae: 4112.3296\n",
      "Epoch 71/200\n",
      "34/34 [==============================] - 0s 4ms/step - loss: 4024.1238 - mae: 4024.1238\n",
      "Epoch 72/200\n",
      "34/34 [==============================] - 0s 4ms/step - loss: 3947.6692 - mae: 3947.6692\n",
      "Epoch 73/200\n",
      "34/34 [==============================] - 0s 4ms/step - loss: 3882.1152 - mae: 3882.1152\n",
      "Epoch 74/200\n",
      "34/34 [==============================] - 0s 4ms/step - loss: 3827.8472 - mae: 3827.8472\n",
      "Epoch 75/200\n",
      "34/34 [==============================] - 0s 4ms/step - loss: 3783.3474 - mae: 3783.3474\n",
      "Epoch 76/200\n",
      "34/34 [==============================] - 0s 4ms/step - loss: 3750.1765 - mae: 3750.1765\n",
      "Epoch 77/200\n",
      "34/34 [==============================] - 0s 4ms/step - loss: 3724.6892 - mae: 3724.6892\n",
      "Epoch 78/200\n",
      "34/34 [==============================] - 0s 4ms/step - loss: 3706.7400 - mae: 3706.7400\n",
      "Epoch 79/200\n",
      "34/34 [==============================] - 0s 5ms/step - loss: 3693.8262 - mae: 3693.8262\n",
      "Epoch 80/200\n",
      "34/34 [==============================] - 0s 4ms/step - loss: 3684.6353 - mae: 3684.6353\n",
      "Epoch 81/200\n"
     ]
    },
    {
     "name": "stdout",
     "output_type": "stream",
     "text": [
      "34/34 [==============================] - 0s 4ms/step - loss: 3678.2021 - mae: 3678.2021\n",
      "Epoch 82/200\n",
      "34/34 [==============================] - 0s 4ms/step - loss: 3674.8396 - mae: 3674.8396\n",
      "Epoch 83/200\n",
      "34/34 [==============================] - 0s 4ms/step - loss: 3668.8296 - mae: 3668.8296\n",
      "Epoch 84/200\n",
      "34/34 [==============================] - 0s 4ms/step - loss: 3665.4377 - mae: 3665.4377\n",
      "Epoch 85/200\n",
      "34/34 [==============================] - 0s 4ms/step - loss: 3662.5571 - mae: 3662.5571\n",
      "Epoch 86/200\n",
      "34/34 [==============================] - 0s 4ms/step - loss: 3660.9990 - mae: 3660.9990\n",
      "Epoch 87/200\n",
      "34/34 [==============================] - 0s 5ms/step - loss: 3657.9507 - mae: 3657.9507\n",
      "Epoch 88/200\n",
      "34/34 [==============================] - 0s 4ms/step - loss: 3655.6150 - mae: 3655.6150\n",
      "Epoch 89/200\n",
      "34/34 [==============================] - 0s 4ms/step - loss: 3654.0002 - mae: 3654.0002\n",
      "Epoch 90/200\n",
      "34/34 [==============================] - 0s 4ms/step - loss: 3652.3625 - mae: 3652.3625\n",
      "Epoch 91/200\n",
      "34/34 [==============================] - 0s 4ms/step - loss: 3649.2688 - mae: 3649.2688\n",
      "Epoch 92/200\n",
      "34/34 [==============================] - 0s 4ms/step - loss: 3648.6858 - mae: 3648.6858\n",
      "Epoch 93/200\n",
      "34/34 [==============================] - 0s 4ms/step - loss: 3646.5364 - mae: 3646.5364\n",
      "Epoch 94/200\n",
      "34/34 [==============================] - 0s 4ms/step - loss: 3644.7568 - mae: 3644.7568\n",
      "Epoch 95/200\n",
      "34/34 [==============================] - 0s 4ms/step - loss: 3645.8040 - mae: 3645.8040\n",
      "Epoch 96/200\n",
      "34/34 [==============================] - 0s 4ms/step - loss: 3642.7070 - mae: 3642.7070\n",
      "Epoch 97/200\n",
      "34/34 [==============================] - 0s 4ms/step - loss: 3640.3933 - mae: 3640.3933\n",
      "Epoch 98/200\n",
      "34/34 [==============================] - 0s 4ms/step - loss: 3638.4773 - mae: 3638.4773\n",
      "Epoch 99/200\n",
      "34/34 [==============================] - 0s 4ms/step - loss: 3637.4424 - mae: 3637.4424\n",
      "Epoch 100/200\n",
      "34/34 [==============================] - 0s 4ms/step - loss: 3636.3628 - mae: 3636.3628\n",
      "Epoch 101/200\n",
      "34/34 [==============================] - 0s 4ms/step - loss: 3633.1619 - mae: 3633.1619\n",
      "Epoch 102/200\n",
      "34/34 [==============================] - 0s 4ms/step - loss: 3630.7571 - mae: 3630.7571\n",
      "Epoch 103/200\n",
      "34/34 [==============================] - 0s 4ms/step - loss: 3629.6907 - mae: 3629.6907\n",
      "Epoch 104/200\n",
      "34/34 [==============================] - 0s 4ms/step - loss: 3627.2964 - mae: 3627.2964\n",
      "Epoch 105/200\n",
      "34/34 [==============================] - 0s 4ms/step - loss: 3625.6987 - mae: 3625.6987\n",
      "Epoch 106/200\n",
      "34/34 [==============================] - 0s 4ms/step - loss: 3624.3125 - mae: 3624.3125\n",
      "Epoch 107/200\n",
      "34/34 [==============================] - 0s 4ms/step - loss: 3623.6890 - mae: 3623.6890\n",
      "Epoch 108/200\n",
      "34/34 [==============================] - 0s 4ms/step - loss: 3621.2456 - mae: 3621.2456\n",
      "Epoch 109/200\n",
      "34/34 [==============================] - 0s 3ms/step - loss: 3621.5483 - mae: 3621.5483\n",
      "Epoch 110/200\n",
      "34/34 [==============================] - 0s 4ms/step - loss: 3618.2476 - mae: 3618.2476\n",
      "Epoch 111/200\n",
      "34/34 [==============================] - 0s 4ms/step - loss: 3615.5076 - mae: 3615.5076\n",
      "Epoch 112/200\n",
      "34/34 [==============================] - 0s 4ms/step - loss: 3613.4612 - mae: 3613.4612\n",
      "Epoch 113/200\n",
      "34/34 [==============================] - 0s 4ms/step - loss: 3611.9573 - mae: 3611.9573\n",
      "Epoch 114/200\n",
      "34/34 [==============================] - 0s 4ms/step - loss: 3611.0090 - mae: 3611.0090\n",
      "Epoch 115/200\n",
      "34/34 [==============================] - 0s 4ms/step - loss: 3609.3342 - mae: 3609.3342\n",
      "Epoch 116/200\n",
      "34/34 [==============================] - 0s 4ms/step - loss: 3607.8784 - mae: 3607.8784\n",
      "Epoch 117/200\n",
      "34/34 [==============================] - 0s 4ms/step - loss: 3604.7964 - mae: 3604.7964\n",
      "Epoch 118/200\n",
      "34/34 [==============================] - 0s 4ms/step - loss: 3601.1296 - mae: 3601.1296\n",
      "Epoch 119/200\n",
      "34/34 [==============================] - 0s 4ms/step - loss: 3603.2148 - mae: 3603.2148\n",
      "Epoch 120/200\n",
      "34/34 [==============================] - 0s 5ms/step - loss: 3600.1145 - mae: 3600.1145\n",
      "Epoch 121/200\n",
      "34/34 [==============================] - 0s 3ms/step - loss: 3595.3711 - mae: 3595.3711\n",
      "Epoch 122/200\n",
      "34/34 [==============================] - 0s 4ms/step - loss: 3594.7195 - mae: 3594.7195\n",
      "Epoch 123/200\n",
      "34/34 [==============================] - 0s 4ms/step - loss: 3592.8218 - mae: 3592.8218\n",
      "Epoch 124/200\n",
      "34/34 [==============================] - 0s 4ms/step - loss: 3590.5376 - mae: 3590.5376\n",
      "Epoch 125/200\n",
      "34/34 [==============================] - 0s 4ms/step - loss: 3588.4209 - mae: 3588.4209\n",
      "Epoch 126/200\n",
      "34/34 [==============================] - 0s 4ms/step - loss: 3587.5051 - mae: 3587.5051\n",
      "Epoch 127/200\n",
      "34/34 [==============================] - 0s 4ms/step - loss: 3588.0593 - mae: 3588.0593\n",
      "Epoch 128/200\n",
      "34/34 [==============================] - 0s 4ms/step - loss: 3584.3096 - mae: 3584.3096\n",
      "Epoch 129/200\n",
      "34/34 [==============================] - 0s 4ms/step - loss: 3582.7883 - mae: 3582.7883\n",
      "Epoch 130/200\n",
      "34/34 [==============================] - 0s 4ms/step - loss: 3579.1465 - mae: 3579.1465\n",
      "Epoch 131/200\n",
      "34/34 [==============================] - 0s 4ms/step - loss: 3577.8308 - mae: 3577.8308\n",
      "Epoch 132/200\n",
      "34/34 [==============================] - 0s 4ms/step - loss: 3574.8967 - mae: 3574.8967\n",
      "Epoch 133/200\n",
      "34/34 [==============================] - 0s 4ms/step - loss: 3573.3428 - mae: 3573.3428\n",
      "Epoch 134/200\n",
      "34/34 [==============================] - 0s 4ms/step - loss: 3571.2864 - mae: 3571.2864\n",
      "Epoch 135/200\n",
      "34/34 [==============================] - 0s 4ms/step - loss: 3569.3330 - mae: 3569.3330\n",
      "Epoch 136/200\n",
      "34/34 [==============================] - 0s 4ms/step - loss: 3567.9124 - mae: 3567.9124\n",
      "Epoch 137/200\n",
      "34/34 [==============================] - 0s 4ms/step - loss: 3566.0735 - mae: 3566.0735\n",
      "Epoch 138/200\n",
      "34/34 [==============================] - 0s 4ms/step - loss: 3563.9771 - mae: 3563.9771\n",
      "Epoch 139/200\n",
      "34/34 [==============================] - 0s 4ms/step - loss: 3563.2446 - mae: 3563.2446\n",
      "Epoch 140/200\n",
      "34/34 [==============================] - 0s 4ms/step - loss: 3561.0952 - mae: 3561.0952\n",
      "Epoch 141/200\n",
      "34/34 [==============================] - 0s 5ms/step - loss: 3561.1548 - mae: 3561.1548\n",
      "Epoch 142/200\n",
      "34/34 [==============================] - 0s 4ms/step - loss: 3557.9385 - mae: 3557.9385\n",
      "Epoch 143/200\n",
      "34/34 [==============================] - 0s 4ms/step - loss: 3558.0593 - mae: 3558.0593\n",
      "Epoch 144/200\n",
      "34/34 [==============================] - 0s 4ms/step - loss: 3555.2646 - mae: 3555.2646\n",
      "Epoch 145/200\n",
      "34/34 [==============================] - 0s 4ms/step - loss: 3553.2849 - mae: 3553.2849\n",
      "Epoch 146/200\n",
      "34/34 [==============================] - 0s 4ms/step - loss: 3553.3452 - mae: 3553.3452\n",
      "Epoch 147/200\n",
      "34/34 [==============================] - 0s 4ms/step - loss: 3550.8513 - mae: 3550.8513\n",
      "Epoch 148/200\n",
      "34/34 [==============================] - 0s 4ms/step - loss: 3549.6169 - mae: 3549.6169\n",
      "Epoch 149/200\n",
      "34/34 [==============================] - 0s 4ms/step - loss: 3546.8057 - mae: 3546.8057\n",
      "Epoch 150/200\n",
      "34/34 [==============================] - 0s 4ms/step - loss: 3546.4990 - mae: 3546.4990\n",
      "Epoch 151/200\n",
      "34/34 [==============================] - 0s 4ms/step - loss: 3544.9780 - mae: 3544.9780\n",
      "Epoch 152/200\n",
      "34/34 [==============================] - 0s 4ms/step - loss: 3543.1433 - mae: 3543.1433\n",
      "Epoch 153/200\n",
      "34/34 [==============================] - 0s 4ms/step - loss: 3541.7219 - mae: 3541.7219\n",
      "Epoch 154/200\n",
      "34/34 [==============================] - 0s 4ms/step - loss: 3543.0913 - mae: 3543.0913\n",
      "Epoch 155/200\n",
      "34/34 [==============================] - 0s 4ms/step - loss: 3540.7280 - mae: 3540.7280\n",
      "Epoch 156/200\n",
      "34/34 [==============================] - 0s 4ms/step - loss: 3538.7119 - mae: 3538.7119\n",
      "Epoch 157/200\n",
      "34/34 [==============================] - 0s 4ms/step - loss: 3537.2961 - mae: 3537.2961\n",
      "Epoch 158/200\n",
      "34/34 [==============================] - 0s 4ms/step - loss: 3534.4680 - mae: 3534.4680\n",
      "Epoch 159/200\n",
      "34/34 [==============================] - 0s 4ms/step - loss: 3532.8694 - mae: 3532.8694\n",
      "Epoch 160/200\n",
      "34/34 [==============================] - 0s 4ms/step - loss: 3532.5435 - mae: 3532.5435\n",
      "Epoch 161/200\n"
     ]
    },
    {
     "name": "stdout",
     "output_type": "stream",
     "text": [
      "34/34 [==============================] - 0s 4ms/step - loss: 3529.4663 - mae: 3529.4663\n",
      "Epoch 162/200\n",
      "34/34 [==============================] - 0s 4ms/step - loss: 3528.9536 - mae: 3528.9536\n",
      "Epoch 163/200\n",
      "34/34 [==============================] - 0s 4ms/step - loss: 3527.4167 - mae: 3527.4167\n",
      "Epoch 164/200\n",
      "34/34 [==============================] - 0s 4ms/step - loss: 3526.1697 - mae: 3526.1697\n",
      "Epoch 165/200\n",
      "34/34 [==============================] - 0s 4ms/step - loss: 3524.1567 - mae: 3524.1567\n",
      "Epoch 166/200\n",
      "34/34 [==============================] - 0s 4ms/step - loss: 3522.6533 - mae: 3522.6533\n",
      "Epoch 167/200\n",
      "34/34 [==============================] - 0s 4ms/step - loss: 3521.7908 - mae: 3521.7908\n",
      "Epoch 168/200\n",
      "34/34 [==============================] - 0s 5ms/step - loss: 3520.8186 - mae: 3520.8186\n",
      "Epoch 169/200\n",
      "34/34 [==============================] - 0s 4ms/step - loss: 3519.6411 - mae: 3519.6411\n",
      "Epoch 170/200\n",
      "34/34 [==============================] - 0s 4ms/step - loss: 3517.7817 - mae: 3517.7817\n",
      "Epoch 171/200\n",
      "34/34 [==============================] - 0s 4ms/step - loss: 3517.5168 - mae: 3517.5168\n",
      "Epoch 172/200\n",
      "34/34 [==============================] - 0s 4ms/step - loss: 3516.0369 - mae: 3516.0369\n",
      "Epoch 173/200\n",
      "34/34 [==============================] - 0s 4ms/step - loss: 3514.5359 - mae: 3514.5359\n",
      "Epoch 174/200\n",
      "34/34 [==============================] - 0s 4ms/step - loss: 3513.5098 - mae: 3513.5098\n",
      "Epoch 175/200\n",
      "34/34 [==============================] - 0s 4ms/step - loss: 3512.0415 - mae: 3512.0415\n",
      "Epoch 176/200\n",
      "34/34 [==============================] - 0s 4ms/step - loss: 3512.1223 - mae: 3512.1223\n",
      "Epoch 177/200\n",
      "34/34 [==============================] - 0s 6ms/step - loss: 3512.2605 - mae: 3512.2605\n",
      "Epoch 178/200\n",
      "34/34 [==============================] - 0s 5ms/step - loss: 3509.9158 - mae: 3509.9158\n",
      "Epoch 179/200\n",
      "34/34 [==============================] - 0s 4ms/step - loss: 3512.2869 - mae: 3512.2869\n",
      "Epoch 180/200\n",
      "34/34 [==============================] - 0s 4ms/step - loss: 3506.9868 - mae: 3506.9868\n",
      "Epoch 181/200\n",
      "34/34 [==============================] - 0s 4ms/step - loss: 3504.8113 - mae: 3504.8113\n",
      "Epoch 182/200\n",
      "34/34 [==============================] - 0s 4ms/step - loss: 3504.2512 - mae: 3504.2512\n",
      "Epoch 183/200\n",
      "34/34 [==============================] - 0s 4ms/step - loss: 3502.3867 - mae: 3502.3867\n",
      "Epoch 184/200\n",
      "34/34 [==============================] - 0s 4ms/step - loss: 3501.6707 - mae: 3501.6707\n",
      "Epoch 185/200\n",
      "34/34 [==============================] - 0s 4ms/step - loss: 3501.2913 - mae: 3501.2913\n",
      "Epoch 186/200\n",
      "34/34 [==============================] - 0s 4ms/step - loss: 3498.7505 - mae: 3498.7505\n",
      "Epoch 187/200\n",
      "34/34 [==============================] - 0s 4ms/step - loss: 3499.2412 - mae: 3499.2412\n",
      "Epoch 188/200\n",
      "34/34 [==============================] - 0s 4ms/step - loss: 3496.2778 - mae: 3496.2778\n",
      "Epoch 189/200\n",
      "34/34 [==============================] - 0s 4ms/step - loss: 3494.5559 - mae: 3494.5559\n",
      "Epoch 190/200\n",
      "34/34 [==============================] - 0s 4ms/step - loss: 3496.8271 - mae: 3496.8271\n",
      "Epoch 191/200\n",
      "34/34 [==============================] - 0s 4ms/step - loss: 3501.4131 - mae: 3501.4131\n",
      "Epoch 192/200\n",
      "34/34 [==============================] - 0s 4ms/step - loss: 3491.7393 - mae: 3491.7393\n",
      "Epoch 193/200\n",
      "34/34 [==============================] - 0s 4ms/step - loss: 3491.5679 - mae: 3491.5679\n",
      "Epoch 194/200\n",
      "34/34 [==============================] - 0s 4ms/step - loss: 3488.6262 - mae: 3488.6262\n",
      "Epoch 195/200\n",
      "34/34 [==============================] - 0s 4ms/step - loss: 3487.8367 - mae: 3487.8367\n",
      "Epoch 196/200\n",
      "34/34 [==============================] - 0s 4ms/step - loss: 3489.0713 - mae: 3489.0713\n",
      "Epoch 197/200\n",
      "34/34 [==============================] - 0s 4ms/step - loss: 3485.1887 - mae: 3485.1887\n",
      "Epoch 198/200\n",
      "34/34 [==============================] - 0s 4ms/step - loss: 3484.4468 - mae: 3484.4468\n",
      "Epoch 199/200\n",
      "34/34 [==============================] - 0s 4ms/step - loss: 3483.3264 - mae: 3483.3264\n",
      "Epoch 200/200\n",
      "34/34 [==============================] - 0s 5ms/step - loss: 3484.0562 - mae: 3484.0562\n"
     ]
    },
    {
     "data": {
      "text/plain": [
       "<keras.callbacks.History at 0x195c26ab550>"
      ]
     },
     "execution_count": 32,
     "metadata": {},
     "output_type": "execute_result"
    }
   ],
   "source": [
    "tf.random.set_seed(42)\n",
    "\n",
    "insurance_model_4 = tf.keras.Sequential([\n",
    "  tf.keras.layers.Dense(100),\n",
    "  tf.keras.layers.Dense(10),\n",
    "  tf.keras.layers.Dense(1)\n",
    "])\n",
    "\n",
    "insurance_model_4.compile(loss=tf.keras.losses.mae,\n",
    "                          optimizer=tf.keras.optimizers.Adam(),\n",
    "                          metrics=['mae'])\n",
    "\n",
    "insurance_model_4.fit(X_train_normal, y_train, epochs=200) "
   ]
  },
  {
   "cell_type": "code",
   "execution_count": 33,
   "id": "51751020",
   "metadata": {},
   "outputs": [
    {
     "name": "stdout",
     "output_type": "stream",
     "text": [
      "9/9 [==============================] - 0s 5ms/step - loss: 3171.1179 - mae: 3171.1179\n"
     ]
    }
   ],
   "source": [
    "insurance_model_4_loss, insurance_model_4_mae = insurance_model_4.evaluate(X_test_normal, y_test)"
   ]
  },
  {
   "cell_type": "code",
   "execution_count": null,
   "id": "eff96084",
   "metadata": {},
   "outputs": [],
   "source": [
    "#9/9 [==============================] - 0s 4ms/step - loss: 3344.1211 - mae: 3344.1211"
   ]
  },
  {
   "cell_type": "code",
   "execution_count": null,
   "id": "3e19f29f",
   "metadata": {},
   "outputs": [],
   "source": []
  }
 ],
 "metadata": {
  "kernelspec": {
   "display_name": "ZTM-Tensorflow",
   "language": "python",
   "name": "venv"
  },
  "language_info": {
   "codemirror_mode": {
    "name": "ipython",
    "version": 3
   },
   "file_extension": ".py",
   "mimetype": "text/x-python",
   "name": "python",
   "nbconvert_exporter": "python",
   "pygments_lexer": "ipython3",
   "version": "3.8.10"
  }
 },
 "nbformat": 4,
 "nbformat_minor": 5
}
